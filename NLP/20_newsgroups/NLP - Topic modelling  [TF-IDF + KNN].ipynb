{
 "cells": [
  {
   "cell_type": "markdown",
   "id": "6acccfb4",
   "metadata": {},
   "source": [
    "# NLP - Topic modelling  [TF-IDF + KNN]"
   ]
  },
  {
   "cell_type": "code",
   "execution_count": 1,
   "id": "cd047e3d",
   "metadata": {},
   "outputs": [],
   "source": [
    "import re\n",
    "\n",
    "\n",
    "import nltk\n",
    "from nltk import word_tokenize\n",
    "from nltk.corpus import stopwords"
   ]
  },
  {
   "cell_type": "code",
   "execution_count": 2,
   "id": "80324c80",
   "metadata": {},
   "outputs": [],
   "source": [
    "# Constants - Configuration\n",
    "\n",
    "LANGUAGE = \"english\"\n",
    "from nltk.stem.snowball import EnglishStemmer as Stemmer\n",
    "\n",
    "ALPHABET = \"a-z0-9 \"  # Lowercase letters, numbers and space.\n",
    "ADDITIONAL_STOPWORDS = [] # Stopwords to add.\n",
    "DATA_CACHE = \".cache\"\n",
    "RND_SEED = 42"
   ]
  },
  {
   "cell_type": "code",
   "execution_count": 3,
   "id": "8a5b171f",
   "metadata": {},
   "outputs": [
    {
     "name": "stderr",
     "output_type": "stream",
     "text": [
      "[nltk_data] Downloading package punkt to .cache...\n",
      "[nltk_data]   Package punkt is already up-to-date!\n",
      "[nltk_data] Downloading package stopwords to .cache...\n",
      "[nltk_data]   Package stopwords is already up-to-date!\n"
     ]
    },
    {
     "data": {
      "text/plain": [
       "True"
      ]
     },
     "execution_count": 3,
     "metadata": {},
     "output_type": "execute_result"
    }
   ],
   "source": [
    "# Data for NLTK\n",
    "nltk.data.path.append(DATA_CACHE)\n",
    "\n",
    "\n",
    "nltk.download(\n",
    "    info_or_id='punkt',\n",
    "    download_dir=DATA_CACHE\n",
    ")\n",
    "\n",
    "\n",
    "nltk.download(\n",
    "    info_or_id='stopwords',\n",
    "    download_dir=DATA_CACHE\n",
    ")"
   ]
  },
  {
   "cell_type": "markdown",
   "id": "36b911de",
   "metadata": {},
   "source": [
    "## Dataset"
   ]
  },
  {
   "cell_type": "code",
   "execution_count": 4,
   "id": "9eebf0b0",
   "metadata": {},
   "outputs": [],
   "source": [
    "# Dataset\n",
    "from sklearn.datasets import fetch_20newsgroups"
   ]
  },
  {
   "cell_type": "code",
   "execution_count": 5,
   "id": "4e2d3c11",
   "metadata": {},
   "outputs": [],
   "source": [
    "newsgroups = fetch_20newsgroups(\n",
    "    data_home=DATA_CACHE,\n",
    "    subset=\"all\",\n",
    "    categories=None,\n",
    "    shuffle=True,\n",
    "    random_state=42,\n",
    "    download_if_missing=True\n",
    ")"
   ]
  },
  {
   "cell_type": "markdown",
   "id": "e54d67de",
   "metadata": {},
   "source": [
    "### Inspect the dataset"
   ]
  },
  {
   "cell_type": "code",
   "execution_count": 6,
   "id": "882d54e2",
   "metadata": {},
   "outputs": [
    {
     "name": "stdout",
     "output_type": "stream",
     "text": [
      "Key - Number of elements:\n",
      "- data, 18846 elements\n",
      "- filenames, 18846 elements\n",
      "- target_names, 20 elements\n",
      "- target, 18846 elements\n",
      "- DESCR, 9443 elements\n"
     ]
    }
   ],
   "source": [
    "print(\"Key - Number of elements:\")\n",
    "for k, v in newsgroups.items():\n",
    "    print(\"- {}, {} elements\".format(k, len(v)))"
   ]
  },
  {
   "cell_type": "markdown",
   "id": "9e2d49ae",
   "metadata": {},
   "source": [
    "It seems to be a description field!"
   ]
  },
  {
   "cell_type": "code",
   "execution_count": 7,
   "id": "bbe74c6d",
   "metadata": {
    "scrolled": true
   },
   "outputs": [
    {
     "name": "stdout",
     "output_type": "stream",
     "text": [
      ".. _20newsgroups_dataset:\n",
      "\n",
      "The 20 newsgroups text dataset\n",
      "------------------------------\n",
      "\n",
      "The 20 newsgroups dataset comprises around 18000 newsgroups posts on\n",
      "20 topics split in two subsets: one for training (or development)\n",
      "and the other one for testing (or for performance evaluation). The split\n",
      "between the train and test set is based upon a messages posted before\n",
      "and after a specific date.\n",
      "\n",
      "This module contains two loaders. The first one,\n",
      ":func:`sklearn.datasets.fetch_20newsgroups`,\n",
      "returns a list of the raw texts that can be fed to text feature\n",
      "extractors such as :class:`~sklearn.feature_extraction.text.CountVectorizer`\n",
      "with custom parameters so as to extract feature vectors.\n",
      "The second one, :func:`sklearn.datasets.fetch_20newsgroups_vectorized`,\n",
      "returns ready-to-use features, i.e., it is not necessary to use a feature\n",
      "extractor.\n",
      "\n",
      "**Data Set Characteristics:**\n",
      "\n",
      "    =================   ==========\n",
      "    Classes                     20\n",
      "    Samples total            18846\n",
      "    Dimensionality               1\n",
      "    Features                  text\n",
      "    =================   ==========\n",
      "\n",
      "Usage\n",
      "~~~~~\n",
      "\n",
      "The :func:`sklearn.datasets.fetch_20newsgroups` function is a data\n",
      "fetching / caching functions that downloads the data archive from\n",
      "the original `20 newsgroups website`_, extracts the archive contents\n",
      "in the ``~/scikit_learn_data/20news_home`` folder and calls the\n",
      ":func:`sklearn.datasets.load_files` on either the training or\n",
      "testing set folder, or both of them::\n",
      "\n",
      "  >>> from sklearn.datasets import fetch_20newsgroups\n",
      "  >>> newsgroups_train = fetch_20newsgroups(subset='train')\n",
      "\n",
      "  >>> from pprint import pprint\n",
      "  >>> pprint(list(newsgroups_train.target_names))\n",
      "  ['alt.atheism',\n",
      "   'comp.graphics',\n",
      "   'comp.os.ms-windows.misc',\n",
      "   'comp.sys.ibm.pc.hardware',\n",
      "   'comp.sys.mac.hardware',\n",
      "   'comp.windows.x',\n",
      "   'misc.forsale',\n",
      "   'rec.autos',\n",
      "   'rec.motorcycles',\n",
      "   'rec.sport.baseball',\n",
      "   'rec.sport.hockey',\n",
      "   'sci.crypt',\n",
      "   'sci.electronics',\n",
      "   'sci.med',\n",
      "   'sci.space',\n",
      "   'soc.religion.christian',\n",
      "   'talk.politics.guns',\n",
      "   'talk.politics.mideast',\n",
      "   'talk.politics.misc',\n",
      "   'talk.religion.misc']\n",
      "\n",
      "The real data lies in the ``filenames`` and ``target`` attributes. The target\n",
      "attribute is the integer index of the category::\n",
      "\n",
      "  >>> newsgroups_train.filenames.shape\n",
      "  (11314,)\n",
      "  >>> newsgroups_train.target.shape\n",
      "  (11314,)\n",
      "  >>> newsgroups_train.target[:10]\n",
      "  array([ 7,  4,  4,  1, 14, 16, 13,  3,  2,  4])\n",
      "\n",
      "It is possible to load only a sub-selection of the categories by passing the\n",
      "list of the categories to load to the\n",
      ":func:`sklearn.datasets.fetch_20newsgroups` function::\n",
      "\n",
      "  >>> cats = ['alt.atheism', 'sci.space']\n",
      "  >>> newsgroups_train = fetch_20newsgroups(subset='train', categories=cats)\n",
      "\n",
      "  >>> list(newsgroups_train.target_names)\n",
      "  ['alt.atheism', 'sci.space']\n",
      "  >>> newsgroups_train.filenames.shape\n",
      "  (1073,)\n",
      "  >>> newsgroups_train.target.shape\n",
      "  (1073,)\n",
      "  >>> newsgroups_train.target[:10]\n",
      "  array([0, 1, 1, 1, 0, 1, 1, 0, 0, 0])\n",
      "\n",
      "Converting text to vectors\n",
      "~~~~~~~~~~~~~~~~~~~~~~~~~~\n",
      "\n",
      "In order to feed predictive or clustering models with the text data,\n",
      "one first need to turn the text into vectors of numerical values suitable\n",
      "for statistical analysis. This can be achieved with the utilities of the\n",
      "``sklearn.feature_extraction.text`` as demonstrated in the following\n",
      "example that extract `TF-IDF`_ vectors of unigram tokens\n",
      "from a subset of 20news::\n",
      "\n",
      "  >>> from sklearn.feature_extraction.text import TfidfVectorizer\n",
      "  >>> categories = ['alt.atheism', 'talk.religion.misc',\n",
      "  ...               'comp.graphics', 'sci.space']\n",
      "  >>> newsgroups_train = fetch_20newsgroups(subset='train',\n",
      "  ...                                       categories=categories)\n",
      "  >>> vectorizer = TfidfVectorizer()\n",
      "  >>> vectors = vectorizer.fit_transform(newsgroups_train.data)\n",
      "  >>> vectors.shape\n",
      "  (2034, 34118)\n",
      "\n",
      "The extracted TF-IDF vectors are very sparse, with an average of 159 non-zero\n",
      "components by sample in a more than 30000-dimensional space\n",
      "(less than .5% non-zero features)::\n",
      "\n",
      "  >>> vectors.nnz / float(vectors.shape[0])\n",
      "  159.01327...\n",
      "\n",
      ":func:`sklearn.datasets.fetch_20newsgroups_vectorized` is a function which \n",
      "returns ready-to-use token counts features instead of file names.\n",
      "\n",
      ".. _`20 newsgroups website`: http://people.csail.mit.edu/jrennie/20Newsgroups/\n",
      ".. _`TF-IDF`: https://en.wikipedia.org/wiki/Tf-idf\n",
      "\n",
      "\n",
      "Filtering text for more realistic training\n",
      "~~~~~~~~~~~~~~~~~~~~~~~~~~~~~~~~~~~~~~~~~~\n",
      "\n",
      "It is easy for a classifier to overfit on particular things that appear in the\n",
      "20 Newsgroups data, such as newsgroup headers. Many classifiers achieve very\n",
      "high F-scores, but their results would not generalize to other documents that\n",
      "aren't from this window of time.\n",
      "\n",
      "For example, let's look at the results of a multinomial Naive Bayes classifier,\n",
      "which is fast to train and achieves a decent F-score::\n",
      "\n",
      "  >>> from sklearn.naive_bayes import MultinomialNB\n",
      "  >>> from sklearn import metrics\n",
      "  >>> newsgroups_test = fetch_20newsgroups(subset='test',\n",
      "  ...                                      categories=categories)\n",
      "  >>> vectors_test = vectorizer.transform(newsgroups_test.data)\n",
      "  >>> clf = MultinomialNB(alpha=.01)\n",
      "  >>> clf.fit(vectors, newsgroups_train.target)\n",
      "  MultinomialNB(alpha=0.01, class_prior=None, fit_prior=True)\n",
      "\n",
      "  >>> pred = clf.predict(vectors_test)\n",
      "  >>> metrics.f1_score(newsgroups_test.target, pred, average='macro')\n",
      "  0.88213...\n",
      "\n",
      "(The example :ref:`sphx_glr_auto_examples_text_plot_document_classification_20newsgroups.py` shuffles\n",
      "the training and test data, instead of segmenting by time, and in that case\n",
      "multinomial Naive Bayes gets a much higher F-score of 0.88. Are you suspicious\n",
      "yet of what's going on inside this classifier?)\n",
      "\n",
      "Let's take a look at what the most informative features are:\n",
      "\n",
      "  >>> import numpy as np\n",
      "  >>> def show_top10(classifier, vectorizer, categories):\n",
      "  ...     feature_names = np.asarray(vectorizer.get_feature_names())\n",
      "  ...     for i, category in enumerate(categories):\n",
      "  ...         top10 = np.argsort(classifier.coef_[i])[-10:]\n",
      "  ...         print(\"%s: %s\" % (category, \" \".join(feature_names[top10])))\n",
      "  ...\n",
      "  >>> show_top10(clf, vectorizer, newsgroups_train.target_names)\n",
      "  alt.atheism: edu it and in you that is of to the\n",
      "  comp.graphics: edu in graphics it is for and of to the\n",
      "  sci.space: edu it that is in and space to of the\n",
      "  talk.religion.misc: not it you in is that and to of the\n",
      "\n",
      "\n",
      "You can now see many things that these features have overfit to:\n",
      "\n",
      "- Almost every group is distinguished by whether headers such as\n",
      "  ``NNTP-Posting-Host:`` and ``Distribution:`` appear more or less often.\n",
      "- Another significant feature involves whether the sender is affiliated with\n",
      "  a university, as indicated either by their headers or their signature.\n",
      "- The word \"article\" is a significant feature, based on how often people quote\n",
      "  previous posts like this: \"In article [article ID], [name] <[e-mail address]>\n",
      "  wrote:\"\n",
      "- Other features match the names and e-mail addresses of particular people who\n",
      "  were posting at the time.\n",
      "\n",
      "With such an abundance of clues that distinguish newsgroups, the classifiers\n",
      "barely have to identify topics from text at all, and they all perform at the\n",
      "same high level.\n",
      "\n",
      "For this reason, the functions that load 20 Newsgroups data provide a\n",
      "parameter called **remove**, telling it what kinds of information to strip out\n",
      "of each file. **remove** should be a tuple containing any subset of\n",
      "``('headers', 'footers', 'quotes')``, telling it to remove headers, signature\n",
      "blocks, and quotation blocks respectively.\n",
      "\n",
      "  >>> newsgroups_test = fetch_20newsgroups(subset='test',\n",
      "  ...                                      remove=('headers', 'footers', 'quotes'),\n",
      "  ...                                      categories=categories)\n",
      "  >>> vectors_test = vectorizer.transform(newsgroups_test.data)\n",
      "  >>> pred = clf.predict(vectors_test)\n",
      "  >>> metrics.f1_score(pred, newsgroups_test.target, average='macro')\n",
      "  0.77310...\n",
      "\n",
      "This classifier lost over a lot of its F-score, just because we removed\n",
      "metadata that has little to do with topic classification.\n",
      "It loses even more if we also strip this metadata from the training data:\n",
      "\n",
      "  >>> newsgroups_train = fetch_20newsgroups(subset='train',\n",
      "  ...                                       remove=('headers', 'footers', 'quotes'),\n",
      "  ...                                       categories=categories)\n",
      "  >>> vectors = vectorizer.fit_transform(newsgroups_train.data)\n",
      "  >>> clf = MultinomialNB(alpha=.01)\n",
      "  >>> clf.fit(vectors, newsgroups_train.target)\n",
      "  MultinomialNB(alpha=0.01, class_prior=None, fit_prior=True)\n",
      "\n",
      "  >>> vectors_test = vectorizer.transform(newsgroups_test.data)\n",
      "  >>> pred = clf.predict(vectors_test)\n",
      "  >>> metrics.f1_score(newsgroups_test.target, pred, average='macro')\n",
      "  0.76995...\n",
      "\n",
      "Some other classifiers cope better with this harder version of the task. Try\n",
      "running :ref:`sphx_glr_auto_examples_model_selection_grid_search_text_feature_extraction.py` with and without\n",
      "the ``--filter`` option to compare the results.\n",
      "\n",
      ".. topic:: Recommendation\n",
      "\n",
      "  When evaluating text classifiers on the 20 Newsgroups data, you\n",
      "  should strip newsgroup-related metadata. In scikit-learn, you can do this by\n",
      "  setting ``remove=('headers', 'footers', 'quotes')``. The F-score will be\n",
      "  lower because it is more realistic.\n",
      "\n",
      ".. topic:: Examples\n",
      "\n",
      "   * :ref:`sphx_glr_auto_examples_model_selection_grid_search_text_feature_extraction.py`\n",
      "\n",
      "   * :ref:`sphx_glr_auto_examples_text_plot_document_classification_20newsgroups.py`\n",
      "\n"
     ]
    }
   ],
   "source": [
    "print(newsgroups['DESCR'])"
   ]
  },
  {
   "cell_type": "code",
   "execution_count": 8,
   "id": "024eaf5a",
   "metadata": {},
   "outputs": [],
   "source": [
    "def print_new(document_id):\n",
    "    print(\"\"\"\n",
    "    Example:\n",
    "        - Document ID: {}\n",
    "        - Category {} ({})\n",
    "        - Text:\n",
    "    {}\n",
    "    \"\"\".format(\n",
    "        document_id,\n",
    "        newsgroups['target'][document_id],\n",
    "        newsgroups['target_names'][ newsgroups['target'][document_id] ],\n",
    "        newsgroups['data'][document_id]\n",
    "    ))"
   ]
  },
  {
   "cell_type": "code",
   "execution_count": 9,
   "id": "ce3aa9a7",
   "metadata": {},
   "outputs": [
    {
     "name": "stdout",
     "output_type": "stream",
     "text": [
      "\n",
      "    Example:\n",
      "        - Document ID: 10\n",
      "        - Category 19 (talk.religion.misc)\n",
      "        - Text:\n",
      "    From: sandvik@newton.apple.com (Kent Sandvik)\n",
      "Subject: Re: 14 Apr 93   God's Promise in 1 John 1: 7\n",
      "Organization: Cookamunga Tourist Bureau\n",
      "Lines: 17\n",
      "\n",
      "In article <1qknu0INNbhv@shelley.u.washington.edu>, > Christian:  washed in\n",
      "the blood of the lamb.\n",
      "> Mithraist:  washed in the blood of the bull.\n",
      "> \n",
      "> If anyone in .netland is in the process of devising a new religion,\n",
      "> do not use the lamb or the bull, because they have already been\n",
      "> reserved.  Please choose another animal, preferably one not\n",
      "> on the Endangered Species List.  \n",
      "\n",
      "This will be a hard task, because most cultures used most animals\n",
      "for blood sacrifices. It has to be something related to our current\n",
      "post-modernism state. Hmm, what about used computers?\n",
      "\n",
      "Cheers,\n",
      "Kent\n",
      "---\n",
      "sandvik@newton.apple.com. ALink: KSAND -- Private activities on the net.\n",
      "\n",
      "    \n"
     ]
    }
   ],
   "source": [
    "print_new(10)"
   ]
  },
  {
   "cell_type": "code",
   "execution_count": 10,
   "id": "a710614b",
   "metadata": {
    "scrolled": false
   },
   "outputs": [
    {
     "name": "stdout",
     "output_type": "stream",
     "text": [
      "\n",
      "    Example:\n",
      "        - Document ID: 50\n",
      "        - Category 12 (sci.electronics)\n",
      "        - Text:\n",
      "    From: dino@inqmind.bison.mb.ca (Tony stewart)\n",
      "Subject: Re: Making up odd resistor values required by filters\n",
      "Organization: The Inquiring Mind BBS  1 204 488-1607\n",
      "Lines: 29\n",
      "\n",
      "idh@nessie.mcc.ac.uk (Ian Hawkins) writes:\n",
      "\n",
      "> When constructing active filters,  odd values of resistor are often required \n",
      "> (i.e. something like a 3.14 K Ohm resistor).(It seems best to choose common \n",
      "> capacitor values and cope with the strange resistances then demanded).\n",
      "> \n",
      "> Is there a PD program out there that will work out how best to make up such\n",
      "> a resistance, given fixed resistors of the standard 12 values per decade?.(1,\n",
      "> 1.2,1.5,1.8,2.2,3.3 etc ).  It is a common enough problem,  yet I cant \n",
      "> recall seing a program that tells that Rx+Ry//Rz gives Rq,  starting with \n",
      "> q and finding prefered values x,y and z.\n",
      "> \n",
      "> \n",
      "> \t\t\tCheers\n",
      "> \t\t\t\tIan H  \n",
      "> \n",
      "\n",
      "WHen trying to choose a resistor with a tolerance better than 1%, you \n",
      "need a trimmer or to screen devices, it can't be made from adding 2 \n",
      "resitors of 1% value in parallel, since the smaller device will have the \n",
      "error of 1% to cope with. \n",
      "You have 3 choices;\n",
      "a) live with the error of 1% tolerance devices for low Q circuits or low \n",
      "sensitivity designs\n",
      "b) buy resistors with better than 1% tolerance (Vishay/Dale)\n",
      "c) use trimmers or SOT's (Select-On-Test)\n",
      "\n",
      "dino@inqmind.bison.mb.ca\n",
      "The Inquiring Mind BBS, Winnipeg, Manitoba  204 488-1607\n",
      "\n",
      "    \n"
     ]
    }
   ],
   "source": [
    "print_new(50)"
   ]
  },
  {
   "cell_type": "markdown",
   "id": "e8914705",
   "metadata": {},
   "source": [
    "### Processing.\n",
    "We will modify the documents to feed the algorithm.\n",
    "\n",
    "In this step we can take advantage of what we know about the documents  (**domain knowledge**) to clean them and present the classificator the best information available."
   ]
  },
  {
   "cell_type": "markdown",
   "id": "a06c8270",
   "metadata": {},
   "source": [
    "#### Filter headers\n",
    "It is possible to see there are \"headers\" in the documents. The part correlated to the category should be what is written, and that happens from the first `writes:\\n` appearance."
   ]
  },
  {
   "cell_type": "code",
   "execution_count": 11,
   "id": "ffb21968",
   "metadata": {},
   "outputs": [],
   "source": [
    "def filter_headers(text):\n",
    "    return ''.join(text.split(\"writes:\")[1:])"
   ]
  },
  {
   "cell_type": "markdown",
   "id": "4166c793",
   "metadata": {},
   "source": [
    "Original document."
   ]
  },
  {
   "cell_type": "code",
   "execution_count": 12,
   "id": "9d58db1e",
   "metadata": {},
   "outputs": [
    {
     "name": "stdout",
     "output_type": "stream",
     "text": [
      "From: dino@inqmind.bison.mb.ca (Tony stewart)\n",
      "Subject: Re: Making up odd resistor values required by filters\n",
      "Organization: The Inquiring Mind BBS  1 204 488-1607\n",
      "Lines: 29\n",
      "\n",
      "idh@nessie.mcc.ac.uk (Ian Hawkins) writes:\n",
      "\n",
      "> When constructing active filters,  odd values of resistor are often required \n",
      "> (i.e. something like a 3.14 K Ohm resistor).(It seems best to choose common \n",
      "> capacitor values and cope with the strange resistances then demanded).\n",
      "> \n",
      "> Is there a PD program out there that will work out how best to make up such\n",
      "> a resistance, given fixed resistors of the standard 12 values per decade?.(1,\n",
      "> 1.2,1.5,1.8,2.2,3.3 etc ).  It is a common enough problem,  yet I cant \n",
      "> recall seing a program that tells that Rx+Ry//Rz gives Rq,  starting with \n",
      "> q and finding prefered values x,y and z.\n",
      "> \n",
      "> \n",
      "> \t\t\tCheers\n",
      "> \t\t\t\tIan H  \n",
      "> \n",
      "\n",
      "WHen trying to choose a resistor with a tolerance better than 1%, you \n",
      "need a trimmer or to screen devices, it can't be made from adding 2 \n",
      "resitors of 1% value in parallel, since the smaller device will have the \n",
      "error of 1% to cope with. \n",
      "You have 3 choices;\n",
      "a) live with the error of 1% tolerance devices for low Q circuits or low \n",
      "sensitivity designs\n",
      "b) buy resistors with better than 1% tolerance (Vishay/Dale)\n",
      "c) use trimmers or SOT's (Select-On-Test)\n",
      "\n",
      "dino@inqmind.bison.mb.ca\n",
      "The Inquiring Mind BBS, Winnipeg, Manitoba  204 488-1607\n",
      "\n"
     ]
    }
   ],
   "source": [
    "print(newsgroups['data'][50])"
   ]
  },
  {
   "cell_type": "markdown",
   "id": "42fe0d66",
   "metadata": {},
   "source": [
    "Modified document."
   ]
  },
  {
   "cell_type": "code",
   "execution_count": 13,
   "id": "414e8e7f",
   "metadata": {},
   "outputs": [
    {
     "name": "stdout",
     "output_type": "stream",
     "text": [
      "\n",
      "\n",
      "> When constructing active filters,  odd values of resistor are often required \n",
      "> (i.e. something like a 3.14 K Ohm resistor).(It seems best to choose common \n",
      "> capacitor values and cope with the strange resistances then demanded).\n",
      "> \n",
      "> Is there a PD program out there that will work out how best to make up such\n",
      "> a resistance, given fixed resistors of the standard 12 values per decade?.(1,\n",
      "> 1.2,1.5,1.8,2.2,3.3 etc ).  It is a common enough problem,  yet I cant \n",
      "> recall seing a program that tells that Rx+Ry//Rz gives Rq,  starting with \n",
      "> q and finding prefered values x,y and z.\n",
      "> \n",
      "> \n",
      "> \t\t\tCheers\n",
      "> \t\t\t\tIan H  \n",
      "> \n",
      "\n",
      "WHen trying to choose a resistor with a tolerance better than 1%, you \n",
      "need a trimmer or to screen devices, it can't be made from adding 2 \n",
      "resitors of 1% value in parallel, since the smaller device will have the \n",
      "error of 1% to cope with. \n",
      "You have 3 choices;\n",
      "a) live with the error of 1% tolerance devices for low Q circuits or low \n",
      "sensitivity designs\n",
      "b) buy resistors with better than 1% tolerance (Vishay/Dale)\n",
      "c) use trimmers or SOT's (Select-On-Test)\n",
      "\n",
      "dino@inqmind.bison.mb.ca\n",
      "The Inquiring Mind BBS, Winnipeg, Manitoba  204 488-1607\n",
      "\n"
     ]
    }
   ],
   "source": [
    "print(\n",
    "    filter_headers(newsgroups['data'][50])\n",
    ")"
   ]
  },
  {
   "cell_type": "markdown",
   "id": "72551524",
   "metadata": {},
   "source": [
    "#### Filter emails\n",
    "This could cause spureous correlations. A person is should not be identified with a particular topic.\n"
   ]
  },
  {
   "cell_type": "code",
   "execution_count": 14,
   "id": "f43bcaa8",
   "metadata": {},
   "outputs": [],
   "source": [
    "def get_filter_emails():\n",
    "    pattern = re.compile('\\S*@\\S*\\s?', re.UNICODE)\n",
    "    def filter_emails(text):\n",
    "        return pattern.sub('',text)\n",
    "    return filter_emails\n",
    "\n",
    "filter_emails = get_filter_emails()\n"
   ]
  },
  {
   "cell_type": "code",
   "execution_count": 15,
   "id": "fc489b12",
   "metadata": {},
   "outputs": [
    {
     "name": "stdout",
     "output_type": "stream",
     "text": [
      "From: (Tony stewart)\n",
      "Subject: Re: Making up odd resistor values required by filters\n",
      "Organization: The Inquiring Mind BBS  1 204 488-1607\n",
      "Lines: 29\n",
      "\n",
      "(Ian Hawkins) writes:\n",
      "\n",
      "> When constructing active filters,  odd values of resistor are often required \n",
      "> (i.e. something like a 3.14 K Ohm resistor).(It seems best to choose common \n",
      "> capacitor values and cope with the strange resistances then demanded).\n",
      "> \n",
      "> Is there a PD program out there that will work out how best to make up such\n",
      "> a resistance, given fixed resistors of the standard 12 values per decade?.(1,\n",
      "> 1.2,1.5,1.8,2.2,3.3 etc ).  It is a common enough problem,  yet I cant \n",
      "> recall seing a program that tells that Rx+Ry//Rz gives Rq,  starting with \n",
      "> q and finding prefered values x,y and z.\n",
      "> \n",
      "> \n",
      "> \t\t\tCheers\n",
      "> \t\t\t\tIan H  \n",
      "> \n",
      "\n",
      "WHen trying to choose a resistor with a tolerance better than 1%, you \n",
      "need a trimmer or to screen devices, it can't be made from adding 2 \n",
      "resitors of 1% value in parallel, since the smaller device will have the \n",
      "error of 1% to cope with. \n",
      "You have 3 choices;\n",
      "a) live with the error of 1% tolerance devices for low Q circuits or low \n",
      "sensitivity designs\n",
      "b) buy resistors with better than 1% tolerance (Vishay/Dale)\n",
      "c) use trimmers or SOT's (Select-On-Test)\n",
      "\n",
      "The Inquiring Mind BBS, Winnipeg, Manitoba  204 488-1607\n",
      "\n"
     ]
    }
   ],
   "source": [
    "print(\n",
    "    filter_emails(newsgroups['data'][50])\n",
    ")"
   ]
  },
  {
   "cell_type": "markdown",
   "id": "1c2eedc5",
   "metadata": {},
   "source": [
    "#### Pipeline"
   ]
  },
  {
   "cell_type": "code",
   "execution_count": 16,
   "id": "b2aaae75",
   "metadata": {},
   "outputs": [],
   "source": [
    "documents = [\n",
    "    filter_emails(filter_headers(document))\n",
    "    for document\n",
    "    in newsgroups['data']\n",
    "]"
   ]
  },
  {
   "cell_type": "code",
   "execution_count": 17,
   "id": "cfa05e66",
   "metadata": {},
   "outputs": [],
   "source": [
    "categories = newsgroups['target']"
   ]
  },
  {
   "cell_type": "code",
   "execution_count": 18,
   "id": "a9801b1e",
   "metadata": {
    "scrolled": false
   },
   "outputs": [
    {
     "name": "stdout",
     "output_type": "stream",
     "text": [
      "\n",
      "\n",
      "> When constructing active filters,  odd values of resistor are often required \n",
      "> (i.e. something like a 3.14 K Ohm resistor).(It seems best to choose common \n",
      "> capacitor values and cope with the strange resistances then demanded).\n",
      "> \n",
      "> Is there a PD program out there that will work out how best to make up such\n",
      "> a resistance, given fixed resistors of the standard 12 values per decade?.(1,\n",
      "> 1.2,1.5,1.8,2.2,3.3 etc ).  It is a common enough problem,  yet I cant \n",
      "> recall seing a program that tells that Rx+Ry//Rz gives Rq,  starting with \n",
      "> q and finding prefered values x,y and z.\n",
      "> \n",
      "> \n",
      "> \t\t\tCheers\n",
      "> \t\t\t\tIan H  \n",
      "> \n",
      "\n",
      "WHen trying to choose a resistor with a tolerance better than 1%, you \n",
      "need a trimmer or to screen devices, it can't be made from adding 2 \n",
      "resitors of 1% value in parallel, since the smaller device will have the \n",
      "error of 1% to cope with. \n",
      "You have 3 choices;\n",
      "a) live with the error of 1% tolerance devices for low Q circuits or low \n",
      "sensitivity designs\n",
      "b) buy resistors with better than 1% tolerance (Vishay/Dale)\n",
      "c) use trimmers or SOT's (Select-On-Test)\n",
      "\n",
      "The Inquiring Mind BBS, Winnipeg, Manitoba  204 488-1607\n",
      "\n"
     ]
    }
   ],
   "source": [
    "print(documents[50])"
   ]
  },
  {
   "cell_type": "code",
   "execution_count": 19,
   "id": "b5090ae9",
   "metadata": {},
   "outputs": [
    {
     "name": "stdout",
     "output_type": "stream",
     "text": [
      "sci.electronics\n"
     ]
    }
   ],
   "source": [
    "print(newsgroups['target_names'][categories[50]])"
   ]
  },
  {
   "cell_type": "markdown",
   "id": "c43f71ab",
   "metadata": {},
   "source": [
    "## Pre-processing documents (common steps)"
   ]
  },
  {
   "cell_type": "markdown",
   "id": "d6486bb7",
   "metadata": {},
   "source": [
    "## Alphabet\n",
    "We are going to work with letters and spaces, no other symbols."
   ]
  },
  {
   "cell_type": "code",
   "execution_count": 20,
   "id": "e884899b",
   "metadata": {},
   "outputs": [],
   "source": [
    "def get_filter_symbols():\n",
    "    pattern = re.compile('[^{}]'.format(ALPHABET), re.UNICODE)\n",
    "    def filter_symbols(text):\n",
    "        return pattern.sub(' ', text.lower().replace('\\s',' '))\n",
    "    return filter_symbols\n",
    "\n",
    "filter_symbols = get_filter_symbols()"
   ]
  },
  {
   "cell_type": "code",
   "execution_count": 21,
   "id": "becb63c4",
   "metadata": {},
   "outputs": [
    {
     "data": {
      "text/plain": [
       "\"\\n\\n> When constructing active filters,  odd values of resistor are often required \\n> (i.e. something like a 3.14 K Ohm resistor).(It seems best to choose common \\n> capacitor values and cope with the strange resistances then demanded).\\n> \\n> Is there a PD program out there that will work out how best to make up such\\n> a resistance, given fixed resistors of the standard 12 values per decade?.(1,\\n> 1.2,1.5,1.8,2.2,3.3 etc ).  It is a common enough problem,  yet I cant \\n> recall seing a program that tells that Rx+Ry//Rz gives Rq,  starting with \\n> q and finding prefered values x,y and z.\\n> \\n> \\n> \\t\\t\\tCheers\\n> \\t\\t\\t\\tIan H  \\n> \\n\\nWHen trying to choose a resistor with a tolerance better than 1%, you \\nneed a trimmer or to screen devices, it can't be made from adding 2 \\nresitors of 1% value in parallel, since the smaller device will have the \\nerror of 1% to cope with. \\nYou have 3 choices;\\na) live with the error of 1% tolerance devices for low Q circuits or low \\nsensitivity designs\\nb) buy resistors with better than 1% tolerance (Vishay/Dale)\\nc) use trimmers or SOT's (Select-On-Test)\\n\\nThe Inquiring Mind BBS, Winnipeg, Manitoba  204 488-1607\\n\""
      ]
     },
     "execution_count": 21,
     "metadata": {},
     "output_type": "execute_result"
    }
   ],
   "source": [
    "documents[50]"
   ]
  },
  {
   "cell_type": "code",
   "execution_count": 22,
   "id": "09f3d780",
   "metadata": {},
   "outputs": [
    {
     "name": "stdout",
     "output_type": "stream",
     "text": [
      "    when constructing active filters   odd values of resistor are often required     i e  something like a 3 14 k ohm resistor   it seems best to choose common    capacitor values and cope with the strange resistances then demanded        is there a pd program out there that will work out how best to make up such   a resistance  given fixed resistors of the standard 12 values per decade   1    1 2 1 5 1 8 2 2 3 3 etc     it is a common enough problem   yet i cant    recall seing a program that tells that rx ry  rz gives rq   starting with    q and finding prefered values x y and z             cheers       ian h       when trying to choose a resistor with a tolerance better than 1   you  need a trimmer or to screen devices  it can t be made from adding 2  resitors of 1  value in parallel  since the smaller device will have the  error of 1  to cope with   you have 3 choices  a  live with the error of 1  tolerance devices for low q circuits or low  sensitivity designs b  buy resistors with better than 1  tolerance  vishay dale  c  use trimmers or sot s  select on test   the inquiring mind bbs  winnipeg  manitoba  204 488 1607 \n"
     ]
    }
   ],
   "source": [
    "doc_alphabet = filter_symbols(documents[50])\n",
    "\n",
    "print(doc_alphabet)"
   ]
  },
  {
   "cell_type": "markdown",
   "id": "49cb9cea",
   "metadata": {},
   "source": [
    "### Tokenization"
   ]
  },
  {
   "cell_type": "code",
   "execution_count": 23,
   "id": "8db5c727",
   "metadata": {},
   "outputs": [
    {
     "name": "stdout",
     "output_type": "stream",
     "text": [
      "['when', 'constructing', 'active', 'filters', 'odd', 'values', 'of', 'resistor', 'are', 'often', 'required', 'i', 'e', 'something', 'like', 'a', '3', '14', 'k', 'ohm', 'resistor', 'it', 'seems', 'best', 'to', 'choose', 'common', 'capacitor', 'values', 'and', 'cope', 'with', 'the', 'strange', 'resistances', 'then', 'demanded', 'is', 'there', 'a', 'pd', 'program', 'out', 'there', 'that', 'will', 'work', 'out', 'how', 'best', 'to', 'make', 'up', 'such', 'a', 'resistance', 'given', 'fixed', 'resistors', 'of', 'the', 'standard', '12', 'values', 'per', 'decade', '1', '1', '2', '1', '5', '1', '8', '2', '2', '3', '3', 'etc', 'it', 'is', 'a', 'common', 'enough', 'problem', 'yet', 'i', 'cant', 'recall', 'seing', 'a', 'program', 'that', 'tells', 'that', 'rx', 'ry', 'rz', 'gives', 'rq', 'starting', 'with', 'q', 'and', 'finding', 'prefered', 'values', 'x', 'y', 'and', 'z', 'cheers', 'ian', 'h', 'when', 'trying', 'to', 'choose', 'a', 'resistor', 'with', 'a', 'tolerance', 'better', 'than', '1', 'you', 'need', 'a', 'trimmer', 'or', 'to', 'screen', 'devices', 'it', 'can', 't', 'be', 'made', 'from', 'adding', '2', 'resitors', 'of', '1', 'value', 'in', 'parallel', 'since', 'the', 'smaller', 'device', 'will', 'have', 'the', 'error', 'of', '1', 'to', 'cope', 'with', 'you', 'have', '3', 'choices', 'a', 'live', 'with', 'the', 'error', 'of', '1', 'tolerance', 'devices', 'for', 'low', 'q', 'circuits', 'or', 'low', 'sensitivity', 'designs', 'b', 'buy', 'resistors', 'with', 'better', 'than', '1', 'tolerance', 'vishay', 'dale', 'c', 'use', 'trimmers', 'or', 'sot', 's', 'select', 'on', 'test', 'the', 'inquiring', 'mind', 'bbs', 'winnipeg', 'manitoba', '204', '488', '1607']\n",
      "\n",
      "Tokens: 209\n"
     ]
    }
   ],
   "source": [
    "doc_tokens = word_tokenize(\n",
    "    text=filter_symbols(documents[50]),\n",
    "    language=LANGUAGE\n",
    ")\n",
    "\n",
    "print(doc_tokens)\n",
    "print(\"\\nTokens: {}\".format(len(doc_tokens)) )"
   ]
  },
  {
   "cell_type": "markdown",
   "id": "7f65ce05",
   "metadata": {},
   "source": [
    "### Stop Words"
   ]
  },
  {
   "cell_type": "code",
   "execution_count": 24,
   "id": "e6e0e00f",
   "metadata": {},
   "outputs": [],
   "source": [
    "def get_filter_stopwords():\n",
    "    stop_words = stopwords.words(LANGUAGE)\n",
    "    stop_words.extend(ADDITIONAL_STOPWORDS)\n",
    "    stop_words= set(stop_words)\n",
    "    def filter_stopwords(tokens):\n",
    "        return [word for word in tokens if word not in stop_words]\n",
    "    return filter_stopwords\n",
    "\n",
    "filter_stopwords = get_filter_stopwords()"
   ]
  },
  {
   "cell_type": "code",
   "execution_count": 25,
   "id": "1edbaa3f",
   "metadata": {},
   "outputs": [
    {
     "name": "stdout",
     "output_type": "stream",
     "text": [
      "['constructing', 'active', 'filters', 'odd', 'values', 'resistor', 'often', 'required', 'e', 'something', 'like', '3', '14', 'k', 'ohm', 'resistor', 'seems', 'best', 'choose', 'common', 'capacitor', 'values', 'cope', 'strange', 'resistances', 'demanded', 'pd', 'program', 'work', 'best', 'make', 'resistance', 'given', 'fixed', 'resistors', 'standard', '12', 'values', 'per', 'decade', '1', '1', '2', '1', '5', '1', '8', '2', '2', '3', '3', 'etc', 'common', 'enough', 'problem', 'yet', 'cant', 'recall', 'seing', 'program', 'tells', 'rx', 'ry', 'rz', 'gives', 'rq', 'starting', 'q', 'finding', 'prefered', 'values', 'x', 'z', 'cheers', 'ian', 'h', 'trying', 'choose', 'resistor', 'tolerance', 'better', '1', 'need', 'trimmer', 'screen', 'devices', 'made', 'adding', '2', 'resitors', '1', 'value', 'parallel', 'since', 'smaller', 'device', 'error', '1', 'cope', '3', 'choices', 'live', 'error', '1', 'tolerance', 'devices', 'low', 'q', 'circuits', 'low', 'sensitivity', 'designs', 'b', 'buy', 'resistors', 'better', '1', 'tolerance', 'vishay', 'dale', 'c', 'use', 'trimmers', 'sot', 'select', 'test', 'inquiring', 'mind', 'bbs', 'winnipeg', 'manitoba', '204', '488', '1607']\n",
      "\n",
      "Tokens: 134\n"
     ]
    }
   ],
   "source": [
    "doc_filtered_tokens = filter_stopwords(doc_tokens)\n",
    "\n",
    "print(doc_filtered_tokens)\n",
    "print(\"\\nTokens: {}\".format(len(doc_filtered_tokens)) )"
   ]
  },
  {
   "cell_type": "markdown",
   "id": "db42a217",
   "metadata": {},
   "source": [
    "### Stemming\n",
    "This helps to reduce the number of terms in the vocabulary."
   ]
  },
  {
   "cell_type": "code",
   "execution_count": 26,
   "id": "1950b7e4",
   "metadata": {},
   "outputs": [],
   "source": [
    "stemmer = Stemmer(ignore_stopwords=True)\n",
    "stem = stemmer.stem"
   ]
  },
  {
   "cell_type": "code",
   "execution_count": 27,
   "id": "33ce7076",
   "metadata": {},
   "outputs": [
    {
     "name": "stdout",
     "output_type": "stream",
     "text": [
      "['construct', 'activ', 'filter', 'odd', 'valu', 'resistor', 'often', 'requir', 'e', 'someth', 'like', '3', '14', 'k', 'ohm', 'resistor', 'seem', 'best', 'choos', 'common', 'capacitor', 'valu', 'cope', 'strang', 'resist', 'demand', 'pd', 'program', 'work', 'best', 'make', 'resist', 'given', 'fix', 'resistor', 'standard', '12', 'valu', 'per', 'decad', '1', '1', '2', '1', '5', '1', '8', '2', '2', '3', '3', 'etc', 'common', 'enough', 'problem', 'yet', 'cant', 'recal', 'se', 'program', 'tell', 'rx', 'ry', 'rz', 'give', 'rq', 'start', 'q', 'find', 'prefer', 'valu', 'x', 'z', 'cheer', 'ian', 'h', 'tri', 'choos', 'resistor', 'toler', 'better', '1', 'need', 'trimmer', 'screen', 'devic', 'made', 'ad', '2', 'resitor', '1', 'valu', 'parallel', 'sinc', 'smaller', 'devic', 'error', '1', 'cope', '3', 'choic', 'live', 'error', '1', 'toler', 'devic', 'low', 'q', 'circuit', 'low', 'sensit', 'design', 'b', 'buy', 'resistor', 'better', '1', 'toler', 'vishay', 'dale', 'c', 'use', 'trimmer', 'sot', 'select', 'test', 'inquir', 'mind', 'bbs', 'winnipeg', 'manitoba', '204', '488', '1607']\n"
     ]
    }
   ],
   "source": [
    "doc_stemmed = [stem(word) for word in doc_filtered_tokens]\n",
    "print(doc_stemmed)"
   ]
  },
  {
   "cell_type": "markdown",
   "id": "e1aaed57",
   "metadata": {},
   "source": [
    "### Pipeline\n",
    "\n",
    "_NOTE: the speed can be improved._"
   ]
  },
  {
   "cell_type": "code",
   "execution_count": 28,
   "id": "2d61f20d",
   "metadata": {},
   "outputs": [],
   "source": [
    "# Destination variables\n",
    "tokens = []\n",
    "labels = []\n",
    "\n",
    "for doc,cat in zip(documents, categories):\n",
    "    doc_tokens = [\n",
    "        stem(token)\n",
    "        for token\n",
    "        in filter_stopwords(word_tokenize(filter_symbols(doc)))\n",
    "    ]\n",
    "    if doc_tokens != []:\n",
    "        tokens.append(doc_tokens)\n",
    "        labels.append(cat)\n",
    "\n",
    "assert(len(tokens)== len(labels))"
   ]
  },
  {
   "cell_type": "markdown",
   "id": "33750fe3",
   "metadata": {},
   "source": [
    "## Classifier"
   ]
  },
  {
   "cell_type": "markdown",
   "id": "0ea8eb3c",
   "metadata": {},
   "source": [
    "### Train test split"
   ]
  },
  {
   "cell_type": "code",
   "execution_count": 29,
   "id": "814b2436",
   "metadata": {},
   "outputs": [],
   "source": [
    "from sklearn.model_selection import train_test_split\n",
    "\n",
    "train_x, test_x, train_y, test_y = train_test_split(\n",
    "    tokens, labels,\n",
    "    test_size=0.2,\n",
    "    random_state=RND_SEED,\n",
    "    shuffle=True,\n",
    "    stratify=None\n",
    ")"
   ]
  },
  {
   "cell_type": "markdown",
   "id": "92a4eb25",
   "metadata": {},
   "source": [
    "### Document vectorization\n",
    "\n",
    "We are going to convert the token represenation of a document to a TF-IDF vector."
   ]
  },
  {
   "cell_type": "code",
   "execution_count": 30,
   "id": "6f56fdd0",
   "metadata": {},
   "outputs": [
    {
     "name": "stderr",
     "output_type": "stream",
     "text": [
      "/home/samuel/repos/NLP_TM-CERT/venv/lib/python3.8/site-packages/sklearn/feature_extraction/text.py:489: UserWarning: The parameter 'token_pattern' will not be used since 'tokenizer' is not None'\n",
      "  warnings.warn(\"The parameter 'token_pattern' will not be used\"\n"
     ]
    },
    {
     "data": {
      "text/plain": [
       "TfidfVectorizer(lowercase=False,\n",
       "                tokenizer=<function <lambda> at 0x7fd5a37a3d30>)"
      ]
     },
     "execution_count": 30,
     "metadata": {},
     "output_type": "execute_result"
    }
   ],
   "source": [
    "from sklearn.feature_extraction.text import TfidfVectorizer\n",
    "\n",
    "tfidf = TfidfVectorizer(\n",
    "    tokenizer=lambda x: x,\n",
    "    lowercase=False, # Internally calls str.lower(), disable\n",
    "    stop_words=None,\n",
    "    use_idf=True,\n",
    "    smooth_idf=True\n",
    ")\n",
    "\n",
    "tfidf.fit(train_x)"
   ]
  },
  {
   "cell_type": "code",
   "execution_count": 31,
   "id": "7a93b72c",
   "metadata": {
    "scrolled": true
   },
   "outputs": [
    {
     "name": "stdout",
     "output_type": "stream",
     "text": [
      "The word vocabulary contains 48795 terms.\n"
     ]
    }
   ],
   "source": [
    "print(\"The word vocabulary contains {} terms.\".format(len(tfidf.vocabulary_)))"
   ]
  },
  {
   "cell_type": "code",
   "execution_count": 32,
   "id": "f0d86574",
   "metadata": {},
   "outputs": [],
   "source": [
    "tfidf_train_x = tfidf.transform(train_x)\n",
    "tfidf_test_x = tfidf.transform(test_x)"
   ]
  },
  {
   "cell_type": "markdown",
   "id": "7e53d5c9",
   "metadata": {},
   "source": [
    "### KNN Classifier (baseline)"
   ]
  },
  {
   "cell_type": "code",
   "execution_count": 33,
   "id": "b5f92b6c",
   "metadata": {},
   "outputs": [],
   "source": [
    "import numpy as np\n",
    "from scipy.stats import mode\n",
    "from sklearn.metrics.pairwise import cosine_similarity  # 1 max similarity, -1 less similarity"
   ]
  },
  {
   "cell_type": "code",
   "execution_count": 34,
   "id": "058e4d4a",
   "metadata": {},
   "outputs": [],
   "source": [
    "class KNNModel():\n",
    "    \n",
    "    def __init__(self, neighbors=5):\n",
    "        self.neighbors = neighbors\n",
    "        self.train_x = None\n",
    "    \n",
    "    def fit(self, train_x, train_y):\n",
    "        self.train_x = train_x\n",
    "        self.train_y = train_y\n",
    "        \n",
    "    def predict(self, test_x, neighbors=0):\n",
    "        \"\"\"Vectorized\n",
    "        \"\"\"\n",
    "        if neighbors == 0:\n",
    "            neighbors = self.neighbors\n",
    "        sims = cosine_similarity(test_x, self.train_x)  # Similarities\n",
    "        i_near = np.argsort(sims)[:,-neighbors:]  # Ranking with indices of similar docs\n",
    "        knn_y = np.array(self.train_y)[i_near]  # Categories\n",
    "        prediction = mode(knn_y, axis=1)[0].reshape(-1)  # Majority voting        \n",
    "        return prediction"
   ]
  },
  {
   "cell_type": "code",
   "execution_count": 35,
   "id": "521459a6",
   "metadata": {},
   "outputs": [],
   "source": [
    "knn_model = KNNModel(neighbors=5)\n",
    "knn_model.fit(tfidf_train_x, train_y)\n",
    "pred_y = knn_model.predict(tfidf_test_x)"
   ]
  },
  {
   "cell_type": "markdown",
   "id": "6f5f8987",
   "metadata": {},
   "source": [
    "#### Metrics"
   ]
  },
  {
   "cell_type": "code",
   "execution_count": 36,
   "id": "c53795f5",
   "metadata": {},
   "outputs": [],
   "source": [
    "import sklearn\n",
    "import seaborn as sns\n",
    "from matplotlib import pyplot as plt\n",
    "\n",
    "sns.set(rc={'figure.figsize':(30,30)})  # Figure size"
   ]
  },
  {
   "cell_type": "code",
   "execution_count": 37,
   "id": "a3191da5",
   "metadata": {},
   "outputs": [],
   "source": [
    "def print_metrics(true_labels, predictions):\n",
    "    print(\"Accuracy: {}\".format(\n",
    "        sklearn.metrics.accuracy_score(true_labels,predictions)\n",
    "    ))\n",
    "    sns.heatmap(\n",
    "        sklearn.metrics.confusion_matrix(true_labels,predictions)/len(true_labels),\n",
    "        vmin=0.0,\n",
    "        center=0.5,\n",
    "        vmax=1.0,\n",
    "        annot=True\n",
    "    )\n",
    "    plt.title(\"Confusion matrix (% data)\")\n",
    "    plt.ylabel(\"True label\")\n",
    "    plt.xlabel(\"Predicted label\")\n",
    "    plt.show()"
   ]
  },
  {
   "cell_type": "code",
   "execution_count": 38,
   "id": "3b7732a8",
   "metadata": {
    "scrolled": false
   },
   "outputs": [
    {
     "name": "stdout",
     "output_type": "stream",
     "text": [
      "Accuracy: 0.8397469688982604\n"
     ]
    },
    {
     "data": {
      "image/png": "[encoded data removed]",
      "text/plain": [
       "<Figure size 2160x2160 with 2 Axes>"
      ]
     },
     "metadata": {},
     "output_type": "display_data"
    }
   ],
   "source": [
    "print_metrics(test_y, pred_y)"
   ]
  },
  {
   "cell_type": "markdown",
   "id": "2a2914bc",
   "metadata": {},
   "source": [
    "## Conclusion\n",
    "\n",
    "There is evidence we can exploit the correlation between the document and the category. Nice result for a quick & dirty baseline."
   ]
  },
  {
   "cell_type": "markdown",
   "id": "8dd8058c",
   "metadata": {},
   "source": [
    "## References\n",
    "\n",
    "* [1] [NLTK DOC - Modules](https://www.nltk.org/py-modindex.html)\n",
    "* [2] [sklearn.feature_extraction.text.TfidfVectorizer](https://scikit-learn.org/stable/modules/generated/sklearn.feature_extraction.text.TfidfVectorizer.html)\n",
    "* [3] [nltk.stem.snowball module](https://www.nltk.org/api/nltk.stem.html#module-nltk.stem.snowball)\n",
    "* [4] [Cosine similarity](https://en.wikipedia.org/wiki/Cosine_similarity)"
   ]
  }
 ],
 "metadata": {
  "kernelspec": {
   "display_name": "Python 3 (ipykernel)",
   "language": "python",
   "name": "python3"
  },
  "language_info": {
   "codemirror_mode": {
    "name": "ipython",
    "version": 3
   },
   "file_extension": ".py",
   "mimetype": "text/x-python",
   "name": "python",
   "nbconvert_exporter": "python",
   "pygments_lexer": "ipython3",
   "version": "3.8.5"
  }
 },
 "nbformat": 4,
 "nbformat_minor": 5
}
