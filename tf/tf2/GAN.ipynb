{
 "cells": [
  {
   "cell_type": "markdown",
   "metadata": {},
   "source": [
    "# Adversarial Generative Network\n",
    "\n",
    "The intention of this notebook is to create a GAN to generate realistic handwritten digest from the MNIST dataset."
   ]
  },
  {
   "cell_type": "code",
   "execution_count": 1,
   "metadata": {},
   "outputs": [],
   "source": [
    "import datetime\n",
    "import math\n",
    "\n",
    "import matplotlib.pyplot as plt\n",
    "import numpy as np\n",
    "import sklearn.metrics\n",
    "import seaborn as sns\n",
    "import tensorflow as tf\n",
    "from tqdm import tqdm_notebook\n",
    "\n",
    "from utils.mnist_dataset import MNIST_Dataset\n",
    "from utils.batch import make_batches_all, make_batches_random"
   ]
  },
  {
   "cell_type": "code",
   "execution_count": 2,
   "metadata": {},
   "outputs": [],
   "source": [
    "assert(int(tf.__version__[0])==2)  # Use TensorFlow 2"
   ]
  },
  {
   "cell_type": "code",
   "execution_count": 3,
   "metadata": {},
   "outputs": [],
   "source": [
    "%load_ext tensorboard"
   ]
  },
  {
   "cell_type": "code",
   "execution_count": 4,
   "metadata": {},
   "outputs": [
    {
     "data": {
      "text/plain": [
       "[name: \"/device:CPU:0\"\n",
       " device_type: \"CPU\"\n",
       " memory_limit: 268435456\n",
       " locality {\n",
       " }\n",
       " incarnation: 12645307612313591415, name: \"/device:XLA_GPU:0\"\n",
       " device_type: \"XLA_GPU\"\n",
       " memory_limit: 17179869184\n",
       " locality {\n",
       " }\n",
       " incarnation: 7489745787565532250\n",
       " physical_device_desc: \"device: XLA_GPU device\", name: \"/device:XLA_CPU:0\"\n",
       " device_type: \"XLA_CPU\"\n",
       " memory_limit: 17179869184\n",
       " locality {\n",
       " }\n",
       " incarnation: 12441636758566095690\n",
       " physical_device_desc: \"device: XLA_CPU device\", name: \"/device:GPU:0\"\n",
       " device_type: \"GPU\"\n",
       " memory_limit: 7511012148\n",
       " locality {\n",
       "   bus_id: 1\n",
       "   links {\n",
       "   }\n",
       " }\n",
       " incarnation: 13580493410320398187\n",
       " physical_device_desc: \"device: 0, name: Tesla M60, pci bus id: 0000:00:1e.0, compute capability: 5.2\"]"
      ]
     },
     "execution_count": 4,
     "metadata": {},
     "output_type": "execute_result"
    }
   ],
   "source": [
    "# Check computing units\n",
    "from tensorflow.python.client import device_lib\n",
    "device_lib.list_local_devices()"
   ]
  },
  {
   "cell_type": "markdown",
   "metadata": {},
   "source": [
    "## Constants"
   ]
  },
  {
   "cell_type": "code",
   "execution_count": 5,
   "metadata": {},
   "outputs": [],
   "source": [
    "LOG_PATH = 'log-GAN'  # For tensorboard, etc.\n",
    "\n",
    "DS_PATH = 'data' # Where de MNIST dataset is located\n",
    "\n",
    "# Hyperparams\n",
    "PARAMS = {\n",
    "    'generator': {\n",
    "        'learning_rate': 0.00001\n",
    "    },\n",
    "    'discriminator': {\n",
    "        'learning_rate': 0.00001\n",
    "    },\n",
    "    'latent_factors': 100,\n",
    "    'epochs': 200,\n",
    "    'batch_size': 64,  # Use an even number\n",
    "    'disc_gen_ratio': 1  # How many times over the generator the discriminator is trained.\n",
    "}"
   ]
  },
  {
   "cell_type": "markdown",
   "metadata": {},
   "source": [
    "## Dataset"
   ]
  },
  {
   "cell_type": "code",
   "execution_count": 6,
   "metadata": {},
   "outputs": [
    {
     "name": "stdout",
     "output_type": "stream",
     "text": [
      "WARNING: directory data/ already exists.\r\n"
     ]
    }
   ],
   "source": [
    "!bash download_mnist.sh {DS_PATH}"
   ]
  },
  {
   "cell_type": "code",
   "execution_count": 7,
   "metadata": {},
   "outputs": [],
   "source": [
    "class Dataset():\n",
    "        \n",
    "    def __init__(self, ds_path):\n",
    "        self.ds = MNIST_Dataset(ds_path)\n",
    "        \n",
    "    @staticmethod\n",
    "    def _preprocess_samples(x):\n",
    "        \"\"\"x: tensor of shape (-1, 28, 28) representing the images.\n",
    "        \"\"\"\n",
    "        n,w,h = x.shape\n",
    "        # From 28x28 pixels to 32x32\n",
    "        x_32 = np.pad(\n",
    "            x,\n",
    "            pad_width=((0,0),(2,2),(2,2)),\n",
    "            mode='constant',\n",
    "            constant_values=0\n",
    "        )\n",
    "        x_scaled = (x_32/128)-1 # Scaled -1,1\n",
    "        return x_scaled.reshape(n,32,32,1)\n",
    "    \n",
    "    \n",
    "    def train_data(self):\n",
    "        x,y = self.ds.get_train()\n",
    "        return (\n",
    "            self._preprocess_samples(x).astype(np.float32),\n",
    "            y\n",
    "        )"
   ]
  },
  {
   "cell_type": "markdown",
   "metadata": {},
   "source": [
    "## Model architecture"
   ]
  },
  {
   "cell_type": "markdown",
   "metadata": {},
   "source": [
    "### Generator\n",
    "\n",
    "This model tries to generate realistic images.\n",
    "-  INPUT: Noise vector (1x100).\n",
    "-  OUTPUT: Image (32x32)"
   ]
  },
  {
   "cell_type": "code",
   "execution_count": 8,
   "metadata": {},
   "outputs": [],
   "source": [
    "def get_generator(latent_factors):\n",
    "    \"\"\" From noise to plausible examples.\n",
    "    INPUT: Noise vector of latent factors (-1,1)\n",
    "    OUTPUT: 32x32x1 (-1,1) grayscale image\n",
    "    \"\"\"\n",
    "    return tf.keras.Sequential(\n",
    "        name=\"Generator\",\n",
    "        layers=[\n",
    "            tf.keras.layers.InputLayer(\n",
    "                input_shape=(latent_factors)\n",
    "            ),\n",
    "            tf.keras.layers.Dense(  \n",
    "                name=\"D1\",\n",
    "                units=128,\n",
    "                activation=tf.keras.layers.LeakyReLU(alpha=0.2)\n",
    "            ),\n",
    "            tf.keras.layers.Dense(  \n",
    "                name=\"D2\",\n",
    "                units=256,\n",
    "                activation=tf.keras.layers.LeakyReLU(alpha=0.2)\n",
    "            ),\n",
    "            tf.keras.layers.Dense(  \n",
    "                name=\"D3\",\n",
    "                units=512,\n",
    "                activation=tf.keras.layers.LeakyReLU(alpha=0.2)\n",
    "            ),\n",
    "            tf.keras.layers.BatchNormalization(\n",
    "                momentum=0.8,\n",
    "                name=\"BN1\"\n",
    "            ),\n",
    "            tf.keras.layers.Dense(  \n",
    "                name=\"D4\",\n",
    "                units=1024,\n",
    "                activation=tf.math.tanh\n",
    "            ),\n",
    "            # Reshape 120->1x1x120\n",
    "            tf.keras.layers.Reshape(\n",
    "                target_shape=(32,32,1)\n",
    "            )\n",
    "        ]\n",
    "    )"
   ]
  },
  {
   "cell_type": "markdown",
   "metadata": {},
   "source": [
    "### Discriminator\n",
    "\n",
    "This model tells the image probability of being real.\n",
    "-  INPUT: Image (32x32).\n",
    "-  OUTPUT: Probability (0,1)"
   ]
  },
  {
   "cell_type": "code",
   "execution_count": 9,
   "metadata": {},
   "outputs": [],
   "source": [
    "def get_discriminator():\n",
    "    \"\"\"Output the probability for an example to be real.\n",
    "    \"\"\"\n",
    "    return tf.keras.Sequential(\n",
    "        name=\"Discriminator\",\n",
    "        layers=[\n",
    "            tf.keras.layers.InputLayer(\n",
    "                input_shape=(32,32,1)\n",
    "            ),\n",
    "            tf.keras.layers.Flatten(),\n",
    "            tf.keras.layers.Dense(  \n",
    "                name=\"F3\",\n",
    "                units=512,\n",
    "                activation=tf.keras.layers.LeakyReLU(alpha=0.2)\n",
    "            ),\n",
    "            tf.keras.layers.Dense(  \n",
    "                name=\"F4\",\n",
    "                units=256,\n",
    "                activation=tf.keras.layers.LeakyReLU(alpha=0.2)\n",
    "            ),\n",
    "            tf.keras.layers.Dense(  \n",
    "                name=\"F5\",\n",
    "                units=1,\n",
    "                activation=tf.math.sigmoid\n",
    "            )\n",
    "        ]\n",
    "    )"
   ]
  },
  {
   "cell_type": "markdown",
   "metadata": {},
   "source": [
    "### Generative Adversarial Network\n",
    "\n",
    "This model represents the pipeline of the GAN."
   ]
  },
  {
   "cell_type": "code",
   "execution_count": 10,
   "metadata": {},
   "outputs": [],
   "source": [
    "def get_gan(generator, discriminator):\n",
    "    return tf.keras.Sequential(\n",
    "        name=\"GAN\",\n",
    "        layers=[\n",
    "            tf.keras.layers.InputLayer(\n",
    "                input_shape=(\n",
    "                    generator.layers[0].input.shape[1]\n",
    "                )\n",
    "            ),\n",
    "            generator,\n",
    "            discriminator\n",
    "        ]\n",
    "    )"
   ]
  },
  {
   "cell_type": "markdown",
   "metadata": {},
   "source": [
    "### Model objects"
   ]
  },
  {
   "cell_type": "code",
   "execution_count": 11,
   "metadata": {},
   "outputs": [
    {
     "name": "stdout",
     "output_type": "stream",
     "text": [
      "Model: \"Generator\"\n",
      "_________________________________________________________________\n",
      "Layer (type)                 Output Shape              Param #   \n",
      "=================================================================\n",
      "D1 (Dense)                   (None, 128)               12928     \n",
      "_________________________________________________________________\n",
      "D2 (Dense)                   (None, 256)               33024     \n",
      "_________________________________________________________________\n",
      "D3 (Dense)                   (None, 512)               131584    \n",
      "_________________________________________________________________\n",
      "BN1 (BatchNormalization)     (None, 512)               2048      \n",
      "_________________________________________________________________\n",
      "D4 (Dense)                   (None, 1024)              525312    \n",
      "_________________________________________________________________\n",
      "reshape (Reshape)            (None, 32, 32, 1)         0         \n",
      "=================================================================\n",
      "Total params: 704,896\n",
      "Trainable params: 703,872\n",
      "Non-trainable params: 1,024\n",
      "_________________________________________________________________\n",
      "Model: \"Discriminator\"\n",
      "_________________________________________________________________\n",
      "Layer (type)                 Output Shape              Param #   \n",
      "=================================================================\n",
      "flatten (Flatten)            (None, 1024)              0         \n",
      "_________________________________________________________________\n",
      "F3 (Dense)                   (None, 512)               524800    \n",
      "_________________________________________________________________\n",
      "F4 (Dense)                   (None, 256)               131328    \n",
      "_________________________________________________________________\n",
      "F5 (Dense)                   (None, 1)                 257       \n",
      "=================================================================\n",
      "Total params: 656,385\n",
      "Trainable params: 656,385\n",
      "Non-trainable params: 0\n",
      "_________________________________________________________________\n",
      "Model: \"GAN\"\n",
      "_________________________________________________________________\n",
      "Layer (type)                 Output Shape              Param #   \n",
      "=================================================================\n",
      "Generator (Sequential)       (None, 32, 32, 1)         704896    \n",
      "_________________________________________________________________\n",
      "Discriminator (Sequential)   (None, 1)                 656385    \n",
      "=================================================================\n",
      "Total params: 1,361,281\n",
      "Trainable params: 1,360,257\n",
      "Non-trainable params: 1,024\n",
      "_________________________________________________________________\n"
     ]
    }
   ],
   "source": [
    "generator = get_generator(PARAMS['latent_factors'])\n",
    "gen_opt = tf.keras.optimizers.Adam(\n",
    "    learning_rate=PARAMS['generator']['learning_rate']\n",
    ")\n",
    "\n",
    "discriminator = get_discriminator()\n",
    "disc_opt = tf.keras.optimizers.Adam(\n",
    "    learning_rate=PARAMS['discriminator']['learning_rate']\n",
    ")\n",
    "\n",
    "gan = get_gan(generator, discriminator)\n",
    "\n",
    "generator.summary()\n",
    "discriminator.summary()\n",
    "gan.summary()"
   ]
  },
  {
   "cell_type": "markdown",
   "metadata": {},
   "source": [
    "## Util Functions"
   ]
  },
  {
   "cell_type": "code",
   "execution_count": 12,
   "metadata": {},
   "outputs": [],
   "source": [
    "def sample_latent_factors(n):\n",
    "    \"\"\"Noise sample function.\n",
    "    \"\"\"\n",
    "    return tf.random.uniform(shape=(n, PARAMS['latent_factors']), minval=-1.0, maxval=1.0)  # Naive way.\n",
    "    #return tf.random.normal(shape=(n, PARAMS['latent_factors']), mean=0.0, stddev=1.0)"
   ]
  },
  {
   "cell_type": "code",
   "execution_count": 13,
   "metadata": {},
   "outputs": [],
   "source": [
    "def plot_generated_images(epoch, images, path_out, dim=(10,10), figsize=(32,32)):\n",
    "    epoch = str(epoch).rjust(3,\"0\")\n",
    "    generated_images = images.reshape(-1,32,32)\n",
    "    plt.figure(figsize=figsize)\n",
    "    for i in range(generated_images.shape[0]):\n",
    "        plt.subplot(dim[0], dim[1], i+1)\n",
    "        plt.imshow(generated_images[i], interpolation='nearest', cmap='gray')\n",
    "        plt.axis('off')\n",
    "    plt.tight_layout()\n",
    "    plt.suptitle('Epoch: {}'.format(epoch), fontsize=75, horizontalalignment='center', verticalalignment='top', backgroundcolor=\"black\", color='yellow', weight='bold')\n",
    "    plt.savefig(path_out + '/generator_{}.png'.format(epoch))\n",
    "    plt.close()\n",
    "    return None"
   ]
  },
  {
   "cell_type": "markdown",
   "metadata": {},
   "source": [
    "## Operative"
   ]
  },
  {
   "cell_type": "code",
   "execution_count": 14,
   "metadata": {},
   "outputs": [],
   "source": [
    "def train_step(model, optimizer, fn_loss, x_train, y_train):\n",
    "    \"\"\"Training step for a model.\n",
    "    \"\"\"\n",
    "    with tf.GradientTape() as tape:\n",
    "        predictions = model(x_train, training=True)\n",
    "        loss = fn_loss(y_train, predictions)\n",
    "    grads = tape.gradient(loss, model.trainable_variables)\n",
    "    optimizer.apply_gradients(zip(grads, model.trainable_variables))\n",
    "    return loss"
   ]
  },
  {
   "cell_type": "code",
   "execution_count": 15,
   "metadata": {},
   "outputs": [],
   "source": [
    "def fn_loss(y_true, y_pred):\n",
    "    \"\"\"Loss function.\n",
    "    Log loss or cross-entropy.\n",
    "    \n",
    "    NOTE: it is possible to use tf.keras.losses.BinaryCrossentropy() alone.\n",
    "    param reduction='SUM_OVER_BATCH_SIZE'  works the same.\n",
    "    \"\"\"\n",
    "    return tf.math.reduce_mean(\n",
    "        tf.keras.losses.binary_crossentropy(\n",
    "            y_true=y_true,\n",
    "            y_pred=y_pred,\n",
    "            label_smoothing = 0,  # Not useful since I only need one sided label smoothing\n",
    "            from_logits=False\n",
    "        )\n",
    "    )"
   ]
  },
  {
   "cell_type": "code",
   "execution_count": 16,
   "metadata": {},
   "outputs": [],
   "source": [
    "# Tensorboard writers\n",
    "\n",
    "log_dir = LOG_PATH + '/' + datetime.datetime.now().strftime(\"%Y%m%d-%H%M%S\")\n",
    "gen_summary_writer = tf.summary.create_file_writer(log_dir + '/gen')\n",
    "disc_summary_writer = tf.summary.create_file_writer(log_dir + '/disc')\n",
    "\n",
    "img_out_dir = log_dir + '/imgs'"
   ]
  },
  {
   "cell_type": "code",
   "execution_count": 17,
   "metadata": {},
   "outputs": [],
   "source": [
    "!mkdir {img_out_dir}"
   ]
  },
  {
   "cell_type": "code",
   "execution_count": 18,
   "metadata": {},
   "outputs": [],
   "source": [
    "# Load the dataset\n",
    "\n",
    "ds = Dataset(DS_PATH)\n",
    "x_real, _ = ds.train_data()  # I don't care about labels"
   ]
  },
  {
   "cell_type": "code",
   "execution_count": 19,
   "metadata": {},
   "outputs": [],
   "source": [
    "# Precalculate batch labels to gain speed.\n",
    "\n",
    "bs = PARAMS['batch_size']\n",
    "n_batches = math.ceil(len(x_real)*2 / bs) # Real + Fake data / batch_size\n",
    "\n",
    "# Discriminator labels\n",
    "disc_y = tf.concat(\n",
    "    [\n",
    "        tf.fill((bs//2,1), 0.95), # Real. One sided label smoothing\n",
    "        tf.fill((bs//2,1), 0.0)   # Fake\n",
    "    ],\n",
    "    axis=0\n",
    ")\n",
    "\n",
    "# Generator labels\n",
    "gen_y = tf.fill((bs,1), 1.0)  # Do not smooth generator samples!!\n",
    "\n",
    "assert(len(disc_y)==len(gen_y))"
   ]
  },
  {
   "cell_type": "code",
   "execution_count": 20,
   "metadata": {},
   "outputs": [],
   "source": [
    "def evaluate(generator, discriminator, val_data_real, val_data_fake):\n",
    "    n = len(val_data_real)\n",
    "    y_true = tf.concat([tf.fill((n,1), 1.0),tf.fill((n,1), 0.0)], axis=0)\n",
    "    y_pred = discriminator( tf.concat([val_data_real, val_data_fake ],axis=0) )\n",
    "    y_true_bin = y_true.numpy().flatten()\n",
    "    y_pred_bin = np.where(y_pred.numpy().flatten()>=0.5, 1, 0)\n",
    "\n",
    "    # Metrics\n",
    "    cf = sklearn.metrics.confusion_matrix(y_true, y_pred_bin)\n",
    "    tn, fp, fn, tp = cf.ravel()\n",
    "    return {\n",
    "        'disc_loss': fn_loss(y_true, y_pred),\n",
    "        'gen_loss': fn_loss(tf.fill((n,1), 1.0), discriminator(val_data_fake)),\n",
    "        'acc': sklearn.metrics.accuracy_score(y_true, y_pred_bin),\n",
    "        'fpr': fp/(fp+tn), # False positive ratio\n",
    "        'cm': cf\n",
    "    }"
   ]
  },
  {
   "cell_type": "markdown",
   "metadata": {},
   "source": [
    "## Training"
   ]
  },
  {
   "cell_type": "markdown",
   "metadata": {},
   "source": [
    "### Tensorboard\n",
    "\n",
    "We will track the metrics evolution and the generated images with Tensorboard."
   ]
  },
  {
   "cell_type": "code",
   "execution_count": null,
   "metadata": {},
   "outputs": [],
   "source": [
    "%tensorboard --logdir {log_dir}"
   ]
  },
  {
   "cell_type": "markdown",
   "metadata": {},
   "source": [
    "### Taining loop"
   ]
  },
  {
   "cell_type": "code",
   "execution_count": 22,
   "metadata": {
    "scrolled": true
   },
   "outputs": [
    {
     "data": {
      "application/vnd.jupyter.widget-view+json": {
       "model_id": "a784ce69e0e742d48e1f0264394e32f8",
       "version_major": 2,
       "version_minor": 0
      },
      "text/plain": [
       "HBox(children=(IntProgress(value=0, description='Epoch: 0 ', max=1875, style=ProgressStyle(description_width='…"
      ]
     },
     "metadata": {},
     "output_type": "display_data"
    },
    {
     "name": "stderr",
     "output_type": "stream",
     "text": [
      "WARNING: Logging before flag parsing goes to stderr.\n",
      "W0611 11:50:56.157021 140477169415936 deprecation.py:323] From /home/ubuntu/ai_tests/tf/tf2/venv/lib/python3.5/site-packages/tensorflow/python/ops/math_grad.py:1220: add_dispatch_support.<locals>.wrapper (from tensorflow.python.ops.array_ops) is deprecated and will be removed in a future version.\n",
      "Instructions for updating:\n",
      "Use tf.where in 2.0, which has the same broadcast rule as np.where\n"
     ]
    },
    {
     "name": "stdout",
     "output_type": "stream",
     "text": [
      "\n",
      "disc_loss\t0.046386756002902985\n",
      "acc\t1.0\n",
      "gen_loss\t3.3935108184814453\n",
      "fpr\t0.0\n",
      "cm\t[[256   0]\n",
      " [  0 256]]\n"
     ]
    },
    {
     "data": {
      "application/vnd.jupyter.widget-view+json": {
       "model_id": "fbd9f547054946a991c325d011a4e7ba",
       "version_major": 2,
       "version_minor": 0
      },
      "text/plain": [
       "HBox(children=(IntProgress(value=0, description='Epoch: 1 ', max=1875, style=ProgressStyle(description_width='…"
      ]
     },
     "metadata": {},
     "output_type": "display_data"
    },
    {
     "name": "stdout",
     "output_type": "stream",
     "text": [
      "\n",
      "disc_loss\t0.06313662230968475\n",
      "acc\t1.0\n",
      "gen_loss\t3.039912700653076\n",
      "fpr\t0.0\n",
      "cm\t[[256   0]\n",
      " [  0 256]]\n"
     ]
    },
    {
     "data": {
      "application/vnd.jupyter.widget-view+json": {
       "model_id": "7e4491980af14ed9b09d07cf2c6d6875",
       "version_major": 2,
       "version_minor": 0
      },
      "text/plain": [
       "HBox(children=(IntProgress(value=0, description='Epoch: 2 ', max=1875, style=ProgressStyle(description_width='…"
      ]
     },
     "metadata": {},
     "output_type": "display_data"
    },
    {
     "name": "stdout",
     "output_type": "stream",
     "text": [
      "\n",
      "disc_loss\t0.07350130379199982\n",
      "acc\t0.998046875\n",
      "gen_loss\t2.7664241790771484\n",
      "fpr\t0.0\n",
      "cm\t[[256   0]\n",
      " [  1 255]]\n"
     ]
    },
    {
     "data": {
      "application/vnd.jupyter.widget-view+json": {
       "model_id": "18cb5a12500147558c1d781e4727d333",
       "version_major": 2,
       "version_minor": 0
      },
      "text/plain": [
       "HBox(children=(IntProgress(value=0, description='Epoch: 3 ', max=1875, style=ProgressStyle(description_width='…"
      ]
     },
     "metadata": {},
     "output_type": "display_data"
    },
    {
     "name": "stdout",
     "output_type": "stream",
     "text": [
      "\n",
      "disc_loss\t0.04077740013599396\n",
      "acc\t1.0\n",
      "gen_loss\t4.070962905883789\n",
      "fpr\t0.0\n",
      "cm\t[[256   0]\n",
      " [  0 256]]\n"
     ]
    },
    {
     "data": {
      "application/vnd.jupyter.widget-view+json": {
       "model_id": "51dac923dcc0485290b2ab18e80997e4",
       "version_major": 2,
       "version_minor": 0
      },
      "text/plain": [
       "HBox(children=(IntProgress(value=0, description='Epoch: 4 ', max=1875, style=ProgressStyle(description_width='…"
      ]
     },
     "metadata": {},
     "output_type": "display_data"
    },
    {
     "name": "stdout",
     "output_type": "stream",
     "text": [
      "\n",
      "disc_loss\t0.047758907079696655\n",
      "acc\t1.0\n",
      "gen_loss\t3.7959330081939697\n",
      "fpr\t0.0\n",
      "cm\t[[256   0]\n",
      " [  0 256]]\n"
     ]
    },
    {
     "data": {
      "application/vnd.jupyter.widget-view+json": {
       "model_id": "ed5312ddd9034469a4a15ce9d62e2545",
       "version_major": 2,
       "version_minor": 0
      },
      "text/plain": [
       "HBox(children=(IntProgress(value=0, description='Epoch: 5 ', max=1875, style=ProgressStyle(description_width='…"
      ]
     },
     "metadata": {},
     "output_type": "display_data"
    },
    {
     "name": "stdout",
     "output_type": "stream",
     "text": [
      "\n",
      "disc_loss\t0.11347033083438873\n",
      "acc\t0.998046875\n",
      "gen_loss\t2.190279960632324\n",
      "fpr\t0.0\n",
      "cm\t[[256   0]\n",
      " [  1 255]]\n"
     ]
    },
    {
     "data": {
      "application/vnd.jupyter.widget-view+json": {
       "model_id": "c02efcf0ca9a41719761ca7cbacb767d",
       "version_major": 2,
       "version_minor": 0
      },
      "text/plain": [
       "HBox(children=(IntProgress(value=0, description='Epoch: 6 ', max=1875, style=ProgressStyle(description_width='…"
      ]
     },
     "metadata": {},
     "output_type": "display_data"
    },
    {
     "name": "stdout",
     "output_type": "stream",
     "text": [
      "\n",
      "disc_loss\t0.34108030796051025\n",
      "acc\t0.939453125\n",
      "gen_loss\t1.2892963886260986\n",
      "fpr\t0.0\n",
      "cm\t[[256   0]\n",
      " [ 31 225]]\n"
     ]
    },
    {
     "data": {
      "application/vnd.jupyter.widget-view+json": {
       "model_id": "05f7e508ef6c40e9aabc7bc197e60c2e",
       "version_major": 2,
       "version_minor": 0
      },
      "text/plain": [
       "HBox(children=(IntProgress(value=0, description='Epoch: 7 ', max=1875, style=ProgressStyle(description_width='…"
      ]
     },
     "metadata": {},
     "output_type": "display_data"
    },
    {
     "name": "stdout",
     "output_type": "stream",
     "text": [
      "\n",
      "disc_loss\t0.5267029404640198\n",
      "acc\t0.861328125\n",
      "gen_loss\t0.9960399866104126\n",
      "fpr\t0.0\n",
      "cm\t[[256   0]\n",
      " [ 71 185]]\n"
     ]
    },
    {
     "data": {
      "application/vnd.jupyter.widget-view+json": {
       "model_id": "5967fb745496437e9a569c837d5d682f",
       "version_major": 2,
       "version_minor": 0
      },
      "text/plain": [
       "HBox(children=(IntProgress(value=0, description='Epoch: 8 ', max=1875, style=ProgressStyle(description_width='…"
      ]
     },
     "metadata": {},
     "output_type": "display_data"
    },
    {
     "name": "stdout",
     "output_type": "stream",
     "text": [
      "\n",
      "disc_loss\t0.6380903124809265\n",
      "acc\t0.78515625\n",
      "gen_loss\t0.9217107892036438\n",
      "fpr\t0.0\n",
      "cm\t[[256   0]\n",
      " [110 146]]\n"
     ]
    },
    {
     "data": {
      "application/vnd.jupyter.widget-view+json": {
       "model_id": "556d9ae8bd7d4b40babab8cd44257bc3",
       "version_major": 2,
       "version_minor": 0
      },
      "text/plain": [
       "HBox(children=(IntProgress(value=0, description='Epoch: 9 ', max=1875, style=ProgressStyle(description_width='…"
      ]
     },
     "metadata": {},
     "output_type": "display_data"
    },
    {
     "name": "stdout",
     "output_type": "stream",
     "text": [
      "\n",
      "disc_loss\t0.6792364120483398\n",
      "acc\t0.51171875\n",
      "gen_loss\t0.662309467792511\n",
      "fpr\t0.61328125\n",
      "cm\t[[ 99 157]\n",
      " [ 93 163]]\n"
     ]
    },
    {
     "data": {
      "application/vnd.jupyter.widget-view+json": {
       "model_id": "fba8fd008e91433cb0029967e39064ba",
       "version_major": 2,
       "version_minor": 0
      },
      "text/plain": [
       "HBox(children=(IntProgress(value=0, description='Epoch: 10 ', max=1875, style=ProgressStyle(description_width=…"
      ]
     },
     "metadata": {},
     "output_type": "display_data"
    },
    {
     "name": "stdout",
     "output_type": "stream",
     "text": [
      "\n",
      "disc_loss\t0.6810466051101685\n",
      "acc\t0.677734375\n",
      "gen_loss\t0.7670036554336548\n",
      "fpr\t0.25\n",
      "cm\t[[192  64]\n",
      " [101 155]]\n"
     ]
    },
    {
     "data": {
      "application/vnd.jupyter.widget-view+json": {
       "model_id": "dbd2988cdc06418f811b3c4bac3623eb",
       "version_major": 2,
       "version_minor": 0
      },
      "text/plain": [
       "HBox(children=(IntProgress(value=0, description='Epoch: 11 ', max=1875, style=ProgressStyle(description_width=…"
      ]
     },
     "metadata": {},
     "output_type": "display_data"
    },
    {
     "name": "stdout",
     "output_type": "stream",
     "text": [
      "\n",
      "disc_loss\t0.7023062705993652\n",
      "acc\t0.7109375\n",
      "gen_loss\t0.9008906483650208\n",
      "fpr\t0.0078125\n",
      "cm\t[[254   2]\n",
      " [146 110]]\n"
     ]
    },
    {
     "data": {
      "application/vnd.jupyter.widget-view+json": {
       "model_id": "047bf8d861b84a0fb73c7e69f0dc7b39",
       "version_major": 2,
       "version_minor": 0
      },
      "text/plain": [
       "HBox(children=(IntProgress(value=0, description='Epoch: 12 ', max=1875, style=ProgressStyle(description_width=…"
      ]
     },
     "metadata": {},
     "output_type": "display_data"
    },
    {
     "name": "stdout",
     "output_type": "stream",
     "text": [
      "\n",
      "disc_loss\t0.7305512428283691\n",
      "acc\t0.603515625\n",
      "gen_loss\t0.7550332546234131\n",
      "fpr\t0.3203125\n",
      "cm\t[[174  82]\n",
      " [121 135]]\n"
     ]
    },
    {
     "data": {
      "application/vnd.jupyter.widget-view+json": {
       "model_id": "2f4b2826807e4500ba34d752a1cfec80",
       "version_major": 2,
       "version_minor": 0
      },
      "text/plain": [
       "HBox(children=(IntProgress(value=0, description='Epoch: 13 ', max=1875, style=ProgressStyle(description_width=…"
      ]
     },
     "metadata": {},
     "output_type": "display_data"
    },
    {
     "name": "stdout",
     "output_type": "stream",
     "text": [
      "\n",
      "disc_loss\t0.6952733993530273\n",
      "acc\t0.662109375\n",
      "gen_loss\t0.786998987197876\n",
      "fpr\t0.234375\n",
      "cm\t[[196  60]\n",
      " [113 143]]\n"
     ]
    },
    {
     "data": {
      "application/vnd.jupyter.widget-view+json": {
       "model_id": "ea5ae3562f4a4fbf8895f976f1af48f4",
       "version_major": 2,
       "version_minor": 0
      },
      "text/plain": [
       "HBox(children=(IntProgress(value=0, description='Epoch: 14 ', max=1875, style=ProgressStyle(description_width=…"
      ]
     },
     "metadata": {},
     "output_type": "display_data"
    },
    {
     "name": "stdout",
     "output_type": "stream",
     "text": [
      "\n",
      "disc_loss\t0.6311920881271362\n",
      "acc\t0.7421875\n",
      "gen_loss\t0.9495234489440918\n",
      "fpr\t0.01171875\n",
      "cm\t[[253   3]\n",
      " [129 127]]\n"
     ]
    },
    {
     "data": {
      "application/vnd.jupyter.widget-view+json": {
       "model_id": "fae1ead42e254b3481e08a0b56b880aa",
       "version_major": 2,
       "version_minor": 0
      },
      "text/plain": [
       "HBox(children=(IntProgress(value=0, description='Epoch: 15 ', max=1875, style=ProgressStyle(description_width=…"
      ]
     },
     "metadata": {},
     "output_type": "display_data"
    },
    {
     "name": "stdout",
     "output_type": "stream",
     "text": [
      "\n",
      "disc_loss\t0.668420135974884\n",
      "acc\t0.642578125\n",
      "gen_loss\t0.8194564580917358\n",
      "fpr\t0.24609375\n",
      "cm\t[[193  63]\n",
      " [120 136]]\n"
     ]
    },
    {
     "data": {
      "application/vnd.jupyter.widget-view+json": {
       "model_id": "bb87f688e45940c982a44c3ba97c54a9",
       "version_major": 2,
       "version_minor": 0
      },
      "text/plain": [
       "HBox(children=(IntProgress(value=0, description='Epoch: 16 ', max=1875, style=ProgressStyle(description_width=…"
      ]
     },
     "metadata": {},
     "output_type": "display_data"
    },
    {
     "name": "stdout",
     "output_type": "stream",
     "text": [
      "\n",
      "disc_loss\t0.7070040702819824\n",
      "acc\t0.59765625\n",
      "gen_loss\t0.7750905752182007\n",
      "fpr\t0.38671875\n",
      "cm\t[[157  99]\n",
      " [107 149]]\n"
     ]
    },
    {
     "data": {
      "application/vnd.jupyter.widget-view+json": {
       "model_id": "67eb4c4a4bd54ace8ec8154086b26451",
       "version_major": 2,
       "version_minor": 0
      },
      "text/plain": [
       "HBox(children=(IntProgress(value=0, description='Epoch: 17 ', max=1875, style=ProgressStyle(description_width=…"
      ]
     },
     "metadata": {},
     "output_type": "display_data"
    },
    {
     "name": "stdout",
     "output_type": "stream",
     "text": [
      "\n",
      "disc_loss\t0.6801555752754211\n",
      "acc\t0.6640625\n",
      "gen_loss\t0.9401624798774719\n",
      "fpr\t0.08203125\n",
      "cm\t[[235  21]\n",
      " [151 105]]\n"
     ]
    },
    {
     "data": {
      "application/vnd.jupyter.widget-view+json": {
       "model_id": "d1037feb29e54d228b3bb1d8b6b0f17c",
       "version_major": 2,
       "version_minor": 0
      },
      "text/plain": [
       "HBox(children=(IntProgress(value=0, description='Epoch: 18 ', max=1875, style=ProgressStyle(description_width=…"
      ]
     },
     "metadata": {},
     "output_type": "display_data"
    },
    {
     "name": "stdout",
     "output_type": "stream",
     "text": [
      "\n",
      "disc_loss\t0.6999139189720154\n",
      "acc\t0.650390625\n",
      "gen_loss\t0.8885772228240967\n",
      "fpr\t0.1875\n",
      "cm\t[[208  48]\n",
      " [131 125]]\n"
     ]
    },
    {
     "data": {
      "application/vnd.jupyter.widget-view+json": {
       "model_id": "40ed9cd174fb40aa876ef27cb9103c03",
       "version_major": 2,
       "version_minor": 0
      },
      "text/plain": [
       "HBox(children=(IntProgress(value=0, description='Epoch: 19 ', max=1875, style=ProgressStyle(description_width=…"
      ]
     },
     "metadata": {},
     "output_type": "display_data"
    },
    {
     "name": "stdout",
     "output_type": "stream",
     "text": [
      "\n",
      "disc_loss\t0.6887761354446411\n",
      "acc\t0.662109375\n",
      "gen_loss\t0.8800946474075317\n",
      "fpr\t0.140625\n",
      "cm\t[[220  36]\n",
      " [137 119]]\n"
     ]
    },
    {
     "data": {
      "application/vnd.jupyter.widget-view+json": {
       "model_id": "a9de65420e944ceabaf5f6b5287605b5",
       "version_major": 2,
       "version_minor": 0
      },
      "text/plain": [
       "HBox(children=(IntProgress(value=0, description='Epoch: 20 ', max=1875, style=ProgressStyle(description_width=…"
      ]
     },
     "metadata": {},
     "output_type": "display_data"
    },
    {
     "name": "stdout",
     "output_type": "stream",
     "text": [
      "\n",
      "disc_loss\t0.751849889755249\n",
      "acc\t0.591796875\n",
      "gen_loss\t0.8493560552597046\n",
      "fpr\t0.22265625\n",
      "cm\t[[199  57]\n",
      " [152 104]]\n"
     ]
    },
    {
     "data": {
      "application/vnd.jupyter.widget-view+json": {
       "model_id": "20615c1638274acdb7073f795fffda62",
       "version_major": 2,
       "version_minor": 0
      },
      "text/plain": [
       "HBox(children=(IntProgress(value=0, description='Epoch: 21 ', max=1875, style=ProgressStyle(description_width=…"
      ]
     },
     "metadata": {},
     "output_type": "display_data"
    },
    {
     "name": "stdout",
     "output_type": "stream",
     "text": [
      "\n",
      "disc_loss\t0.7144362330436707\n",
      "acc\t0.515625\n",
      "gen_loss\t0.6692614555358887\n",
      "fpr\t0.6015625\n",
      "cm\t[[102 154]\n",
      " [ 94 162]]\n"
     ]
    },
    {
     "data": {
      "application/vnd.jupyter.widget-view+json": {
       "model_id": "04e139449fe84978905bafb24bc45e28",
       "version_major": 2,
       "version_minor": 0
      },
      "text/plain": [
       "HBox(children=(IntProgress(value=0, description='Epoch: 22 ', max=1875, style=ProgressStyle(description_width=…"
      ]
     },
     "metadata": {},
     "output_type": "display_data"
    },
    {
     "name": "stdout",
     "output_type": "stream",
     "text": [
      "\n",
      "disc_loss\t0.6607401371002197\n",
      "acc\t0.603515625\n",
      "gen_loss\t0.6986883878707886\n",
      "fpr\t0.47265625\n",
      "cm\t[[135 121]\n",
      " [ 82 174]]\n"
     ]
    },
    {
     "data": {
      "application/vnd.jupyter.widget-view+json": {
       "model_id": "b4ff932be6d34bcab69319dda0d7965c",
       "version_major": 2,
       "version_minor": 0
      },
      "text/plain": [
       "HBox(children=(IntProgress(value=0, description='Epoch: 23 ', max=1875, style=ProgressStyle(description_width=…"
      ]
     },
     "metadata": {},
     "output_type": "display_data"
    },
    {
     "name": "stdout",
     "output_type": "stream",
     "text": [
      "\n",
      "disc_loss\t0.7098118662834167\n",
      "acc\t0.544921875\n",
      "gen_loss\t0.6800804734230042\n",
      "fpr\t0.578125\n",
      "cm\t[[108 148]\n",
      " [ 85 171]]\n"
     ]
    },
    {
     "data": {
      "application/vnd.jupyter.widget-view+json": {
       "model_id": "8a438b5ccfb14d2683868dc8e637bca3",
       "version_major": 2,
       "version_minor": 0
      },
      "text/plain": [
       "HBox(children=(IntProgress(value=0, description='Epoch: 24 ', max=1875, style=ProgressStyle(description_width=…"
      ]
     },
     "metadata": {},
     "output_type": "display_data"
    },
    {
     "name": "stdout",
     "output_type": "stream",
     "text": [
      "\n",
      "disc_loss\t0.6818139553070068\n",
      "acc\t0.58984375\n",
      "gen_loss\t0.7513629198074341\n",
      "fpr\t0.40625\n",
      "cm\t[[152 104]\n",
      " [106 150]]\n"
     ]
    },
    {
     "data": {
      "application/vnd.jupyter.widget-view+json": {
       "model_id": "4069043136c14a82b23013cc947c9227",
       "version_major": 2,
       "version_minor": 0
      },
      "text/plain": [
       "HBox(children=(IntProgress(value=0, description='Epoch: 25 ', max=1875, style=ProgressStyle(description_width=…"
      ]
     },
     "metadata": {},
     "output_type": "display_data"
    },
    {
     "name": "stdout",
     "output_type": "stream",
     "text": [
      "\n",
      "disc_loss\t0.6541136503219604\n",
      "acc\t0.716796875\n",
      "gen_loss\t0.8579651713371277\n",
      "fpr\t0.1328125\n",
      "cm\t[[222  34]\n",
      " [111 145]]\n"
     ]
    },
    {
     "data": {
      "application/vnd.jupyter.widget-view+json": {
       "model_id": "d28fcf41920a4b83bb2cd6c38e8b9509",
       "version_major": 2,
       "version_minor": 0
      },
      "text/plain": [
       "HBox(children=(IntProgress(value=0, description='Epoch: 26 ', max=1875, style=ProgressStyle(description_width=…"
      ]
     },
     "metadata": {},
     "output_type": "display_data"
    },
    {
     "name": "stdout",
     "output_type": "stream",
     "text": [
      "\n",
      "disc_loss\t0.6972728967666626\n",
      "acc\t0.6015625\n",
      "gen_loss\t0.8799139857292175\n",
      "fpr\t0.203125\n",
      "cm\t[[204  52]\n",
      " [152 104]]\n"
     ]
    },
    {
     "data": {
      "application/vnd.jupyter.widget-view+json": {
       "model_id": "b7fda3db36c64dde978d1872024ba488",
       "version_major": 2,
       "version_minor": 0
      },
      "text/plain": [
       "HBox(children=(IntProgress(value=0, description='Epoch: 27 ', max=1875, style=ProgressStyle(description_width=…"
      ]
     },
     "metadata": {},
     "output_type": "display_data"
    },
    {
     "name": "stdout",
     "output_type": "stream",
     "text": [
      "\n",
      "disc_loss\t0.7271852493286133\n",
      "acc\t0.603515625\n",
      "gen_loss\t0.8113257884979248\n",
      "fpr\t0.2265625\n",
      "cm\t[[198  58]\n",
      " [145 111]]\n"
     ]
    },
    {
     "data": {
      "application/vnd.jupyter.widget-view+json": {
       "model_id": "395cfbafe3154b38837bc04832ea0bac",
       "version_major": 2,
       "version_minor": 0
      },
      "text/plain": [
       "HBox(children=(IntProgress(value=0, description='Epoch: 28 ', max=1875, style=ProgressStyle(description_width=…"
      ]
     },
     "metadata": {},
     "output_type": "display_data"
    },
    {
     "name": "stdout",
     "output_type": "stream",
     "text": [
      "\n",
      "disc_loss\t0.7006211280822754\n",
      "acc\t0.556640625\n",
      "gen_loss\t0.7272056937217712\n",
      "fpr\t0.4375\n",
      "cm\t[[144 112]\n",
      " [115 141]]\n"
     ]
    },
    {
     "data": {
      "application/vnd.jupyter.widget-view+json": {
       "model_id": "91fd58d8f4ed4b34bbfe283e21d65797",
       "version_major": 2,
       "version_minor": 0
      },
      "text/plain": [
       "HBox(children=(IntProgress(value=0, description='Epoch: 29 ', max=1875, style=ProgressStyle(description_width=…"
      ]
     },
     "metadata": {},
     "output_type": "display_data"
    },
    {
     "name": "stdout",
     "output_type": "stream",
     "text": [
      "\n",
      "disc_loss\t0.7472083568572998\n",
      "acc\t0.4765625\n",
      "gen_loss\t0.6957739591598511\n",
      "fpr\t0.5390625\n",
      "cm\t[[118 138]\n",
      " [130 126]]\n"
     ]
    },
    {
     "data": {
      "application/vnd.jupyter.widget-view+json": {
       "model_id": "d6940bd639704e5cb84c63193d3b5220",
       "version_major": 2,
       "version_minor": 0
      },
      "text/plain": [
       "HBox(children=(IntProgress(value=0, description='Epoch: 30 ', max=1875, style=ProgressStyle(description_width=…"
      ]
     },
     "metadata": {},
     "output_type": "display_data"
    },
    {
     "name": "stdout",
     "output_type": "stream",
     "text": [
      "\n",
      "disc_loss\t0.701326310634613\n",
      "acc\t0.552734375\n",
      "gen_loss\t0.7401108741760254\n",
      "fpr\t0.44140625\n",
      "cm\t[[143 113]\n",
      " [116 140]]\n"
     ]
    },
    {
     "data": {
      "application/vnd.jupyter.widget-view+json": {
       "model_id": "33b6a7b82c2947d9a9362ad8c05c39e7",
       "version_major": 2,
       "version_minor": 0
      },
      "text/plain": [
       "HBox(children=(IntProgress(value=0, description='Epoch: 31 ', max=1875, style=ProgressStyle(description_width=…"
      ]
     },
     "metadata": {},
     "output_type": "display_data"
    },
    {
     "name": "stdout",
     "output_type": "stream",
     "text": [
      "\n",
      "disc_loss\t0.7020282745361328\n",
      "acc\t0.60546875\n",
      "gen_loss\t0.8310145735740662\n",
      "fpr\t0.23828125\n",
      "cm\t[[195  61]\n",
      " [141 115]]\n"
     ]
    },
    {
     "data": {
      "application/vnd.jupyter.widget-view+json": {
       "model_id": "733ce11054f94a9ba58fa11aafed7b9e",
       "version_major": 2,
       "version_minor": 0
      },
      "text/plain": [
       "HBox(children=(IntProgress(value=0, description='Epoch: 32 ', max=1875, style=ProgressStyle(description_width=…"
      ]
     },
     "metadata": {},
     "output_type": "display_data"
    },
    {
     "name": "stdout",
     "output_type": "stream",
     "text": [
      "\n",
      "disc_loss\t0.6322099566459656\n",
      "acc\t0.685546875\n",
      "gen_loss\t0.8515848517417908\n",
      "fpr\t0.19921875\n",
      "cm\t[[205  51]\n",
      " [110 146]]\n"
     ]
    },
    {
     "data": {
      "application/vnd.jupyter.widget-view+json": {
       "model_id": "43c3cce119024d11b72f7974370be2b6",
       "version_major": 2,
       "version_minor": 0
      },
      "text/plain": [
       "HBox(children=(IntProgress(value=0, description='Epoch: 33 ', max=1875, style=ProgressStyle(description_width=…"
      ]
     },
     "metadata": {},
     "output_type": "display_data"
    },
    {
     "name": "stdout",
     "output_type": "stream",
     "text": [
      "\n",
      "disc_loss\t0.6839138269424438\n",
      "acc\t0.59765625\n",
      "gen_loss\t0.7960038185119629\n",
      "fpr\t0.296875\n",
      "cm\t[[180  76]\n",
      " [130 126]]\n"
     ]
    },
    {
     "data": {
      "application/vnd.jupyter.widget-view+json": {
       "model_id": "df984329d03f4cd682b9b825ea6116ef",
       "version_major": 2,
       "version_minor": 0
      },
      "text/plain": [
       "HBox(children=(IntProgress(value=0, description='Epoch: 34 ', max=1875, style=ProgressStyle(description_width=…"
      ]
     },
     "metadata": {},
     "output_type": "display_data"
    },
    {
     "name": "stdout",
     "output_type": "stream",
     "text": [
      "\n",
      "disc_loss\t0.6976467370986938\n",
      "acc\t0.62890625\n",
      "gen_loss\t0.91874098777771\n",
      "fpr\t0.08984375\n",
      "cm\t[[233  23]\n",
      " [167  89]]\n"
     ]
    },
    {
     "data": {
      "application/vnd.jupyter.widget-view+json": {
       "model_id": "fcf5e0e746dc4fd8abc746c57716c500",
       "version_major": 2,
       "version_minor": 0
      },
      "text/plain": [
       "HBox(children=(IntProgress(value=0, description='Epoch: 35 ', max=1875, style=ProgressStyle(description_width=…"
      ]
     },
     "metadata": {},
     "output_type": "display_data"
    },
    {
     "name": "stdout",
     "output_type": "stream",
     "text": [
      "\n",
      "disc_loss\t0.7238335013389587\n",
      "acc\t0.560546875\n",
      "gen_loss\t0.8171689510345459\n",
      "fpr\t0.25390625\n",
      "cm\t[[191  65]\n",
      " [160  96]]\n"
     ]
    },
    {
     "data": {
      "application/vnd.jupyter.widget-view+json": {
       "model_id": "79dfec7712fd42d690ec906d7f97fb1f",
       "version_major": 2,
       "version_minor": 0
      },
      "text/plain": [
       "HBox(children=(IntProgress(value=0, description='Epoch: 36 ', max=1875, style=ProgressStyle(description_width=…"
      ]
     },
     "metadata": {},
     "output_type": "display_data"
    },
    {
     "name": "stdout",
     "output_type": "stream",
     "text": [
      "\n",
      "disc_loss\t0.6994589567184448\n",
      "acc\t0.625\n",
      "gen_loss\t0.8870992064476013\n",
      "fpr\t0.15625\n",
      "cm\t[[216  40]\n",
      " [152 104]]\n"
     ]
    },
    {
     "data": {
      "application/vnd.jupyter.widget-view+json": {
       "model_id": "e9f569ca238a4d44a313d2a5d711deb1",
       "version_major": 2,
       "version_minor": 0
      },
      "text/plain": [
       "HBox(children=(IntProgress(value=0, description='Epoch: 37 ', max=1875, style=ProgressStyle(description_width=…"
      ]
     },
     "metadata": {},
     "output_type": "display_data"
    },
    {
     "name": "stdout",
     "output_type": "stream",
     "text": [
      "\n",
      "disc_loss\t0.6664563417434692\n",
      "acc\t0.6640625\n",
      "gen_loss\t0.9657413959503174\n",
      "fpr\t0.09765625\n",
      "cm\t[[231  25]\n",
      " [147 109]]\n"
     ]
    },
    {
     "data": {
      "application/vnd.jupyter.widget-view+json": {
       "model_id": "6cac384d3399425bb50bc78d74d7fe4f",
       "version_major": 2,
       "version_minor": 0
      },
      "text/plain": [
       "HBox(children=(IntProgress(value=0, description='Epoch: 38 ', max=1875, style=ProgressStyle(description_width=…"
      ]
     },
     "metadata": {},
     "output_type": "display_data"
    },
    {
     "name": "stdout",
     "output_type": "stream",
     "text": [
      "\n",
      "disc_loss\t0.6977726221084595\n",
      "acc\t0.548828125\n",
      "gen_loss\t0.734503984451294\n",
      "fpr\t0.41015625\n",
      "cm\t[[151 105]\n",
      " [126 130]]\n"
     ]
    },
    {
     "data": {
      "application/vnd.jupyter.widget-view+json": {
       "model_id": "1857507e09b049e6a5dd0e9ba04563b8",
       "version_major": 2,
       "version_minor": 0
      },
      "text/plain": [
       "HBox(children=(IntProgress(value=0, description='Epoch: 39 ', max=1875, style=ProgressStyle(description_width=…"
      ]
     },
     "metadata": {},
     "output_type": "display_data"
    },
    {
     "name": "stdout",
     "output_type": "stream",
     "text": [
      "\n",
      "disc_loss\t0.6837574243545532\n",
      "acc\t0.623046875\n",
      "gen_loss\t0.7789073586463928\n",
      "fpr\t0.2890625\n",
      "cm\t[[182  74]\n",
      " [119 137]]\n"
     ]
    },
    {
     "data": {
      "application/vnd.jupyter.widget-view+json": {
       "model_id": "4e460181fd504400adfa949ace530e75",
       "version_major": 2,
       "version_minor": 0
      },
      "text/plain": [
       "HBox(children=(IntProgress(value=0, description='Epoch: 40 ', max=1875, style=ProgressStyle(description_width=…"
      ]
     },
     "metadata": {},
     "output_type": "display_data"
    },
    {
     "name": "stdout",
     "output_type": "stream",
     "text": [
      "\n",
      "disc_loss\t0.6917520761489868\n",
      "acc\t0.650390625\n",
      "gen_loss\t0.8477847576141357\n",
      "fpr\t0.16015625\n",
      "cm\t[[215  41]\n",
      " [138 118]]\n"
     ]
    },
    {
     "data": {
      "application/vnd.jupyter.widget-view+json": {
       "model_id": "b5af289304ef400f97f17a085a7df548",
       "version_major": 2,
       "version_minor": 0
      },
      "text/plain": [
       "HBox(children=(IntProgress(value=0, description='Epoch: 41 ', max=1875, style=ProgressStyle(description_width=…"
      ]
     },
     "metadata": {},
     "output_type": "display_data"
    },
    {
     "name": "stdout",
     "output_type": "stream",
     "text": [
      "\n",
      "disc_loss\t0.6492515206336975\n",
      "acc\t0.70703125\n",
      "gen_loss\t0.8587601184844971\n",
      "fpr\t0.1171875\n",
      "cm\t[[226  30]\n",
      " [120 136]]\n"
     ]
    },
    {
     "data": {
      "application/vnd.jupyter.widget-view+json": {
       "model_id": "2e2f13568d3d4fb0a109319db736cc10",
       "version_major": 2,
       "version_minor": 0
      },
      "text/plain": [
       "HBox(children=(IntProgress(value=0, description='Epoch: 42 ', max=1875, style=ProgressStyle(description_width=…"
      ]
     },
     "metadata": {},
     "output_type": "display_data"
    },
    {
     "name": "stdout",
     "output_type": "stream",
     "text": [
      "\n",
      "disc_loss\t0.6755757331848145\n",
      "acc\t0.61328125\n",
      "gen_loss\t0.8458331823348999\n",
      "fpr\t0.26171875\n",
      "cm\t[[189  67]\n",
      " [131 125]]\n"
     ]
    },
    {
     "data": {
      "application/vnd.jupyter.widget-view+json": {
       "model_id": "55d531b6c0c04a9cae4b75621c0b8533",
       "version_major": 2,
       "version_minor": 0
      },
      "text/plain": [
       "HBox(children=(IntProgress(value=0, description='Epoch: 43 ', max=1875, style=ProgressStyle(description_width=…"
      ]
     },
     "metadata": {},
     "output_type": "display_data"
    },
    {
     "name": "stdout",
     "output_type": "stream",
     "text": [
      "\n",
      "disc_loss\t0.6904256939888\n",
      "acc\t0.5859375\n",
      "gen_loss\t0.7528777122497559\n",
      "fpr\t0.375\n",
      "cm\t[[160  96]\n",
      " [116 140]]\n"
     ]
    },
    {
     "data": {
      "application/vnd.jupyter.widget-view+json": {
       "model_id": "dda35f547da043dcaea49e012e97b4a8",
       "version_major": 2,
       "version_minor": 0
      },
      "text/plain": [
       "HBox(children=(IntProgress(value=0, description='Epoch: 44 ', max=1875, style=ProgressStyle(description_width=…"
      ]
     },
     "metadata": {},
     "output_type": "display_data"
    },
    {
     "name": "stdout",
     "output_type": "stream",
     "text": [
      "\n",
      "disc_loss\t0.6829605102539062\n",
      "acc\t0.6171875\n",
      "gen_loss\t0.8808258771896362\n",
      "fpr\t0.16796875\n",
      "cm\t[[213  43]\n",
      " [153 103]]\n"
     ]
    },
    {
     "data": {
      "application/vnd.jupyter.widget-view+json": {
       "model_id": "e6ccef143fe5425f8a9c2d9dbef5f29e",
       "version_major": 2,
       "version_minor": 0
      },
      "text/plain": [
       "HBox(children=(IntProgress(value=0, description='Epoch: 45 ', max=1875, style=ProgressStyle(description_width=…"
      ]
     },
     "metadata": {},
     "output_type": "display_data"
    },
    {
     "name": "stdout",
     "output_type": "stream",
     "text": [
      "\n",
      "disc_loss\t0.6814696788787842\n",
      "acc\t0.623046875\n",
      "gen_loss\t0.8875309228897095\n",
      "fpr\t0.140625\n",
      "cm\t[[220  36]\n",
      " [157  99]]\n"
     ]
    },
    {
     "data": {
      "application/vnd.jupyter.widget-view+json": {
       "model_id": "cbd2dff4b5b248a5a48fd07d4a4d8e4e",
       "version_major": 2,
       "version_minor": 0
      },
      "text/plain": [
       "HBox(children=(IntProgress(value=0, description='Epoch: 46 ', max=1875, style=ProgressStyle(description_width=…"
      ]
     },
     "metadata": {},
     "output_type": "display_data"
    },
    {
     "name": "stdout",
     "output_type": "stream",
     "text": [
      "\n",
      "disc_loss\t0.6975196599960327\n",
      "acc\t0.625\n",
      "gen_loss\t0.8819181323051453\n",
      "fpr\t0.12890625\n",
      "cm\t[[223  33]\n",
      " [159  97]]\n"
     ]
    },
    {
     "data": {
      "application/vnd.jupyter.widget-view+json": {
       "model_id": "2022fe1d06634df7917b8d41fcb7d71b",
       "version_major": 2,
       "version_minor": 0
      },
      "text/plain": [
       "HBox(children=(IntProgress(value=0, description='Epoch: 47 ', max=1875, style=ProgressStyle(description_width=…"
      ]
     },
     "metadata": {},
     "output_type": "display_data"
    },
    {
     "name": "stdout",
     "output_type": "stream",
     "text": [
      "\n",
      "disc_loss\t0.7041809558868408\n",
      "acc\t0.603515625\n",
      "gen_loss\t0.8942817449569702\n",
      "fpr\t0.0859375\n",
      "cm\t[[234  22]\n",
      " [181  75]]\n"
     ]
    },
    {
     "data": {
      "application/vnd.jupyter.widget-view+json": {
       "model_id": "05a6d262958d4341bf1b6c0c2ef09fe9",
       "version_major": 2,
       "version_minor": 0
      },
      "text/plain": [
       "HBox(children=(IntProgress(value=0, description='Epoch: 48 ', max=1875, style=ProgressStyle(description_width=…"
      ]
     },
     "metadata": {},
     "output_type": "display_data"
    },
    {
     "name": "stdout",
     "output_type": "stream",
     "text": [
      "\n",
      "disc_loss\t0.6969211101531982\n",
      "acc\t0.583984375\n",
      "gen_loss\t0.8086501359939575\n",
      "fpr\t0.3046875\n",
      "cm\t[[178  78]\n",
      " [135 121]]\n"
     ]
    },
    {
     "data": {
      "application/vnd.jupyter.widget-view+json": {
       "model_id": "3f2165aa2d614b50aac3823269bc624e",
       "version_major": 2,
       "version_minor": 0
      },
      "text/plain": [
       "HBox(children=(IntProgress(value=0, description='Epoch: 49 ', max=1875, style=ProgressStyle(description_width=…"
      ]
     },
     "metadata": {},
     "output_type": "display_data"
    },
    {
     "name": "stdout",
     "output_type": "stream",
     "text": [
      "\n",
      "disc_loss\t0.6477481722831726\n",
      "acc\t0.673828125\n",
      "gen_loss\t0.8458493947982788\n",
      "fpr\t0.16796875\n",
      "cm\t[[213  43]\n",
      " [124 132]]\n"
     ]
    },
    {
     "data": {
      "application/vnd.jupyter.widget-view+json": {
       "model_id": "11200ddeadf649e9b8a2c79f75a6e9c4",
       "version_major": 2,
       "version_minor": 0
      },
      "text/plain": [
       "HBox(children=(IntProgress(value=0, description='Epoch: 50 ', max=1875, style=ProgressStyle(description_width=…"
      ]
     },
     "metadata": {},
     "output_type": "display_data"
    },
    {
     "name": "stdout",
     "output_type": "stream",
     "text": [
      "\n",
      "disc_loss\t0.6776022911071777\n",
      "acc\t0.630859375\n",
      "gen_loss\t0.8555896878242493\n",
      "fpr\t0.1640625\n",
      "cm\t[[214  42]\n",
      " [147 109]]\n"
     ]
    },
    {
     "data": {
      "application/vnd.jupyter.widget-view+json": {
       "model_id": "e51c65ec5e5e42adbe9811220ffff1ce",
       "version_major": 2,
       "version_minor": 0
      },
      "text/plain": [
       "HBox(children=(IntProgress(value=0, description='Epoch: 51 ', max=1875, style=ProgressStyle(description_width=…"
      ]
     },
     "metadata": {},
     "output_type": "display_data"
    },
    {
     "name": "stdout",
     "output_type": "stream",
     "text": [
      "\n",
      "disc_loss\t0.6640923619270325\n",
      "acc\t0.58203125\n",
      "gen_loss\t0.74681556224823\n",
      "fpr\t0.44140625\n",
      "cm\t[[143 113]\n",
      " [101 155]]\n"
     ]
    },
    {
     "data": {
      "application/vnd.jupyter.widget-view+json": {
       "model_id": "db0c68a564c245a08032de619cbc6d3f",
       "version_major": 2,
       "version_minor": 0
      },
      "text/plain": [
       "HBox(children=(IntProgress(value=0, description='Epoch: 52 ', max=1875, style=ProgressStyle(description_width=…"
      ]
     },
     "metadata": {},
     "output_type": "display_data"
    },
    {
     "name": "stdout",
     "output_type": "stream",
     "text": [
      "\n",
      "disc_loss\t0.7120921611785889\n",
      "acc\t0.5546875\n",
      "gen_loss\t0.7500028610229492\n",
      "fpr\t0.37109375\n",
      "cm\t[[161  95]\n",
      " [133 123]]\n"
     ]
    },
    {
     "data": {
      "application/vnd.jupyter.widget-view+json": {
       "model_id": "304dbf6f81b54716a6a285ed8d54e762",
       "version_major": 2,
       "version_minor": 0
      },
      "text/plain": [
       "HBox(children=(IntProgress(value=0, description='Epoch: 53 ', max=1875, style=ProgressStyle(description_width=…"
      ]
     },
     "metadata": {},
     "output_type": "display_data"
    },
    {
     "name": "stdout",
     "output_type": "stream",
     "text": [
      "\n",
      "disc_loss\t0.7230689525604248\n",
      "acc\t0.517578125\n",
      "gen_loss\t0.7583619356155396\n",
      "fpr\t0.35546875\n",
      "cm\t[[165  91]\n",
      " [156 100]]\n"
     ]
    },
    {
     "data": {
      "application/vnd.jupyter.widget-view+json": {
       "model_id": "6aaae3318f674204aab0f3f6c2ca6dd6",
       "version_major": 2,
       "version_minor": 0
      },
      "text/plain": [
       "HBox(children=(IntProgress(value=0, description='Epoch: 54 ', max=1875, style=ProgressStyle(description_width=…"
      ]
     },
     "metadata": {},
     "output_type": "display_data"
    },
    {
     "name": "stdout",
     "output_type": "stream",
     "text": [
      "\n",
      "disc_loss\t0.6705210208892822\n",
      "acc\t0.58984375\n",
      "gen_loss\t0.7421935796737671\n",
      "fpr\t0.3984375\n",
      "cm\t[[154 102]\n",
      " [108 148]]\n"
     ]
    },
    {
     "data": {
      "application/vnd.jupyter.widget-view+json": {
       "model_id": "12349fe4cd3943d4a26f34af2a8644d8",
       "version_major": 2,
       "version_minor": 0
      },
      "text/plain": [
       "HBox(children=(IntProgress(value=0, description='Epoch: 55 ', max=1875, style=ProgressStyle(description_width=…"
      ]
     },
     "metadata": {},
     "output_type": "display_data"
    },
    {
     "name": "stdout",
     "output_type": "stream",
     "text": [
      "\n",
      "disc_loss\t0.6891655921936035\n",
      "acc\t0.5703125\n",
      "gen_loss\t0.6998237371444702\n",
      "fpr\t0.5\n",
      "cm\t[[128 128]\n",
      " [ 92 164]]\n"
     ]
    },
    {
     "data": {
      "application/vnd.jupyter.widget-view+json": {
       "model_id": "3169d57cf6f14568bc50cd1fa8244469",
       "version_major": 2,
       "version_minor": 0
      },
      "text/plain": [
       "HBox(children=(IntProgress(value=0, description='Epoch: 56 ', max=1875, style=ProgressStyle(description_width=…"
      ]
     },
     "metadata": {},
     "output_type": "display_data"
    },
    {
     "name": "stdout",
     "output_type": "stream",
     "text": [
      "\n",
      "disc_loss\t0.654251754283905\n",
      "acc\t0.66015625\n",
      "gen_loss\t0.8747869729995728\n",
      "fpr\t0.15625\n",
      "cm\t[[216  40]\n",
      " [134 122]]\n"
     ]
    },
    {
     "data": {
      "application/vnd.jupyter.widget-view+json": {
       "model_id": "8b0ba5e06c084ea2807f3231187dcd73",
       "version_major": 2,
       "version_minor": 0
      },
      "text/plain": [
       "HBox(children=(IntProgress(value=0, description='Epoch: 57 ', max=1875, style=ProgressStyle(description_width=…"
      ]
     },
     "metadata": {},
     "output_type": "display_data"
    },
    {
     "name": "stdout",
     "output_type": "stream",
     "text": [
      "\n",
      "disc_loss\t0.7015928626060486\n",
      "acc\t0.591796875\n",
      "gen_loss\t0.8647906184196472\n",
      "fpr\t0.1875\n",
      "cm\t[[208  48]\n",
      " [161  95]]\n"
     ]
    },
    {
     "data": {
      "application/vnd.jupyter.widget-view+json": {
       "model_id": "bbd8f39d420f4c69a8f07a87aace84ba",
       "version_major": 2,
       "version_minor": 0
      },
      "text/plain": [
       "HBox(children=(IntProgress(value=0, description='Epoch: 58 ', max=1875, style=ProgressStyle(description_width=…"
      ]
     },
     "metadata": {},
     "output_type": "display_data"
    },
    {
     "name": "stdout",
     "output_type": "stream",
     "text": [
      "\n",
      "disc_loss\t0.6868420243263245\n",
      "acc\t0.634765625\n",
      "gen_loss\t0.8579816818237305\n",
      "fpr\t0.1171875\n",
      "cm\t[[226  30]\n",
      " [157  99]]\n"
     ]
    },
    {
     "data": {
      "application/vnd.jupyter.widget-view+json": {
       "model_id": "e7c0ffd00a914175ad71992171d55f79",
       "version_major": 2,
       "version_minor": 0
      },
      "text/plain": [
       "HBox(children=(IntProgress(value=0, description='Epoch: 59 ', max=1875, style=ProgressStyle(description_width=…"
      ]
     },
     "metadata": {},
     "output_type": "display_data"
    },
    {
     "name": "stdout",
     "output_type": "stream",
     "text": [
      "\n",
      "disc_loss\t0.6745630502700806\n",
      "acc\t0.625\n",
      "gen_loss\t0.7868677377700806\n",
      "fpr\t0.29296875\n",
      "cm\t[[181  75]\n",
      " [117 139]]\n"
     ]
    },
    {
     "data": {
      "application/vnd.jupyter.widget-view+json": {
       "model_id": "4c118bbd3ba74a76b4a0bc298190582a",
       "version_major": 2,
       "version_minor": 0
      },
      "text/plain": [
       "HBox(children=(IntProgress(value=0, description='Epoch: 60 ', max=1875, style=ProgressStyle(description_width=…"
      ]
     },
     "metadata": {},
     "output_type": "display_data"
    },
    {
     "name": "stdout",
     "output_type": "stream",
     "text": [
      "\n",
      "disc_loss\t0.6868731379508972\n",
      "acc\t0.529296875\n",
      "gen_loss\t0.699561595916748\n",
      "fpr\t0.53515625\n",
      "cm\t[[119 137]\n",
      " [104 152]]\n"
     ]
    },
    {
     "data": {
      "application/vnd.jupyter.widget-view+json": {
       "model_id": "b7d0335b32e441d0b13f2bd4c76c3beb",
       "version_major": 2,
       "version_minor": 0
      },
      "text/plain": [
       "HBox(children=(IntProgress(value=0, description='Epoch: 61 ', max=1875, style=ProgressStyle(description_width=…"
      ]
     },
     "metadata": {},
     "output_type": "display_data"
    },
    {
     "name": "stdout",
     "output_type": "stream",
     "text": [
      "\n",
      "disc_loss\t0.6594446301460266\n",
      "acc\t0.638671875\n",
      "gen_loss\t0.7632533311843872\n",
      "fpr\t0.33203125\n",
      "cm\t[[171  85]\n",
      " [100 156]]\n"
     ]
    },
    {
     "data": {
      "application/vnd.jupyter.widget-view+json": {
       "model_id": "e3b2e5b515224c89ae4791828cedc806",
       "version_major": 2,
       "version_minor": 0
      },
      "text/plain": [
       "HBox(children=(IntProgress(value=0, description='Epoch: 62 ', max=1875, style=ProgressStyle(description_width=…"
      ]
     },
     "metadata": {},
     "output_type": "display_data"
    },
    {
     "name": "stdout",
     "output_type": "stream",
     "text": [
      "\n",
      "disc_loss\t0.6743415594100952\n",
      "acc\t0.626953125\n",
      "gen_loss\t0.8119843006134033\n",
      "fpr\t0.25\n",
      "cm\t[[192  64]\n",
      " [127 129]]\n"
     ]
    },
    {
     "data": {
      "application/vnd.jupyter.widget-view+json": {
       "model_id": "d3589125fa384a70b949a97ed32b11ba",
       "version_major": 2,
       "version_minor": 0
      },
      "text/plain": [
       "HBox(children=(IntProgress(value=0, description='Epoch: 63 ', max=1875, style=ProgressStyle(description_width=…"
      ]
     },
     "metadata": {},
     "output_type": "display_data"
    },
    {
     "name": "stdout",
     "output_type": "stream",
     "text": [
      "\n",
      "disc_loss\t0.6496677994728088\n",
      "acc\t0.59375\n",
      "gen_loss\t0.7107513546943665\n",
      "fpr\t0.51953125\n",
      "cm\t[[123 133]\n",
      " [ 75 181]]\n"
     ]
    },
    {
     "data": {
      "application/vnd.jupyter.widget-view+json": {
       "model_id": "31d50264d61540e3b25efd897ac912c7",
       "version_major": 2,
       "version_minor": 0
      },
      "text/plain": [
       "HBox(children=(IntProgress(value=0, description='Epoch: 64 ', max=1875, style=ProgressStyle(description_width=…"
      ]
     },
     "metadata": {},
     "output_type": "display_data"
    },
    {
     "name": "stdout",
     "output_type": "stream",
     "text": [
      "\n",
      "disc_loss\t0.6706307530403137\n",
      "acc\t0.6640625\n",
      "gen_loss\t0.9946479797363281\n",
      "fpr\t0.05859375\n",
      "cm\t[[241  15]\n",
      " [157  99]]\n"
     ]
    },
    {
     "data": {
      "application/vnd.jupyter.widget-view+json": {
       "model_id": "e9ce533060af4004a44cbbdece4ab975",
       "version_major": 2,
       "version_minor": 0
      },
      "text/plain": [
       "HBox(children=(IntProgress(value=0, description='Epoch: 65 ', max=1875, style=ProgressStyle(description_width=…"
      ]
     },
     "metadata": {},
     "output_type": "display_data"
    },
    {
     "name": "stdout",
     "output_type": "stream",
     "text": [
      "\n",
      "disc_loss\t0.6517534255981445\n",
      "acc\t0.63671875\n",
      "gen_loss\t0.7505178451538086\n",
      "fpr\t0.359375\n",
      "cm\t[[164  92]\n",
      " [ 94 162]]\n"
     ]
    },
    {
     "data": {
      "application/vnd.jupyter.widget-view+json": {
       "model_id": "0ce995d670a14d81babb5b682bca6397",
       "version_major": 2,
       "version_minor": 0
      },
      "text/plain": [
       "HBox(children=(IntProgress(value=0, description='Epoch: 66 ', max=1875, style=ProgressStyle(description_width=…"
      ]
     },
     "metadata": {},
     "output_type": "display_data"
    },
    {
     "name": "stdout",
     "output_type": "stream",
     "text": [
      "\n",
      "disc_loss\t0.6636611819267273\n",
      "acc\t0.615234375\n",
      "gen_loss\t0.736474871635437\n",
      "fpr\t0.39453125\n",
      "cm\t[[155 101]\n",
      " [ 96 160]]\n"
     ]
    },
    {
     "data": {
      "application/vnd.jupyter.widget-view+json": {
       "model_id": "2b06344bb15448e1b2ea9da34a5094b7",
       "version_major": 2,
       "version_minor": 0
      },
      "text/plain": [
       "HBox(children=(IntProgress(value=0, description='Epoch: 67 ', max=1875, style=ProgressStyle(description_width=…"
      ]
     },
     "metadata": {},
     "output_type": "display_data"
    },
    {
     "name": "stdout",
     "output_type": "stream",
     "text": [
      "\n",
      "disc_loss\t0.6554092168807983\n",
      "acc\t0.669921875\n",
      "gen_loss\t0.889590322971344\n",
      "fpr\t0.1171875\n",
      "cm\t[[226  30]\n",
      " [139 117]]\n"
     ]
    },
    {
     "data": {
      "application/vnd.jupyter.widget-view+json": {
       "model_id": "50bf6f246b944afe890166ee7ad766d8",
       "version_major": 2,
       "version_minor": 0
      },
      "text/plain": [
       "HBox(children=(IntProgress(value=0, description='Epoch: 68 ', max=1875, style=ProgressStyle(description_width=…"
      ]
     },
     "metadata": {},
     "output_type": "display_data"
    },
    {
     "name": "stdout",
     "output_type": "stream",
     "text": [
      "\n",
      "disc_loss\t0.6730808615684509\n",
      "acc\t0.6171875\n",
      "gen_loss\t0.8585600852966309\n",
      "fpr\t0.17578125\n",
      "cm\t[[211  45]\n",
      " [151 105]]\n"
     ]
    },
    {
     "data": {
      "application/vnd.jupyter.widget-view+json": {
       "model_id": "1bdef59d2e174866a6a3f71cf5572919",
       "version_major": 2,
       "version_minor": 0
      },
      "text/plain": [
       "HBox(children=(IntProgress(value=0, description='Epoch: 69 ', max=1875, style=ProgressStyle(description_width=…"
      ]
     },
     "metadata": {},
     "output_type": "display_data"
    },
    {
     "name": "stdout",
     "output_type": "stream",
     "text": [
      "\n",
      "disc_loss\t0.6613798141479492\n",
      "acc\t0.669921875\n",
      "gen_loss\t0.8640068769454956\n",
      "fpr\t0.140625\n",
      "cm\t[[220  36]\n",
      " [133 123]]\n"
     ]
    },
    {
     "data": {
      "application/vnd.jupyter.widget-view+json": {
       "model_id": "b6150fc72f1c48a1abee68b7c8049e08",
       "version_major": 2,
       "version_minor": 0
      },
      "text/plain": [
       "HBox(children=(IntProgress(value=0, description='Epoch: 70 ', max=1875, style=ProgressStyle(description_width=…"
      ]
     },
     "metadata": {},
     "output_type": "display_data"
    },
    {
     "name": "stdout",
     "output_type": "stream",
     "text": [
      "\n",
      "disc_loss\t0.6920202970504761\n",
      "acc\t0.607421875\n",
      "gen_loss\t0.8273632526397705\n",
      "fpr\t0.1796875\n",
      "cm\t[[210  46]\n",
      " [155 101]]\n"
     ]
    },
    {
     "data": {
      "application/vnd.jupyter.widget-view+json": {
       "model_id": "840ba7a756d44f98b23a27e56d0c2354",
       "version_major": 2,
       "version_minor": 0
      },
      "text/plain": [
       "HBox(children=(IntProgress(value=0, description='Epoch: 71 ', max=1875, style=ProgressStyle(description_width=…"
      ]
     },
     "metadata": {},
     "output_type": "display_data"
    },
    {
     "name": "stdout",
     "output_type": "stream",
     "text": [
      "\n",
      "disc_loss\t0.6420413851737976\n",
      "acc\t0.666015625\n",
      "gen_loss\t0.8351960182189941\n",
      "fpr\t0.19921875\n",
      "cm\t[[205  51]\n",
      " [120 136]]\n"
     ]
    },
    {
     "data": {
      "application/vnd.jupyter.widget-view+json": {
       "model_id": "a5a48e7b1e574f6d930d2a1e1732e0a8",
       "version_major": 2,
       "version_minor": 0
      },
      "text/plain": [
       "HBox(children=(IntProgress(value=0, description='Epoch: 72 ', max=1875, style=ProgressStyle(description_width=…"
      ]
     },
     "metadata": {},
     "output_type": "display_data"
    },
    {
     "name": "stdout",
     "output_type": "stream",
     "text": [
      "\n",
      "disc_loss\t0.6938274502754211\n",
      "acc\t0.64453125\n",
      "gen_loss\t0.8860897421836853\n",
      "fpr\t0.11328125\n",
      "cm\t[[227  29]\n",
      " [153 103]]\n"
     ]
    },
    {
     "data": {
      "application/vnd.jupyter.widget-view+json": {
       "model_id": "f6335c88c20b48eba55a5d5833a05ead",
       "version_major": 2,
       "version_minor": 0
      },
      "text/plain": [
       "HBox(children=(IntProgress(value=0, description='Epoch: 73 ', max=1875, style=ProgressStyle(description_width=…"
      ]
     },
     "metadata": {},
     "output_type": "display_data"
    },
    {
     "name": "stdout",
     "output_type": "stream",
     "text": [
      "\n",
      "disc_loss\t0.6752756237983704\n",
      "acc\t0.638671875\n",
      "gen_loss\t0.8699567914009094\n",
      "fpr\t0.1640625\n",
      "cm\t[[214  42]\n",
      " [143 113]]\n"
     ]
    },
    {
     "data": {
      "application/vnd.jupyter.widget-view+json": {
       "model_id": "22b65afda5e14b5098ed5ef84be0d869",
       "version_major": 2,
       "version_minor": 0
      },
      "text/plain": [
       "HBox(children=(IntProgress(value=0, description='Epoch: 74 ', max=1875, style=ProgressStyle(description_width=…"
      ]
     },
     "metadata": {},
     "output_type": "display_data"
    },
    {
     "name": "stdout",
     "output_type": "stream",
     "text": [
      "\n",
      "disc_loss\t0.663301408290863\n",
      "acc\t0.650390625\n",
      "gen_loss\t0.8530693054199219\n",
      "fpr\t0.15625\n",
      "cm\t[[216  40]\n",
      " [139 117]]\n"
     ]
    },
    {
     "data": {
      "application/vnd.jupyter.widget-view+json": {
       "model_id": "e3224c9be1dd4634af159642a5d1e849",
       "version_major": 2,
       "version_minor": 0
      },
      "text/plain": [
       "HBox(children=(IntProgress(value=0, description='Epoch: 75 ', max=1875, style=ProgressStyle(description_width=…"
      ]
     },
     "metadata": {},
     "output_type": "display_data"
    },
    {
     "name": "stdout",
     "output_type": "stream",
     "text": [
      "\n",
      "disc_loss\t0.6946398019790649\n",
      "acc\t0.583984375\n",
      "gen_loss\t0.7910745143890381\n",
      "fpr\t0.27734375\n",
      "cm\t[[185  71]\n",
      " [142 114]]\n"
     ]
    },
    {
     "data": {
      "application/vnd.jupyter.widget-view+json": {
       "model_id": "eb78ba41e49c4c83baaf4dca9f4b560d",
       "version_major": 2,
       "version_minor": 0
      },
      "text/plain": [
       "HBox(children=(IntProgress(value=0, description='Epoch: 76 ', max=1875, style=ProgressStyle(description_width=…"
      ]
     },
     "metadata": {},
     "output_type": "display_data"
    },
    {
     "name": "stdout",
     "output_type": "stream",
     "text": [
      "\n",
      "disc_loss\t0.652100682258606\n",
      "acc\t0.66015625\n",
      "gen_loss\t0.8163768649101257\n",
      "fpr\t0.21875\n",
      "cm\t[[200  56]\n",
      " [118 138]]\n"
     ]
    },
    {
     "data": {
      "application/vnd.jupyter.widget-view+json": {
       "model_id": "3c2d5b41f44543e59a544e6e6aacf9e0",
       "version_major": 2,
       "version_minor": 0
      },
      "text/plain": [
       "HBox(children=(IntProgress(value=0, description='Epoch: 77 ', max=1875, style=ProgressStyle(description_width=…"
      ]
     },
     "metadata": {},
     "output_type": "display_data"
    },
    {
     "name": "stdout",
     "output_type": "stream",
     "text": [
      "\n",
      "disc_loss\t0.6419501304626465\n",
      "acc\t0.658203125\n",
      "gen_loss\t0.792192280292511\n",
      "fpr\t0.28125\n",
      "cm\t[[184  72]\n",
      " [103 153]]\n"
     ]
    },
    {
     "data": {
      "application/vnd.jupyter.widget-view+json": {
       "model_id": "66b12cc72a9c43c8bc05ae2fc3702162",
       "version_major": 2,
       "version_minor": 0
      },
      "text/plain": [
       "HBox(children=(IntProgress(value=0, description='Epoch: 78 ', max=1875, style=ProgressStyle(description_width=…"
      ]
     },
     "metadata": {},
     "output_type": "display_data"
    },
    {
     "name": "stdout",
     "output_type": "stream",
     "text": [
      "\n",
      "disc_loss\t0.6625699996948242\n",
      "acc\t0.63671875\n",
      "gen_loss\t0.7944121360778809\n",
      "fpr\t0.265625\n",
      "cm\t[[188  68]\n",
      " [118 138]]\n"
     ]
    },
    {
     "data": {
      "application/vnd.jupyter.widget-view+json": {
       "model_id": "bc55b051d23c48428279c9f47fea7e77",
       "version_major": 2,
       "version_minor": 0
      },
      "text/plain": [
       "HBox(children=(IntProgress(value=0, description='Epoch: 79 ', max=1875, style=ProgressStyle(description_width=…"
      ]
     },
     "metadata": {},
     "output_type": "display_data"
    },
    {
     "name": "stdout",
     "output_type": "stream",
     "text": [
      "\n",
      "disc_loss\t0.6414347887039185\n",
      "acc\t0.673828125\n",
      "gen_loss\t0.859687328338623\n",
      "fpr\t0.16015625\n",
      "cm\t[[215  41]\n",
      " [126 130]]\n"
     ]
    },
    {
     "data": {
      "application/vnd.jupyter.widget-view+json": {
       "model_id": "b29abb092311419bbe913a94359cd465",
       "version_major": 2,
       "version_minor": 0
      },
      "text/plain": [
       "HBox(children=(IntProgress(value=0, description='Epoch: 80 ', max=1875, style=ProgressStyle(description_width=…"
      ]
     },
     "metadata": {},
     "output_type": "display_data"
    },
    {
     "name": "stdout",
     "output_type": "stream",
     "text": [
      "\n",
      "disc_loss\t0.6659866571426392\n",
      "acc\t0.599609375\n",
      "gen_loss\t0.924453854560852\n",
      "fpr\t0.11328125\n",
      "cm\t[[227  29]\n",
      " [176  80]]\n"
     ]
    },
    {
     "data": {
      "application/vnd.jupyter.widget-view+json": {
       "model_id": "b7c76e5c29234c6b8af56a9960edc71a",
       "version_major": 2,
       "version_minor": 0
      },
      "text/plain": [
       "HBox(children=(IntProgress(value=0, description='Epoch: 81 ', max=1875, style=ProgressStyle(description_width=…"
      ]
     },
     "metadata": {},
     "output_type": "display_data"
    },
    {
     "name": "stdout",
     "output_type": "stream",
     "text": [
      "\n",
      "disc_loss\t0.6439955830574036\n",
      "acc\t0.646484375\n",
      "gen_loss\t0.8112369179725647\n",
      "fpr\t0.25390625\n",
      "cm\t[[191  65]\n",
      " [116 140]]\n"
     ]
    },
    {
     "data": {
      "application/vnd.jupyter.widget-view+json": {
       "model_id": "7570baecd7264f06b8f367623631eced",
       "version_major": 2,
       "version_minor": 0
      },
      "text/plain": [
       "HBox(children=(IntProgress(value=0, description='Epoch: 82 ', max=1875, style=ProgressStyle(description_width=…"
      ]
     },
     "metadata": {},
     "output_type": "display_data"
    },
    {
     "name": "stdout",
     "output_type": "stream",
     "text": [
      "\n",
      "disc_loss\t0.6688951849937439\n",
      "acc\t0.650390625\n",
      "gen_loss\t0.7980036735534668\n",
      "fpr\t0.1953125\n",
      "cm\t[[206  50]\n",
      " [129 127]]\n"
     ]
    },
    {
     "data": {
      "application/vnd.jupyter.widget-view+json": {
       "model_id": "b93f4c7d674e47e7b451d8e0fedfd77a",
       "version_major": 2,
       "version_minor": 0
      },
      "text/plain": [
       "HBox(children=(IntProgress(value=0, description='Epoch: 83 ', max=1875, style=ProgressStyle(description_width=…"
      ]
     },
     "metadata": {},
     "output_type": "display_data"
    },
    {
     "name": "stdout",
     "output_type": "stream",
     "text": [
      "\n",
      "disc_loss\t0.666120707988739\n",
      "acc\t0.626953125\n",
      "gen_loss\t0.7732041478157043\n",
      "fpr\t0.3203125\n",
      "cm\t[[174  82]\n",
      " [109 147]]\n"
     ]
    },
    {
     "data": {
      "application/vnd.jupyter.widget-view+json": {
       "model_id": "38972275d4df456190313f91e06041df",
       "version_major": 2,
       "version_minor": 0
      },
      "text/plain": [
       "HBox(children=(IntProgress(value=0, description='Epoch: 84 ', max=1875, style=ProgressStyle(description_width=…"
      ]
     },
     "metadata": {},
     "output_type": "display_data"
    },
    {
     "name": "stdout",
     "output_type": "stream",
     "text": [
      "\n",
      "disc_loss\t0.64028400182724\n",
      "acc\t0.673828125\n",
      "gen_loss\t0.8545671105384827\n",
      "fpr\t0.2109375\n",
      "cm\t[[202  54]\n",
      " [113 143]]\n"
     ]
    },
    {
     "data": {
      "application/vnd.jupyter.widget-view+json": {
       "model_id": "0e87d9405c764e0c932c8d7477b009e8",
       "version_major": 2,
       "version_minor": 0
      },
      "text/plain": [
       "HBox(children=(IntProgress(value=0, description='Epoch: 85 ', max=1875, style=ProgressStyle(description_width=…"
      ]
     },
     "metadata": {},
     "output_type": "display_data"
    },
    {
     "name": "stdout",
     "output_type": "stream",
     "text": [
      "\n",
      "disc_loss\t0.647706925868988\n",
      "acc\t0.66015625\n",
      "gen_loss\t0.8077890276908875\n",
      "fpr\t0.25390625\n",
      "cm\t[[191  65]\n",
      " [109 147]]\n"
     ]
    },
    {
     "data": {
      "application/vnd.jupyter.widget-view+json": {
       "model_id": "4f99979092a54444962145d1d326cba9",
       "version_major": 2,
       "version_minor": 0
      },
      "text/plain": [
       "HBox(children=(IntProgress(value=0, description='Epoch: 86 ', max=1875, style=ProgressStyle(description_width=…"
      ]
     },
     "metadata": {},
     "output_type": "display_data"
    },
    {
     "name": "stdout",
     "output_type": "stream",
     "text": [
      "\n",
      "disc_loss\t0.6712501049041748\n",
      "acc\t0.615234375\n",
      "gen_loss\t0.8201826214790344\n",
      "fpr\t0.20703125\n",
      "cm\t[[203  53]\n",
      " [144 112]]\n"
     ]
    },
    {
     "data": {
      "application/vnd.jupyter.widget-view+json": {
       "model_id": "1f9f3c84d3754c1ca063eb215ad5c66d",
       "version_major": 2,
       "version_minor": 0
      },
      "text/plain": [
       "HBox(children=(IntProgress(value=0, description='Epoch: 87 ', max=1875, style=ProgressStyle(description_width=…"
      ]
     },
     "metadata": {},
     "output_type": "display_data"
    },
    {
     "name": "stdout",
     "output_type": "stream",
     "text": [
      "\n",
      "disc_loss\t0.6917154788970947\n",
      "acc\t0.54296875\n",
      "gen_loss\t0.6823725700378418\n",
      "fpr\t0.53125\n",
      "cm\t[[120 136]\n",
      " [ 98 158]]\n"
     ]
    },
    {
     "data": {
      "application/vnd.jupyter.widget-view+json": {
       "model_id": "0cfe162938af49eeb734a9d2a2458e5a",
       "version_major": 2,
       "version_minor": 0
      },
      "text/plain": [
       "HBox(children=(IntProgress(value=0, description='Epoch: 88 ', max=1875, style=ProgressStyle(description_width=…"
      ]
     },
     "metadata": {},
     "output_type": "display_data"
    },
    {
     "name": "stdout",
     "output_type": "stream",
     "text": [
      "\n",
      "disc_loss\t0.63826584815979\n",
      "acc\t0.65625\n",
      "gen_loss\t0.767397403717041\n",
      "fpr\t0.33203125\n",
      "cm\t[[171  85]\n",
      " [ 91 165]]\n"
     ]
    },
    {
     "data": {
      "application/vnd.jupyter.widget-view+json": {
       "model_id": "1701ad75c0c74b7cba0a43497a2e1365",
       "version_major": 2,
       "version_minor": 0
      },
      "text/plain": [
       "HBox(children=(IntProgress(value=0, description='Epoch: 89 ', max=1875, style=ProgressStyle(description_width=…"
      ]
     },
     "metadata": {},
     "output_type": "display_data"
    },
    {
     "name": "stdout",
     "output_type": "stream",
     "text": [
      "\n",
      "disc_loss\t0.6670317649841309\n",
      "acc\t0.62109375\n",
      "gen_loss\t0.8381209373474121\n",
      "fpr\t0.22265625\n",
      "cm\t[[199  57]\n",
      " [137 119]]\n"
     ]
    },
    {
     "data": {
      "application/vnd.jupyter.widget-view+json": {
       "model_id": "62a7cfa8c3dd4c96ba0cf3e4aca0a6ee",
       "version_major": 2,
       "version_minor": 0
      },
      "text/plain": [
       "HBox(children=(IntProgress(value=0, description='Epoch: 90 ', max=1875, style=ProgressStyle(description_width=…"
      ]
     },
     "metadata": {},
     "output_type": "display_data"
    },
    {
     "name": "stdout",
     "output_type": "stream",
     "text": [
      "\n",
      "disc_loss\t0.6714329719543457\n",
      "acc\t0.62109375\n",
      "gen_loss\t0.861458420753479\n",
      "fpr\t0.17578125\n",
      "cm\t[[211  45]\n",
      " [149 107]]\n"
     ]
    },
    {
     "data": {
      "application/vnd.jupyter.widget-view+json": {
       "model_id": "79b1ae01b3c049d8be816690aab500b3",
       "version_major": 2,
       "version_minor": 0
      },
      "text/plain": [
       "HBox(children=(IntProgress(value=0, description='Epoch: 91 ', max=1875, style=ProgressStyle(description_width=…"
      ]
     },
     "metadata": {},
     "output_type": "display_data"
    },
    {
     "name": "stdout",
     "output_type": "stream",
     "text": [
      "\n",
      "disc_loss\t0.6397106051445007\n",
      "acc\t0.69140625\n",
      "gen_loss\t0.845613956451416\n",
      "fpr\t0.18359375\n",
      "cm\t[[209  47]\n",
      " [111 145]]\n"
     ]
    },
    {
     "data": {
      "application/vnd.jupyter.widget-view+json": {
       "model_id": "e1ccad85ae8b4dc68754ebbbf061ea74",
       "version_major": 2,
       "version_minor": 0
      },
      "text/plain": [
       "HBox(children=(IntProgress(value=0, description='Epoch: 92 ', max=1875, style=ProgressStyle(description_width=…"
      ]
     },
     "metadata": {},
     "output_type": "display_data"
    },
    {
     "name": "stdout",
     "output_type": "stream",
     "text": [
      "\n",
      "disc_loss\t0.669105052947998\n",
      "acc\t0.607421875\n",
      "gen_loss\t0.8408803343772888\n",
      "fpr\t0.2421875\n",
      "cm\t[[194  62]\n",
      " [139 117]]\n"
     ]
    },
    {
     "data": {
      "application/vnd.jupyter.widget-view+json": {
       "model_id": "b2a0c55df94943329f663fe911464ba6",
       "version_major": 2,
       "version_minor": 0
      },
      "text/plain": [
       "HBox(children=(IntProgress(value=0, description='Epoch: 93 ', max=1875, style=ProgressStyle(description_width=…"
      ]
     },
     "metadata": {},
     "output_type": "display_data"
    },
    {
     "name": "stdout",
     "output_type": "stream",
     "text": [
      "\n",
      "disc_loss\t0.6396117210388184\n",
      "acc\t0.66796875\n",
      "gen_loss\t0.7918446063995361\n",
      "fpr\t0.31640625\n",
      "cm\t[[175  81]\n",
      " [ 89 167]]\n"
     ]
    },
    {
     "data": {
      "application/vnd.jupyter.widget-view+json": {
       "model_id": "ea4d33997fd84ddfb0ab1f5347f9ca4a",
       "version_major": 2,
       "version_minor": 0
      },
      "text/plain": [
       "HBox(children=(IntProgress(value=0, description='Epoch: 94 ', max=1875, style=ProgressStyle(description_width=…"
      ]
     },
     "metadata": {},
     "output_type": "display_data"
    },
    {
     "name": "stdout",
     "output_type": "stream",
     "text": [
      "\n",
      "disc_loss\t0.6529484391212463\n",
      "acc\t0.626953125\n",
      "gen_loss\t0.8218530416488647\n",
      "fpr\t0.25\n",
      "cm\t[[192  64]\n",
      " [127 129]]\n"
     ]
    },
    {
     "data": {
      "application/vnd.jupyter.widget-view+json": {
       "model_id": "0794561098514ce9a1c1d1de64a4d20a",
       "version_major": 2,
       "version_minor": 0
      },
      "text/plain": [
       "HBox(children=(IntProgress(value=0, description='Epoch: 95 ', max=1875, style=ProgressStyle(description_width=…"
      ]
     },
     "metadata": {},
     "output_type": "display_data"
    },
    {
     "name": "stdout",
     "output_type": "stream",
     "text": [
      "\n",
      "disc_loss\t0.6589369177818298\n",
      "acc\t0.646484375\n",
      "gen_loss\t0.8399770855903625\n",
      "fpr\t0.2109375\n",
      "cm\t[[202  54]\n",
      " [127 129]]\n"
     ]
    },
    {
     "data": {
      "application/vnd.jupyter.widget-view+json": {
       "model_id": "3d3f1e3970cb4d33b37c4f312314482c",
       "version_major": 2,
       "version_minor": 0
      },
      "text/plain": [
       "HBox(children=(IntProgress(value=0, description='Epoch: 96 ', max=1875, style=ProgressStyle(description_width=…"
      ]
     },
     "metadata": {},
     "output_type": "display_data"
    },
    {
     "name": "stdout",
     "output_type": "stream",
     "text": [
      "\n",
      "disc_loss\t0.6477174758911133\n",
      "acc\t0.658203125\n",
      "gen_loss\t0.8425829410552979\n",
      "fpr\t0.18359375\n",
      "cm\t[[209  47]\n",
      " [128 128]]\n"
     ]
    },
    {
     "data": {
      "application/vnd.jupyter.widget-view+json": {
       "model_id": "311afc36582b49bca512a501fcdb9f6f",
       "version_major": 2,
       "version_minor": 0
      },
      "text/plain": [
       "HBox(children=(IntProgress(value=0, description='Epoch: 97 ', max=1875, style=ProgressStyle(description_width=…"
      ]
     },
     "metadata": {},
     "output_type": "display_data"
    },
    {
     "name": "stdout",
     "output_type": "stream",
     "text": [
      "\n",
      "disc_loss\t0.6573429107666016\n",
      "acc\t0.666015625\n",
      "gen_loss\t0.8969920873641968\n",
      "fpr\t0.08984375\n",
      "cm\t[[233  23]\n",
      " [148 108]]\n"
     ]
    },
    {
     "data": {
      "application/vnd.jupyter.widget-view+json": {
       "model_id": "abb59506dcd343239ce98234b52d059a",
       "version_major": 2,
       "version_minor": 0
      },
      "text/plain": [
       "HBox(children=(IntProgress(value=0, description='Epoch: 98 ', max=1875, style=ProgressStyle(description_width=…"
      ]
     },
     "metadata": {},
     "output_type": "display_data"
    },
    {
     "name": "stdout",
     "output_type": "stream",
     "text": [
      "\n",
      "disc_loss\t0.6489972472190857\n",
      "acc\t0.677734375\n",
      "gen_loss\t0.8641997575759888\n",
      "fpr\t0.15234375\n",
      "cm\t[[217  39]\n",
      " [126 130]]\n"
     ]
    },
    {
     "data": {
      "application/vnd.jupyter.widget-view+json": {
       "model_id": "c523fae0ab2646f5a3a748f752e5a84f",
       "version_major": 2,
       "version_minor": 0
      },
      "text/plain": [
       "HBox(children=(IntProgress(value=0, description='Epoch: 99 ', max=1875, style=ProgressStyle(description_width=…"
      ]
     },
     "metadata": {},
     "output_type": "display_data"
    },
    {
     "name": "stdout",
     "output_type": "stream",
     "text": [
      "\n",
      "disc_loss\t0.6662142276763916\n",
      "acc\t0.62890625\n",
      "gen_loss\t0.9142730236053467\n",
      "fpr\t0.125\n",
      "cm\t[[224  32]\n",
      " [158  98]]\n"
     ]
    },
    {
     "data": {
      "application/vnd.jupyter.widget-view+json": {
       "model_id": "906a1fe60c3148bb94e4df8952f70859",
       "version_major": 2,
       "version_minor": 0
      },
      "text/plain": [
       "HBox(children=(IntProgress(value=0, description='Epoch: 100 ', max=1875, style=ProgressStyle(description_width…"
      ]
     },
     "metadata": {},
     "output_type": "display_data"
    },
    {
     "name": "stdout",
     "output_type": "stream",
     "text": [
      "\n",
      "disc_loss\t0.640882670879364\n",
      "acc\t0.650390625\n",
      "gen_loss\t0.8340707421302795\n",
      "fpr\t0.23828125\n",
      "cm\t[[195  61]\n",
      " [118 138]]\n"
     ]
    },
    {
     "data": {
      "application/vnd.jupyter.widget-view+json": {
       "model_id": "c8759ce1579b42dc8eeafb7993e61b37",
       "version_major": 2,
       "version_minor": 0
      },
      "text/plain": [
       "HBox(children=(IntProgress(value=0, description='Epoch: 101 ', max=1875, style=ProgressStyle(description_width…"
      ]
     },
     "metadata": {},
     "output_type": "display_data"
    },
    {
     "name": "stdout",
     "output_type": "stream",
     "text": [
      "\n",
      "disc_loss\t0.6673248410224915\n",
      "acc\t0.62109375\n",
      "gen_loss\t0.8282862901687622\n",
      "fpr\t0.2109375\n",
      "cm\t[[202  54]\n",
      " [140 116]]\n"
     ]
    },
    {
     "data": {
      "application/vnd.jupyter.widget-view+json": {
       "model_id": "2e3ea037be6b47cc9c74d42a39b94215",
       "version_major": 2,
       "version_minor": 0
      },
      "text/plain": [
       "HBox(children=(IntProgress(value=0, description='Epoch: 102 ', max=1875, style=ProgressStyle(description_width…"
      ]
     },
     "metadata": {},
     "output_type": "display_data"
    },
    {
     "name": "stdout",
     "output_type": "stream",
     "text": [
      "\n",
      "disc_loss\t0.6569965481758118\n",
      "acc\t0.634765625\n",
      "gen_loss\t0.7567086815834045\n",
      "fpr\t0.34375\n",
      "cm\t[[168  88]\n",
      " [ 99 157]]\n"
     ]
    },
    {
     "data": {
      "application/vnd.jupyter.widget-view+json": {
       "model_id": "6d5cbb2fa62d496cbe7da21738bad3bd",
       "version_major": 2,
       "version_minor": 0
      },
      "text/plain": [
       "HBox(children=(IntProgress(value=0, description='Epoch: 103 ', max=1875, style=ProgressStyle(description_width…"
      ]
     },
     "metadata": {},
     "output_type": "display_data"
    },
    {
     "name": "stdout",
     "output_type": "stream",
     "text": [
      "\n",
      "disc_loss\t0.6248481273651123\n",
      "acc\t0.69140625\n",
      "gen_loss\t0.8244108557701111\n",
      "fpr\t0.2578125\n",
      "cm\t[[190  66]\n",
      " [ 92 164]]\n"
     ]
    },
    {
     "data": {
      "application/vnd.jupyter.widget-view+json": {
       "model_id": "4fd3b7cfd17140f5adad748482d269b8",
       "version_major": 2,
       "version_minor": 0
      },
      "text/plain": [
       "HBox(children=(IntProgress(value=0, description='Epoch: 104 ', max=1875, style=ProgressStyle(description_width…"
      ]
     },
     "metadata": {},
     "output_type": "display_data"
    },
    {
     "name": "stdout",
     "output_type": "stream",
     "text": [
      "\n",
      "disc_loss\t0.6584566831588745\n",
      "acc\t0.634765625\n",
      "gen_loss\t0.7855281233787537\n",
      "fpr\t0.3203125\n",
      "cm\t[[174  82]\n",
      " [105 151]]\n"
     ]
    },
    {
     "data": {
      "application/vnd.jupyter.widget-view+json": {
       "model_id": "5d608e2f7fef478a97fcf748701fd0af",
       "version_major": 2,
       "version_minor": 0
      },
      "text/plain": [
       "HBox(children=(IntProgress(value=0, description='Epoch: 105 ', max=1875, style=ProgressStyle(description_width…"
      ]
     },
     "metadata": {},
     "output_type": "display_data"
    },
    {
     "name": "stdout",
     "output_type": "stream",
     "text": [
      "\n",
      "disc_loss\t0.6583647727966309\n",
      "acc\t0.638671875\n",
      "gen_loss\t0.811321496963501\n",
      "fpr\t0.2265625\n",
      "cm\t[[198  58]\n",
      " [127 129]]\n"
     ]
    },
    {
     "data": {
      "application/vnd.jupyter.widget-view+json": {
       "model_id": "a779130552994652807c3929259b18d6",
       "version_major": 2,
       "version_minor": 0
      },
      "text/plain": [
       "HBox(children=(IntProgress(value=0, description='Epoch: 106 ', max=1875, style=ProgressStyle(description_width…"
      ]
     },
     "metadata": {},
     "output_type": "display_data"
    },
    {
     "name": "stdout",
     "output_type": "stream",
     "text": [
      "\n",
      "disc_loss\t0.6628488898277283\n",
      "acc\t0.6171875\n",
      "gen_loss\t0.7981208562850952\n",
      "fpr\t0.29296875\n",
      "cm\t[[181  75]\n",
      " [121 135]]\n"
     ]
    },
    {
     "data": {
      "application/vnd.jupyter.widget-view+json": {
       "model_id": "e3a89761d6594ccf8a6634e89bb45f37",
       "version_major": 2,
       "version_minor": 0
      },
      "text/plain": [
       "HBox(children=(IntProgress(value=0, description='Epoch: 107 ', max=1875, style=ProgressStyle(description_width…"
      ]
     },
     "metadata": {},
     "output_type": "display_data"
    },
    {
     "name": "stdout",
     "output_type": "stream",
     "text": [
      "\n",
      "disc_loss\t0.6504374742507935\n",
      "acc\t0.642578125\n",
      "gen_loss\t0.8523222208023071\n",
      "fpr\t0.1875\n",
      "cm\t[[208  48]\n",
      " [135 121]]\n"
     ]
    },
    {
     "data": {
      "application/vnd.jupyter.widget-view+json": {
       "model_id": "930ca0e8a4ec46a8ada77c5fd0e462e2",
       "version_major": 2,
       "version_minor": 0
      },
      "text/plain": [
       "HBox(children=(IntProgress(value=0, description='Epoch: 108 ', max=1875, style=ProgressStyle(description_width…"
      ]
     },
     "metadata": {},
     "output_type": "display_data"
    },
    {
     "name": "stdout",
     "output_type": "stream",
     "text": [
      "\n",
      "disc_loss\t0.664395809173584\n",
      "acc\t0.634765625\n",
      "gen_loss\t0.7736459970474243\n",
      "fpr\t0.3203125\n",
      "cm\t[[174  82]\n",
      " [105 151]]\n"
     ]
    },
    {
     "data": {
      "application/vnd.jupyter.widget-view+json": {
       "model_id": "c81a478fb8bb4262897347319858918f",
       "version_major": 2,
       "version_minor": 0
      },
      "text/plain": [
       "HBox(children=(IntProgress(value=0, description='Epoch: 109 ', max=1875, style=ProgressStyle(description_width…"
      ]
     },
     "metadata": {},
     "output_type": "display_data"
    },
    {
     "name": "stdout",
     "output_type": "stream",
     "text": [
      "\n",
      "disc_loss\t0.6536059975624084\n",
      "acc\t0.6484375\n",
      "gen_loss\t0.8428118228912354\n",
      "fpr\t0.19921875\n",
      "cm\t[[205  51]\n",
      " [129 127]]\n"
     ]
    },
    {
     "data": {
      "application/vnd.jupyter.widget-view+json": {
       "model_id": "81a79a9c321449ed96b6c8b6470e63f9",
       "version_major": 2,
       "version_minor": 0
      },
      "text/plain": [
       "HBox(children=(IntProgress(value=0, description='Epoch: 110 ', max=1875, style=ProgressStyle(description_width…"
      ]
     },
     "metadata": {},
     "output_type": "display_data"
    },
    {
     "name": "stdout",
     "output_type": "stream",
     "text": [
      "\n",
      "disc_loss\t0.6631540656089783\n",
      "acc\t0.630859375\n",
      "gen_loss\t0.7987682223320007\n",
      "fpr\t0.265625\n",
      "cm\t[[188  68]\n",
      " [121 135]]\n"
     ]
    },
    {
     "data": {
      "application/vnd.jupyter.widget-view+json": {
       "model_id": "151226385c81489aab9583c1c99f54b8",
       "version_major": 2,
       "version_minor": 0
      },
      "text/plain": [
       "HBox(children=(IntProgress(value=0, description='Epoch: 111 ', max=1875, style=ProgressStyle(description_width…"
      ]
     },
     "metadata": {},
     "output_type": "display_data"
    },
    {
     "name": "stdout",
     "output_type": "stream",
     "text": [
      "\n",
      "disc_loss\t0.6533571481704712\n",
      "acc\t0.654296875\n",
      "gen_loss\t0.8715348839759827\n",
      "fpr\t0.19140625\n",
      "cm\t[[207  49]\n",
      " [128 128]]\n"
     ]
    },
    {
     "data": {
      "application/vnd.jupyter.widget-view+json": {
       "model_id": "98ccb2c4e9514e6d8f1205264a54e34c",
       "version_major": 2,
       "version_minor": 0
      },
      "text/plain": [
       "HBox(children=(IntProgress(value=0, description='Epoch: 112 ', max=1875, style=ProgressStyle(description_width…"
      ]
     },
     "metadata": {},
     "output_type": "display_data"
    },
    {
     "name": "stdout",
     "output_type": "stream",
     "text": [
      "\n",
      "disc_loss\t0.6864851117134094\n",
      "acc\t0.560546875\n",
      "gen_loss\t0.7266025543212891\n",
      "fpr\t0.41015625\n",
      "cm\t[[151 105]\n",
      " [120 136]]\n"
     ]
    },
    {
     "data": {
      "application/vnd.jupyter.widget-view+json": {
       "model_id": "461962ffed91465688ea865766b33b6a",
       "version_major": 2,
       "version_minor": 0
      },
      "text/plain": [
       "HBox(children=(IntProgress(value=0, description='Epoch: 113 ', max=1875, style=ProgressStyle(description_width…"
      ]
     },
     "metadata": {},
     "output_type": "display_data"
    },
    {
     "name": "stdout",
     "output_type": "stream",
     "text": [
      "\n",
      "disc_loss\t0.6496849656105042\n",
      "acc\t0.658203125\n",
      "gen_loss\t0.7486305832862854\n",
      "fpr\t0.38671875\n",
      "cm\t[[157  99]\n",
      " [ 76 180]]\n"
     ]
    },
    {
     "data": {
      "application/vnd.jupyter.widget-view+json": {
       "model_id": "4ff9342a2ef042afa2c44378289f4491",
       "version_major": 2,
       "version_minor": 0
      },
      "text/plain": [
       "HBox(children=(IntProgress(value=0, description='Epoch: 114 ', max=1875, style=ProgressStyle(description_width…"
      ]
     },
     "metadata": {},
     "output_type": "display_data"
    },
    {
     "name": "stdout",
     "output_type": "stream",
     "text": [
      "\n",
      "disc_loss\t0.6546710729598999\n",
      "acc\t0.64453125\n",
      "gen_loss\t0.885323703289032\n",
      "fpr\t0.12109375\n",
      "cm\t[[225  31]\n",
      " [151 105]]\n"
     ]
    },
    {
     "data": {
      "application/vnd.jupyter.widget-view+json": {
       "model_id": "0770d2d4993b4bfcae002167256f02ab",
       "version_major": 2,
       "version_minor": 0
      },
      "text/plain": [
       "HBox(children=(IntProgress(value=0, description='Epoch: 115 ', max=1875, style=ProgressStyle(description_width…"
      ]
     },
     "metadata": {},
     "output_type": "display_data"
    },
    {
     "name": "stdout",
     "output_type": "stream",
     "text": [
      "\n",
      "disc_loss\t0.6467927098274231\n",
      "acc\t0.63671875\n",
      "gen_loss\t0.754638671875\n",
      "fpr\t0.375\n",
      "cm\t[[160  96]\n",
      " [ 90 166]]\n"
     ]
    },
    {
     "data": {
      "application/vnd.jupyter.widget-view+json": {
       "model_id": "b05e101247f74252bab4396f6e098302",
       "version_major": 2,
       "version_minor": 0
      },
      "text/plain": [
       "HBox(children=(IntProgress(value=0, description='Epoch: 116 ', max=1875, style=ProgressStyle(description_width…"
      ]
     },
     "metadata": {},
     "output_type": "display_data"
    },
    {
     "name": "stdout",
     "output_type": "stream",
     "text": [
      "\n",
      "disc_loss\t0.670407772064209\n",
      "acc\t0.591796875\n",
      "gen_loss\t0.7862753868103027\n",
      "fpr\t0.30859375\n",
      "cm\t[[177  79]\n",
      " [130 126]]\n"
     ]
    },
    {
     "data": {
      "application/vnd.jupyter.widget-view+json": {
       "model_id": "8abfeeeb18a54f16bee901ff47f38081",
       "version_major": 2,
       "version_minor": 0
      },
      "text/plain": [
       "HBox(children=(IntProgress(value=0, description='Epoch: 117 ', max=1875, style=ProgressStyle(description_width…"
      ]
     },
     "metadata": {},
     "output_type": "display_data"
    },
    {
     "name": "stdout",
     "output_type": "stream",
     "text": [
      "\n",
      "disc_loss\t0.6259581446647644\n",
      "acc\t0.70703125\n",
      "gen_loss\t0.8306037187576294\n",
      "fpr\t0.1953125\n",
      "cm\t[[206  50]\n",
      " [100 156]]\n"
     ]
    },
    {
     "data": {
      "application/vnd.jupyter.widget-view+json": {
       "model_id": "4952c37b99054fdbb84c04ddbb3c1d97",
       "version_major": 2,
       "version_minor": 0
      },
      "text/plain": [
       "HBox(children=(IntProgress(value=0, description='Epoch: 118 ', max=1875, style=ProgressStyle(description_width…"
      ]
     },
     "metadata": {},
     "output_type": "display_data"
    },
    {
     "name": "stdout",
     "output_type": "stream",
     "text": [
      "\n",
      "disc_loss\t0.6315957903862\n",
      "acc\t0.685546875\n",
      "gen_loss\t0.8739564418792725\n",
      "fpr\t0.16015625\n",
      "cm\t[[215  41]\n",
      " [120 136]]\n"
     ]
    },
    {
     "data": {
      "application/vnd.jupyter.widget-view+json": {
       "model_id": "7cfff6b4c4f5403fb5ccf3555c611d42",
       "version_major": 2,
       "version_minor": 0
      },
      "text/plain": [
       "HBox(children=(IntProgress(value=0, description='Epoch: 119 ', max=1875, style=ProgressStyle(description_width…"
      ]
     },
     "metadata": {},
     "output_type": "display_data"
    },
    {
     "name": "stdout",
     "output_type": "stream",
     "text": [
      "\n",
      "disc_loss\t0.6506605744361877\n",
      "acc\t0.658203125\n",
      "gen_loss\t0.8154268860816956\n",
      "fpr\t0.203125\n",
      "cm\t[[204  52]\n",
      " [123 133]]\n"
     ]
    },
    {
     "data": {
      "application/vnd.jupyter.widget-view+json": {
       "model_id": "bc521b46115d4aef86b68b79a1df857e",
       "version_major": 2,
       "version_minor": 0
      },
      "text/plain": [
       "HBox(children=(IntProgress(value=0, description='Epoch: 120 ', max=1875, style=ProgressStyle(description_width…"
      ]
     },
     "metadata": {},
     "output_type": "display_data"
    },
    {
     "name": "stdout",
     "output_type": "stream",
     "text": [
      "\n",
      "disc_loss\t0.6537308096885681\n",
      "acc\t0.646484375\n",
      "gen_loss\t0.8077894449234009\n",
      "fpr\t0.20703125\n",
      "cm\t[[203  53]\n",
      " [128 128]]\n"
     ]
    },
    {
     "data": {
      "application/vnd.jupyter.widget-view+json": {
       "model_id": "5b15a869f0e34417843a72a5f7f0e539",
       "version_major": 2,
       "version_minor": 0
      },
      "text/plain": [
       "HBox(children=(IntProgress(value=0, description='Epoch: 121 ', max=1875, style=ProgressStyle(description_width…"
      ]
     },
     "metadata": {},
     "output_type": "display_data"
    },
    {
     "name": "stdout",
     "output_type": "stream",
     "text": [
      "\n",
      "disc_loss\t0.6541385054588318\n",
      "acc\t0.654296875\n",
      "gen_loss\t0.7794443368911743\n",
      "fpr\t0.26171875\n",
      "cm\t[[189  67]\n",
      " [110 146]]\n"
     ]
    },
    {
     "data": {
      "application/vnd.jupyter.widget-view+json": {
       "model_id": "d20883922ebe45bfbf777e0e7ba04039",
       "version_major": 2,
       "version_minor": 0
      },
      "text/plain": [
       "HBox(children=(IntProgress(value=0, description='Epoch: 122 ', max=1875, style=ProgressStyle(description_width…"
      ]
     },
     "metadata": {},
     "output_type": "display_data"
    },
    {
     "name": "stdout",
     "output_type": "stream",
     "text": [
      "\n",
      "disc_loss\t0.6339436173439026\n",
      "acc\t0.66015625\n",
      "gen_loss\t0.8076959848403931\n",
      "fpr\t0.25390625\n",
      "cm\t[[191  65]\n",
      " [109 147]]\n"
     ]
    },
    {
     "data": {
      "application/vnd.jupyter.widget-view+json": {
       "model_id": "aa8230014c5e47c884991e56064d04dc",
       "version_major": 2,
       "version_minor": 0
      },
      "text/plain": [
       "HBox(children=(IntProgress(value=0, description='Epoch: 123 ', max=1875, style=ProgressStyle(description_width…"
      ]
     },
     "metadata": {},
     "output_type": "display_data"
    },
    {
     "name": "stdout",
     "output_type": "stream",
     "text": [
      "\n",
      "disc_loss\t0.6481941342353821\n",
      "acc\t0.650390625\n",
      "gen_loss\t0.7723274827003479\n",
      "fpr\t0.3203125\n",
      "cm\t[[174  82]\n",
      " [ 97 159]]\n"
     ]
    },
    {
     "data": {
      "application/vnd.jupyter.widget-view+json": {
       "model_id": "ecf0cd30f05f4cb7ad3d12c05d8fc9e8",
       "version_major": 2,
       "version_minor": 0
      },
      "text/plain": [
       "HBox(children=(IntProgress(value=0, description='Epoch: 124 ', max=1875, style=ProgressStyle(description_width…"
      ]
     },
     "metadata": {},
     "output_type": "display_data"
    },
    {
     "name": "stdout",
     "output_type": "stream",
     "text": [
      "\n",
      "disc_loss\t0.6529268026351929\n",
      "acc\t0.646484375\n",
      "gen_loss\t0.8333979845046997\n",
      "fpr\t0.20703125\n",
      "cm\t[[203  53]\n",
      " [128 128]]\n"
     ]
    },
    {
     "data": {
      "application/vnd.jupyter.widget-view+json": {
       "model_id": "0d2289b1b4c34013a60871651a10a691",
       "version_major": 2,
       "version_minor": 0
      },
      "text/plain": [
       "HBox(children=(IntProgress(value=0, description='Epoch: 125 ', max=1875, style=ProgressStyle(description_width…"
      ]
     },
     "metadata": {},
     "output_type": "display_data"
    },
    {
     "name": "stdout",
     "output_type": "stream",
     "text": [
      "\n",
      "disc_loss\t0.6544214487075806\n",
      "acc\t0.64453125\n",
      "gen_loss\t0.8309492468833923\n",
      "fpr\t0.1875\n",
      "cm\t[[208  48]\n",
      " [134 122]]\n"
     ]
    },
    {
     "data": {
      "application/vnd.jupyter.widget-view+json": {
       "model_id": "3a594e3474e74affb66741c83e695374",
       "version_major": 2,
       "version_minor": 0
      },
      "text/plain": [
       "HBox(children=(IntProgress(value=0, description='Epoch: 126 ', max=1875, style=ProgressStyle(description_width…"
      ]
     },
     "metadata": {},
     "output_type": "display_data"
    },
    {
     "name": "stdout",
     "output_type": "stream",
     "text": [
      "\n",
      "disc_loss\t0.6318455934524536\n",
      "acc\t0.685546875\n",
      "gen_loss\t0.7829312682151794\n",
      "fpr\t0.29296875\n",
      "cm\t[[181  75]\n",
      " [ 86 170]]\n"
     ]
    },
    {
     "data": {
      "application/vnd.jupyter.widget-view+json": {
       "model_id": "d65b0cbd987c4169a1a765c79da3eae5",
       "version_major": 2,
       "version_minor": 0
      },
      "text/plain": [
       "HBox(children=(IntProgress(value=0, description='Epoch: 127 ', max=1875, style=ProgressStyle(description_width…"
      ]
     },
     "metadata": {},
     "output_type": "display_data"
    },
    {
     "name": "stdout",
     "output_type": "stream",
     "text": [
      "\n",
      "disc_loss\t0.6643450260162354\n",
      "acc\t0.62890625\n",
      "gen_loss\t0.7498002648353577\n",
      "fpr\t0.36328125\n",
      "cm\t[[163  93]\n",
      " [ 97 159]]\n"
     ]
    },
    {
     "data": {
      "application/vnd.jupyter.widget-view+json": {
       "model_id": "1c3861b382394516a2115d4ef04c3ef2",
       "version_major": 2,
       "version_minor": 0
      },
      "text/plain": [
       "HBox(children=(IntProgress(value=0, description='Epoch: 128 ', max=1875, style=ProgressStyle(description_width…"
      ]
     },
     "metadata": {},
     "output_type": "display_data"
    },
    {
     "name": "stdout",
     "output_type": "stream",
     "text": [
      "\n",
      "disc_loss\t0.6695498824119568\n",
      "acc\t0.654296875\n",
      "gen_loss\t0.8094603419303894\n",
      "fpr\t0.17578125\n",
      "cm\t[[211  45]\n",
      " [132 124]]\n"
     ]
    },
    {
     "data": {
      "application/vnd.jupyter.widget-view+json": {
       "model_id": "9b25ddfcbae943628696d748661f39f3",
       "version_major": 2,
       "version_minor": 0
      },
      "text/plain": [
       "HBox(children=(IntProgress(value=0, description='Epoch: 129 ', max=1875, style=ProgressStyle(description_width…"
      ]
     },
     "metadata": {},
     "output_type": "display_data"
    },
    {
     "name": "stdout",
     "output_type": "stream",
     "text": [
      "\n",
      "disc_loss\t0.6470149159431458\n",
      "acc\t0.654296875\n",
      "gen_loss\t0.7859624028205872\n",
      "fpr\t0.29296875\n",
      "cm\t[[181  75]\n",
      " [102 154]]\n"
     ]
    },
    {
     "data": {
      "application/vnd.jupyter.widget-view+json": {
       "model_id": "bb8e23b2ab38478aa75cdd911b8c0103",
       "version_major": 2,
       "version_minor": 0
      },
      "text/plain": [
       "HBox(children=(IntProgress(value=0, description='Epoch: 130 ', max=1875, style=ProgressStyle(description_width…"
      ]
     },
     "metadata": {},
     "output_type": "display_data"
    },
    {
     "name": "stdout",
     "output_type": "stream",
     "text": [
      "\n",
      "disc_loss\t0.6481665372848511\n",
      "acc\t0.64453125\n",
      "gen_loss\t0.8152279853820801\n",
      "fpr\t0.23828125\n",
      "cm\t[[195  61]\n",
      " [121 135]]\n"
     ]
    },
    {
     "data": {
      "application/vnd.jupyter.widget-view+json": {
       "model_id": "009e50ef5c6f4d7986b6cca59c0a927e",
       "version_major": 2,
       "version_minor": 0
      },
      "text/plain": [
       "HBox(children=(IntProgress(value=0, description='Epoch: 131 ', max=1875, style=ProgressStyle(description_width…"
      ]
     },
     "metadata": {},
     "output_type": "display_data"
    },
    {
     "name": "stdout",
     "output_type": "stream",
     "text": [
      "\n",
      "disc_loss\t0.664835512638092\n",
      "acc\t0.6015625\n",
      "gen_loss\t0.7251710891723633\n",
      "fpr\t0.4296875\n",
      "cm\t[[146 110]\n",
      " [ 94 162]]\n"
     ]
    },
    {
     "data": {
      "application/vnd.jupyter.widget-view+json": {
       "model_id": "9950be182d494d259ae9c24dfa0d01c3",
       "version_major": 2,
       "version_minor": 0
      },
      "text/plain": [
       "HBox(children=(IntProgress(value=0, description='Epoch: 132 ', max=1875, style=ProgressStyle(description_width…"
      ]
     },
     "metadata": {},
     "output_type": "display_data"
    },
    {
     "name": "stdout",
     "output_type": "stream",
     "text": [
      "\n",
      "disc_loss\t0.6719019412994385\n",
      "acc\t0.60546875\n",
      "gen_loss\t0.8235005140304565\n",
      "fpr\t0.203125\n",
      "cm\t[[204  52]\n",
      " [150 106]]\n"
     ]
    },
    {
     "data": {
      "application/vnd.jupyter.widget-view+json": {
       "model_id": "0ce472df5612482da62fb6bf20b22a0f",
       "version_major": 2,
       "version_minor": 0
      },
      "text/plain": [
       "HBox(children=(IntProgress(value=0, description='Epoch: 133 ', max=1875, style=ProgressStyle(description_width…"
      ]
     },
     "metadata": {},
     "output_type": "display_data"
    },
    {
     "name": "stdout",
     "output_type": "stream",
     "text": [
      "\n",
      "disc_loss\t0.6696768999099731\n",
      "acc\t0.62890625\n",
      "gen_loss\t0.8066920638084412\n",
      "fpr\t0.2265625\n",
      "cm\t[[198  58]\n",
      " [132 124]]\n"
     ]
    },
    {
     "data": {
      "application/vnd.jupyter.widget-view+json": {
       "model_id": "9e83b6d33f6b4978ab72787f829fa847",
       "version_major": 2,
       "version_minor": 0
      },
      "text/plain": [
       "HBox(children=(IntProgress(value=0, description='Epoch: 134 ', max=1875, style=ProgressStyle(description_width…"
      ]
     },
     "metadata": {},
     "output_type": "display_data"
    },
    {
     "name": "stdout",
     "output_type": "stream",
     "text": [
      "\n",
      "disc_loss\t0.6560986042022705\n",
      "acc\t0.6484375\n",
      "gen_loss\t0.8056537508964539\n",
      "fpr\t0.21484375\n",
      "cm\t[[201  55]\n",
      " [125 131]]\n"
     ]
    },
    {
     "data": {
      "application/vnd.jupyter.widget-view+json": {
       "model_id": "53afb2a6032845218501d64d1310edb7",
       "version_major": 2,
       "version_minor": 0
      },
      "text/plain": [
       "HBox(children=(IntProgress(value=0, description='Epoch: 135 ', max=1875, style=ProgressStyle(description_width…"
      ]
     },
     "metadata": {},
     "output_type": "display_data"
    },
    {
     "name": "stdout",
     "output_type": "stream",
     "text": [
      "\n",
      "disc_loss\t0.6420802474021912\n",
      "acc\t0.6640625\n",
      "gen_loss\t0.8085366487503052\n",
      "fpr\t0.23046875\n",
      "cm\t[[197  59]\n",
      " [113 143]]\n"
     ]
    },
    {
     "data": {
      "application/vnd.jupyter.widget-view+json": {
       "model_id": "bce90f85c10d432ebfe2a4232eb8f8d2",
       "version_major": 2,
       "version_minor": 0
      },
      "text/plain": [
       "HBox(children=(IntProgress(value=0, description='Epoch: 136 ', max=1875, style=ProgressStyle(description_width…"
      ]
     },
     "metadata": {},
     "output_type": "display_data"
    },
    {
     "name": "stdout",
     "output_type": "stream",
     "text": [
      "\n",
      "disc_loss\t0.6662867069244385\n",
      "acc\t0.580078125\n",
      "gen_loss\t0.8014639616012573\n",
      "fpr\t0.26953125\n",
      "cm\t[[187  69]\n",
      " [146 110]]\n"
     ]
    },
    {
     "data": {
      "application/vnd.jupyter.widget-view+json": {
       "model_id": "704cee1277fc4017afef5ac4a9d2cee0",
       "version_major": 2,
       "version_minor": 0
      },
      "text/plain": [
       "HBox(children=(IntProgress(value=0, description='Epoch: 137 ', max=1875, style=ProgressStyle(description_width…"
      ]
     },
     "metadata": {},
     "output_type": "display_data"
    },
    {
     "name": "stdout",
     "output_type": "stream",
     "text": [
      "\n",
      "disc_loss\t0.6579686403274536\n",
      "acc\t0.623046875\n",
      "gen_loss\t0.7559471726417542\n",
      "fpr\t0.38671875\n",
      "cm\t[[157  99]\n",
      " [ 94 162]]\n"
     ]
    },
    {
     "data": {
      "application/vnd.jupyter.widget-view+json": {
       "model_id": "bf4a37695f264f10a683ef2a95f102a5",
       "version_major": 2,
       "version_minor": 0
      },
      "text/plain": [
       "HBox(children=(IntProgress(value=0, description='Epoch: 138 ', max=1875, style=ProgressStyle(description_width…"
      ]
     },
     "metadata": {},
     "output_type": "display_data"
    },
    {
     "name": "stdout",
     "output_type": "stream",
     "text": [
      "\n",
      "disc_loss\t0.6526132822036743\n",
      "acc\t0.64453125\n",
      "gen_loss\t0.7899767160415649\n",
      "fpr\t0.26171875\n",
      "cm\t[[189  67]\n",
      " [115 141]]\n"
     ]
    },
    {
     "data": {
      "application/vnd.jupyter.widget-view+json": {
       "model_id": "3d4fdbccab3746afb524b6ed59279605",
       "version_major": 2,
       "version_minor": 0
      },
      "text/plain": [
       "HBox(children=(IntProgress(value=0, description='Epoch: 139 ', max=1875, style=ProgressStyle(description_width…"
      ]
     },
     "metadata": {},
     "output_type": "display_data"
    },
    {
     "name": "stdout",
     "output_type": "stream",
     "text": [
      "\n",
      "disc_loss\t0.6645154356956482\n",
      "acc\t0.6015625\n",
      "gen_loss\t0.7733649015426636\n",
      "fpr\t0.31640625\n",
      "cm\t[[175  81]\n",
      " [123 133]]\n"
     ]
    },
    {
     "data": {
      "application/vnd.jupyter.widget-view+json": {
       "model_id": "c6dc278e7fd2425d8767992d3a39ff5e",
       "version_major": 2,
       "version_minor": 0
      },
      "text/plain": [
       "HBox(children=(IntProgress(value=0, description='Epoch: 140 ', max=1875, style=ProgressStyle(description_width…"
      ]
     },
     "metadata": {},
     "output_type": "display_data"
    },
    {
     "name": "stdout",
     "output_type": "stream",
     "text": [
      "\n",
      "disc_loss\t0.6646326780319214\n",
      "acc\t0.623046875\n",
      "gen_loss\t0.7862658500671387\n",
      "fpr\t0.26171875\n",
      "cm\t[[189  67]\n",
      " [126 130]]\n"
     ]
    },
    {
     "data": {
      "application/vnd.jupyter.widget-view+json": {
       "model_id": "75372c7daba748bbba0448ab7e2be6ba",
       "version_major": 2,
       "version_minor": 0
      },
      "text/plain": [
       "HBox(children=(IntProgress(value=0, description='Epoch: 141 ', max=1875, style=ProgressStyle(description_width…"
      ]
     },
     "metadata": {},
     "output_type": "display_data"
    },
    {
     "name": "stdout",
     "output_type": "stream",
     "text": [
      "\n",
      "disc_loss\t0.651063084602356\n",
      "acc\t0.630859375\n",
      "gen_loss\t0.7347866296768188\n",
      "fpr\t0.4140625\n",
      "cm\t[[150 106]\n",
      " [ 83 173]]\n"
     ]
    },
    {
     "data": {
      "application/vnd.jupyter.widget-view+json": {
       "model_id": "8773ec6dc22e43f3b5ab678259dc2456",
       "version_major": 2,
       "version_minor": 0
      },
      "text/plain": [
       "HBox(children=(IntProgress(value=0, description='Epoch: 142 ', max=1875, style=ProgressStyle(description_width…"
      ]
     },
     "metadata": {},
     "output_type": "display_data"
    },
    {
     "name": "stdout",
     "output_type": "stream",
     "text": [
      "\n",
      "disc_loss\t0.6566696166992188\n",
      "acc\t0.607421875\n",
      "gen_loss\t0.7696354389190674\n",
      "fpr\t0.33203125\n",
      "cm\t[[171  85]\n",
      " [116 140]]\n"
     ]
    },
    {
     "data": {
      "application/vnd.jupyter.widget-view+json": {
       "model_id": "ead5c103792942eb932d3da5f4beddf5",
       "version_major": 2,
       "version_minor": 0
      },
      "text/plain": [
       "HBox(children=(IntProgress(value=0, description='Epoch: 143 ', max=1875, style=ProgressStyle(description_width…"
      ]
     },
     "metadata": {},
     "output_type": "display_data"
    },
    {
     "name": "stdout",
     "output_type": "stream",
     "text": [
      "\n",
      "disc_loss\t0.6620967984199524\n",
      "acc\t0.625\n",
      "gen_loss\t0.8164317607879639\n",
      "fpr\t0.23046875\n",
      "cm\t[[197  59]\n",
      " [133 123]]\n"
     ]
    },
    {
     "data": {
      "application/vnd.jupyter.widget-view+json": {
       "model_id": "fd0e7729567141cf85682cf8e82a06de",
       "version_major": 2,
       "version_minor": 0
      },
      "text/plain": [
       "HBox(children=(IntProgress(value=0, description='Epoch: 144 ', max=1875, style=ProgressStyle(description_width…"
      ]
     },
     "metadata": {},
     "output_type": "display_data"
    },
    {
     "name": "stdout",
     "output_type": "stream",
     "text": [
      "\n",
      "disc_loss\t0.658123791217804\n",
      "acc\t0.642578125\n",
      "gen_loss\t0.8444244861602783\n",
      "fpr\t0.1796875\n",
      "cm\t[[210  46]\n",
      " [137 119]]\n"
     ]
    },
    {
     "data": {
      "application/vnd.jupyter.widget-view+json": {
       "model_id": "4fcd7a62e83645b1bc14c42c363929e1",
       "version_major": 2,
       "version_minor": 0
      },
      "text/plain": [
       "HBox(children=(IntProgress(value=0, description='Epoch: 145 ', max=1875, style=ProgressStyle(description_width…"
      ]
     },
     "metadata": {},
     "output_type": "display_data"
    },
    {
     "name": "stdout",
     "output_type": "stream",
     "text": [
      "\n",
      "disc_loss\t0.6644306182861328\n",
      "acc\t0.6171875\n",
      "gen_loss\t0.7637295126914978\n",
      "fpr\t0.30078125\n",
      "cm\t[[179  77]\n",
      " [119 137]]\n"
     ]
    },
    {
     "data": {
      "application/vnd.jupyter.widget-view+json": {
       "model_id": "3069ce1b7e3d4f7f8e9563518013391d",
       "version_major": 2,
       "version_minor": 0
      },
      "text/plain": [
       "HBox(children=(IntProgress(value=0, description='Epoch: 146 ', max=1875, style=ProgressStyle(description_width…"
      ]
     },
     "metadata": {},
     "output_type": "display_data"
    },
    {
     "name": "stdout",
     "output_type": "stream",
     "text": [
      "\n",
      "disc_loss\t0.6527161002159119\n",
      "acc\t0.625\n",
      "gen_loss\t0.7937012910842896\n",
      "fpr\t0.2734375\n",
      "cm\t[[186  70]\n",
      " [122 134]]\n"
     ]
    },
    {
     "data": {
      "application/vnd.jupyter.widget-view+json": {
       "model_id": "c905ca1135fd4cdfbad0e938a56a1c0a",
       "version_major": 2,
       "version_minor": 0
      },
      "text/plain": [
       "HBox(children=(IntProgress(value=0, description='Epoch: 147 ', max=1875, style=ProgressStyle(description_width…"
      ]
     },
     "metadata": {},
     "output_type": "display_data"
    },
    {
     "name": "stdout",
     "output_type": "stream",
     "text": [
      "\n",
      "disc_loss\t0.6550487875938416\n",
      "acc\t0.625\n",
      "gen_loss\t0.8282758593559265\n",
      "fpr\t0.2109375\n",
      "cm\t[[202  54]\n",
      " [138 118]]\n"
     ]
    },
    {
     "data": {
      "application/vnd.jupyter.widget-view+json": {
       "model_id": "1a39d5ba531e496c8b1805e80c7b8e00",
       "version_major": 2,
       "version_minor": 0
      },
      "text/plain": [
       "HBox(children=(IntProgress(value=0, description='Epoch: 148 ', max=1875, style=ProgressStyle(description_width…"
      ]
     },
     "metadata": {},
     "output_type": "display_data"
    },
    {
     "name": "stdout",
     "output_type": "stream",
     "text": [
      "\n",
      "disc_loss\t0.6720796823501587\n",
      "acc\t0.6171875\n",
      "gen_loss\t0.735849142074585\n",
      "fpr\t0.35546875\n",
      "cm\t[[165  91]\n",
      " [105 151]]\n"
     ]
    },
    {
     "data": {
      "application/vnd.jupyter.widget-view+json": {
       "model_id": "676e4d132775493c9b2c5e407e1951b4",
       "version_major": 2,
       "version_minor": 0
      },
      "text/plain": [
       "HBox(children=(IntProgress(value=0, description='Epoch: 149 ', max=1875, style=ProgressStyle(description_width…"
      ]
     },
     "metadata": {},
     "output_type": "display_data"
    },
    {
     "name": "stdout",
     "output_type": "stream",
     "text": [
      "\n",
      "disc_loss\t0.6802845001220703\n",
      "acc\t0.568359375\n",
      "gen_loss\t0.7281518578529358\n",
      "fpr\t0.4296875\n",
      "cm\t[[146 110]\n",
      " [111 145]]\n"
     ]
    },
    {
     "data": {
      "application/vnd.jupyter.widget-view+json": {
       "model_id": "5184ccb7277e40c68b911f96dc7d3e67",
       "version_major": 2,
       "version_minor": 0
      },
      "text/plain": [
       "HBox(children=(IntProgress(value=0, description='Epoch: 150 ', max=1875, style=ProgressStyle(description_width…"
      ]
     },
     "metadata": {},
     "output_type": "display_data"
    },
    {
     "name": "stdout",
     "output_type": "stream",
     "text": [
      "\n",
      "disc_loss\t0.6707198023796082\n",
      "acc\t0.59375\n",
      "gen_loss\t0.8602071404457092\n",
      "fpr\t0.14453125\n",
      "cm\t[[219  37]\n",
      " [171  85]]\n"
     ]
    },
    {
     "data": {
      "application/vnd.jupyter.widget-view+json": {
       "model_id": "0f552e72be5a4608b51029b7e76ac9e1",
       "version_major": 2,
       "version_minor": 0
      },
      "text/plain": [
       "HBox(children=(IntProgress(value=0, description='Epoch: 151 ', max=1875, style=ProgressStyle(description_width…"
      ]
     },
     "metadata": {},
     "output_type": "display_data"
    },
    {
     "name": "stdout",
     "output_type": "stream",
     "text": [
      "\n",
      "disc_loss\t0.6649473905563354\n",
      "acc\t0.603515625\n",
      "gen_loss\t0.8336322903633118\n",
      "fpr\t0.18359375\n",
      "cm\t[[209  47]\n",
      " [156 100]]\n"
     ]
    },
    {
     "data": {
      "application/vnd.jupyter.widget-view+json": {
       "model_id": "7184d645d53041a4841799c20f0ce89c",
       "version_major": 2,
       "version_minor": 0
      },
      "text/plain": [
       "HBox(children=(IntProgress(value=0, description='Epoch: 152 ', max=1875, style=ProgressStyle(description_width…"
      ]
     },
     "metadata": {},
     "output_type": "display_data"
    },
    {
     "name": "stdout",
     "output_type": "stream",
     "text": [
      "\n",
      "disc_loss\t0.661239743232727\n",
      "acc\t0.60546875\n",
      "gen_loss\t0.7657433748245239\n",
      "fpr\t0.36328125\n",
      "cm\t[[163  93]\n",
      " [109 147]]\n"
     ]
    },
    {
     "data": {
      "application/vnd.jupyter.widget-view+json": {
       "model_id": "113007ee777e4f2196cff1f123c9377b",
       "version_major": 2,
       "version_minor": 0
      },
      "text/plain": [
       "HBox(children=(IntProgress(value=0, description='Epoch: 153 ', max=1875, style=ProgressStyle(description_width…"
      ]
     },
     "metadata": {},
     "output_type": "display_data"
    },
    {
     "name": "stdout",
     "output_type": "stream",
     "text": [
      "\n",
      "disc_loss\t0.6644155383110046\n",
      "acc\t0.611328125\n",
      "gen_loss\t0.7944632768630981\n",
      "fpr\t0.25390625\n",
      "cm\t[[191  65]\n",
      " [134 122]]\n"
     ]
    },
    {
     "data": {
      "application/vnd.jupyter.widget-view+json": {
       "model_id": "d7df9381e2bf4cdc89dce8be0f1a1d5d",
       "version_major": 2,
       "version_minor": 0
      },
      "text/plain": [
       "HBox(children=(IntProgress(value=0, description='Epoch: 154 ', max=1875, style=ProgressStyle(description_width…"
      ]
     },
     "metadata": {},
     "output_type": "display_data"
    },
    {
     "name": "stdout",
     "output_type": "stream",
     "text": [
      "\n",
      "disc_loss\t0.6614128351211548\n",
      "acc\t0.615234375\n",
      "gen_loss\t0.839482843875885\n",
      "fpr\t0.17578125\n",
      "cm\t[[211  45]\n",
      " [152 104]]\n"
     ]
    },
    {
     "data": {
      "application/vnd.jupyter.widget-view+json": {
       "model_id": "0bd6a56c3c77434983539aeeca708069",
       "version_major": 2,
       "version_minor": 0
      },
      "text/plain": [
       "HBox(children=(IntProgress(value=0, description='Epoch: 155 ', max=1875, style=ProgressStyle(description_width…"
      ]
     },
     "metadata": {},
     "output_type": "display_data"
    },
    {
     "name": "stdout",
     "output_type": "stream",
     "text": [
      "\n",
      "disc_loss\t0.6712432503700256\n",
      "acc\t0.611328125\n",
      "gen_loss\t0.7925896048545837\n",
      "fpr\t0.2421875\n",
      "cm\t[[194  62]\n",
      " [137 119]]\n"
     ]
    },
    {
     "data": {
      "application/vnd.jupyter.widget-view+json": {
       "model_id": "b9d1583afcd8442aa781063db691102f",
       "version_major": 2,
       "version_minor": 0
      },
      "text/plain": [
       "HBox(children=(IntProgress(value=0, description='Epoch: 156 ', max=1875, style=ProgressStyle(description_width…"
      ]
     },
     "metadata": {},
     "output_type": "display_data"
    },
    {
     "name": "stdout",
     "output_type": "stream",
     "text": [
      "\n",
      "disc_loss\t0.6581140756607056\n",
      "acc\t0.6328125\n",
      "gen_loss\t0.750895082950592\n",
      "fpr\t0.3671875\n",
      "cm\t[[162  94]\n",
      " [ 94 162]]\n"
     ]
    },
    {
     "data": {
      "application/vnd.jupyter.widget-view+json": {
       "model_id": "b4c82c85800d46f8a63e2e43650429ae",
       "version_major": 2,
       "version_minor": 0
      },
      "text/plain": [
       "HBox(children=(IntProgress(value=0, description='Epoch: 157 ', max=1875, style=ProgressStyle(description_width…"
      ]
     },
     "metadata": {},
     "output_type": "display_data"
    },
    {
     "name": "stdout",
     "output_type": "stream",
     "text": [
      "\n",
      "disc_loss\t0.6670674681663513\n",
      "acc\t0.609375\n",
      "gen_loss\t0.7546062469482422\n",
      "fpr\t0.34375\n",
      "cm\t[[168  88]\n",
      " [112 144]]\n"
     ]
    },
    {
     "data": {
      "application/vnd.jupyter.widget-view+json": {
       "model_id": "98d720a7eeb8465ba5c14858dcf51933",
       "version_major": 2,
       "version_minor": 0
      },
      "text/plain": [
       "HBox(children=(IntProgress(value=0, description='Epoch: 158 ', max=1875, style=ProgressStyle(description_width…"
      ]
     },
     "metadata": {},
     "output_type": "display_data"
    },
    {
     "name": "stdout",
     "output_type": "stream",
     "text": [
      "\n",
      "disc_loss\t0.6543877124786377\n",
      "acc\t0.646484375\n",
      "gen_loss\t0.7944504022598267\n",
      "fpr\t0.26171875\n",
      "cm\t[[189  67]\n",
      " [114 142]]\n"
     ]
    },
    {
     "data": {
      "application/vnd.jupyter.widget-view+json": {
       "model_id": "3a3073b238e647bca54aaeb01ddbd2c1",
       "version_major": 2,
       "version_minor": 0
      },
      "text/plain": [
       "HBox(children=(IntProgress(value=0, description='Epoch: 159 ', max=1875, style=ProgressStyle(description_width…"
      ]
     },
     "metadata": {},
     "output_type": "display_data"
    },
    {
     "name": "stdout",
     "output_type": "stream",
     "text": [
      "\n",
      "disc_loss\t0.6691495180130005\n",
      "acc\t0.6171875\n",
      "gen_loss\t0.8017916083335876\n",
      "fpr\t0.2421875\n",
      "cm\t[[194  62]\n",
      " [134 122]]\n"
     ]
    },
    {
     "data": {
      "application/vnd.jupyter.widget-view+json": {
       "model_id": "b7a0080257d742e5a5e7bb5411260c7d",
       "version_major": 2,
       "version_minor": 0
      },
      "text/plain": [
       "HBox(children=(IntProgress(value=0, description='Epoch: 160 ', max=1875, style=ProgressStyle(description_width…"
      ]
     },
     "metadata": {},
     "output_type": "display_data"
    },
    {
     "name": "stdout",
     "output_type": "stream",
     "text": [
      "\n",
      "disc_loss\t0.6597009897232056\n",
      "acc\t0.634765625\n",
      "gen_loss\t0.7900428771972656\n",
      "fpr\t0.26171875\n",
      "cm\t[[189  67]\n",
      " [120 136]]\n"
     ]
    },
    {
     "data": {
      "application/vnd.jupyter.widget-view+json": {
       "model_id": "187125084dab4d31b59e0d19d31b90ab",
       "version_major": 2,
       "version_minor": 0
      },
      "text/plain": [
       "HBox(children=(IntProgress(value=0, description='Epoch: 161 ', max=1875, style=ProgressStyle(description_width…"
      ]
     },
     "metadata": {},
     "output_type": "display_data"
    },
    {
     "name": "stdout",
     "output_type": "stream",
     "text": [
      "\n",
      "disc_loss\t0.6563368439674377\n",
      "acc\t0.625\n",
      "gen_loss\t0.7663050293922424\n",
      "fpr\t0.3515625\n",
      "cm\t[[166  90]\n",
      " [102 154]]\n"
     ]
    },
    {
     "data": {
      "application/vnd.jupyter.widget-view+json": {
       "model_id": "b054385c81214f289012478e9c2b4b96",
       "version_major": 2,
       "version_minor": 0
      },
      "text/plain": [
       "HBox(children=(IntProgress(value=0, description='Epoch: 162 ', max=1875, style=ProgressStyle(description_width…"
      ]
     },
     "metadata": {},
     "output_type": "display_data"
    },
    {
     "name": "stdout",
     "output_type": "stream",
     "text": [
      "\n",
      "disc_loss\t0.6627981066703796\n",
      "acc\t0.603515625\n",
      "gen_loss\t0.8023837804794312\n",
      "fpr\t0.24609375\n",
      "cm\t[[193  63]\n",
      " [140 116]]\n"
     ]
    },
    {
     "data": {
      "application/vnd.jupyter.widget-view+json": {
       "model_id": "96246a9b00424e42b84c609647a299c7",
       "version_major": 2,
       "version_minor": 0
      },
      "text/plain": [
       "HBox(children=(IntProgress(value=0, description='Epoch: 163 ', max=1875, style=ProgressStyle(description_width…"
      ]
     },
     "metadata": {},
     "output_type": "display_data"
    },
    {
     "name": "stdout",
     "output_type": "stream",
     "text": [
      "\n",
      "disc_loss\t0.6598090529441833\n",
      "acc\t0.62890625\n",
      "gen_loss\t0.8112517595291138\n",
      "fpr\t0.25390625\n",
      "cm\t[[191  65]\n",
      " [125 131]]\n"
     ]
    },
    {
     "data": {
      "application/vnd.jupyter.widget-view+json": {
       "model_id": "ba0ba1662bd5439cb731796e22a4179e",
       "version_major": 2,
       "version_minor": 0
      },
      "text/plain": [
       "HBox(children=(IntProgress(value=0, description='Epoch: 164 ', max=1875, style=ProgressStyle(description_width…"
      ]
     },
     "metadata": {},
     "output_type": "display_data"
    },
    {
     "name": "stdout",
     "output_type": "stream",
     "text": [
      "\n",
      "disc_loss\t0.6601691246032715\n",
      "acc\t0.578125\n",
      "gen_loss\t0.8447796702384949\n",
      "fpr\t0.21875\n",
      "cm\t[[200  56]\n",
      " [160  96]]\n"
     ]
    },
    {
     "data": {
      "application/vnd.jupyter.widget-view+json": {
       "model_id": "dab3b144efad45d3872da349d2b28b61",
       "version_major": 2,
       "version_minor": 0
      },
      "text/plain": [
       "HBox(children=(IntProgress(value=0, description='Epoch: 165 ', max=1875, style=ProgressStyle(description_width…"
      ]
     },
     "metadata": {},
     "output_type": "display_data"
    },
    {
     "name": "stdout",
     "output_type": "stream",
     "text": [
      "\n",
      "disc_loss\t0.6667274236679077\n",
      "acc\t0.611328125\n",
      "gen_loss\t0.7773333787918091\n",
      "fpr\t0.28515625\n",
      "cm\t[[183  73]\n",
      " [126 130]]\n"
     ]
    },
    {
     "data": {
      "application/vnd.jupyter.widget-view+json": {
       "model_id": "19a2b3cbf62f429c923e765d4df2696a",
       "version_major": 2,
       "version_minor": 0
      },
      "text/plain": [
       "HBox(children=(IntProgress(value=0, description='Epoch: 166 ', max=1875, style=ProgressStyle(description_width…"
      ]
     },
     "metadata": {},
     "output_type": "display_data"
    },
    {
     "name": "stdout",
     "output_type": "stream",
     "text": [
      "\n",
      "disc_loss\t0.6549204587936401\n",
      "acc\t0.638671875\n",
      "gen_loss\t0.8113977909088135\n",
      "fpr\t0.22265625\n",
      "cm\t[[199  57]\n",
      " [128 128]]\n"
     ]
    },
    {
     "data": {
      "application/vnd.jupyter.widget-view+json": {
       "model_id": "ddb0f002da0347189a4b050454b63351",
       "version_major": 2,
       "version_minor": 0
      },
      "text/plain": [
       "HBox(children=(IntProgress(value=0, description='Epoch: 167 ', max=1875, style=ProgressStyle(description_width…"
      ]
     },
     "metadata": {},
     "output_type": "display_data"
    },
    {
     "name": "stdout",
     "output_type": "stream",
     "text": [
      "\n",
      "disc_loss\t0.6500480771064758\n",
      "acc\t0.638671875\n",
      "gen_loss\t0.7849573493003845\n",
      "fpr\t0.30859375\n",
      "cm\t[[177  79]\n",
      " [106 150]]\n"
     ]
    },
    {
     "data": {
      "application/vnd.jupyter.widget-view+json": {
       "model_id": "206dfb6bf1f94026a918e4d921a6bcf7",
       "version_major": 2,
       "version_minor": 0
      },
      "text/plain": [
       "HBox(children=(IntProgress(value=0, description='Epoch: 168 ', max=1875, style=ProgressStyle(description_width…"
      ]
     },
     "metadata": {},
     "output_type": "display_data"
    },
    {
     "name": "stdout",
     "output_type": "stream",
     "text": [
      "\n",
      "disc_loss\t0.6589455008506775\n",
      "acc\t0.623046875\n",
      "gen_loss\t0.804516077041626\n",
      "fpr\t0.25390625\n",
      "cm\t[[191  65]\n",
      " [128 128]]\n"
     ]
    },
    {
     "data": {
      "application/vnd.jupyter.widget-view+json": {
       "model_id": "a17bb4030a0b480db8ba95a23063fe02",
       "version_major": 2,
       "version_minor": 0
      },
      "text/plain": [
       "HBox(children=(IntProgress(value=0, description='Epoch: 169 ', max=1875, style=ProgressStyle(description_width…"
      ]
     },
     "metadata": {},
     "output_type": "display_data"
    },
    {
     "name": "stdout",
     "output_type": "stream",
     "text": [
      "\n",
      "disc_loss\t0.6699097156524658\n",
      "acc\t0.595703125\n",
      "gen_loss\t0.8156617879867554\n",
      "fpr\t0.21875\n",
      "cm\t[[200  56]\n",
      " [151 105]]\n"
     ]
    },
    {
     "data": {
      "application/vnd.jupyter.widget-view+json": {
       "model_id": "07f9ea8a419840c39fd2cb8bb8928d10",
       "version_major": 2,
       "version_minor": 0
      },
      "text/plain": [
       "HBox(children=(IntProgress(value=0, description='Epoch: 170 ', max=1875, style=ProgressStyle(description_width…"
      ]
     },
     "metadata": {},
     "output_type": "display_data"
    },
    {
     "name": "stdout",
     "output_type": "stream",
     "text": [
      "\n",
      "disc_loss\t0.6651329398155212\n",
      "acc\t0.607421875\n",
      "gen_loss\t0.8809479475021362\n",
      "fpr\t0.1328125\n",
      "cm\t[[222  34]\n",
      " [167  89]]\n"
     ]
    },
    {
     "data": {
      "application/vnd.jupyter.widget-view+json": {
       "model_id": "b17bc2dccf0d4e1492c9a6b25724738f",
       "version_major": 2,
       "version_minor": 0
      },
      "text/plain": [
       "HBox(children=(IntProgress(value=0, description='Epoch: 171 ', max=1875, style=ProgressStyle(description_width…"
      ]
     },
     "metadata": {},
     "output_type": "display_data"
    },
    {
     "name": "stdout",
     "output_type": "stream",
     "text": [
      "\n",
      "disc_loss\t0.659707248210907\n",
      "acc\t0.626953125\n",
      "gen_loss\t0.7885259985923767\n",
      "fpr\t0.30859375\n",
      "cm\t[[177  79]\n",
      " [112 144]]\n"
     ]
    },
    {
     "data": {
      "application/vnd.jupyter.widget-view+json": {
       "model_id": "1f52e773a7464e5882fe25bf785f0c6f",
       "version_major": 2,
       "version_minor": 0
      },
      "text/plain": [
       "HBox(children=(IntProgress(value=0, description='Epoch: 172 ', max=1875, style=ProgressStyle(description_width…"
      ]
     },
     "metadata": {},
     "output_type": "display_data"
    },
    {
     "name": "stdout",
     "output_type": "stream",
     "text": [
      "\n",
      "disc_loss\t0.6620680093765259\n",
      "acc\t0.58984375\n",
      "gen_loss\t0.8047882318496704\n",
      "fpr\t0.2578125\n",
      "cm\t[[190  66]\n",
      " [144 112]]\n"
     ]
    },
    {
     "data": {
      "application/vnd.jupyter.widget-view+json": {
       "model_id": "0bb1b8bbfe624f1196a43dfc8fc7dc8b",
       "version_major": 2,
       "version_minor": 0
      },
      "text/plain": [
       "HBox(children=(IntProgress(value=0, description='Epoch: 173 ', max=1875, style=ProgressStyle(description_width…"
      ]
     },
     "metadata": {},
     "output_type": "display_data"
    },
    {
     "name": "stdout",
     "output_type": "stream",
     "text": [
      "\n",
      "disc_loss\t0.6529326438903809\n",
      "acc\t0.623046875\n",
      "gen_loss\t0.8348379135131836\n",
      "fpr\t0.19140625\n",
      "cm\t[[207  49]\n",
      " [144 112]]\n"
     ]
    },
    {
     "data": {
      "application/vnd.jupyter.widget-view+json": {
       "model_id": "6c09b1ca0d164c41b704f759fc6751e3",
       "version_major": 2,
       "version_minor": 0
      },
      "text/plain": [
       "HBox(children=(IntProgress(value=0, description='Epoch: 174 ', max=1875, style=ProgressStyle(description_width…"
      ]
     },
     "metadata": {},
     "output_type": "display_data"
    },
    {
     "name": "stdout",
     "output_type": "stream",
     "text": [
      "\n",
      "disc_loss\t0.646659791469574\n",
      "acc\t0.677734375\n",
      "gen_loss\t0.7618330717086792\n",
      "fpr\t0.3125\n",
      "cm\t[[176  80]\n",
      " [ 85 171]]\n"
     ]
    },
    {
     "data": {
      "application/vnd.jupyter.widget-view+json": {
       "model_id": "5599d81d870a40a68322d69618164406",
       "version_major": 2,
       "version_minor": 0
      },
      "text/plain": [
       "HBox(children=(IntProgress(value=0, description='Epoch: 175 ', max=1875, style=ProgressStyle(description_width…"
      ]
     },
     "metadata": {},
     "output_type": "display_data"
    },
    {
     "name": "stdout",
     "output_type": "stream",
     "text": [
      "\n",
      "disc_loss\t0.6611433625221252\n",
      "acc\t0.625\n",
      "gen_loss\t0.8564875721931458\n",
      "fpr\t0.1484375\n",
      "cm\t[[218  38]\n",
      " [154 102]]\n"
     ]
    },
    {
     "data": {
      "application/vnd.jupyter.widget-view+json": {
       "model_id": "2e6208fef5cc451aae2b814ff17a97cc",
       "version_major": 2,
       "version_minor": 0
      },
      "text/plain": [
       "HBox(children=(IntProgress(value=0, description='Epoch: 176 ', max=1875, style=ProgressStyle(description_width…"
      ]
     },
     "metadata": {},
     "output_type": "display_data"
    },
    {
     "name": "stdout",
     "output_type": "stream",
     "text": [
      "\n",
      "disc_loss\t0.6503912210464478\n",
      "acc\t0.64453125\n",
      "gen_loss\t0.8100289106369019\n",
      "fpr\t0.25390625\n",
      "cm\t[[191  65]\n",
      " [117 139]]\n"
     ]
    },
    {
     "data": {
      "application/vnd.jupyter.widget-view+json": {
       "model_id": "71c73bf62a6541dda007f124f1ea5516",
       "version_major": 2,
       "version_minor": 0
      },
      "text/plain": [
       "HBox(children=(IntProgress(value=0, description='Epoch: 177 ', max=1875, style=ProgressStyle(description_width…"
      ]
     },
     "metadata": {},
     "output_type": "display_data"
    },
    {
     "name": "stdout",
     "output_type": "stream",
     "text": [
      "\n",
      "disc_loss\t0.6566981077194214\n",
      "acc\t0.591796875\n",
      "gen_loss\t0.8617550134658813\n",
      "fpr\t0.17578125\n",
      "cm\t[[211  45]\n",
      " [164  92]]\n"
     ]
    },
    {
     "data": {
      "application/vnd.jupyter.widget-view+json": {
       "model_id": "2b707d87f3144423b4cce3389ef1d687",
       "version_major": 2,
       "version_minor": 0
      },
      "text/plain": [
       "HBox(children=(IntProgress(value=0, description='Epoch: 178 ', max=1875, style=ProgressStyle(description_width…"
      ]
     },
     "metadata": {},
     "output_type": "display_data"
    },
    {
     "name": "stdout",
     "output_type": "stream",
     "text": [
      "\n",
      "disc_loss\t0.6535204648971558\n",
      "acc\t0.619140625\n",
      "gen_loss\t0.8347750902175903\n",
      "fpr\t0.19140625\n",
      "cm\t[[207  49]\n",
      " [146 110]]\n"
     ]
    },
    {
     "data": {
      "application/vnd.jupyter.widget-view+json": {
       "model_id": "46de7ab0adce4d088b3fc505b53707a2",
       "version_major": 2,
       "version_minor": 0
      },
      "text/plain": [
       "HBox(children=(IntProgress(value=0, description='Epoch: 179 ', max=1875, style=ProgressStyle(description_width…"
      ]
     },
     "metadata": {},
     "output_type": "display_data"
    },
    {
     "name": "stdout",
     "output_type": "stream",
     "text": [
      "\n",
      "disc_loss\t0.661308228969574\n",
      "acc\t0.61328125\n",
      "gen_loss\t0.7547562718391418\n",
      "fpr\t0.37109375\n",
      "cm\t[[161  95]\n",
      " [103 153]]\n"
     ]
    },
    {
     "data": {
      "application/vnd.jupyter.widget-view+json": {
       "model_id": "8adcd4350d314f309c5cc29dbd2a2ee9",
       "version_major": 2,
       "version_minor": 0
      },
      "text/plain": [
       "HBox(children=(IntProgress(value=0, description='Epoch: 180 ', max=1875, style=ProgressStyle(description_width…"
      ]
     },
     "metadata": {},
     "output_type": "display_data"
    },
    {
     "name": "stdout",
     "output_type": "stream",
     "text": [
      "\n",
      "disc_loss\t0.6562656164169312\n",
      "acc\t0.619140625\n",
      "gen_loss\t0.736609935760498\n",
      "fpr\t0.44140625\n",
      "cm\t[[143 113]\n",
      " [ 82 174]]\n"
     ]
    },
    {
     "data": {
      "application/vnd.jupyter.widget-view+json": {
       "model_id": "66e41539564b481eb08bc997e12bd6ab",
       "version_major": 2,
       "version_minor": 0
      },
      "text/plain": [
       "HBox(children=(IntProgress(value=0, description='Epoch: 181 ', max=1875, style=ProgressStyle(description_width…"
      ]
     },
     "metadata": {},
     "output_type": "display_data"
    },
    {
     "name": "stdout",
     "output_type": "stream",
     "text": [
      "\n",
      "disc_loss\t0.6560353636741638\n",
      "acc\t0.626953125\n",
      "gen_loss\t0.8139435052871704\n",
      "fpr\t0.23828125\n",
      "cm\t[[195  61]\n",
      " [130 126]]\n"
     ]
    },
    {
     "data": {
      "application/vnd.jupyter.widget-view+json": {
       "model_id": "6007f8b090b245c6819085a9b8cb8b02",
       "version_major": 2,
       "version_minor": 0
      },
      "text/plain": [
       "HBox(children=(IntProgress(value=0, description='Epoch: 182 ', max=1875, style=ProgressStyle(description_width…"
      ]
     },
     "metadata": {},
     "output_type": "display_data"
    },
    {
     "name": "stdout",
     "output_type": "stream",
     "text": [
      "\n",
      "disc_loss\t0.6657578945159912\n",
      "acc\t0.587890625\n",
      "gen_loss\t0.8266046643257141\n",
      "fpr\t0.20703125\n",
      "cm\t[[203  53]\n",
      " [158  98]]\n"
     ]
    },
    {
     "data": {
      "application/vnd.jupyter.widget-view+json": {
       "model_id": "baeea31feaf44e15b0df263c49f6bc80",
       "version_major": 2,
       "version_minor": 0
      },
      "text/plain": [
       "HBox(children=(IntProgress(value=0, description='Epoch: 183 ', max=1875, style=ProgressStyle(description_width…"
      ]
     },
     "metadata": {},
     "output_type": "display_data"
    },
    {
     "name": "stdout",
     "output_type": "stream",
     "text": [
      "\n",
      "disc_loss\t0.6559234857559204\n",
      "acc\t0.59765625\n",
      "gen_loss\t0.8830599784851074\n",
      "fpr\t0.1328125\n",
      "cm\t[[222  34]\n",
      " [172  84]]\n"
     ]
    },
    {
     "data": {
      "application/vnd.jupyter.widget-view+json": {
       "model_id": "08261fef0b3f4d8b9ee088bb35e8a0e8",
       "version_major": 2,
       "version_minor": 0
      },
      "text/plain": [
       "HBox(children=(IntProgress(value=0, description='Epoch: 184 ', max=1875, style=ProgressStyle(description_width…"
      ]
     },
     "metadata": {},
     "output_type": "display_data"
    },
    {
     "name": "stdout",
     "output_type": "stream",
     "text": [
      "\n",
      "disc_loss\t0.65263432264328\n",
      "acc\t0.626953125\n",
      "gen_loss\t0.7937902212142944\n",
      "fpr\t0.2890625\n",
      "cm\t[[182  74]\n",
      " [117 139]]\n"
     ]
    },
    {
     "data": {
      "application/vnd.jupyter.widget-view+json": {
       "model_id": "2bccd486ba4a457ebc192ee3c8af5580",
       "version_major": 2,
       "version_minor": 0
      },
      "text/plain": [
       "HBox(children=(IntProgress(value=0, description='Epoch: 185 ', max=1875, style=ProgressStyle(description_width…"
      ]
     },
     "metadata": {},
     "output_type": "display_data"
    },
    {
     "name": "stdout",
     "output_type": "stream",
     "text": [
      "\n",
      "disc_loss\t0.6530717015266418\n",
      "acc\t0.630859375\n",
      "gen_loss\t0.7268598675727844\n",
      "fpr\t0.44921875\n",
      "cm\t[[141 115]\n",
      " [ 74 182]]\n"
     ]
    },
    {
     "data": {
      "application/vnd.jupyter.widget-view+json": {
       "model_id": "098cc94527394c81ba196a8e31bc9e18",
       "version_major": 2,
       "version_minor": 0
      },
      "text/plain": [
       "HBox(children=(IntProgress(value=0, description='Epoch: 186 ', max=1875, style=ProgressStyle(description_width…"
      ]
     },
     "metadata": {},
     "output_type": "display_data"
    },
    {
     "name": "stdout",
     "output_type": "stream",
     "text": [
      "\n",
      "disc_loss\t0.65153968334198\n",
      "acc\t0.6328125\n",
      "gen_loss\t0.8557569980621338\n",
      "fpr\t0.1328125\n",
      "cm\t[[222  34]\n",
      " [154 102]]\n"
     ]
    },
    {
     "data": {
      "application/vnd.jupyter.widget-view+json": {
       "model_id": "30bdc3798d554a6ea66244c11293ac7d",
       "version_major": 2,
       "version_minor": 0
      },
      "text/plain": [
       "HBox(children=(IntProgress(value=0, description='Epoch: 187 ', max=1875, style=ProgressStyle(description_width…"
      ]
     },
     "metadata": {},
     "output_type": "display_data"
    },
    {
     "name": "stdout",
     "output_type": "stream",
     "text": [
      "\n",
      "disc_loss\t0.6472975015640259\n",
      "acc\t0.666015625\n",
      "gen_loss\t0.8232168555259705\n",
      "fpr\t0.2109375\n",
      "cm\t[[202  54]\n",
      " [117 139]]\n"
     ]
    },
    {
     "data": {
      "application/vnd.jupyter.widget-view+json": {
       "model_id": "668ac0537e9a451d948437dc4a9137d4",
       "version_major": 2,
       "version_minor": 0
      },
      "text/plain": [
       "HBox(children=(IntProgress(value=0, description='Epoch: 188 ', max=1875, style=ProgressStyle(description_width…"
      ]
     },
     "metadata": {},
     "output_type": "display_data"
    },
    {
     "name": "stdout",
     "output_type": "stream",
     "text": [
      "\n",
      "disc_loss\t0.6511578559875488\n",
      "acc\t0.66015625\n",
      "gen_loss\t0.7450647950172424\n",
      "fpr\t0.37890625\n",
      "cm\t[[159  97]\n",
      " [ 77 179]]\n"
     ]
    },
    {
     "data": {
      "application/vnd.jupyter.widget-view+json": {
       "model_id": "39c6c8acbefc4561ac2b7128d667bac2",
       "version_major": 2,
       "version_minor": 0
      },
      "text/plain": [
       "HBox(children=(IntProgress(value=0, description='Epoch: 189 ', max=1875, style=ProgressStyle(description_width…"
      ]
     },
     "metadata": {},
     "output_type": "display_data"
    },
    {
     "name": "stdout",
     "output_type": "stream",
     "text": [
      "\n",
      "disc_loss\t0.6597411632537842\n",
      "acc\t0.607421875\n",
      "gen_loss\t0.7367446422576904\n",
      "fpr\t0.40625\n",
      "cm\t[[152 104]\n",
      " [ 97 159]]\n"
     ]
    },
    {
     "data": {
      "application/vnd.jupyter.widget-view+json": {
       "model_id": "1aa75019a0604ff9a0358107acee0a9f",
       "version_major": 2,
       "version_minor": 0
      },
      "text/plain": [
       "HBox(children=(IntProgress(value=0, description='Epoch: 190 ', max=1875, style=ProgressStyle(description_width…"
      ]
     },
     "metadata": {},
     "output_type": "display_data"
    },
    {
     "name": "stdout",
     "output_type": "stream",
     "text": [
      "\n",
      "disc_loss\t0.6622334718704224\n",
      "acc\t0.619140625\n",
      "gen_loss\t0.7769775986671448\n",
      "fpr\t0.3203125\n",
      "cm\t[[174  82]\n",
      " [113 143]]\n"
     ]
    },
    {
     "data": {
      "application/vnd.jupyter.widget-view+json": {
       "model_id": "c785ebbb42d3420db5f2e5002cfd18b1",
       "version_major": 2,
       "version_minor": 0
      },
      "text/plain": [
       "HBox(children=(IntProgress(value=0, description='Epoch: 191 ', max=1875, style=ProgressStyle(description_width…"
      ]
     },
     "metadata": {},
     "output_type": "display_data"
    },
    {
     "name": "stdout",
     "output_type": "stream",
     "text": [
      "\n",
      "disc_loss\t0.6597196459770203\n",
      "acc\t0.61328125\n",
      "gen_loss\t0.8268802762031555\n",
      "fpr\t0.203125\n",
      "cm\t[[204  52]\n",
      " [146 110]]\n"
     ]
    },
    {
     "data": {
      "application/vnd.jupyter.widget-view+json": {
       "model_id": "bd9e768081b9476cb14172abc3b90adb",
       "version_major": 2,
       "version_minor": 0
      },
      "text/plain": [
       "HBox(children=(IntProgress(value=0, description='Epoch: 192 ', max=1875, style=ProgressStyle(description_width…"
      ]
     },
     "metadata": {},
     "output_type": "display_data"
    },
    {
     "name": "stdout",
     "output_type": "stream",
     "text": [
      "\n",
      "disc_loss\t0.6536046862602234\n",
      "acc\t0.634765625\n",
      "gen_loss\t0.770742654800415\n",
      "fpr\t0.32421875\n",
      "cm\t[[173  83]\n",
      " [104 152]]\n"
     ]
    },
    {
     "data": {
      "application/vnd.jupyter.widget-view+json": {
       "model_id": "d91b7df3831b4c9e9c1f90f16ed4713b",
       "version_major": 2,
       "version_minor": 0
      },
      "text/plain": [
       "HBox(children=(IntProgress(value=0, description='Epoch: 193 ', max=1875, style=ProgressStyle(description_width…"
      ]
     },
     "metadata": {},
     "output_type": "display_data"
    },
    {
     "name": "stdout",
     "output_type": "stream",
     "text": [
      "\n",
      "disc_loss\t0.6662492752075195\n",
      "acc\t0.59375\n",
      "gen_loss\t0.7988326549530029\n",
      "fpr\t0.28125\n",
      "cm\t[[184  72]\n",
      " [136 120]]\n"
     ]
    },
    {
     "data": {
      "application/vnd.jupyter.widget-view+json": {
       "model_id": "e196b7432a204094b24a221950a1b209",
       "version_major": 2,
       "version_minor": 0
      },
      "text/plain": [
       "HBox(children=(IntProgress(value=0, description='Epoch: 194 ', max=1875, style=ProgressStyle(description_width…"
      ]
     },
     "metadata": {},
     "output_type": "display_data"
    },
    {
     "name": "stdout",
     "output_type": "stream",
     "text": [
      "\n",
      "disc_loss\t0.6603890061378479\n",
      "acc\t0.642578125\n",
      "gen_loss\t0.826724648475647\n",
      "fpr\t0.1796875\n",
      "cm\t[[210  46]\n",
      " [137 119]]\n"
     ]
    },
    {
     "data": {
      "application/vnd.jupyter.widget-view+json": {
       "model_id": "68fc4d15c74d4ab7a171fa8d7bf6e028",
       "version_major": 2,
       "version_minor": 0
      },
      "text/plain": [
       "HBox(children=(IntProgress(value=0, description='Epoch: 195 ', max=1875, style=ProgressStyle(description_width…"
      ]
     },
     "metadata": {},
     "output_type": "display_data"
    },
    {
     "name": "stdout",
     "output_type": "stream",
     "text": [
      "\n",
      "disc_loss\t0.6514766216278076\n",
      "acc\t0.650390625\n",
      "gen_loss\t0.8047798871994019\n",
      "fpr\t0.22265625\n",
      "cm\t[[199  57]\n",
      " [122 134]]\n"
     ]
    },
    {
     "data": {
      "application/vnd.jupyter.widget-view+json": {
       "model_id": "8bfcea3dd7c64821b3f0286c32a9058b",
       "version_major": 2,
       "version_minor": 0
      },
      "text/plain": [
       "HBox(children=(IntProgress(value=0, description='Epoch: 196 ', max=1875, style=ProgressStyle(description_width…"
      ]
     },
     "metadata": {},
     "output_type": "display_data"
    },
    {
     "name": "stdout",
     "output_type": "stream",
     "text": [
      "\n",
      "disc_loss\t0.6568011045455933\n",
      "acc\t0.64453125\n",
      "gen_loss\t0.7952248454093933\n",
      "fpr\t0.2265625\n",
      "cm\t[[198  58]\n",
      " [124 132]]\n"
     ]
    },
    {
     "data": {
      "application/vnd.jupyter.widget-view+json": {
       "model_id": "89a42d7b89aa4ae88ae69581759d1122",
       "version_major": 2,
       "version_minor": 0
      },
      "text/plain": [
       "HBox(children=(IntProgress(value=0, description='Epoch: 197 ', max=1875, style=ProgressStyle(description_width…"
      ]
     },
     "metadata": {},
     "output_type": "display_data"
    },
    {
     "name": "stdout",
     "output_type": "stream",
     "text": [
      "\n",
      "disc_loss\t0.6647812724113464\n",
      "acc\t0.619140625\n",
      "gen_loss\t0.7999496459960938\n",
      "fpr\t0.2265625\n",
      "cm\t[[198  58]\n",
      " [137 119]]\n"
     ]
    },
    {
     "data": {
      "application/vnd.jupyter.widget-view+json": {
       "model_id": "2a9a4474bd484932bbda868384b00739",
       "version_major": 2,
       "version_minor": 0
      },
      "text/plain": [
       "HBox(children=(IntProgress(value=0, description='Epoch: 198 ', max=1875, style=ProgressStyle(description_width…"
      ]
     },
     "metadata": {},
     "output_type": "display_data"
    },
    {
     "name": "stdout",
     "output_type": "stream",
     "text": [
      "\n",
      "disc_loss\t0.660444974899292\n",
      "acc\t0.6171875\n",
      "gen_loss\t0.8348779082298279\n",
      "fpr\t0.19140625\n",
      "cm\t[[207  49]\n",
      " [147 109]]\n"
     ]
    },
    {
     "data": {
      "application/vnd.jupyter.widget-view+json": {
       "model_id": "8344d2e2122f40799bdf85699c0d47cf",
       "version_major": 2,
       "version_minor": 0
      },
      "text/plain": [
       "HBox(children=(IntProgress(value=0, description='Epoch: 199 ', max=1875, style=ProgressStyle(description_width…"
      ]
     },
     "metadata": {},
     "output_type": "display_data"
    },
    {
     "name": "stdout",
     "output_type": "stream",
     "text": [
      "\n",
      "disc_loss\t0.6669942736625671\n",
      "acc\t0.583984375\n",
      "gen_loss\t0.8114174604415894\n",
      "fpr\t0.23828125\n",
      "cm\t[[195  61]\n",
      " [152 104]]\n"
     ]
    }
   ],
   "source": [
    "\"\"\" Training loop.\n",
    "\n",
    "Use tensorboard to see examples and what is happening.\n",
    "\n",
    "\n",
    "\"\"\"\n",
    "\n",
    "# Generator for real data, random sampling strategy\n",
    "x_real_g=make_batches_random(\n",
    "    x=x_real,\n",
    "    y=None,\n",
    "    batch_size=bs//2,\n",
    "    stop_after_epoch=False\n",
    ")\n",
    "\n",
    "# Validation data\n",
    "val_data_real=np.take(  # Real samples\n",
    "    a=x_real,\n",
    "    indices=np.random.randint(\n",
    "        low=0,\n",
    "        high=len(x_real), \n",
    "        size=256\n",
    "    ),\n",
    "    axis=0\n",
    ")\n",
    "val_params_fake = sample_latent_factors(256)\n",
    "\n",
    "\n",
    "for epoch in range(0, PARAMS['epochs']):  \n",
    "    # Batch\n",
    "    with tqdm_notebook(total=n_batches, unit='batch', desc=\"Epoch: {} \".format(epoch)) as pbar:\n",
    "        for n_batch in range(n_batches):\n",
    "            for i in range(PARAMS['disc_gen_ratio']):\n",
    "                # DISCRIMINATOR\n",
    "                _, disc_x_real, _ = x_real_g.__next__()\n",
    "                disc_x = tf.concat([\n",
    "                    disc_x_real,\n",
    "                    generator(sample_latent_factors(bs//2))  # Fake data\n",
    "                ], axis=0)\n",
    "                discriminator.trainable=True\n",
    "                disc_b_loss = train_step(\n",
    "                    model=discriminator,\n",
    "                    optimizer=disc_opt,\n",
    "                    fn_loss=fn_loss,\n",
    "                    x_train=disc_x,\n",
    "                    y_train=disc_y\n",
    "                )    \n",
    "            # GENERATOR\n",
    "            discriminator.trainable=False\n",
    "            gen_b_loss = train_step(\n",
    "                model=gan,  # Latent params -> Generator -> image -> Discriminator -> Probability\n",
    "                optimizer=gen_opt,\n",
    "                fn_loss=fn_loss,\n",
    "                x_train=sample_latent_factors(bs),\n",
    "                y_train=gen_y\n",
    "            )\n",
    "\n",
    "            #Update progress bar\n",
    "            pbar.set_postfix(disc_loss=disc_b_loss.numpy(), gen_loss=gen_b_loss.numpy())\n",
    "            pbar.update(1)\n",
    "\n",
    "        \n",
    "    # EPOCH METRICS\n",
    "    val_data_fake = generator(val_params_fake)\n",
    "    val_metrics = evaluate(generator, discriminator, val_data_real, val_data_fake)\n",
    "    for m in ['disc_loss','acc','gen_loss','fpr','cm']:\n",
    "        print(\"{}\\t{}\".format(m, val_metrics[m]))\n",
    "    \n",
    "    with disc_summary_writer.as_default():\n",
    "        tf.summary.scalar('loss', val_metrics[\"disc_loss\"], step=epoch)\n",
    "        tf.summary.scalar('acc', val_metrics[\"acc\"], step=epoch)\n",
    "    with gen_summary_writer.as_default():\n",
    "        tf.summary.scalar('loss', val_metrics[\"gen_loss\"], step=epoch)\n",
    "        tf.summary.scalar('fpr', val_metrics[\"fpr\"], step=epoch)\n",
    "        tf.summary.image(\"Training data\", val_data_fake, step=epoch, max_outputs=25)\n",
    "    \n",
    "    if epoch%2 == 0:\n",
    "        plot_generated_images(epoch, val_data_fake.numpy()[:100], img_out_dir) # Output generated images   "
   ]
  },
  {
   "cell_type": "markdown",
   "metadata": {},
   "source": [
    "## Training metrics"
   ]
  },
  {
   "cell_type": "markdown",
   "metadata": {},
   "source": [
    "### Losses\n",
    "* Orange: discriminator.\n",
    "* Blue: generator\n",
    "![](img/gan/loss.png)"
   ]
  },
  {
   "cell_type": "markdown",
   "metadata": {},
   "source": [
    "### Discriminator accuracy\n",
    "![](img/gan/acc.png)"
   ]
  },
  {
   "cell_type": "markdown",
   "metadata": {},
   "source": [
    "### Generator (false positive ratio on the discriminator)\n",
    "\n",
    "![](img/gan/fpr.png)"
   ]
  },
  {
   "cell_type": "markdown",
   "metadata": {},
   "source": [
    "### Generate a gif with the progression"
   ]
  },
  {
   "cell_type": "code",
   "execution_count": 26,
   "metadata": {},
   "outputs": [],
   "source": [
    "!convert -resize 25% -delay 100 -loop 0 {log_dir}/imgs/*.png img/gan/evolution.gif"
   ]
  },
  {
   "cell_type": "markdown",
   "metadata": {},
   "source": [
    "![](img/gan/evolution.gif)"
   ]
  },
  {
   "cell_type": "markdown",
   "metadata": {},
   "source": [
    "## Generate fake samples"
   ]
  },
  {
   "cell_type": "code",
   "execution_count": 37,
   "metadata": {},
   "outputs": [
    {
     "name": "stdout",
     "output_type": "stream",
     "text": [
      "Disc prob: 0.47821420431137085\n"
     ]
    },
    {
     "data": {
      "text/plain": [
       "<matplotlib.image.AxesImage at 0x7fc131f990b8>"
      ]
     },
     "execution_count": 37,
     "metadata": {},
     "output_type": "execute_result"
    },
    {
     "data": {
      "image/png": "[encoded data removed]",
      "text/plain": [
       "<Figure size 432x288 with 1 Axes>"
      ]
     },
     "metadata": {
      "needs_background": "light"
     },
     "output_type": "display_data"
    }
   ],
   "source": [
    "sample = generator(sample_latent_factors(1))[0].numpy().reshape(32,32)\n",
    "print(\"Disc prob: {}\".format(discriminator(sample.reshape(-1,32,32,1)).numpy()[0][0]))\n",
    "\n",
    "plt.imshow(\n",
    "    sample, \n",
    "    cmap='gray'\n",
    ")"
   ]
  },
  {
   "cell_type": "markdown",
   "metadata": {},
   "source": [
    "## Save the models"
   ]
  },
  {
   "cell_type": "code",
   "execution_count": 38,
   "metadata": {},
   "outputs": [],
   "source": [
    "# Save\n",
    "tf.saved_model.save(generator, log_dir + '/saved_generator')\n",
    "tf.saved_model.save(discriminator, log_dir + '/saved_discriminator')"
   ]
  },
  {
   "cell_type": "markdown",
   "metadata": {},
   "source": [
    "## Load & use the models"
   ]
  },
  {
   "cell_type": "markdown",
   "metadata": {},
   "source": [
    "### Generator"
   ]
  },
  {
   "cell_type": "code",
   "execution_count": 39,
   "metadata": {},
   "outputs": [
    {
     "name": "stdout",
     "output_type": "stream",
     "text": [
      "Model input: \n",
      "\t((), {'input_1': TensorSpec(shape=(None, 100), dtype=tf.float32, name='input_1')})\n",
      "Model output layer \n",
      "\t{'reshape': TensorSpec(shape=(None, 32, 32, 1), dtype=tf.float32, name='reshape')}\n"
     ]
    }
   ],
   "source": [
    "# Load\n",
    "tf_gen = tf.saved_model.load(log_dir + '/saved_generator')\n",
    "\n",
    "# Serving function\n",
    "infer_gen = tf_gen.signatures['serving_default']\n",
    "# Model input\n",
    "print(\"Model input: \\n\\t{}\".format(infer_gen.structured_input_signature))\n",
    "# Model output\n",
    "print(\"Model output layer \\n\\t{}\".format(infer_gen.structured_outputs))\n",
    "\n",
    "# Serving function\n",
    "generate = lambda x: infer_gen(x)['reshape']"
   ]
  },
  {
   "cell_type": "markdown",
   "metadata": {},
   "source": [
    "### Discriminator"
   ]
  },
  {
   "cell_type": "code",
   "execution_count": 40,
   "metadata": {},
   "outputs": [
    {
     "name": "stdout",
     "output_type": "stream",
     "text": [
      "Model input: \n",
      "\t((), {'input_2': TensorSpec(shape=(None, 32, 32, 1), dtype=tf.float32, name='input_2')})\n",
      "Model output layer \n",
      "\t{'F5': TensorSpec(shape=(None, 1), dtype=tf.float32, name='F5')}\n"
     ]
    }
   ],
   "source": [
    "# Load\n",
    "tf_disc = tf.saved_model.load(log_dir + '/saved_discriminator')\n",
    "\n",
    "# Serving function\n",
    "infer_disc = tf_disc.signatures['serving_default']\n",
    "# Model input\n",
    "print(\"Model input: \\n\\t{}\".format(infer_disc.structured_input_signature))\n",
    "# Model output\n",
    "print(\"Model output layer \\n\\t{}\".format(infer_disc.structured_outputs))\n",
    "\n",
    "# Serving function\n",
    "discriminate = lambda x: infer_disc(x)['F5']"
   ]
  },
  {
   "cell_type": "markdown",
   "metadata": {},
   "source": [
    "### Test"
   ]
  },
  {
   "cell_type": "code",
   "execution_count": 41,
   "metadata": {},
   "outputs": [
    {
     "name": "stdout",
     "output_type": "stream",
     "text": [
      "Disc prob: 0.45780590176582336\n"
     ]
    },
    {
     "data": {
      "text/plain": [
       "<matplotlib.image.AxesImage at 0x7fc130a8b198>"
      ]
     },
     "execution_count": 41,
     "metadata": {},
     "output_type": "execute_result"
    },
    {
     "data": {
      "image/png": "[encoded data removed]",
      "text/plain": [
       "<Figure size 432x288 with 1 Axes>"
      ]
     },
     "metadata": {
      "needs_background": "light"
     },
     "output_type": "display_data"
    }
   ],
   "source": [
    "samples = generate(sample_latent_factors(1))\n",
    "\n",
    "print(\"Disc prob: {}\".format(discriminate(samples).numpy()[0][0]))\n",
    "\n",
    "plt.imshow(\n",
    "    samples[0].numpy().reshape(32,32), \n",
    "    cmap='gray'\n",
    ")"
   ]
  },
  {
   "cell_type": "code",
   "execution_count": 42,
   "metadata": {},
   "outputs": [
    {
     "ename": "AttributeError",
     "evalue": "'LeakyReLU' object has no attribute '__name__'",
     "output_type": "error",
     "traceback": [
      "\u001b[0;31m---------------------------------------------------------------------------\u001b[0m",
      "\u001b[0;31mAttributeError\u001b[0m                            Traceback (most recent call last)",
      "\u001b[0;32m<ipython-input-42-cecc849b1d3b>\u001b[0m in \u001b[0;36m<module>\u001b[0;34m\u001b[0m\n\u001b[1;32m      1\u001b[0m \u001b[0;31m# Problem using keras\u001b[0m\u001b[0;34m\u001b[0m\u001b[0;34m\u001b[0m\u001b[0m\n\u001b[0;32m----> 2\u001b[0;31m \u001b[0mdiscriminator\u001b[0m\u001b[0;34m.\u001b[0m\u001b[0mto_json\u001b[0m\u001b[0;34m(\u001b[0m\u001b[0;34m)\u001b[0m\u001b[0;34m\u001b[0m\u001b[0m\n\u001b[0m",
      "\u001b[0;32m~/ai_tests/tf/tf2/venv/lib/python3.5/site-packages/tensorflow/python/keras/engine/network.py\u001b[0m in \u001b[0;36mto_json\u001b[0;34m(self, **kwargs)\u001b[0m\n\u001b[1;32m   1447\u001b[0m         \u001b[0mA\u001b[0m \u001b[0mJSON\u001b[0m \u001b[0mstring\u001b[0m\u001b[0;34m.\u001b[0m\u001b[0;34m\u001b[0m\u001b[0m\n\u001b[1;32m   1448\u001b[0m     \"\"\"\n\u001b[0;32m-> 1449\u001b[0;31m     \u001b[0mmodel_config\u001b[0m \u001b[0;34m=\u001b[0m \u001b[0mself\u001b[0m\u001b[0;34m.\u001b[0m\u001b[0m_updated_config\u001b[0m\u001b[0;34m(\u001b[0m\u001b[0;34m)\u001b[0m\u001b[0;34m\u001b[0m\u001b[0m\n\u001b[0m\u001b[1;32m   1450\u001b[0m     return json.dumps(\n\u001b[1;32m   1451\u001b[0m         model_config, default=serialization.get_json_type, **kwargs)\n",
      "\u001b[0;32m~/ai_tests/tf/tf2/venv/lib/python3.5/site-packages/tensorflow/python/keras/engine/network.py\u001b[0m in \u001b[0;36m_updated_config\u001b[0;34m(self)\u001b[0m\n\u001b[1;32m   1425\u001b[0m     \u001b[0;32mfrom\u001b[0m \u001b[0mtensorflow\u001b[0m\u001b[0;34m.\u001b[0m\u001b[0mpython\u001b[0m\u001b[0;34m.\u001b[0m\u001b[0mkeras\u001b[0m \u001b[0;32mimport\u001b[0m \u001b[0m__version__\u001b[0m \u001b[0;32mas\u001b[0m \u001b[0mkeras_version\u001b[0m  \u001b[0;31m# pylint: disable=g-import-not-at-top\u001b[0m\u001b[0;34m\u001b[0m\u001b[0m\n\u001b[1;32m   1426\u001b[0m \u001b[0;34m\u001b[0m\u001b[0m\n\u001b[0;32m-> 1427\u001b[0;31m     \u001b[0mconfig\u001b[0m \u001b[0;34m=\u001b[0m \u001b[0mself\u001b[0m\u001b[0;34m.\u001b[0m\u001b[0mget_config\u001b[0m\u001b[0;34m(\u001b[0m\u001b[0;34m)\u001b[0m\u001b[0;34m\u001b[0m\u001b[0m\n\u001b[0m\u001b[1;32m   1428\u001b[0m     model_config = {\n\u001b[1;32m   1429\u001b[0m         \u001b[0;34m'class_name'\u001b[0m\u001b[0;34m:\u001b[0m \u001b[0mself\u001b[0m\u001b[0;34m.\u001b[0m\u001b[0m__class__\u001b[0m\u001b[0;34m.\u001b[0m\u001b[0m__name__\u001b[0m\u001b[0;34m,\u001b[0m\u001b[0;34m\u001b[0m\u001b[0m\n",
      "\u001b[0;32m~/ai_tests/tf/tf2/venv/lib/python3.5/site-packages/tensorflow/python/keras/engine/sequential.py\u001b[0m in \u001b[0;36mget_config\u001b[0;34m(self)\u001b[0m\n\u001b[1;32m    327\u001b[0m       layer_configs.append({\n\u001b[1;32m    328\u001b[0m           \u001b[0;34m'class_name'\u001b[0m\u001b[0;34m:\u001b[0m \u001b[0mlayer\u001b[0m\u001b[0;34m.\u001b[0m\u001b[0m__class__\u001b[0m\u001b[0;34m.\u001b[0m\u001b[0m__name__\u001b[0m\u001b[0;34m,\u001b[0m\u001b[0;34m\u001b[0m\u001b[0m\n\u001b[0;32m--> 329\u001b[0;31m           \u001b[0;34m'config'\u001b[0m\u001b[0;34m:\u001b[0m \u001b[0mlayer\u001b[0m\u001b[0;34m.\u001b[0m\u001b[0mget_config\u001b[0m\u001b[0;34m(\u001b[0m\u001b[0;34m)\u001b[0m\u001b[0;34m\u001b[0m\u001b[0m\n\u001b[0m\u001b[1;32m    330\u001b[0m       })\n\u001b[1;32m    331\u001b[0m     config = {\n",
      "\u001b[0;32m~/ai_tests/tf/tf2/venv/lib/python3.5/site-packages/tensorflow/python/keras/layers/core.py\u001b[0m in \u001b[0;36mget_config\u001b[0;34m(self)\u001b[0m\n\u001b[1;32m   1065\u001b[0m     config = {\n\u001b[1;32m   1066\u001b[0m         \u001b[0;34m'units'\u001b[0m\u001b[0;34m:\u001b[0m \u001b[0mself\u001b[0m\u001b[0;34m.\u001b[0m\u001b[0munits\u001b[0m\u001b[0;34m,\u001b[0m\u001b[0;34m\u001b[0m\u001b[0m\n\u001b[0;32m-> 1067\u001b[0;31m         \u001b[0;34m'activation'\u001b[0m\u001b[0;34m:\u001b[0m \u001b[0mactivations\u001b[0m\u001b[0;34m.\u001b[0m\u001b[0mserialize\u001b[0m\u001b[0;34m(\u001b[0m\u001b[0mself\u001b[0m\u001b[0;34m.\u001b[0m\u001b[0mactivation\u001b[0m\u001b[0;34m)\u001b[0m\u001b[0;34m,\u001b[0m\u001b[0;34m\u001b[0m\u001b[0m\n\u001b[0m\u001b[1;32m   1068\u001b[0m         \u001b[0;34m'use_bias'\u001b[0m\u001b[0;34m:\u001b[0m \u001b[0mself\u001b[0m\u001b[0;34m.\u001b[0m\u001b[0muse_bias\u001b[0m\u001b[0;34m,\u001b[0m\u001b[0;34m\u001b[0m\u001b[0m\n\u001b[1;32m   1069\u001b[0m         \u001b[0;34m'kernel_initializer'\u001b[0m\u001b[0;34m:\u001b[0m \u001b[0minitializers\u001b[0m\u001b[0;34m.\u001b[0m\u001b[0mserialize\u001b[0m\u001b[0;34m(\u001b[0m\u001b[0mself\u001b[0m\u001b[0;34m.\u001b[0m\u001b[0mkernel_initializer\u001b[0m\u001b[0;34m)\u001b[0m\u001b[0;34m,\u001b[0m\u001b[0;34m\u001b[0m\u001b[0m\n",
      "\u001b[0;32m~/ai_tests/tf/tf2/venv/lib/python3.5/site-packages/tensorflow/python/keras/activations.py\u001b[0m in \u001b[0;36mserialize\u001b[0;34m(activation)\u001b[0m\n\u001b[1;32m    284\u001b[0m \u001b[0;34m@\u001b[0m\u001b[0mkeras_export\u001b[0m\u001b[0;34m(\u001b[0m\u001b[0;34m'keras.activations.serialize'\u001b[0m\u001b[0;34m)\u001b[0m\u001b[0;34m\u001b[0m\u001b[0m\n\u001b[1;32m    285\u001b[0m \u001b[0;32mdef\u001b[0m \u001b[0mserialize\u001b[0m\u001b[0;34m(\u001b[0m\u001b[0mactivation\u001b[0m\u001b[0;34m)\u001b[0m\u001b[0;34m:\u001b[0m\u001b[0;34m\u001b[0m\u001b[0m\n\u001b[0;32m--> 286\u001b[0;31m   \u001b[0;32mif\u001b[0m \u001b[0mactivation\u001b[0m\u001b[0;34m.\u001b[0m\u001b[0m__name__\u001b[0m \u001b[0;32min\u001b[0m \u001b[0m_TF_ACTIVATIONS_V2\u001b[0m\u001b[0;34m:\u001b[0m\u001b[0;34m\u001b[0m\u001b[0m\n\u001b[0m\u001b[1;32m    287\u001b[0m     \u001b[0;32mreturn\u001b[0m \u001b[0m_TF_ACTIVATIONS_V2\u001b[0m\u001b[0;34m[\u001b[0m\u001b[0mactivation\u001b[0m\u001b[0;34m.\u001b[0m\u001b[0m__name__\u001b[0m\u001b[0;34m]\u001b[0m\u001b[0;34m\u001b[0m\u001b[0m\n\u001b[1;32m    288\u001b[0m   \u001b[0;32mreturn\u001b[0m \u001b[0mactivation\u001b[0m\u001b[0;34m.\u001b[0m\u001b[0m__name__\u001b[0m\u001b[0;34m\u001b[0m\u001b[0m\n",
      "\u001b[0;31mAttributeError\u001b[0m: 'LeakyReLU' object has no attribute '__name__'"
     ]
    }
   ],
   "source": [
    "# Problem using keras\n",
    "discriminator.to_json()"
   ]
  },
  {
   "cell_type": "markdown",
   "metadata": {},
   "source": [
    "## References\n",
    "\n",
    "1. <a name=\"bib-web-gantf\"></a>[Building a simple Generative Adversarial Network (GAN) using TensorFlow](https://blog.paperspace.com/implementing-gans-in-tensorflow/)\n",
    "2. <a name=\"bib-web-adversarialtf\"></a>[Generative Adversarial Nets in TensorFlow](https://wiseodd.github.io/techblog/2016/09/17/gan-tensorflow/)\n",
    "3. <a name=\"bib-web-gankeras\"></a>[Generative Adversarial Network(GAN) using Keras](https://medium.com/datadriveninvestor/generative-adversarial-network-gan-using-keras-ce1c05cfdfd3)\n",
    "4. <a name=\"bib-web-poolstride\"></a>[Pooling VS Striding - Striving for Simplicity: The All Convolutional Net](https://arxiv.org/abs/1412.6806)\n",
    "5. <a name=\"bib-web-collapse1\"></a>[Mode collapse: GAN — Why it is so hard to train Generative Adversarial Networks!](https://medium.com/@jonathan_hui/gan-why-it-is-so-hard-to-train-generative-advisory-networks-819a86b3750b)\n",
    "6. <a name=\"bib-web-collapse2\"></a>[Mode collapse: What does it mean if all produced images of a GAN look the same?](https://www.quora.com/What-does-it-mean-if-all-produced-images-of-a-GAN-look-the-same)\n",
    "7. <a name=\"bib-vid-gans\"></a>[NIPS 2016 - Generative Adversarial Networks - Ian Goodfellow](https://www.youtube.com/watch?v=AJVyzd0rqdc)\n",
    "  1. [On divergence](https://www.youtube.com/watch?v=AJVyzd0rqdc&t=52m10s)\n",
    "  1. [On labeled/conditioned GANS](https://www.youtube.com/watch?v=AJVyzd0rqdc&t=1h09m50s)\n",
    "  1. [On mode collapse](https://www.youtube.com/watch?v=AJVyzd0rqdc&t=1h31m53s)\n",
    "  1. [One sided label smoothing](https://www.youtube.com/watch?v=AJVyzd0rqdc&t=1h11m34s)\n",
    "  1. [Question: GANs vs VAEs](https://www.youtube.com/watch?v=AJVyzd0rqdc&t=37m10s)\n",
    "  1. [Question: Sampling distributions uniform VS Norma](https://www.youtube.com/watch?v=AJVyzd0rqdc&t=37m57s)\n",
    "  1. [Question: mode collapse/same sample](https://www.youtube.com/watch?v=AJVyzd0rqdc&t=35m47s)\n",
    "8.  <a name=\"bib-web-tbstarted\"></a>[Get started with TensorBoard](https://www.tensorflow.org/tensorboard/r2/get_started#using_tensorboard_with_other_methods)\n",
    "9. <a name=\"bib-web-codegan1\"></a>[Github: PyTorch-GAN](https://github.com/eriklindernoren/PyTorch-GAN/blob/master/implementations/gan/gan.py)\n",
    "10. [TQDM (status bar library)](https://tqdm.github.io/)\n",
    "11. [Inside TensorFlow: Summaries and TensorBoard](https://www.youtube.com/watch?v=OI4cskHUslQ)\n",
    " "
   ]
  }
 ],
 "metadata": {
  "kernelspec": {
   "display_name": "Python 3",
   "language": "python",
   "name": "python3"
  },
  "language_info": {
   "codemirror_mode": {
    "name": "ipython",
    "version": 3
   },
   "file_extension": ".py",
   "mimetype": "text/x-python",
   "name": "python",
   "nbconvert_exporter": "python",
   "pygments_lexer": "ipython3",
   "version": "3.5.2"
  }
 },
 "nbformat": 4,
 "nbformat_minor": 2
}
