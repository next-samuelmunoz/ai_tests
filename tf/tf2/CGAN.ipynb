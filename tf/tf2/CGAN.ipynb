{
 "cells": [
  {
   "cell_type": "markdown",
   "metadata": {},
   "source": [
    "# Conditional Adversarial Generative Network\n",
    "\n",
    "The intention of this notebook is to create a GAN to generate realistic handwritten digits conditioned to a label from the MNIST dataset."
   ]
  },
  {
   "cell_type": "code",
   "execution_count": 16,
   "metadata": {},
   "outputs": [],
   "source": [
    "import datetime\n",
    "import functools  # reduce\n",
    "import math\n",
    "import operator  # mul\n",
    "\n",
    "import matplotlib.pyplot as plt\n",
    "import numpy as np\n",
    "import sklearn.metrics\n",
    "import seaborn as sns\n",
    "import tensorflow as tf\n",
    "from tqdm import tqdm_notebook\n",
    "\n",
    "from utils.mnist_dataset import MNIST_Dataset\n",
    "from utils.batch import make_batches_all, make_batches_random"
   ]
  },
  {
   "cell_type": "code",
   "execution_count": 17,
   "metadata": {},
   "outputs": [],
   "source": [
    "assert(int(tf.__version__[0])==2)  # Use TensorFlow 2"
   ]
  },
  {
   "cell_type": "code",
   "execution_count": 3,
   "metadata": {},
   "outputs": [],
   "source": [
    "%load_ext tensorboard"
   ]
  },
  {
   "cell_type": "code",
   "execution_count": 18,
   "metadata": {},
   "outputs": [
    {
     "data": {
      "text/plain": [
       "[name: \"/device:CPU:0\"\n",
       " device_type: \"CPU\"\n",
       " memory_limit: 268435456\n",
       " locality {\n",
       " }\n",
       " incarnation: 2762272544199545019, name: \"/device:XLA_CPU:0\"\n",
       " device_type: \"XLA_CPU\"\n",
       " memory_limit: 17179869184\n",
       " locality {\n",
       " }\n",
       " incarnation: 8798111134840723342\n",
       " physical_device_desc: \"device: XLA_CPU device\"]"
      ]
     },
     "execution_count": 18,
     "metadata": {},
     "output_type": "execute_result"
    }
   ],
   "source": [
    "# Check computing units\n",
    "from tensorflow.python.client import device_lib\n",
    "device_lib.list_local_devices()"
   ]
  },
  {
   "cell_type": "markdown",
   "metadata": {},
   "source": [
    "## Constants"
   ]
  },
  {
   "cell_type": "code",
   "execution_count": 19,
   "metadata": {},
   "outputs": [],
   "source": [
    "LOG_PATH = 'log-CGAN'  # For tensorboard, etc.\n",
    "\n",
    "DS_PATH = 'data' # Where de MNIST dataset is located\n",
    "\n",
    "# Hyperparams\n",
    "PARAMS = {\n",
    "    'generator': {\n",
    "        'learning_rate': 0.00001\n",
    "    },\n",
    "    'discriminator': {\n",
    "        'learning_rate': 0.00001\n",
    "    },\n",
    "    'latent_factors': 100,\n",
    "    'epochs': 200,\n",
    "    'batch_size': 64,  # Use an even number\n",
    "    'disc_gen_ratio': 1  # How many times over the generator the discriminator is trained.\n",
    "}"
   ]
  },
  {
   "cell_type": "markdown",
   "metadata": {},
   "source": [
    "## Dataset"
   ]
  },
  {
   "cell_type": "code",
   "execution_count": 6,
   "metadata": {},
   "outputs": [
    {
     "name": "stdout",
     "output_type": "stream",
     "text": [
      "WARNING: directory data/ already exists.\r\n"
     ]
    }
   ],
   "source": [
    "!bash download_mnist.sh {DS_PATH}"
   ]
  },
  {
   "cell_type": "code",
   "execution_count": 20,
   "metadata": {},
   "outputs": [],
   "source": [
    "class Dataset():\n",
    "        \n",
    "    \n",
    "    def __init__(self, ds_path):\n",
    "        self.ds = MNIST_Dataset(ds_path)\n",
    "    \n",
    "    \n",
    "    @staticmethod\n",
    "    def _preprocess_samples(x):\n",
    "        \"\"\"x: tensor of shape (-1, 28, 28) representing the images.\n",
    "        \"\"\"\n",
    "        n,w,h = x.shape\n",
    "        # From 28x28 pixels to 32x32\n",
    "        x_32 = np.pad(\n",
    "            x,\n",
    "            pad_width=((0,0),(2,2),(2,2)),\n",
    "            mode='constant',\n",
    "            constant_values=0\n",
    "        )\n",
    "        x_scaled = (x_32/128)-1 # Scaled -1,1\n",
    "        return x_scaled.reshape(n,32,32,1)\n",
    "    \n",
    "    \n",
    "    @staticmethod\n",
    "    def _preprocess_labels(y):\n",
    "        \"\"\"y: tensor (-1) representing the labels\n",
    "        \"\"\"\n",
    "        return np.eye(10)[y]  # One Hot Encoding\n",
    "    \n",
    "    \n",
    "    @staticmethod\n",
    "    def _generate_cond_data(x,y):\n",
    "        \"\"\"Combine images and labels to generate conditioned data.\n",
    "        x: images 32x32x1 \n",
    "        y: labels 10 OHE\n",
    "        \"\"\"\n",
    "        return np.concatenate(\n",
    "            [\n",
    "                x.reshape((-1,32*32)).astype(np.float32),\n",
    "                y.astype(np.float32)\n",
    "            ],\n",
    "            axis=1\n",
    "        )\n",
    "    \n",
    "    \n",
    "    def train_data(self):\n",
    "        x,y = self.ds.get_train()\n",
    "        x_p = self._preprocess_samples(x)\n",
    "        y_p = self._preprocess_labels(y)\n",
    "        # Take some stats\n",
    "        self.n_classes = y_p.shape[1]\n",
    "        _, *self.img_shape = x_p.shape\n",
    "        return (x_p, y_p, y)"
   ]
  },
  {
   "cell_type": "code",
   "execution_count": 21,
   "metadata": {},
   "outputs": [],
   "source": [
    "# Load the dataset\n",
    "\n",
    "ds = Dataset(DS_PATH)\n",
    "real_imgs, real_labels, real_labels_raw = ds.train_data()  # I don't care about labels"
   ]
  },
  {
   "cell_type": "code",
   "execution_count": 9,
   "metadata": {},
   "outputs": [
    {
     "name": "stdout",
     "output_type": "stream",
     "text": [
      "Real samples: 60000\n",
      "Number of classes: 10\n",
      "Image shape: [32, 32, 1]\n"
     ]
    }
   ],
   "source": [
    "# Stats\n",
    "print(\"Real samples: {}\".format(len(real_imgs)))\n",
    "print(\"Number of classes: {}\".format(ds.n_classes))\n",
    "print(\"Image shape: {}\".format(ds.img_shape))"
   ]
  },
  {
   "cell_type": "markdown",
   "metadata": {},
   "source": [
    "## Model architecture"
   ]
  },
  {
   "cell_type": "markdown",
   "metadata": {},
   "source": [
    "### Generator\n",
    "\n",
    "This model tries to generate realistic images.\n",
    "-  INPUT: Vector (Noise 100 + class 10).\n",
    "-  OUTPUT: Image (32x32)"
   ]
  },
  {
   "cell_type": "code",
   "execution_count": 10,
   "metadata": {},
   "outputs": [],
   "source": [
    "def get_generator(n_latent_factors, n_classes):\n",
    "    \"\"\" From noise to plausible examples.\n",
    "    INPUT: Noise vector of latent factors (-1,1) + label (OHE)\n",
    "    OUTPUT: 32x32x1 (-1,1) grayscale image\n",
    "    \"\"\"\n",
    "    # INPUTS\n",
    "    in_latent = tf.keras.Input(  # Fuck! Don't use \"tf.keras.layers.InputLayer\"\n",
    "        name='gen_IN-LATENT',\n",
    "        shape=(n_latent_factors),\n",
    "        dtype=tf.float32\n",
    "    )\n",
    "    in_label = tf.keras.Input(\n",
    "        name='gen_IN-LABEL',\n",
    "        shape=(n_classes),\n",
    "        dtype=tf.float32\n",
    "    )\n",
    "    in_layer = tf.keras.layers.Concatenate(\n",
    "        name='gen_IN-ALL',\n",
    "        axis=-1\n",
    "    )([in_latent, in_label])\n",
    "    \n",
    "    # MODEL\n",
    "    f1 = tf.keras.layers.Dense(  \n",
    "        name=\"gen_F1\",\n",
    "        units=128,\n",
    "        activation=tf.keras.layers.LeakyReLU(alpha=0.2)\n",
    "    )(in_layer)\n",
    "    f2 = tf.keras.layers.Dense(  \n",
    "        name=\"gen_F2\",\n",
    "        units=256,\n",
    "        activation=tf.keras.layers.LeakyReLU(alpha=0.2)\n",
    "    )(f1)\n",
    "    f3 = tf.keras.layers.Dense(  \n",
    "        name=\"gen_F3\",\n",
    "        units=512,\n",
    "        activation=tf.keras.layers.LeakyReLU(alpha=0.2)\n",
    "    )(f2)\n",
    "    bn1 = tf.keras.layers.BatchNormalization(\n",
    "        momentum=0.8,\n",
    "        name=\"gen_BN1\"\n",
    "    )(f3)\n",
    "    f4 = tf.keras.layers.Dense(  \n",
    "        name=\"gen_F4\",\n",
    "        units=1024,\n",
    "        activation=tf.math.tanh\n",
    "    )(bn1)\n",
    "    reshape = tf.keras.layers.Reshape(\n",
    "        name=\"gen_RESHAPE1\",\n",
    "        target_shape=(32,32,1)\n",
    "    )(f4)\n",
    "    return tf.keras.Model(\n",
    "        name='CGAN-Generator',\n",
    "        inputs=[in_latent, in_label],\n",
    "        outputs=[reshape]\n",
    "    )"
   ]
  },
  {
   "cell_type": "markdown",
   "metadata": {},
   "source": [
    "### Discriminator\n",
    "\n",
    "This model tells the image probability of being real.\n",
    "-  INPUT: Vector ( flattened image 32x32 + class 10)\n",
    "-  OUTPUT: Probability (0,1)"
   ]
  },
  {
   "cell_type": "code",
   "execution_count": 11,
   "metadata": {},
   "outputs": [],
   "source": [
    "def get_discriminator(img_shape, n_classes):\n",
    "    # INPUTS\n",
    "    in_img = tf.keras.Input(\n",
    "        name='disc_IN-IMG',\n",
    "        shape=(img_shape),\n",
    "        dtype=tf.float32\n",
    "    )\n",
    "    in_label = tf.keras.Input(\n",
    "        name='disc_IN-LABEL',\n",
    "        shape=(n_classes),\n",
    "        dtype=tf.float32\n",
    "    )\n",
    "    in_img_1d = tf.keras.layers.Flatten(\n",
    "        name=\"disc_IN-IMG-1D\"\n",
    "    )(in_img)\n",
    "    in_layer = tf.keras.layers.Concatenate(\n",
    "        name='disc_IN-ALL',\n",
    "        axis=-1\n",
    "    )([in_img_1d, in_label])\n",
    "    \n",
    "    # MODEL\n",
    "    f1 = tf.keras.layers.Dense(  \n",
    "        name=\"disc_F1\",\n",
    "        units=512,\n",
    "        activation=tf.keras.layers.LeakyReLU(alpha=0.2)\n",
    "    )(in_layer)\n",
    "    f2 = tf.keras.layers.Dense(  \n",
    "        name=\"disc_F2\",\n",
    "        units=256,\n",
    "        activation=tf.keras.layers.LeakyReLU(alpha=0.2)\n",
    "    )(f1)\n",
    "    f3 = tf.keras.layers.Dense(  \n",
    "        name=\"disc_F3\",\n",
    "        units=1,\n",
    "        activation=tf.math.sigmoid\n",
    "    )(f2)\n",
    "    return tf.keras.Model(\n",
    "        name='CGAN-Discriminator',\n",
    "        inputs=[in_img, in_label],\n",
    "        outputs=[f3]\n",
    "    )"
   ]
  },
  {
   "cell_type": "markdown",
   "metadata": {},
   "source": [
    "### Generative Adversarial Network\n",
    "\n",
    "This model represents the pipeline of the GAN."
   ]
  },
  {
   "cell_type": "code",
   "execution_count": 12,
   "metadata": {},
   "outputs": [],
   "source": [
    "def get_gan(generator, discriminator):\n",
    "    noise = generator.inputs[0]\n",
    "    label = generator.inputs[1]\n",
    "    fake_img = generator(inputs=[noise, label])\n",
    "    prob_real = discriminator(inputs=[fake_img, label])\n",
    "    return tf.keras.Model(\n",
    "        name=\"CGAN\",\n",
    "        inputs=[noise, label],\n",
    "        outputs=[prob_real]\n",
    "    )"
   ]
  },
  {
   "cell_type": "markdown",
   "metadata": {},
   "source": [
    "### Model objects"
   ]
  },
  {
   "cell_type": "code",
   "execution_count": 13,
   "metadata": {},
   "outputs": [
    {
     "name": "stdout",
     "output_type": "stream",
     "text": [
      "Model: \"CGAN-Generator\"\n",
      "__________________________________________________________________________________________________\n",
      "Layer (type)                    Output Shape         Param #     Connected to                     \n",
      "==================================================================================================\n",
      "gen_IN-LATENT (InputLayer)      [(None, 100)]        0                                            \n",
      "__________________________________________________________________________________________________\n",
      "gen_IN-LABEL (InputLayer)       [(None, 10)]         0                                            \n",
      "__________________________________________________________________________________________________\n",
      "gen_IN-ALL (Concatenate)        (None, 110)          0           gen_IN-LATENT[0][0]              \n",
      "                                                                 gen_IN-LABEL[0][0]               \n",
      "__________________________________________________________________________________________________\n",
      "gen_F1 (Dense)                  (None, 128)          14208       gen_IN-ALL[0][0]                 \n",
      "__________________________________________________________________________________________________\n",
      "gen_F2 (Dense)                  (None, 256)          33024       gen_F1[0][0]                     \n",
      "__________________________________________________________________________________________________\n",
      "gen_F3 (Dense)                  (None, 512)          131584      gen_F2[0][0]                     \n",
      "__________________________________________________________________________________________________\n",
      "gen_BN1 (BatchNormalization)    (None, 512)          2048        gen_F3[0][0]                     \n",
      "__________________________________________________________________________________________________\n",
      "gen_F4 (Dense)                  (None, 1024)         525312      gen_BN1[0][0]                    \n",
      "__________________________________________________________________________________________________\n",
      "gen_RESHAPE1 (Reshape)          (None, 32, 32, 1)    0           gen_F4[0][0]                     \n",
      "==================================================================================================\n",
      "Total params: 706,176\n",
      "Trainable params: 705,152\n",
      "Non-trainable params: 1,024\n",
      "__________________________________________________________________________________________________\n",
      "Model: \"CGAN-Discriminator\"\n",
      "__________________________________________________________________________________________________\n",
      "Layer (type)                    Output Shape         Param #     Connected to                     \n",
      "==================================================================================================\n",
      "disc_IN-IMG (InputLayer)        [(None, 32, 32, 1)]  0                                            \n",
      "__________________________________________________________________________________________________\n",
      "disc_IN-IMG-1D (Flatten)        (None, 1024)         0           disc_IN-IMG[0][0]                \n",
      "__________________________________________________________________________________________________\n",
      "disc_IN-LABEL (InputLayer)      [(None, 10)]         0                                            \n",
      "__________________________________________________________________________________________________\n",
      "disc_IN-ALL (Concatenate)       (None, 1034)         0           disc_IN-IMG-1D[0][0]             \n",
      "                                                                 disc_IN-LABEL[0][0]              \n",
      "__________________________________________________________________________________________________\n",
      "disc_F1 (Dense)                 (None, 512)          529920      disc_IN-ALL[0][0]                \n",
      "__________________________________________________________________________________________________\n",
      "disc_F2 (Dense)                 (None, 256)          131328      disc_F1[0][0]                    \n",
      "__________________________________________________________________________________________________\n",
      "disc_F3 (Dense)                 (None, 1)            257         disc_F2[0][0]                    \n",
      "==================================================================================================\n",
      "Total params: 661,505\n",
      "Trainable params: 661,505\n",
      "Non-trainable params: 0\n",
      "__________________________________________________________________________________________________\n",
      "Model: \"CGAN\"\n",
      "__________________________________________________________________________________________________\n",
      "Layer (type)                    Output Shape         Param #     Connected to                     \n",
      "==================================================================================================\n",
      "gen_IN-LATENT (InputLayer)      [(None, 100)]        0                                            \n",
      "__________________________________________________________________________________________________\n",
      "gen_IN-LABEL (InputLayer)       [(None, 10)]         0                                            \n",
      "__________________________________________________________________________________________________\n",
      "CGAN-Generator (Model)          (None, 32, 32, 1)    706176      gen_IN-LATENT[0][0]              \n",
      "                                                                 gen_IN-LABEL[0][0]               \n",
      "__________________________________________________________________________________________________\n",
      "CGAN-Discriminator (Model)      (None, 1)            661505      CGAN-Generator[1][0]             \n",
      "                                                                 gen_IN-LABEL[0][0]               \n",
      "==================================================================================================\n",
      "Total params: 1,367,681\n",
      "Trainable params: 1,366,657\n",
      "Non-trainable params: 1,024\n",
      "__________________________________________________________________________________________________\n"
     ]
    }
   ],
   "source": [
    "generator = get_generator(PARAMS['latent_factors'], ds.n_classes)\n",
    "gen_opt = tf.keras.optimizers.Adam(\n",
    "    learning_rate=PARAMS['generator']['learning_rate']\n",
    ")\n",
    "\n",
    "discriminator = get_discriminator(ds.img_shape, ds.n_classes)\n",
    "disc_opt = tf.keras.optimizers.Adam(\n",
    "    learning_rate=PARAMS['discriminator']['learning_rate']\n",
    ")\n",
    "\n",
    "gan = get_gan(generator, discriminator)\n",
    "\n",
    "generator.summary()\n",
    "discriminator.summary()\n",
    "gan.summary()"
   ]
  },
  {
   "cell_type": "markdown",
   "metadata": {},
   "source": [
    "## Util Functions"
   ]
  },
  {
   "cell_type": "code",
   "execution_count": 23,
   "metadata": {},
   "outputs": [],
   "source": [
    "def sample_latent_factors(n):\n",
    "    \"\"\"Noise sample function.\n",
    "    \"\"\"\n",
    "    return tf.random.uniform(shape=(n, PARAMS['latent_factors']), minval=-1.0, maxval=1.0)  # Naive way.\n",
    "    #return tf.random.normal(shape=(n, PARAMS['latent_factors']), mean=0.0, stddev=1.0)"
   ]
  },
  {
   "cell_type": "code",
   "execution_count": 15,
   "metadata": {},
   "outputs": [],
   "source": [
    "def plot_generated_images(epoch, images, path_out, dim=(10,10), figsize=(32,32)):\n",
    "    epoch = str(epoch).rjust(3,\"0\")\n",
    "    generated_images = images.reshape(-1,32,32)\n",
    "    plt.figure(figsize=figsize)\n",
    "    for i in range(generated_images.shape[0]):\n",
    "        plt.subplot(dim[0], dim[1], i+1)\n",
    "        plt.imshow(generated_images[i], interpolation='nearest', cmap='gray')\n",
    "        plt.axis('off')\n",
    "    plt.tight_layout()\n",
    "    plt.suptitle('Epoch: {}'.format(epoch), fontsize=75, horizontalalignment='center', verticalalignment='top', backgroundcolor=\"black\", color='yellow', weight='bold')\n",
    "    plt.savefig(path_out + '/generator_{}.png'.format(epoch))\n",
    "    plt.close()\n",
    "    return None"
   ]
  },
  {
   "cell_type": "markdown",
   "metadata": {},
   "source": [
    "## Operative"
   ]
  },
  {
   "cell_type": "code",
   "execution_count": 16,
   "metadata": {},
   "outputs": [],
   "source": [
    "def train_step(model, optimizer, fn_loss, x_train, y_train):\n",
    "    \"\"\"Training step for a model.\n",
    "    \"\"\"\n",
    "    with tf.GradientTape() as tape:\n",
    "        predictions = model(x_train, training=True)\n",
    "        loss = fn_loss(y_train, predictions)\n",
    "    grads = tape.gradient(loss, model.trainable_variables)\n",
    "    optimizer.apply_gradients(zip(grads, model.trainable_variables))\n",
    "    return loss"
   ]
  },
  {
   "cell_type": "code",
   "execution_count": 17,
   "metadata": {},
   "outputs": [],
   "source": [
    "def fn_loss(y_true, y_pred):\n",
    "    \"\"\"Loss function.\n",
    "    Log loss or cross-entropy.\n",
    "    \n",
    "    NOTE: it is possible to use tf.keras.losses.BinaryCrossentropy() alone.\n",
    "    param reduction='SUM_OVER_BATCH_SIZE'  works the same.\n",
    "    \"\"\"\n",
    "    return tf.math.reduce_mean(\n",
    "        tf.keras.losses.binary_crossentropy(\n",
    "            y_true=y_true,\n",
    "            y_pred=y_pred,\n",
    "            label_smoothing = 0,  # Not useful since I only need one sided label smoothing\n",
    "            from_logits=False\n",
    "        )\n",
    "    )"
   ]
  },
  {
   "cell_type": "code",
   "execution_count": 6,
   "metadata": {},
   "outputs": [],
   "source": [
    "# Tensorboard writers\n",
    "\n",
    "log_dir = LOG_PATH + '/' + datetime.datetime.now().strftime(\"%Y%m%d-%H%M%S\")\n",
    "gen_summary_writer = tf.summary.create_file_writer(log_dir + '/gen')\n",
    "disc_summary_writer = tf.summary.create_file_writer(log_dir + '/disc')\n",
    "\n",
    "img_out_dir = log_dir + '/imgs'"
   ]
  },
  {
   "cell_type": "code",
   "execution_count": 19,
   "metadata": {},
   "outputs": [],
   "source": [
    "!mkdir {img_out_dir}"
   ]
  },
  {
   "cell_type": "code",
   "execution_count": 20,
   "metadata": {},
   "outputs": [],
   "source": [
    "def evaluate(generator, discriminator, val_real_imgs, val_real_labels, val_fake_imgs, val_fake_labels):\n",
    "    n = len(val_real_imgs)\n",
    "    y_true = tf.concat([tf.fill((n,1), 1.0),tf.fill((n,1), 0.0)], axis=0)\n",
    "    y_pred = discriminator(\n",
    "        inputs=[\n",
    "            tf.concat([val_real_imgs, val_fake_imgs ],axis=0),     # imgs\n",
    "            tf.concat([val_real_labels, val_fake_labels ],axis=0)  # labels\n",
    "        ]\n",
    "    )\n",
    "    y_true_bin = y_true.numpy().flatten()\n",
    "    y_pred_bin = np.where(y_pred.numpy().flatten()>=0.5, 1, 0)\n",
    "\n",
    "    # Metrics\n",
    "    cf = sklearn.metrics.confusion_matrix(y_true, y_pred_bin)\n",
    "    tn, fp, fn, tp = cf.ravel()\n",
    "    return {\n",
    "        'disc_loss': fn_loss(y_true, y_pred),\n",
    "        'gen_loss': fn_loss(tf.fill((n,1), 1.0), discriminator(inputs=[val_fake_imgs, val_fake_labels])),\n",
    "        'acc': sklearn.metrics.accuracy_score(y_true, y_pred_bin),\n",
    "        'fpr': fp/(fp+tn), # False positive ratio\n",
    "        'cm': cf\n",
    "    }"
   ]
  },
  {
   "cell_type": "markdown",
   "metadata": {},
   "source": [
    "## Training"
   ]
  },
  {
   "cell_type": "code",
   "execution_count": 22,
   "metadata": {},
   "outputs": [],
   "source": [
    "\"\"\" Validation data\n",
    "\n",
    "Sample a balanced validation dataset\n",
    "\"\"\"\n",
    "def sample_balanced(labels, classes, n):\n",
    "    i_sampled = {x:set() for x in classes}  # Dict of set of indices per class\n",
    "    found = False\n",
    "    while not found:\n",
    "        indices = np.random.randint(0, len(real_imgs), n*len(classes)*2)\n",
    "        for i in indices:\n",
    "            i_sampled[labels[i]].add(i)\n",
    "        if all([len(x)>=20 for x in i_sampled.values()]):\n",
    "            found = True\n",
    "    indices_balanced = np.array([\n",
    "        list(x)[:20]\n",
    "        for x\n",
    "        in i_sampled.values()\n",
    "    ]).flatten()\n",
    "    return indices_balanced\n",
    "\n",
    "\n",
    "# Validation data\n",
    "val_indices = sample_balanced(\n",
    "    labels=real_labels_raw,\n",
    "    classes=range(ds.n_classes),\n",
    "    n=20\n",
    ")\n",
    "val_real_imgs = tf.convert_to_tensor(\n",
    "    real_imgs[val_indices],\n",
    "    dtype=tf.float32\n",
    ")\n",
    "val_real_labels = tf.convert_to_tensor(\n",
    "    real_labels[val_indices],\n",
    "    dtype=tf.float32\n",
    ")\n",
    "\n",
    "\n",
    "val_fake_params = tf.convert_to_tensor(\n",
    "    sample_latent_factors(200),  # Used to generate a fake image\n",
    "    dtype=tf.float32\n",
    ")\n",
    "val_fake_labels = tf.convert_to_tensor(\n",
    "    ds._preprocess_labels(np.array(list(range(10))*20)),\n",
    "    dtype=tf.float32\n",
    ")"
   ]
  },
  {
   "cell_type": "code",
   "execution_count": 23,
   "metadata": {},
   "outputs": [],
   "source": [
    "# Precalculate batch labels to gain speed.\n",
    "\n",
    "bs = PARAMS['batch_size']\n",
    "n_batches = math.ceil(len(real_imgs)*2 / bs) # Real + Fake data / batch_size\n",
    "\n",
    "# Discriminator labels\n",
    "disc_y = tf.concat(\n",
    "    [\n",
    "        tf.fill((bs//2,1), 0.95), # Real. One sided label smoothing\n",
    "        tf.fill((bs//2,1), 0.0)   # Fake\n",
    "    ],\n",
    "    axis=0\n",
    ")\n",
    "\n",
    "# Generator labels\n",
    "gen_y = tf.fill((bs,1), 1.0)  # Do not smooth generator samples!!\n",
    "\n",
    "assert(len(disc_y)==len(gen_y))\n",
    "\n",
    "\n",
    "\n",
    "# Generator for real data, random sampling strategy\n",
    "x_real_g = make_batches_random(\n",
    "    x=real_imgs,\n",
    "    y=real_labels,\n",
    "    batch_size=bs//2,\n",
    "    stop_after_epoch=False\n",
    ")"
   ]
  },
  {
   "cell_type": "markdown",
   "metadata": {},
   "source": [
    "### Tensorboard\n",
    "\n",
    "We will track the metrics evolution and the generated images with Tensorboard."
   ]
  },
  {
   "cell_type": "code",
   "execution_count": null,
   "metadata": {},
   "outputs": [],
   "source": [
    "%tensorboard --logdir {log_dir}"
   ]
  },
  {
   "cell_type": "markdown",
   "metadata": {},
   "source": [
    "### Taining loop"
   ]
  },
  {
   "cell_type": "code",
   "execution_count": 24,
   "metadata": {
    "scrolled": true
   },
   "outputs": [
    {
     "data": {
      "application/vnd.jupyter.widget-view+json": {
       "model_id": "1b56b71e63b844b6942d05efa36ecabf",
       "version_major": 2,
       "version_minor": 0
      },
      "text/plain": [
       "HBox(children=(IntProgress(value=0, description='Epoch: 0 ', max=1875, style=ProgressStyle(description_width='…"
      ]
     },
     "metadata": {},
     "output_type": "display_data"
    },
    {
     "name": "stderr",
     "output_type": "stream",
     "text": [
      "WARNING: Logging before flag parsing goes to stderr.\n",
      "W0701 16:26:53.034338 139831295166208 deprecation.py:323] From /home/samuelmunoz/beeva/ai_tests/tf/tf2/venv/lib/python3.5/site-packages/tensorflow/python/ops/math_grad.py:1220: add_dispatch_support.<locals>.wrapper (from tensorflow.python.ops.array_ops) is deprecated and will be removed in a future version.\n",
      "Instructions for updating:\n",
      "Use tf.where in 2.0, which has the same broadcast rule as np.where\n"
     ]
    },
    {
     "name": "stdout",
     "output_type": "stream",
     "text": [
      "\n",
      "disc_loss\t0.041314538568258286\n",
      "acc\t1.0\n",
      "gen_loss\t3.700199604034424\n",
      "fpr\t0.0\n",
      "cm\t[[200   0]\n",
      " [  0 200]]\n"
     ]
    },
    {
     "data": {
      "application/vnd.jupyter.widget-view+json": {
       "model_id": "d0f5cf14d66d4caab75b658901d81926",
       "version_major": 2,
       "version_minor": 0
      },
      "text/plain": [
       "HBox(children=(IntProgress(value=0, description='Epoch: 1 ', max=1875, style=ProgressStyle(description_width='…"
      ]
     },
     "metadata": {},
     "output_type": "display_data"
    },
    {
     "name": "stdout",
     "output_type": "stream",
     "text": [
      "\n",
      "disc_loss\t0.06568492203950882\n",
      "acc\t0.995\n",
      "gen_loss\t3.0146265029907227\n",
      "fpr\t0.0\n",
      "cm\t[[200   0]\n",
      " [  2 198]]\n"
     ]
    },
    {
     "data": {
      "application/vnd.jupyter.widget-view+json": {
       "model_id": "b3670dfa51194e72a52786793e2652c2",
       "version_major": 2,
       "version_minor": 0
      },
      "text/plain": [
       "HBox(children=(IntProgress(value=0, description='Epoch: 2 ', max=1875, style=ProgressStyle(description_width='…"
      ]
     },
     "metadata": {},
     "output_type": "display_data"
    },
    {
     "name": "stdout",
     "output_type": "stream",
     "text": [
      "\n",
      "disc_loss\t0.049295131117105484\n",
      "acc\t0.995\n",
      "gen_loss\t3.8044073581695557\n",
      "fpr\t0.0\n",
      "cm\t[[200   0]\n",
      " [  2 198]]\n"
     ]
    },
    {
     "data": {
      "application/vnd.jupyter.widget-view+json": {
       "model_id": "9cd046ba705f4faea7806d5a5e73d3b8",
       "version_major": 2,
       "version_minor": 0
      },
      "text/plain": [
       "HBox(children=(IntProgress(value=0, description='Epoch: 3 ', max=1875, style=ProgressStyle(description_width='…"
      ]
     },
     "metadata": {},
     "output_type": "display_data"
    },
    {
     "name": "stdout",
     "output_type": "stream",
     "text": [
      "\n",
      "disc_loss\t0.03338859602808952\n",
      "acc\t1.0\n",
      "gen_loss\t4.6417012214660645\n",
      "fpr\t0.0\n",
      "cm\t[[200   0]\n",
      " [  0 200]]\n"
     ]
    },
    {
     "data": {
      "application/vnd.jupyter.widget-view+json": {
       "model_id": "b36dbb27f4e14b7099b1abcd22b25a70",
       "version_major": 2,
       "version_minor": 0
      },
      "text/plain": [
       "HBox(children=(IntProgress(value=0, description='Epoch: 4 ', max=1875, style=ProgressStyle(description_width='…"
      ]
     },
     "metadata": {},
     "output_type": "display_data"
    },
    {
     "name": "stdout",
     "output_type": "stream",
     "text": [
      "\n",
      "disc_loss\t0.06034475937485695\n",
      "acc\t1.0\n",
      "gen_loss\t4.0069260597229\n",
      "fpr\t0.0\n",
      "cm\t[[200   0]\n",
      " [  0 200]]\n"
     ]
    },
    {
     "data": {
      "application/vnd.jupyter.widget-view+json": {
       "model_id": "10bddf04a6294a54bbb31dc072bc277d",
       "version_major": 2,
       "version_minor": 0
      },
      "text/plain": [
       "HBox(children=(IntProgress(value=0, description='Epoch: 5 ', max=1875, style=ProgressStyle(description_width='…"
      ]
     },
     "metadata": {},
     "output_type": "display_data"
    },
    {
     "name": "stdout",
     "output_type": "stream",
     "text": [
      "\n",
      "disc_loss\t0.17639358341693878\n",
      "acc\t0.98\n",
      "gen_loss\t2.0716214179992676\n",
      "fpr\t0.0\n",
      "cm\t[[200   0]\n",
      " [  8 192]]\n"
     ]
    },
    {
     "data": {
      "application/vnd.jupyter.widget-view+json": {
       "model_id": "cf4e54b882494182bd9c08a6919561d5",
       "version_major": 2,
       "version_minor": 0
      },
      "text/plain": [
       "HBox(children=(IntProgress(value=0, description='Epoch: 6 ', max=1875, style=ProgressStyle(description_width='…"
      ]
     },
     "metadata": {},
     "output_type": "display_data"
    },
    {
     "name": "stdout",
     "output_type": "stream",
     "text": [
      "\n",
      "disc_loss\t0.4289868175983429\n",
      "acc\t0.8675\n",
      "gen_loss\t1.3951783180236816\n",
      "fpr\t0.0\n",
      "cm\t[[200   0]\n",
      " [ 53 147]]\n"
     ]
    },
    {
     "data": {
      "application/vnd.jupyter.widget-view+json": {
       "model_id": "3e35dd2374e24c2cae070cb423f5c834",
       "version_major": 2,
       "version_minor": 0
      },
      "text/plain": [
       "HBox(children=(IntProgress(value=0, description='Epoch: 7 ', max=1875, style=ProgressStyle(description_width='…"
      ]
     },
     "metadata": {},
     "output_type": "display_data"
    },
    {
     "name": "stdout",
     "output_type": "stream",
     "text": [
      "\n",
      "disc_loss\t0.6344478130340576\n",
      "acc\t0.7325\n",
      "gen_loss\t0.7909109592437744\n",
      "fpr\t0.17\n",
      "cm\t[[166  34]\n",
      " [ 73 127]]\n"
     ]
    },
    {
     "data": {
      "application/vnd.jupyter.widget-view+json": {
       "model_id": "8b9b79a938784275a93255bbc8b71771",
       "version_major": 2,
       "version_minor": 0
      },
      "text/plain": [
       "HBox(children=(IntProgress(value=0, description='Epoch: 8 ', max=1875, style=ProgressStyle(description_width='…"
      ]
     },
     "metadata": {},
     "output_type": "display_data"
    },
    {
     "name": "stdout",
     "output_type": "stream",
     "text": [
      "\n",
      "disc_loss\t0.6787976026535034\n",
      "acc\t0.575\n",
      "gen_loss\t0.7484256625175476\n",
      "fpr\t0.47\n",
      "cm\t[[106  94]\n",
      " [ 76 124]]\n"
     ]
    },
    {
     "data": {
      "application/vnd.jupyter.widget-view+json": {
       "model_id": "1f794ac74ae44afe8c4f0c06c0660b24",
       "version_major": 2,
       "version_minor": 0
      },
      "text/plain": [
       "HBox(children=(IntProgress(value=0, description='Epoch: 9 ', max=1875, style=ProgressStyle(description_width='…"
      ]
     },
     "metadata": {},
     "output_type": "display_data"
    },
    {
     "name": "stdout",
     "output_type": "stream",
     "text": [
      "\n",
      "disc_loss\t0.6755480766296387\n",
      "acc\t0.725\n",
      "gen_loss\t0.9410264492034912\n",
      "fpr\t0.005\n",
      "cm\t[[199   1]\n",
      " [109  91]]\n"
     ]
    },
    {
     "data": {
      "application/vnd.jupyter.widget-view+json": {
       "model_id": "44569ca7ba524996850dae683d5ee5e9",
       "version_major": 2,
       "version_minor": 0
      },
      "text/plain": [
       "HBox(children=(IntProgress(value=0, description='Epoch: 10 ', max=1875, style=ProgressStyle(description_width=…"
      ]
     },
     "metadata": {},
     "output_type": "display_data"
    },
    {
     "name": "stdout",
     "output_type": "stream",
     "text": [
      "\n",
      "disc_loss\t0.7401006817817688\n",
      "acc\t0.4425\n",
      "gen_loss\t0.6218977570533752\n",
      "fpr\t0.735\n",
      "cm\t[[ 53 147]\n",
      " [ 76 124]]\n"
     ]
    },
    {
     "data": {
      "application/vnd.jupyter.widget-view+json": {
       "model_id": "ab11bae4134a44e397e5dab9da952230",
       "version_major": 2,
       "version_minor": 0
      },
      "text/plain": [
       "HBox(children=(IntProgress(value=0, description='Epoch: 11 ', max=1875, style=ProgressStyle(description_width=…"
      ]
     },
     "metadata": {},
     "output_type": "display_data"
    },
    {
     "name": "stdout",
     "output_type": "stream",
     "text": [
      "\n",
      "disc_loss\t0.7362873554229736\n",
      "acc\t0.645\n",
      "gen_loss\t0.8835414052009583\n",
      "fpr\t0.075\n",
      "cm\t[[185  15]\n",
      " [127  73]]\n"
     ]
    },
    {
     "data": {
      "application/vnd.jupyter.widget-view+json": {
       "model_id": "8912b2a711344bcda24f405fe39a3f95",
       "version_major": 2,
       "version_minor": 0
      },
      "text/plain": [
       "HBox(children=(IntProgress(value=0, description='Epoch: 12 ', max=1875, style=ProgressStyle(description_width=…"
      ]
     },
     "metadata": {},
     "output_type": "display_data"
    },
    {
     "name": "stdout",
     "output_type": "stream",
     "text": [
      "\n",
      "disc_loss\t0.7177361845970154\n",
      "acc\t0.6625\n",
      "gen_loss\t0.7981474995613098\n",
      "fpr\t0.14\n",
      "cm\t[[172  28]\n",
      " [107  93]]\n"
     ]
    },
    {
     "data": {
      "application/vnd.jupyter.widget-view+json": {
       "model_id": "081c9601b6a24ddea935c1de195e907e",
       "version_major": 2,
       "version_minor": 0
      },
      "text/plain": [
       "HBox(children=(IntProgress(value=0, description='Epoch: 13 ', max=1875, style=ProgressStyle(description_width=…"
      ]
     },
     "metadata": {},
     "output_type": "display_data"
    },
    {
     "name": "stdout",
     "output_type": "stream",
     "text": [
      "\n",
      "disc_loss\t0.6942442059516907\n",
      "acc\t0.62\n",
      "gen_loss\t0.7909191846847534\n",
      "fpr\t0.285\n",
      "cm\t[[143  57]\n",
      " [ 95 105]]\n"
     ]
    },
    {
     "data": {
      "application/vnd.jupyter.widget-view+json": {
       "model_id": "f1394951648a410ea9b0aad9f42fc375",
       "version_major": 2,
       "version_minor": 0
      },
      "text/plain": [
       "HBox(children=(IntProgress(value=0, description='Epoch: 14 ', max=1875, style=ProgressStyle(description_width=…"
      ]
     },
     "metadata": {},
     "output_type": "display_data"
    },
    {
     "name": "stdout",
     "output_type": "stream",
     "text": [
      "\n",
      "disc_loss\t0.7058326601982117\n",
      "acc\t0.6175\n",
      "gen_loss\t0.8072373867034912\n",
      "fpr\t0.19\n",
      "cm\t[[162  38]\n",
      " [115  85]]\n"
     ]
    },
    {
     "data": {
      "application/vnd.jupyter.widget-view+json": {
       "model_id": "9f3c44b453e7492c8cb6a9cc22635566",
       "version_major": 2,
       "version_minor": 0
      },
      "text/plain": [
       "HBox(children=(IntProgress(value=0, description='Epoch: 15 ', max=1875, style=ProgressStyle(description_width=…"
      ]
     },
     "metadata": {},
     "output_type": "display_data"
    },
    {
     "name": "stdout",
     "output_type": "stream",
     "text": [
      "\n",
      "disc_loss\t0.7340467572212219\n",
      "acc\t0.4525\n",
      "gen_loss\t0.6475743055343628\n",
      "fpr\t0.65\n",
      "cm\t[[ 70 130]\n",
      " [ 89 111]]\n"
     ]
    },
    {
     "data": {
      "application/vnd.jupyter.widget-view+json": {
       "model_id": "94d7ba78b3ab4d3a906545d6128e12e4",
       "version_major": 2,
       "version_minor": 0
      },
      "text/plain": [
       "HBox(children=(IntProgress(value=0, description='Epoch: 16 ', max=1875, style=ProgressStyle(description_width=…"
      ]
     },
     "metadata": {},
     "output_type": "display_data"
    },
    {
     "name": "stdout",
     "output_type": "stream",
     "text": [
      "\n",
      "disc_loss\t0.7288604974746704\n",
      "acc\t0.5925\n",
      "gen_loss\t0.7745663523674011\n",
      "fpr\t0.295\n",
      "cm\t[[141  59]\n",
      " [104  96]]\n"
     ]
    },
    {
     "data": {
      "application/vnd.jupyter.widget-view+json": {
       "model_id": "d55d8306431e495d9f1e50f1d89dff51",
       "version_major": 2,
       "version_minor": 0
      },
      "text/plain": [
       "HBox(children=(IntProgress(value=0, description='Epoch: 17 ', max=1875, style=ProgressStyle(description_width=…"
      ]
     },
     "metadata": {},
     "output_type": "display_data"
    },
    {
     "name": "stdout",
     "output_type": "stream",
     "text": [
      "\n",
      "disc_loss\t0.6689651608467102\n",
      "acc\t0.7025\n",
      "gen_loss\t1.0161701440811157\n",
      "fpr\t0.005\n",
      "cm\t[[199   1]\n",
      " [118  82]]\n"
     ]
    },
    {
     "data": {
      "application/vnd.jupyter.widget-view+json": {
       "model_id": "960e7399105d4cb5a171a33f09531a4e",
       "version_major": 2,
       "version_minor": 0
      },
      "text/plain": [
       "HBox(children=(IntProgress(value=0, description='Epoch: 18 ', max=1875, style=ProgressStyle(description_width=…"
      ]
     },
     "metadata": {},
     "output_type": "display_data"
    },
    {
     "name": "stdout",
     "output_type": "stream",
     "text": [
      "\n",
      "disc_loss\t0.7207965850830078\n",
      "acc\t0.5125\n",
      "gen_loss\t0.6664628386497498\n",
      "fpr\t0.515\n",
      "cm\t[[ 97 103]\n",
      " [ 92 108]]\n"
     ]
    },
    {
     "data": {
      "application/vnd.jupyter.widget-view+json": {
       "model_id": "3c0b14c2a9784dd19d8dacc53f32b7c7",
       "version_major": 2,
       "version_minor": 0
      },
      "text/plain": [
       "HBox(children=(IntProgress(value=0, description='Epoch: 19 ', max=1875, style=ProgressStyle(description_width=…"
      ]
     },
     "metadata": {},
     "output_type": "display_data"
    },
    {
     "name": "stdout",
     "output_type": "stream",
     "text": [
      "\n",
      "disc_loss\t0.6951749920845032\n",
      "acc\t0.56\n",
      "gen_loss\t0.7340133190155029\n",
      "fpr\t0.4\n",
      "cm\t[[120  80]\n",
      " [ 96 104]]\n"
     ]
    },
    {
     "data": {
      "application/vnd.jupyter.widget-view+json": {
       "model_id": "430a9e6d749845748079f0edde47542f",
       "version_major": 2,
       "version_minor": 0
      },
      "text/plain": [
       "HBox(children=(IntProgress(value=0, description='Epoch: 20 ', max=1875, style=ProgressStyle(description_width=…"
      ]
     },
     "metadata": {},
     "output_type": "display_data"
    },
    {
     "name": "stdout",
     "output_type": "stream",
     "text": [
      "\n",
      "disc_loss\t0.7021076679229736\n",
      "acc\t0.4875\n",
      "gen_loss\t0.6432960629463196\n",
      "fpr\t0.68\n",
      "cm\t[[ 64 136]\n",
      " [ 69 131]]\n"
     ]
    },
    {
     "data": {
      "application/vnd.jupyter.widget-view+json": {
       "model_id": "738b35d51ab74994bbb3dad4a5492d1a",
       "version_major": 2,
       "version_minor": 0
      },
      "text/plain": [
       "HBox(children=(IntProgress(value=0, description='Epoch: 21 ', max=1875, style=ProgressStyle(description_width=…"
      ]
     },
     "metadata": {},
     "output_type": "display_data"
    },
    {
     "name": "stdout",
     "output_type": "stream",
     "text": [
      "\n",
      "disc_loss\t0.6957985162734985\n",
      "acc\t0.5725\n",
      "gen_loss\t0.8139085173606873\n",
      "fpr\t0.34\n",
      "cm\t[[132  68]\n",
      " [103  97]]\n"
     ]
    },
    {
     "data": {
      "application/vnd.jupyter.widget-view+json": {
       "model_id": "79c7bb9566a141018c5cf17959dcb089",
       "version_major": 2,
       "version_minor": 0
      },
      "text/plain": [
       "HBox(children=(IntProgress(value=0, description='Epoch: 22 ', max=1875, style=ProgressStyle(description_width=…"
      ]
     },
     "metadata": {},
     "output_type": "display_data"
    },
    {
     "name": "stdout",
     "output_type": "stream",
     "text": [
      "\n",
      "disc_loss\t0.696357250213623\n",
      "acc\t0.5675\n",
      "gen_loss\t0.7714405655860901\n",
      "fpr\t0.355\n",
      "cm\t[[129  71]\n",
      " [102  98]]\n"
     ]
    },
    {
     "data": {
      "application/vnd.jupyter.widget-view+json": {
       "model_id": "d5119705e1004959bb5e0219b0421a17",
       "version_major": 2,
       "version_minor": 0
      },
      "text/plain": [
       "HBox(children=(IntProgress(value=0, description='Epoch: 23 ', max=1875, style=ProgressStyle(description_width=…"
      ]
     },
     "metadata": {},
     "output_type": "display_data"
    },
    {
     "name": "stdout",
     "output_type": "stream",
     "text": [
      "\n",
      "disc_loss\t0.6811054944992065\n",
      "acc\t0.6375\n",
      "gen_loss\t0.8738996386528015\n",
      "fpr\t0.16\n",
      "cm\t[[168  32]\n",
      " [113  87]]\n"
     ]
    },
    {
     "data": {
      "application/vnd.jupyter.widget-view+json": {
       "model_id": "8539f362a23345bc9d890cfb1e44adf3",
       "version_major": 2,
       "version_minor": 0
      },
      "text/plain": [
       "HBox(children=(IntProgress(value=0, description='Epoch: 24 ', max=1875, style=ProgressStyle(description_width=…"
      ]
     },
     "metadata": {},
     "output_type": "display_data"
    },
    {
     "name": "stdout",
     "output_type": "stream",
     "text": [
      "\n",
      "disc_loss\t0.6762863993644714\n",
      "acc\t0.6025\n",
      "gen_loss\t0.828896164894104\n",
      "fpr\t0.27\n",
      "cm\t[[146  54]\n",
      " [105  95]]\n"
     ]
    },
    {
     "data": {
      "application/vnd.jupyter.widget-view+json": {
       "model_id": "db810eb05f36435798ebc6f04b5056da",
       "version_major": 2,
       "version_minor": 0
      },
      "text/plain": [
       "HBox(children=(IntProgress(value=0, description='Epoch: 25 ', max=1875, style=ProgressStyle(description_width=…"
      ]
     },
     "metadata": {},
     "output_type": "display_data"
    },
    {
     "name": "stdout",
     "output_type": "stream",
     "text": [
      "\n",
      "disc_loss\t0.6577810645103455\n",
      "acc\t0.635\n",
      "gen_loss\t0.7909631133079529\n",
      "fpr\t0.3\n",
      "cm\t[[140  60]\n",
      " [ 86 114]]\n"
     ]
    },
    {
     "data": {
      "application/vnd.jupyter.widget-view+json": {
       "model_id": "1e2a695b083d4e9c8f8ee69c49efc9b9",
       "version_major": 2,
       "version_minor": 0
      },
      "text/plain": [
       "HBox(children=(IntProgress(value=0, description='Epoch: 26 ', max=1875, style=ProgressStyle(description_width=…"
      ]
     },
     "metadata": {},
     "output_type": "display_data"
    },
    {
     "name": "stdout",
     "output_type": "stream",
     "text": [
      "\n",
      "disc_loss\t0.6576911807060242\n",
      "acc\t0.665\n",
      "gen_loss\t0.8024964332580566\n",
      "fpr\t0.24\n",
      "cm\t[[152  48]\n",
      " [ 86 114]]\n"
     ]
    },
    {
     "data": {
      "application/vnd.jupyter.widget-view+json": {
       "model_id": "c5d799fd8b0f4eb7809801595a61e65d",
       "version_major": 2,
       "version_minor": 0
      },
      "text/plain": [
       "HBox(children=(IntProgress(value=0, description='Epoch: 27 ', max=1875, style=ProgressStyle(description_width=…"
      ]
     },
     "metadata": {},
     "output_type": "display_data"
    },
    {
     "name": "stdout",
     "output_type": "stream",
     "text": [
      "\n",
      "disc_loss\t0.7156436443328857\n",
      "acc\t0.54\n",
      "gen_loss\t0.7376613616943359\n",
      "fpr\t0.405\n",
      "cm\t[[119  81]\n",
      " [103  97]]\n"
     ]
    },
    {
     "data": {
      "application/vnd.jupyter.widget-view+json": {
       "model_id": "c56e385ff0814382b6b4ddcbf74030ab",
       "version_major": 2,
       "version_minor": 0
      },
      "text/plain": [
       "HBox(children=(IntProgress(value=0, description='Epoch: 28 ', max=1875, style=ProgressStyle(description_width=…"
      ]
     },
     "metadata": {},
     "output_type": "display_data"
    },
    {
     "name": "stdout",
     "output_type": "stream",
     "text": [
      "\n",
      "disc_loss\t0.6874828934669495\n",
      "acc\t0.6\n",
      "gen_loss\t0.7716481685638428\n",
      "fpr\t0.315\n",
      "cm\t[[137  63]\n",
      " [ 97 103]]\n"
     ]
    },
    {
     "data": {
      "application/vnd.jupyter.widget-view+json": {
       "model_id": "c496c1cb9abc4684ba2742b738995135",
       "version_major": 2,
       "version_minor": 0
      },
      "text/plain": [
       "HBox(children=(IntProgress(value=0, description='Epoch: 29 ', max=1875, style=ProgressStyle(description_width=…"
      ]
     },
     "metadata": {},
     "output_type": "display_data"
    },
    {
     "name": "stdout",
     "output_type": "stream",
     "text": [
      "\n",
      "disc_loss\t0.7084326148033142\n",
      "acc\t0.6225\n",
      "gen_loss\t0.8080108165740967\n",
      "fpr\t0.24\n",
      "cm\t[[152  48]\n",
      " [103  97]]\n"
     ]
    },
    {
     "data": {
      "application/vnd.jupyter.widget-view+json": {
       "model_id": "dc49574765e94aaabad79b73277ee586",
       "version_major": 2,
       "version_minor": 0
      },
      "text/plain": [
       "HBox(children=(IntProgress(value=0, description='Epoch: 30 ', max=1875, style=ProgressStyle(description_width=…"
      ]
     },
     "metadata": {},
     "output_type": "display_data"
    },
    {
     "name": "stdout",
     "output_type": "stream",
     "text": [
      "\n",
      "disc_loss\t0.7118682861328125\n",
      "acc\t0.59\n",
      "gen_loss\t0.8317280411720276\n",
      "fpr\t0.21\n",
      "cm\t[[158  42]\n",
      " [122  78]]\n"
     ]
    },
    {
     "data": {
      "application/vnd.jupyter.widget-view+json": {
       "model_id": "6eac80c4ee5944bbb9b0bb12b28e6a9f",
       "version_major": 2,
       "version_minor": 0
      },
      "text/plain": [
       "HBox(children=(IntProgress(value=0, description='Epoch: 31 ', max=1875, style=ProgressStyle(description_width=…"
      ]
     },
     "metadata": {},
     "output_type": "display_data"
    },
    {
     "name": "stdout",
     "output_type": "stream",
     "text": [
      "\n",
      "disc_loss\t0.6870040893554688\n",
      "acc\t0.6325\n",
      "gen_loss\t0.9256079196929932\n",
      "fpr\t0.07\n",
      "cm\t[[186  14]\n",
      " [133  67]]\n"
     ]
    },
    {
     "data": {
      "application/vnd.jupyter.widget-view+json": {
       "model_id": "fe7e8648a4314711a98182f8407ab3ce",
       "version_major": 2,
       "version_minor": 0
      },
      "text/plain": [
       "HBox(children=(IntProgress(value=0, description='Epoch: 32 ', max=1875, style=ProgressStyle(description_width=…"
      ]
     },
     "metadata": {},
     "output_type": "display_data"
    },
    {
     "name": "stdout",
     "output_type": "stream",
     "text": [
      "\n",
      "disc_loss\t0.6590631604194641\n",
      "acc\t0.6425\n",
      "gen_loss\t0.8121544122695923\n",
      "fpr\t0.255\n",
      "cm\t[[149  51]\n",
      " [ 92 108]]\n"
     ]
    },
    {
     "data": {
      "application/vnd.jupyter.widget-view+json": {
       "model_id": "73ed2d852ca846fdbd1fd2928241b391",
       "version_major": 2,
       "version_minor": 0
      },
      "text/plain": [
       "HBox(children=(IntProgress(value=0, description='Epoch: 33 ', max=1875, style=ProgressStyle(description_width=…"
      ]
     },
     "metadata": {},
     "output_type": "display_data"
    },
    {
     "name": "stdout",
     "output_type": "stream",
     "text": [
      "\n",
      "disc_loss\t0.7064750790596008\n",
      "acc\t0.5725\n",
      "gen_loss\t0.7974691987037659\n",
      "fpr\t0.305\n",
      "cm\t[[139  61]\n",
      " [110  90]]\n"
     ]
    },
    {
     "data": {
      "application/vnd.jupyter.widget-view+json": {
       "model_id": "07a46b9ff03146d8906012d7cfd6cb81",
       "version_major": 2,
       "version_minor": 0
      },
      "text/plain": [
       "HBox(children=(IntProgress(value=0, description='Epoch: 34 ', max=1875, style=ProgressStyle(description_width=…"
      ]
     },
     "metadata": {},
     "output_type": "display_data"
    },
    {
     "name": "stdout",
     "output_type": "stream",
     "text": [
      "\n",
      "disc_loss\t0.6381345987319946\n",
      "acc\t0.6425\n",
      "gen_loss\t0.8082037568092346\n",
      "fpr\t0.325\n",
      "cm\t[[135  65]\n",
      " [ 78 122]]\n"
     ]
    },
    {
     "data": {
      "application/vnd.jupyter.widget-view+json": {
       "model_id": "dff2880b68f9444bb18570f3d679cade",
       "version_major": 2,
       "version_minor": 0
      },
      "text/plain": [
       "HBox(children=(IntProgress(value=0, description='Epoch: 35 ', max=1875, style=ProgressStyle(description_width=…"
      ]
     },
     "metadata": {},
     "output_type": "display_data"
    },
    {
     "name": "stdout",
     "output_type": "stream",
     "text": [
      "\n",
      "disc_loss\t0.6576350331306458\n",
      "acc\t0.625\n",
      "gen_loss\t0.9775112867355347\n",
      "fpr\t0.105\n",
      "cm\t[[179  21]\n",
      " [129  71]]\n"
     ]
    },
    {
     "data": {
      "application/vnd.jupyter.widget-view+json": {
       "model_id": "b35fda687bc24deaaf8058be6d6e6869",
       "version_major": 2,
       "version_minor": 0
      },
      "text/plain": [
       "HBox(children=(IntProgress(value=0, description='Epoch: 36 ', max=1875, style=ProgressStyle(description_width=…"
      ]
     },
     "metadata": {},
     "output_type": "display_data"
    },
    {
     "name": "stdout",
     "output_type": "stream",
     "text": [
      "\n",
      "disc_loss\t0.6589880585670471\n",
      "acc\t0.65\n",
      "gen_loss\t0.8038134574890137\n",
      "fpr\t0.26\n",
      "cm\t[[148  52]\n",
      " [ 88 112]]\n"
     ]
    },
    {
     "data": {
      "application/vnd.jupyter.widget-view+json": {
       "model_id": "4200d92b1c754216af4e6c8c987ecc6b",
       "version_major": 2,
       "version_minor": 0
      },
      "text/plain": [
       "HBox(children=(IntProgress(value=0, description='Epoch: 37 ', max=1875, style=ProgressStyle(description_width=…"
      ]
     },
     "metadata": {},
     "output_type": "display_data"
    },
    {
     "name": "stdout",
     "output_type": "stream",
     "text": [
      "\n",
      "disc_loss\t0.654309868812561\n",
      "acc\t0.655\n",
      "gen_loss\t0.809665858745575\n",
      "fpr\t0.245\n",
      "cm\t[[151  49]\n",
      " [ 89 111]]\n"
     ]
    },
    {
     "data": {
      "application/vnd.jupyter.widget-view+json": {
       "model_id": "66e812b476c345a98b1fece0600f30de",
       "version_major": 2,
       "version_minor": 0
      },
      "text/plain": [
       "HBox(children=(IntProgress(value=0, description='Epoch: 38 ', max=1875, style=ProgressStyle(description_width=…"
      ]
     },
     "metadata": {},
     "output_type": "display_data"
    },
    {
     "name": "stdout",
     "output_type": "stream",
     "text": [
      "\n",
      "disc_loss\t0.6751174926757812\n",
      "acc\t0.6075\n",
      "gen_loss\t0.810149073600769\n",
      "fpr\t0.31\n",
      "cm\t[[138  62]\n",
      " [ 95 105]]\n"
     ]
    },
    {
     "data": {
      "application/vnd.jupyter.widget-view+json": {
       "model_id": "15bf4713040941e6818c94c888c0977a",
       "version_major": 2,
       "version_minor": 0
      },
      "text/plain": [
       "HBox(children=(IntProgress(value=0, description='Epoch: 39 ', max=1875, style=ProgressStyle(description_width=…"
      ]
     },
     "metadata": {},
     "output_type": "display_data"
    },
    {
     "name": "stdout",
     "output_type": "stream",
     "text": [
      "\n",
      "disc_loss\t0.6328999996185303\n",
      "acc\t0.6875\n",
      "gen_loss\t0.914722740650177\n",
      "fpr\t0.125\n",
      "cm\t[[175  25]\n",
      " [100 100]]\n"
     ]
    },
    {
     "data": {
      "application/vnd.jupyter.widget-view+json": {
       "model_id": "e874fe624ec24ec6bf669fee615734ab",
       "version_major": 2,
       "version_minor": 0
      },
      "text/plain": [
       "HBox(children=(IntProgress(value=0, description='Epoch: 40 ', max=1875, style=ProgressStyle(description_width=…"
      ]
     },
     "metadata": {},
     "output_type": "display_data"
    },
    {
     "name": "stdout",
     "output_type": "stream",
     "text": [
      "\n",
      "disc_loss\t0.6397262811660767\n",
      "acc\t0.685\n",
      "gen_loss\t0.8972465395927429\n",
      "fpr\t0.165\n",
      "cm\t[[167  33]\n",
      " [ 93 107]]\n"
     ]
    },
    {
     "data": {
      "application/vnd.jupyter.widget-view+json": {
       "model_id": "15acbabe76d04675bb5dbd9d0c98c775",
       "version_major": 2,
       "version_minor": 0
      },
      "text/plain": [
       "HBox(children=(IntProgress(value=0, description='Epoch: 41 ', max=1875, style=ProgressStyle(description_width=…"
      ]
     },
     "metadata": {},
     "output_type": "display_data"
    },
    {
     "name": "stdout",
     "output_type": "stream",
     "text": [
      "\n",
      "disc_loss\t0.6433996558189392\n",
      "acc\t0.645\n",
      "gen_loss\t0.8747411370277405\n",
      "fpr\t0.245\n",
      "cm\t[[151  49]\n",
      " [ 93 107]]\n"
     ]
    },
    {
     "data": {
      "application/vnd.jupyter.widget-view+json": {
       "model_id": "c81f8733463143c5b88f5e10d2bd87fd",
       "version_major": 2,
       "version_minor": 0
      },
      "text/plain": [
       "HBox(children=(IntProgress(value=0, description='Epoch: 42 ', max=1875, style=ProgressStyle(description_width=…"
      ]
     },
     "metadata": {},
     "output_type": "display_data"
    },
    {
     "name": "stdout",
     "output_type": "stream",
     "text": [
      "\n",
      "disc_loss\t0.689354419708252\n",
      "acc\t0.6075\n",
      "gen_loss\t0.8118507862091064\n",
      "fpr\t0.29\n",
      "cm\t[[142  58]\n",
      " [ 99 101]]\n"
     ]
    },
    {
     "data": {
      "application/vnd.jupyter.widget-view+json": {
       "model_id": "5d0b323aab0b45a391b3c6fc63c3d464",
       "version_major": 2,
       "version_minor": 0
      },
      "text/plain": [
       "HBox(children=(IntProgress(value=0, description='Epoch: 43 ', max=1875, style=ProgressStyle(description_width=…"
      ]
     },
     "metadata": {},
     "output_type": "display_data"
    },
    {
     "name": "stdout",
     "output_type": "stream",
     "text": [
      "\n",
      "disc_loss\t0.6565128564834595\n",
      "acc\t0.64\n",
      "gen_loss\t0.9023533463478088\n",
      "fpr\t0.185\n",
      "cm\t[[163  37]\n",
      " [107  93]]\n"
     ]
    },
    {
     "data": {
      "application/vnd.jupyter.widget-view+json": {
       "model_id": "2f66e517b2644cfb81e965c83dc7551c",
       "version_major": 2,
       "version_minor": 0
      },
      "text/plain": [
       "HBox(children=(IntProgress(value=0, description='Epoch: 44 ', max=1875, style=ProgressStyle(description_width=…"
      ]
     },
     "metadata": {},
     "output_type": "display_data"
    },
    {
     "name": "stdout",
     "output_type": "stream",
     "text": [
      "\n",
      "disc_loss\t0.6833984851837158\n",
      "acc\t0.585\n",
      "gen_loss\t0.7997280955314636\n",
      "fpr\t0.295\n",
      "cm\t[[141  59]\n",
      " [107  93]]\n"
     ]
    },
    {
     "data": {
      "application/vnd.jupyter.widget-view+json": {
       "model_id": "7e8f55235c0e400d8775fcb1165ce8d4",
       "version_major": 2,
       "version_minor": 0
      },
      "text/plain": [
       "HBox(children=(IntProgress(value=0, description='Epoch: 45 ', max=1875, style=ProgressStyle(description_width=…"
      ]
     },
     "metadata": {},
     "output_type": "display_data"
    },
    {
     "name": "stdout",
     "output_type": "stream",
     "text": [
      "\n",
      "disc_loss\t0.6717330813407898\n",
      "acc\t0.5825\n",
      "gen_loss\t0.7711647152900696\n",
      "fpr\t0.39\n",
      "cm\t[[122  78]\n",
      " [ 89 111]]\n"
     ]
    },
    {
     "data": {
      "application/vnd.jupyter.widget-view+json": {
       "model_id": "2aca0b90900a4545bb1ed84feb6256f0",
       "version_major": 2,
       "version_minor": 0
      },
      "text/plain": [
       "HBox(children=(IntProgress(value=0, description='Epoch: 46 ', max=1875, style=ProgressStyle(description_width=…"
      ]
     },
     "metadata": {},
     "output_type": "display_data"
    },
    {
     "name": "stdout",
     "output_type": "stream",
     "text": [
      "\n",
      "disc_loss\t0.6681327819824219\n",
      "acc\t0.625\n",
      "gen_loss\t0.8107352256774902\n",
      "fpr\t0.315\n",
      "cm\t[[137  63]\n",
      " [ 87 113]]\n"
     ]
    },
    {
     "data": {
      "application/vnd.jupyter.widget-view+json": {
       "model_id": "0236f5b4552842258286db3e80db24fc",
       "version_major": 2,
       "version_minor": 0
      },
      "text/plain": [
       "HBox(children=(IntProgress(value=0, description='Epoch: 47 ', max=1875, style=ProgressStyle(description_width=…"
      ]
     },
     "metadata": {},
     "output_type": "display_data"
    },
    {
     "name": "stdout",
     "output_type": "stream",
     "text": [
      "\n",
      "disc_loss\t0.6673582196235657\n",
      "acc\t0.5975\n",
      "gen_loss\t0.7446738481521606\n",
      "fpr\t0.425\n",
      "cm\t[[115  85]\n",
      " [ 76 124]]\n"
     ]
    },
    {
     "data": {
      "application/vnd.jupyter.widget-view+json": {
       "model_id": "be871b06497840979fdce347d4a3d9c5",
       "version_major": 2,
       "version_minor": 0
      },
      "text/plain": [
       "HBox(children=(IntProgress(value=0, description='Epoch: 48 ', max=1875, style=ProgressStyle(description_width=…"
      ]
     },
     "metadata": {},
     "output_type": "display_data"
    },
    {
     "name": "stdout",
     "output_type": "stream",
     "text": [
      "\n",
      "disc_loss\t0.6795638203620911\n",
      "acc\t0.535\n",
      "gen_loss\t0.6977378129959106\n",
      "fpr\t0.535\n",
      "cm\t[[ 93 107]\n",
      " [ 79 121]]\n"
     ]
    },
    {
     "data": {
      "application/vnd.jupyter.widget-view+json": {
       "model_id": "2a6b8c45046b45999c2113f31596b665",
       "version_major": 2,
       "version_minor": 0
      },
      "text/plain": [
       "HBox(children=(IntProgress(value=0, description='Epoch: 49 ', max=1875, style=ProgressStyle(description_width=…"
      ]
     },
     "metadata": {},
     "output_type": "display_data"
    },
    {
     "name": "stdout",
     "output_type": "stream",
     "text": [
      "\n",
      "disc_loss\t0.6701673865318298\n",
      "acc\t0.57\n",
      "gen_loss\t0.7133210897445679\n",
      "fpr\t0.485\n",
      "cm\t[[103  97]\n",
      " [ 75 125]]\n"
     ]
    },
    {
     "data": {
      "application/vnd.jupyter.widget-view+json": {
       "model_id": "54a3367a45b54cd1a80cc2dfe92f7e50",
       "version_major": 2,
       "version_minor": 0
      },
      "text/plain": [
       "HBox(children=(IntProgress(value=0, description='Epoch: 50 ', max=1875, style=ProgressStyle(description_width=…"
      ]
     },
     "metadata": {},
     "output_type": "display_data"
    },
    {
     "name": "stdout",
     "output_type": "stream",
     "text": [
      "\n",
      "disc_loss\t0.6176741123199463\n",
      "acc\t0.71\n",
      "gen_loss\t0.9324019551277161\n",
      "fpr\t0.125\n",
      "cm\t[[175  25]\n",
      " [ 91 109]]\n"
     ]
    },
    {
     "data": {
      "application/vnd.jupyter.widget-view+json": {
       "model_id": "8747eca080a242f9a4de65a9bf323c75",
       "version_major": 2,
       "version_minor": 0
      },
      "text/plain": [
       "HBox(children=(IntProgress(value=0, description='Epoch: 51 ', max=1875, style=ProgressStyle(description_width=…"
      ]
     },
     "metadata": {},
     "output_type": "display_data"
    },
    {
     "name": "stdout",
     "output_type": "stream",
     "text": [
      "\n",
      "disc_loss\t0.6915132999420166\n",
      "acc\t0.63\n",
      "gen_loss\t1.0005531311035156\n",
      "fpr\t0.07\n",
      "cm\t[[186  14]\n",
      " [134  66]]\n"
     ]
    },
    {
     "data": {
      "application/vnd.jupyter.widget-view+json": {
       "model_id": "71474eaa75b242f0a9a0a00854e8d516",
       "version_major": 2,
       "version_minor": 0
      },
      "text/plain": [
       "HBox(children=(IntProgress(value=0, description='Epoch: 52 ', max=1875, style=ProgressStyle(description_width=…"
      ]
     },
     "metadata": {},
     "output_type": "display_data"
    },
    {
     "name": "stdout",
     "output_type": "stream",
     "text": [
      "\n",
      "disc_loss\t0.6461486220359802\n",
      "acc\t0.6125\n",
      "gen_loss\t0.7605127692222595\n",
      "fpr\t0.43\n",
      "cm\t[[114  86]\n",
      " [ 69 131]]\n"
     ]
    },
    {
     "data": {
      "application/vnd.jupyter.widget-view+json": {
       "model_id": "fce9c43114ac4efc8f92fffec6bc1df3",
       "version_major": 2,
       "version_minor": 0
      },
      "text/plain": [
       "HBox(children=(IntProgress(value=0, description='Epoch: 53 ', max=1875, style=ProgressStyle(description_width=…"
      ]
     },
     "metadata": {},
     "output_type": "display_data"
    },
    {
     "name": "stdout",
     "output_type": "stream",
     "text": [
      "\n",
      "disc_loss\t0.6696979999542236\n",
      "acc\t0.605\n",
      "gen_loss\t0.7928376197814941\n",
      "fpr\t0.3\n",
      "cm\t[[140  60]\n",
      " [ 98 102]]\n"
     ]
    },
    {
     "data": {
      "application/vnd.jupyter.widget-view+json": {
       "model_id": "37621244e89547bca3d8bb21fe6b0bd7",
       "version_major": 2,
       "version_minor": 0
      },
      "text/plain": [
       "HBox(children=(IntProgress(value=0, description='Epoch: 54 ', max=1875, style=ProgressStyle(description_width=…"
      ]
     },
     "metadata": {},
     "output_type": "display_data"
    },
    {
     "name": "stdout",
     "output_type": "stream",
     "text": [
      "\n",
      "disc_loss\t0.6861507892608643\n",
      "acc\t0.545\n",
      "gen_loss\t0.740858256816864\n",
      "fpr\t0.465\n",
      "cm\t[[107  93]\n",
      " [ 89 111]]\n"
     ]
    },
    {
     "data": {
      "application/vnd.jupyter.widget-view+json": {
       "model_id": "da3beb758d864c1a99fa65d9e34beaff",
       "version_major": 2,
       "version_minor": 0
      },
      "text/plain": [
       "HBox(children=(IntProgress(value=0, description='Epoch: 55 ', max=1875, style=ProgressStyle(description_width=…"
      ]
     },
     "metadata": {},
     "output_type": "display_data"
    },
    {
     "name": "stdout",
     "output_type": "stream",
     "text": [
      "\n",
      "disc_loss\t0.6753089427947998\n",
      "acc\t0.6425\n",
      "gen_loss\t0.8684738278388977\n",
      "fpr\t0.18\n",
      "cm\t[[164  36]\n",
      " [107  93]]\n"
     ]
    },
    {
     "data": {
      "application/vnd.jupyter.widget-view+json": {
       "model_id": "1f90d1eaa95b452fbe0c3f5d47c3578f",
       "version_major": 2,
       "version_minor": 0
      },
      "text/plain": [
       "HBox(children=(IntProgress(value=0, description='Epoch: 56 ', max=1875, style=ProgressStyle(description_width=…"
      ]
     },
     "metadata": {},
     "output_type": "display_data"
    },
    {
     "name": "stdout",
     "output_type": "stream",
     "text": [
      "\n",
      "disc_loss\t0.6373407244682312\n",
      "acc\t0.675\n",
      "gen_loss\t0.8960384130477905\n",
      "fpr\t0.14\n",
      "cm\t[[172  28]\n",
      " [102  98]]\n"
     ]
    },
    {
     "data": {
      "application/vnd.jupyter.widget-view+json": {
       "model_id": "d3677d7de5f743d0a882c576edd98fbd",
       "version_major": 2,
       "version_minor": 0
      },
      "text/plain": [
       "HBox(children=(IntProgress(value=0, description='Epoch: 57 ', max=1875, style=ProgressStyle(description_width=…"
      ]
     },
     "metadata": {},
     "output_type": "display_data"
    },
    {
     "name": "stdout",
     "output_type": "stream",
     "text": [
      "\n",
      "disc_loss\t0.6668598651885986\n",
      "acc\t0.64\n",
      "gen_loss\t0.8222424387931824\n",
      "fpr\t0.22\n",
      "cm\t[[156  44]\n",
      " [100 100]]\n"
     ]
    },
    {
     "data": {
      "application/vnd.jupyter.widget-view+json": {
       "model_id": "a1bef256f75d43628aea7b8bbffd03f3",
       "version_major": 2,
       "version_minor": 0
      },
      "text/plain": [
       "HBox(children=(IntProgress(value=0, description='Epoch: 58 ', max=1875, style=ProgressStyle(description_width=…"
      ]
     },
     "metadata": {},
     "output_type": "display_data"
    },
    {
     "name": "stdout",
     "output_type": "stream",
     "text": [
      "\n",
      "disc_loss\t0.6694933176040649\n",
      "acc\t0.6125\n",
      "gen_loss\t0.8374065160751343\n",
      "fpr\t0.245\n",
      "cm\t[[151  49]\n",
      " [106  94]]\n"
     ]
    },
    {
     "data": {
      "application/vnd.jupyter.widget-view+json": {
       "model_id": "482dc54beaa84dbe93810e48e47b9470",
       "version_major": 2,
       "version_minor": 0
      },
      "text/plain": [
       "HBox(children=(IntProgress(value=0, description='Epoch: 59 ', max=1875, style=ProgressStyle(description_width=…"
      ]
     },
     "metadata": {},
     "output_type": "display_data"
    },
    {
     "name": "stdout",
     "output_type": "stream",
     "text": [
      "\n",
      "disc_loss\t0.671062171459198\n",
      "acc\t0.6575\n",
      "gen_loss\t0.8340978026390076\n",
      "fpr\t0.205\n",
      "cm\t[[159  41]\n",
      " [ 96 104]]\n"
     ]
    },
    {
     "data": {
      "application/vnd.jupyter.widget-view+json": {
       "model_id": "27154993df1d45028459bd89b8c3dfa0",
       "version_major": 2,
       "version_minor": 0
      },
      "text/plain": [
       "HBox(children=(IntProgress(value=0, description='Epoch: 60 ', max=1875, style=ProgressStyle(description_width=…"
      ]
     },
     "metadata": {},
     "output_type": "display_data"
    },
    {
     "name": "stdout",
     "output_type": "stream",
     "text": [
      "\n",
      "disc_loss\t0.6649124026298523\n",
      "acc\t0.6175\n",
      "gen_loss\t0.7692810297012329\n",
      "fpr\t0.345\n",
      "cm\t[[131  69]\n",
      " [ 84 116]]\n"
     ]
    },
    {
     "data": {
      "application/vnd.jupyter.widget-view+json": {
       "model_id": "aedcdf55f55e4ef688026ecb49e2a056",
       "version_major": 2,
       "version_minor": 0
      },
      "text/plain": [
       "HBox(children=(IntProgress(value=0, description='Epoch: 61 ', max=1875, style=ProgressStyle(description_width=…"
      ]
     },
     "metadata": {},
     "output_type": "display_data"
    },
    {
     "name": "stdout",
     "output_type": "stream",
     "text": [
      "\n",
      "disc_loss\t0.6307730674743652\n",
      "acc\t0.725\n",
      "gen_loss\t0.8834759593009949\n",
      "fpr\t0.13\n",
      "cm\t[[174  26]\n",
      " [ 84 116]]\n"
     ]
    },
    {
     "data": {
      "application/vnd.jupyter.widget-view+json": {
       "model_id": "c4f9844e43d240f1a63ff0fbfdef3278",
       "version_major": 2,
       "version_minor": 0
      },
      "text/plain": [
       "HBox(children=(IntProgress(value=0, description='Epoch: 62 ', max=1875, style=ProgressStyle(description_width=…"
      ]
     },
     "metadata": {},
     "output_type": "display_data"
    },
    {
     "name": "stdout",
     "output_type": "stream",
     "text": [
      "\n",
      "disc_loss\t0.6862360239028931\n",
      "acc\t0.5625\n",
      "gen_loss\t0.7983925342559814\n",
      "fpr\t0.315\n",
      "cm\t[[137  63]\n",
      " [112  88]]\n"
     ]
    },
    {
     "data": {
      "application/vnd.jupyter.widget-view+json": {
       "model_id": "5dc4022e6f564498898adc83811493f6",
       "version_major": 2,
       "version_minor": 0
      },
      "text/plain": [
       "HBox(children=(IntProgress(value=0, description='Epoch: 63 ', max=1875, style=ProgressStyle(description_width=…"
      ]
     },
     "metadata": {},
     "output_type": "display_data"
    },
    {
     "name": "stdout",
     "output_type": "stream",
     "text": [
      "\n",
      "disc_loss\t0.7119441032409668\n",
      "acc\t0.545\n",
      "gen_loss\t0.8225615620613098\n",
      "fpr\t0.24\n",
      "cm\t[[152  48]\n",
      " [134  66]]\n"
     ]
    },
    {
     "data": {
      "application/vnd.jupyter.widget-view+json": {
       "model_id": "a44446e4530b415991f4f30e8c45949f",
       "version_major": 2,
       "version_minor": 0
      },
      "text/plain": [
       "HBox(children=(IntProgress(value=0, description='Epoch: 64 ', max=1875, style=ProgressStyle(description_width=…"
      ]
     },
     "metadata": {},
     "output_type": "display_data"
    },
    {
     "name": "stdout",
     "output_type": "stream",
     "text": [
      "\n",
      "disc_loss\t0.654879629611969\n",
      "acc\t0.6775\n",
      "gen_loss\t0.8559128046035767\n",
      "fpr\t0.145\n",
      "cm\t[[171  29]\n",
      " [100 100]]\n"
     ]
    },
    {
     "data": {
      "application/vnd.jupyter.widget-view+json": {
       "model_id": "21d4ec6552dd450ebe246a609f21d4f7",
       "version_major": 2,
       "version_minor": 0
      },
      "text/plain": [
       "HBox(children=(IntProgress(value=0, description='Epoch: 65 ', max=1875, style=ProgressStyle(description_width=…"
      ]
     },
     "metadata": {},
     "output_type": "display_data"
    },
    {
     "name": "stdout",
     "output_type": "stream",
     "text": [
      "\n",
      "disc_loss\t0.6664112210273743\n",
      "acc\t0.635\n",
      "gen_loss\t0.8343768119812012\n",
      "fpr\t0.185\n",
      "cm\t[[163  37]\n",
      " [109  91]]\n"
     ]
    },
    {
     "data": {
      "application/vnd.jupyter.widget-view+json": {
       "model_id": "636b50ae5ff248d9b832ba04718382f2",
       "version_major": 2,
       "version_minor": 0
      },
      "text/plain": [
       "HBox(children=(IntProgress(value=0, description='Epoch: 66 ', max=1875, style=ProgressStyle(description_width=…"
      ]
     },
     "metadata": {},
     "output_type": "display_data"
    },
    {
     "name": "stdout",
     "output_type": "stream",
     "text": [
      "\n",
      "disc_loss\t0.6703437566757202\n",
      "acc\t0.6325\n",
      "gen_loss\t0.8482568264007568\n",
      "fpr\t0.215\n",
      "cm\t[[157  43]\n",
      " [104  96]]\n"
     ]
    },
    {
     "data": {
      "application/vnd.jupyter.widget-view+json": {
       "model_id": "12845a8e7fdf47a88174117b5ffc125b",
       "version_major": 2,
       "version_minor": 0
      },
      "text/plain": [
       "HBox(children=(IntProgress(value=0, description='Epoch: 67 ', max=1875, style=ProgressStyle(description_width=…"
      ]
     },
     "metadata": {},
     "output_type": "display_data"
    },
    {
     "name": "stdout",
     "output_type": "stream",
     "text": [
      "\n",
      "disc_loss\t0.6464681029319763\n",
      "acc\t0.6725\n",
      "gen_loss\t0.7869154214859009\n",
      "fpr\t0.3\n",
      "cm\t[[140  60]\n",
      " [ 71 129]]\n"
     ]
    },
    {
     "data": {
      "application/vnd.jupyter.widget-view+json": {
       "model_id": "7e53d72f66324224913c88942f47244f",
       "version_major": 2,
       "version_minor": 0
      },
      "text/plain": [
       "HBox(children=(IntProgress(value=0, description='Epoch: 68 ', max=1875, style=ProgressStyle(description_width=…"
      ]
     },
     "metadata": {},
     "output_type": "display_data"
    },
    {
     "name": "stdout",
     "output_type": "stream",
     "text": [
      "\n",
      "disc_loss\t0.6577783226966858\n",
      "acc\t0.6325\n",
      "gen_loss\t0.7637832164764404\n",
      "fpr\t0.33\n",
      "cm\t[[134  66]\n",
      " [ 81 119]]\n"
     ]
    },
    {
     "data": {
      "application/vnd.jupyter.widget-view+json": {
       "model_id": "516d5b020b6d423285229e981a010187",
       "version_major": 2,
       "version_minor": 0
      },
      "text/plain": [
       "HBox(children=(IntProgress(value=0, description='Epoch: 69 ', max=1875, style=ProgressStyle(description_width=…"
      ]
     },
     "metadata": {},
     "output_type": "display_data"
    },
    {
     "name": "stdout",
     "output_type": "stream",
     "text": [
      "\n",
      "disc_loss\t0.6771070957183838\n",
      "acc\t0.6\n",
      "gen_loss\t0.7444099187850952\n",
      "fpr\t0.36\n",
      "cm\t[[128  72]\n",
      " [ 88 112]]\n"
     ]
    },
    {
     "data": {
      "application/vnd.jupyter.widget-view+json": {
       "model_id": "28752327dba347a8b9df4e3dcc763d07",
       "version_major": 2,
       "version_minor": 0
      },
      "text/plain": [
       "HBox(children=(IntProgress(value=0, description='Epoch: 70 ', max=1875, style=ProgressStyle(description_width=…"
      ]
     },
     "metadata": {},
     "output_type": "display_data"
    },
    {
     "name": "stdout",
     "output_type": "stream",
     "text": [
      "\n",
      "disc_loss\t0.6627018451690674\n",
      "acc\t0.5925\n",
      "gen_loss\t0.777026355266571\n",
      "fpr\t0.35\n",
      "cm\t[[130  70]\n",
      " [ 93 107]]\n"
     ]
    },
    {
     "data": {
      "application/vnd.jupyter.widget-view+json": {
       "model_id": "ef2203675ada419aacc31111d8ff99b6",
       "version_major": 2,
       "version_minor": 0
      },
      "text/plain": [
       "HBox(children=(IntProgress(value=0, description='Epoch: 71 ', max=1875, style=ProgressStyle(description_width=…"
      ]
     },
     "metadata": {},
     "output_type": "display_data"
    },
    {
     "name": "stdout",
     "output_type": "stream",
     "text": [
      "\n",
      "disc_loss\t0.6795605421066284\n",
      "acc\t0.5875\n",
      "gen_loss\t0.7347801327705383\n",
      "fpr\t0.415\n",
      "cm\t[[117  83]\n",
      " [ 82 118]]\n"
     ]
    },
    {
     "data": {
      "application/vnd.jupyter.widget-view+json": {
       "model_id": "8dc0676ad2dd4c6fb83f4b6f4089d3db",
       "version_major": 2,
       "version_minor": 0
      },
      "text/plain": [
       "HBox(children=(IntProgress(value=0, description='Epoch: 72 ', max=1875, style=ProgressStyle(description_width=…"
      ]
     },
     "metadata": {},
     "output_type": "display_data"
    },
    {
     "name": "stdout",
     "output_type": "stream",
     "text": [
      "\n",
      "disc_loss\t0.6949242353439331\n",
      "acc\t0.5075\n",
      "gen_loss\t0.7153352499008179\n",
      "fpr\t0.49\n",
      "cm\t[[102  98]\n",
      " [ 99 101]]\n"
     ]
    },
    {
     "data": {
      "application/vnd.jupyter.widget-view+json": {
       "model_id": "d5b5e5458c594ce586f1c73df186a22a",
       "version_major": 2,
       "version_minor": 0
      },
      "text/plain": [
       "HBox(children=(IntProgress(value=0, description='Epoch: 73 ', max=1875, style=ProgressStyle(description_width=…"
      ]
     },
     "metadata": {},
     "output_type": "display_data"
    },
    {
     "name": "stdout",
     "output_type": "stream",
     "text": [
      "\n",
      "disc_loss\t0.705436110496521\n",
      "acc\t0.5975\n",
      "gen_loss\t0.8237951397895813\n",
      "fpr\t0.18\n",
      "cm\t[[164  36]\n",
      " [125  75]]\n"
     ]
    },
    {
     "data": {
      "application/vnd.jupyter.widget-view+json": {
       "model_id": "d26983192a1141ea93c0174beb123da0",
       "version_major": 2,
       "version_minor": 0
      },
      "text/plain": [
       "HBox(children=(IntProgress(value=0, description='Epoch: 74 ', max=1875, style=ProgressStyle(description_width=…"
      ]
     },
     "metadata": {},
     "output_type": "display_data"
    },
    {
     "name": "stdout",
     "output_type": "stream",
     "text": [
      "\n",
      "disc_loss\t0.6683300137519836\n",
      "acc\t0.5875\n",
      "gen_loss\t0.7422747015953064\n",
      "fpr\t0.405\n",
      "cm\t[[119  81]\n",
      " [ 84 116]]\n"
     ]
    },
    {
     "data": {
      "application/vnd.jupyter.widget-view+json": {
       "model_id": "13ea2ff7298f40559ba53f8411bb17c1",
       "version_major": 2,
       "version_minor": 0
      },
      "text/plain": [
       "HBox(children=(IntProgress(value=0, description='Epoch: 75 ', max=1875, style=ProgressStyle(description_width=…"
      ]
     },
     "metadata": {},
     "output_type": "display_data"
    },
    {
     "name": "stdout",
     "output_type": "stream",
     "text": [
      "\n",
      "disc_loss\t0.6872364282608032\n",
      "acc\t0.6075\n",
      "gen_loss\t0.8602659106254578\n",
      "fpr\t0.17\n",
      "cm\t[[166  34]\n",
      " [123  77]]\n"
     ]
    },
    {
     "data": {
      "application/vnd.jupyter.widget-view+json": {
       "model_id": "dfb5f85d3ec84d2e977b134015191a46",
       "version_major": 2,
       "version_minor": 0
      },
      "text/plain": [
       "HBox(children=(IntProgress(value=0, description='Epoch: 76 ', max=1875, style=ProgressStyle(description_width=…"
      ]
     },
     "metadata": {},
     "output_type": "display_data"
    },
    {
     "name": "stdout",
     "output_type": "stream",
     "text": [
      "\n",
      "disc_loss\t0.7116599082946777\n",
      "acc\t0.59\n",
      "gen_loss\t0.8013828992843628\n",
      "fpr\t0.215\n",
      "cm\t[[157  43]\n",
      " [121  79]]\n"
     ]
    },
    {
     "data": {
      "application/vnd.jupyter.widget-view+json": {
       "model_id": "e7755d974f414ccd9b6be8cffcafe80e",
       "version_major": 2,
       "version_minor": 0
      },
      "text/plain": [
       "HBox(children=(IntProgress(value=0, description='Epoch: 77 ', max=1875, style=ProgressStyle(description_width=…"
      ]
     },
     "metadata": {},
     "output_type": "display_data"
    },
    {
     "name": "stdout",
     "output_type": "stream",
     "text": [
      "\n",
      "disc_loss\t0.6790757775306702\n",
      "acc\t0.6175\n",
      "gen_loss\t0.7907379269599915\n",
      "fpr\t0.29\n",
      "cm\t[[142  58]\n",
      " [ 95 105]]\n"
     ]
    },
    {
     "data": {
      "application/vnd.jupyter.widget-view+json": {
       "model_id": "5a537987388847a4a28d7d1532a5f12f",
       "version_major": 2,
       "version_minor": 0
      },
      "text/plain": [
       "HBox(children=(IntProgress(value=0, description='Epoch: 78 ', max=1875, style=ProgressStyle(description_width=…"
      ]
     },
     "metadata": {},
     "output_type": "display_data"
    },
    {
     "name": "stdout",
     "output_type": "stream",
     "text": [
      "\n",
      "disc_loss\t0.7118241190910339\n",
      "acc\t0.515\n",
      "gen_loss\t0.725727379322052\n",
      "fpr\t0.405\n",
      "cm\t[[119  81]\n",
      " [113  87]]\n"
     ]
    },
    {
     "data": {
      "application/vnd.jupyter.widget-view+json": {
       "model_id": "44b5e90bd5de4446ab3d6c6d28e3b80f",
       "version_major": 2,
       "version_minor": 0
      },
      "text/plain": [
       "HBox(children=(IntProgress(value=0, description='Epoch: 79 ', max=1875, style=ProgressStyle(description_width=…"
      ]
     },
     "metadata": {},
     "output_type": "display_data"
    },
    {
     "name": "stdout",
     "output_type": "stream",
     "text": [
      "\n",
      "disc_loss\t0.709530770778656\n",
      "acc\t0.5475\n",
      "gen_loss\t0.7798225283622742\n",
      "fpr\t0.29\n",
      "cm\t[[142  58]\n",
      " [123  77]]\n"
     ]
    },
    {
     "data": {
      "application/vnd.jupyter.widget-view+json": {
       "model_id": "26a67337102a480399f4246d7b446052",
       "version_major": 2,
       "version_minor": 0
      },
      "text/plain": [
       "HBox(children=(IntProgress(value=0, description='Epoch: 80 ', max=1875, style=ProgressStyle(description_width=…"
      ]
     },
     "metadata": {},
     "output_type": "display_data"
    },
    {
     "name": "stdout",
     "output_type": "stream",
     "text": [
      "\n",
      "disc_loss\t0.6815667748451233\n",
      "acc\t0.6175\n",
      "gen_loss\t0.7973304986953735\n",
      "fpr\t0.28\n",
      "cm\t[[144  56]\n",
      " [ 97 103]]\n"
     ]
    },
    {
     "data": {
      "application/vnd.jupyter.widget-view+json": {
       "model_id": "25ba6a9461224e3c88f0128d8efb4861",
       "version_major": 2,
       "version_minor": 0
      },
      "text/plain": [
       "HBox(children=(IntProgress(value=0, description='Epoch: 81 ', max=1875, style=ProgressStyle(description_width=…"
      ]
     },
     "metadata": {},
     "output_type": "display_data"
    },
    {
     "name": "stdout",
     "output_type": "stream",
     "text": [
      "\n",
      "disc_loss\t0.7100416421890259\n",
      "acc\t0.535\n",
      "gen_loss\t0.7881556153297424\n",
      "fpr\t0.29\n",
      "cm\t[[142  58]\n",
      " [128  72]]\n"
     ]
    },
    {
     "data": {
      "application/vnd.jupyter.widget-view+json": {
       "model_id": "0aa8a79f2c3640d883b53aa68ee37074",
       "version_major": 2,
       "version_minor": 0
      },
      "text/plain": [
       "HBox(children=(IntProgress(value=0, description='Epoch: 82 ', max=1875, style=ProgressStyle(description_width=…"
      ]
     },
     "metadata": {},
     "output_type": "display_data"
    },
    {
     "name": "stdout",
     "output_type": "stream",
     "text": [
      "\n",
      "disc_loss\t0.6947912573814392\n",
      "acc\t0.5425\n",
      "gen_loss\t0.7051388621330261\n",
      "fpr\t0.495\n",
      "cm\t[[101  99]\n",
      " [ 84 116]]\n"
     ]
    },
    {
     "data": {
      "application/vnd.jupyter.widget-view+json": {
       "model_id": "4d143852203043a3a13179a9a874ab11",
       "version_major": 2,
       "version_minor": 0
      },
      "text/plain": [
       "HBox(children=(IntProgress(value=0, description='Epoch: 83 ', max=1875, style=ProgressStyle(description_width=…"
      ]
     },
     "metadata": {},
     "output_type": "display_data"
    },
    {
     "name": "stdout",
     "output_type": "stream",
     "text": [
      "\n",
      "disc_loss\t0.707054615020752\n",
      "acc\t0.565\n",
      "gen_loss\t0.7723533511161804\n",
      "fpr\t0.26\n",
      "cm\t[[148  52]\n",
      " [122  78]]\n"
     ]
    },
    {
     "data": {
      "application/vnd.jupyter.widget-view+json": {
       "model_id": "0674be87a9b24f9b99d47bd0ff06fba2",
       "version_major": 2,
       "version_minor": 0
      },
      "text/plain": [
       "HBox(children=(IntProgress(value=0, description='Epoch: 84 ', max=1875, style=ProgressStyle(description_width=…"
      ]
     },
     "metadata": {},
     "output_type": "display_data"
    },
    {
     "name": "stdout",
     "output_type": "stream",
     "text": [
      "\n",
      "disc_loss\t0.6958261132240295\n",
      "acc\t0.595\n",
      "gen_loss\t0.881930410861969\n",
      "fpr\t0.125\n",
      "cm\t[[175  25]\n",
      " [137  63]]\n"
     ]
    },
    {
     "data": {
      "application/vnd.jupyter.widget-view+json": {
       "model_id": "2bdf62bc60d8409cbbf3a3727b793248",
       "version_major": 2,
       "version_minor": 0
      },
      "text/plain": [
       "HBox(children=(IntProgress(value=0, description='Epoch: 85 ', max=1875, style=ProgressStyle(description_width=…"
      ]
     },
     "metadata": {},
     "output_type": "display_data"
    },
    {
     "name": "stdout",
     "output_type": "stream",
     "text": [
      "\n",
      "disc_loss\t0.6679913401603699\n",
      "acc\t0.6225\n",
      "gen_loss\t0.7682520151138306\n",
      "fpr\t0.315\n",
      "cm\t[[137  63]\n",
      " [ 88 112]]\n"
     ]
    },
    {
     "data": {
      "application/vnd.jupyter.widget-view+json": {
       "model_id": "10c8ba3447ee41979e70a26f8199939e",
       "version_major": 2,
       "version_minor": 0
      },
      "text/plain": [
       "HBox(children=(IntProgress(value=0, description='Epoch: 86 ', max=1875, style=ProgressStyle(description_width=…"
      ]
     },
     "metadata": {},
     "output_type": "display_data"
    },
    {
     "name": "stdout",
     "output_type": "stream",
     "text": [
      "\n",
      "disc_loss\t0.6793456077575684\n",
      "acc\t0.55\n",
      "gen_loss\t0.7769849896430969\n",
      "fpr\t0.345\n",
      "cm\t[[131  69]\n",
      " [111  89]]\n"
     ]
    },
    {
     "data": {
      "application/vnd.jupyter.widget-view+json": {
       "model_id": "f35c0c990b754b6d8b81512499c2bb13",
       "version_major": 2,
       "version_minor": 0
      },
      "text/plain": [
       "HBox(children=(IntProgress(value=0, description='Epoch: 87 ', max=1875, style=ProgressStyle(description_width=…"
      ]
     },
     "metadata": {},
     "output_type": "display_data"
    },
    {
     "name": "stdout",
     "output_type": "stream",
     "text": [
      "\n",
      "disc_loss\t0.6882397532463074\n",
      "acc\t0.585\n",
      "gen_loss\t0.8155418634414673\n",
      "fpr\t0.235\n",
      "cm\t[[153  47]\n",
      " [119  81]]\n"
     ]
    },
    {
     "data": {
      "application/vnd.jupyter.widget-view+json": {
       "model_id": "e3bd0fccf72541efbee8389563c5584a",
       "version_major": 2,
       "version_minor": 0
      },
      "text/plain": [
       "HBox(children=(IntProgress(value=0, description='Epoch: 88 ', max=1875, style=ProgressStyle(description_width=…"
      ]
     },
     "metadata": {},
     "output_type": "display_data"
    },
    {
     "name": "stdout",
     "output_type": "stream",
     "text": [
      "\n",
      "disc_loss\t0.6846586465835571\n",
      "acc\t0.5725\n",
      "gen_loss\t0.8273522853851318\n",
      "fpr\t0.21\n",
      "cm\t[[158  42]\n",
      " [129  71]]\n"
     ]
    },
    {
     "data": {
      "application/vnd.jupyter.widget-view+json": {
       "model_id": "4023148baf524f87afc54ad3d47f5f4f",
       "version_major": 2,
       "version_minor": 0
      },
      "text/plain": [
       "HBox(children=(IntProgress(value=0, description='Epoch: 89 ', max=1875, style=ProgressStyle(description_width=…"
      ]
     },
     "metadata": {},
     "output_type": "display_data"
    },
    {
     "name": "stdout",
     "output_type": "stream",
     "text": [
      "\n",
      "disc_loss\t0.6678646802902222\n",
      "acc\t0.6425\n",
      "gen_loss\t0.8314502835273743\n",
      "fpr\t0.16\n",
      "cm\t[[168  32]\n",
      " [111  89]]\n"
     ]
    },
    {
     "data": {
      "application/vnd.jupyter.widget-view+json": {
       "model_id": "855d0b5b0ed644c9830faf6cd1c78160",
       "version_major": 2,
       "version_minor": 0
      },
      "text/plain": [
       "HBox(children=(IntProgress(value=0, description='Epoch: 90 ', max=1875, style=ProgressStyle(description_width=…"
      ]
     },
     "metadata": {},
     "output_type": "display_data"
    },
    {
     "name": "stdout",
     "output_type": "stream",
     "text": [
      "\n",
      "disc_loss\t0.6938737630844116\n",
      "acc\t0.5775\n",
      "gen_loss\t0.8301648497581482\n",
      "fpr\t0.2\n",
      "cm\t[[160  40]\n",
      " [129  71]]\n"
     ]
    },
    {
     "data": {
      "application/vnd.jupyter.widget-view+json": {
       "model_id": "3632ff2760b54bcf9ce8d093806ef46f",
       "version_major": 2,
       "version_minor": 0
      },
      "text/plain": [
       "HBox(children=(IntProgress(value=0, description='Epoch: 91 ', max=1875, style=ProgressStyle(description_width=…"
      ]
     },
     "metadata": {},
     "output_type": "display_data"
    },
    {
     "name": "stdout",
     "output_type": "stream",
     "text": [
      "\n",
      "disc_loss\t0.6758561730384827\n",
      "acc\t0.5775\n",
      "gen_loss\t0.8126402497291565\n",
      "fpr\t0.27\n",
      "cm\t[[146  54]\n",
      " [115  85]]\n"
     ]
    },
    {
     "data": {
      "application/vnd.jupyter.widget-view+json": {
       "model_id": "9bdb6d5242d442e298645e77d5dba2bd",
       "version_major": 2,
       "version_minor": 0
      },
      "text/plain": [
       "HBox(children=(IntProgress(value=0, description='Epoch: 92 ', max=1875, style=ProgressStyle(description_width=…"
      ]
     },
     "metadata": {},
     "output_type": "display_data"
    },
    {
     "name": "stdout",
     "output_type": "stream",
     "text": [
      "\n",
      "disc_loss\t0.705495297908783\n",
      "acc\t0.5475\n",
      "gen_loss\t0.7854750752449036\n",
      "fpr\t0.25\n",
      "cm\t[[150  50]\n",
      " [131  69]]\n"
     ]
    },
    {
     "data": {
      "application/vnd.jupyter.widget-view+json": {
       "model_id": "ad4e8f79aa9f4dceab627255da0de55b",
       "version_major": 2,
       "version_minor": 0
      },
      "text/plain": [
       "HBox(children=(IntProgress(value=0, description='Epoch: 93 ', max=1875, style=ProgressStyle(description_width=…"
      ]
     },
     "metadata": {},
     "output_type": "display_data"
    },
    {
     "name": "stdout",
     "output_type": "stream",
     "text": [
      "\n",
      "disc_loss\t0.6982440948486328\n",
      "acc\t0.5225\n",
      "gen_loss\t0.7536718845367432\n",
      "fpr\t0.38\n",
      "cm\t[[124  76]\n",
      " [115  85]]\n"
     ]
    },
    {
     "data": {
      "application/vnd.jupyter.widget-view+json": {
       "model_id": "8a07de3aee534426bcf8e19d872e19ee",
       "version_major": 2,
       "version_minor": 0
      },
      "text/plain": [
       "HBox(children=(IntProgress(value=0, description='Epoch: 94 ', max=1875, style=ProgressStyle(description_width=…"
      ]
     },
     "metadata": {},
     "output_type": "display_data"
    },
    {
     "name": "stdout",
     "output_type": "stream",
     "text": [
      "\n",
      "disc_loss\t0.6670436263084412\n",
      "acc\t0.6225\n",
      "gen_loss\t0.7775223255157471\n",
      "fpr\t0.275\n",
      "cm\t[[145  55]\n",
      " [ 96 104]]\n"
     ]
    },
    {
     "data": {
      "application/vnd.jupyter.widget-view+json": {
       "model_id": "9bd8baef5c384a6295ffd410303acdcd",
       "version_major": 2,
       "version_minor": 0
      },
      "text/plain": [
       "HBox(children=(IntProgress(value=0, description='Epoch: 95 ', max=1875, style=ProgressStyle(description_width=…"
      ]
     },
     "metadata": {},
     "output_type": "display_data"
    },
    {
     "name": "stdout",
     "output_type": "stream",
     "text": [
      "\n",
      "disc_loss\t0.6637966632843018\n",
      "acc\t0.6025\n",
      "gen_loss\t0.7523925304412842\n",
      "fpr\t0.34\n",
      "cm\t[[132  68]\n",
      " [ 91 109]]\n"
     ]
    },
    {
     "data": {
      "application/vnd.jupyter.widget-view+json": {
       "model_id": "41c5516ba9004804bbb0367c5a107c09",
       "version_major": 2,
       "version_minor": 0
      },
      "text/plain": [
       "HBox(children=(IntProgress(value=0, description='Epoch: 96 ', max=1875, style=ProgressStyle(description_width=…"
      ]
     },
     "metadata": {},
     "output_type": "display_data"
    },
    {
     "name": "stdout",
     "output_type": "stream",
     "text": [
      "\n",
      "disc_loss\t0.6582576036453247\n",
      "acc\t0.64\n",
      "gen_loss\t0.8414769172668457\n",
      "fpr\t0.17\n",
      "cm\t[[166  34]\n",
      " [110  90]]\n"
     ]
    },
    {
     "data": {
      "application/vnd.jupyter.widget-view+json": {
       "model_id": "cd72ccdfc0d4452f8bebc5e0697ced68",
       "version_major": 2,
       "version_minor": 0
      },
      "text/plain": [
       "HBox(children=(IntProgress(value=0, description='Epoch: 97 ', max=1875, style=ProgressStyle(description_width=…"
      ]
     },
     "metadata": {},
     "output_type": "display_data"
    },
    {
     "name": "stdout",
     "output_type": "stream",
     "text": [
      "\n",
      "disc_loss\t0.6629518866539001\n",
      "acc\t0.6075\n",
      "gen_loss\t0.774293839931488\n",
      "fpr\t0.285\n",
      "cm\t[[143  57]\n",
      " [100 100]]\n"
     ]
    },
    {
     "data": {
      "application/vnd.jupyter.widget-view+json": {
       "model_id": "8bdad0cd7f164ffab2782c2dc9265699",
       "version_major": 2,
       "version_minor": 0
      },
      "text/plain": [
       "HBox(children=(IntProgress(value=0, description='Epoch: 98 ', max=1875, style=ProgressStyle(description_width=…"
      ]
     },
     "metadata": {},
     "output_type": "display_data"
    },
    {
     "name": "stdout",
     "output_type": "stream",
     "text": [
      "\n",
      "disc_loss\t0.6811741590499878\n",
      "acc\t0.5975\n",
      "gen_loss\t0.7849388122558594\n",
      "fpr\t0.25\n",
      "cm\t[[150  50]\n",
      " [111  89]]\n"
     ]
    },
    {
     "data": {
      "application/vnd.jupyter.widget-view+json": {
       "model_id": "611c55e3582842efa581d39d8f8b9d4e",
       "version_major": 2,
       "version_minor": 0
      },
      "text/plain": [
       "HBox(children=(IntProgress(value=0, description='Epoch: 99 ', max=1875, style=ProgressStyle(description_width=…"
      ]
     },
     "metadata": {},
     "output_type": "display_data"
    },
    {
     "name": "stdout",
     "output_type": "stream",
     "text": [
      "\n",
      "disc_loss\t0.6768041253089905\n",
      "acc\t0.5725\n",
      "gen_loss\t0.7776370048522949\n",
      "fpr\t0.305\n",
      "cm\t[[139  61]\n",
      " [110  90]]\n"
     ]
    },
    {
     "data": {
      "application/vnd.jupyter.widget-view+json": {
       "model_id": "5063310e5b9f4400a8b44ee5b30871a9",
       "version_major": 2,
       "version_minor": 0
      },
      "text/plain": [
       "HBox(children=(IntProgress(value=0, description='Epoch: 100 ', max=1875, style=ProgressStyle(description_width…"
      ]
     },
     "metadata": {},
     "output_type": "display_data"
    },
    {
     "name": "stdout",
     "output_type": "stream",
     "text": [
      "\n",
      "disc_loss\t0.6519726514816284\n",
      "acc\t0.6175\n",
      "gen_loss\t0.7369186282157898\n",
      "fpr\t0.38\n",
      "cm\t[[124  76]\n",
      " [ 77 123]]\n"
     ]
    },
    {
     "data": {
      "application/vnd.jupyter.widget-view+json": {
       "model_id": "fa169f1d892d46b5be96758bc6566802",
       "version_major": 2,
       "version_minor": 0
      },
      "text/plain": [
       "HBox(children=(IntProgress(value=0, description='Epoch: 101 ', max=1875, style=ProgressStyle(description_width…"
      ]
     },
     "metadata": {},
     "output_type": "display_data"
    },
    {
     "name": "stdout",
     "output_type": "stream",
     "text": [
      "\n",
      "disc_loss\t0.6682674288749695\n",
      "acc\t0.5875\n",
      "gen_loss\t0.765635073184967\n",
      "fpr\t0.37\n",
      "cm\t[[126  74]\n",
      " [ 91 109]]\n"
     ]
    },
    {
     "data": {
      "application/vnd.jupyter.widget-view+json": {
       "model_id": "816ea7afe2b6426a8e2d8a72893c514b",
       "version_major": 2,
       "version_minor": 0
      },
      "text/plain": [
       "HBox(children=(IntProgress(value=0, description='Epoch: 102 ', max=1875, style=ProgressStyle(description_width…"
      ]
     },
     "metadata": {},
     "output_type": "display_data"
    },
    {
     "name": "stdout",
     "output_type": "stream",
     "text": [
      "\n",
      "disc_loss\t0.6818239092826843\n",
      "acc\t0.5875\n",
      "gen_loss\t0.8317045569419861\n",
      "fpr\t0.18\n",
      "cm\t[[164  36]\n",
      " [129  71]]\n"
     ]
    },
    {
     "data": {
      "application/vnd.jupyter.widget-view+json": {
       "model_id": "029d9113bdb440bf955d7f525854dc26",
       "version_major": 2,
       "version_minor": 0
      },
      "text/plain": [
       "HBox(children=(IntProgress(value=0, description='Epoch: 103 ', max=1875, style=ProgressStyle(description_width…"
      ]
     },
     "metadata": {},
     "output_type": "display_data"
    },
    {
     "name": "stdout",
     "output_type": "stream",
     "text": [
      "\n",
      "disc_loss\t0.6712610125541687\n",
      "acc\t0.5875\n",
      "gen_loss\t0.8029098510742188\n",
      "fpr\t0.26\n",
      "cm\t[[148  52]\n",
      " [113  87]]\n"
     ]
    },
    {
     "data": {
      "application/vnd.jupyter.widget-view+json": {
       "model_id": "39b3271692e541b89c590795992a1cc2",
       "version_major": 2,
       "version_minor": 0
      },
      "text/plain": [
       "HBox(children=(IntProgress(value=0, description='Epoch: 104 ', max=1875, style=ProgressStyle(description_width…"
      ]
     },
     "metadata": {},
     "output_type": "display_data"
    },
    {
     "name": "stdout",
     "output_type": "stream",
     "text": [
      "\n",
      "disc_loss\t0.6785526871681213\n",
      "acc\t0.6025\n",
      "gen_loss\t0.794328510761261\n",
      "fpr\t0.255\n",
      "cm\t[[149  51]\n",
      " [108  92]]\n"
     ]
    },
    {
     "data": {
      "application/vnd.jupyter.widget-view+json": {
       "model_id": "700c37e3250e44c2bba478443d2a63d7",
       "version_major": 2,
       "version_minor": 0
      },
      "text/plain": [
       "HBox(children=(IntProgress(value=0, description='Epoch: 105 ', max=1875, style=ProgressStyle(description_width…"
      ]
     },
     "metadata": {},
     "output_type": "display_data"
    },
    {
     "name": "stdout",
     "output_type": "stream",
     "text": [
      "\n",
      "disc_loss\t0.6828883290290833\n",
      "acc\t0.5825\n",
      "gen_loss\t0.8415700793266296\n",
      "fpr\t0.185\n",
      "cm\t[[163  37]\n",
      " [130  70]]\n"
     ]
    },
    {
     "data": {
      "application/vnd.jupyter.widget-view+json": {
       "model_id": "ea9abf0fcb974b34b68168cffc0fffde",
       "version_major": 2,
       "version_minor": 0
      },
      "text/plain": [
       "HBox(children=(IntProgress(value=0, description='Epoch: 106 ', max=1875, style=ProgressStyle(description_width…"
      ]
     },
     "metadata": {},
     "output_type": "display_data"
    },
    {
     "name": "stdout",
     "output_type": "stream",
     "text": [
      "\n",
      "disc_loss\t0.6734467148780823\n",
      "acc\t0.575\n",
      "gen_loss\t0.8626872301101685\n",
      "fpr\t0.195\n",
      "cm\t[[161  39]\n",
      " [131  69]]\n"
     ]
    },
    {
     "data": {
      "application/vnd.jupyter.widget-view+json": {
       "model_id": "6b2c9a4ff62f44f3875d39b21fb62aa9",
       "version_major": 2,
       "version_minor": 0
      },
      "text/plain": [
       "HBox(children=(IntProgress(value=0, description='Epoch: 107 ', max=1875, style=ProgressStyle(description_width…"
      ]
     },
     "metadata": {},
     "output_type": "display_data"
    },
    {
     "name": "stdout",
     "output_type": "stream",
     "text": [
      "\n",
      "disc_loss\t0.6817596554756165\n",
      "acc\t0.555\n",
      "gen_loss\t0.7559111714363098\n",
      "fpr\t0.375\n",
      "cm\t[[125  75]\n",
      " [103  97]]\n"
     ]
    },
    {
     "data": {
      "application/vnd.jupyter.widget-view+json": {
       "model_id": "0d090f071e2f4327b5f0291df2e05d1f",
       "version_major": 2,
       "version_minor": 0
      },
      "text/plain": [
       "HBox(children=(IntProgress(value=0, description='Epoch: 108 ', max=1875, style=ProgressStyle(description_width…"
      ]
     },
     "metadata": {},
     "output_type": "display_data"
    },
    {
     "name": "stdout",
     "output_type": "stream",
     "text": [
      "\n",
      "disc_loss\t0.670834481716156\n",
      "acc\t0.6275\n",
      "gen_loss\t0.8213340640068054\n",
      "fpr\t0.21\n",
      "cm\t[[158  42]\n",
      " [107  93]]\n"
     ]
    },
    {
     "data": {
      "application/vnd.jupyter.widget-view+json": {
       "model_id": "af1d5223735947edba30467831a12d85",
       "version_major": 2,
       "version_minor": 0
      },
      "text/plain": [
       "HBox(children=(IntProgress(value=0, description='Epoch: 109 ', max=1875, style=ProgressStyle(description_width…"
      ]
     },
     "metadata": {},
     "output_type": "display_data"
    },
    {
     "name": "stdout",
     "output_type": "stream",
     "text": [
      "\n",
      "disc_loss\t0.6538333892822266\n",
      "acc\t0.63\n",
      "gen_loss\t0.7943289875984192\n",
      "fpr\t0.285\n",
      "cm\t[[143  57]\n",
      " [ 91 109]]\n"
     ]
    },
    {
     "data": {
      "application/vnd.jupyter.widget-view+json": {
       "model_id": "39db3e0050d94334aa749ac2bcbf405f",
       "version_major": 2,
       "version_minor": 0
      },
      "text/plain": [
       "HBox(children=(IntProgress(value=0, description='Epoch: 110 ', max=1875, style=ProgressStyle(description_width…"
      ]
     },
     "metadata": {},
     "output_type": "display_data"
    },
    {
     "name": "stdout",
     "output_type": "stream",
     "text": [
      "\n",
      "disc_loss\t0.6763384938240051\n",
      "acc\t0.5825\n",
      "gen_loss\t0.7791175842285156\n",
      "fpr\t0.27\n",
      "cm\t[[146  54]\n",
      " [113  87]]\n"
     ]
    },
    {
     "data": {
      "application/vnd.jupyter.widget-view+json": {
       "model_id": "4db8c7e57436481489f23907c2e68863",
       "version_major": 2,
       "version_minor": 0
      },
      "text/plain": [
       "HBox(children=(IntProgress(value=0, description='Epoch: 111 ', max=1875, style=ProgressStyle(description_width…"
      ]
     },
     "metadata": {},
     "output_type": "display_data"
    },
    {
     "name": "stdout",
     "output_type": "stream",
     "text": [
      "\n",
      "disc_loss\t0.6781532168388367\n",
      "acc\t0.5625\n",
      "gen_loss\t0.7495476603507996\n",
      "fpr\t0.38\n",
      "cm\t[[124  76]\n",
      " [ 99 101]]\n"
     ]
    },
    {
     "data": {
      "application/vnd.jupyter.widget-view+json": {
       "model_id": "f9f498432ff64155b0e9542eb8f549cc",
       "version_major": 2,
       "version_minor": 0
      },
      "text/plain": [
       "HBox(children=(IntProgress(value=0, description='Epoch: 112 ', max=1875, style=ProgressStyle(description_width…"
      ]
     },
     "metadata": {},
     "output_type": "display_data"
    },
    {
     "name": "stdout",
     "output_type": "stream",
     "text": [
      "\n",
      "disc_loss\t0.6836570501327515\n",
      "acc\t0.5775\n",
      "gen_loss\t0.7747379541397095\n",
      "fpr\t0.315\n",
      "cm\t[[137  63]\n",
      " [106  94]]\n"
     ]
    },
    {
     "data": {
      "application/vnd.jupyter.widget-view+json": {
       "model_id": "ec6a7fded7944101979b336376275ad2",
       "version_major": 2,
       "version_minor": 0
      },
      "text/plain": [
       "HBox(children=(IntProgress(value=0, description='Epoch: 113 ', max=1875, style=ProgressStyle(description_width…"
      ]
     },
     "metadata": {},
     "output_type": "display_data"
    },
    {
     "name": "stdout",
     "output_type": "stream",
     "text": [
      "\n",
      "disc_loss\t0.6820226907730103\n",
      "acc\t0.5575\n",
      "gen_loss\t0.7681547403335571\n",
      "fpr\t0.345\n",
      "cm\t[[131  69]\n",
      " [108  92]]\n"
     ]
    },
    {
     "data": {
      "application/vnd.jupyter.widget-view+json": {
       "model_id": "fe367b4f72924ba3afd378a105dc0a7d",
       "version_major": 2,
       "version_minor": 0
      },
      "text/plain": [
       "HBox(children=(IntProgress(value=0, description='Epoch: 114 ', max=1875, style=ProgressStyle(description_width…"
      ]
     },
     "metadata": {},
     "output_type": "display_data"
    },
    {
     "name": "stdout",
     "output_type": "stream",
     "text": [
      "\n",
      "disc_loss\t0.6620063781738281\n",
      "acc\t0.6425\n",
      "gen_loss\t0.8247599601745605\n",
      "fpr\t0.215\n",
      "cm\t[[157  43]\n",
      " [100 100]]\n"
     ]
    },
    {
     "data": {
      "application/vnd.jupyter.widget-view+json": {
       "model_id": "7a1a50b05df549cabde262501b0df6fd",
       "version_major": 2,
       "version_minor": 0
      },
      "text/plain": [
       "HBox(children=(IntProgress(value=0, description='Epoch: 115 ', max=1875, style=ProgressStyle(description_width…"
      ]
     },
     "metadata": {},
     "output_type": "display_data"
    },
    {
     "name": "stdout",
     "output_type": "stream",
     "text": [
      "\n",
      "disc_loss\t0.6495282053947449\n",
      "acc\t0.6575\n",
      "gen_loss\t0.7553527355194092\n",
      "fpr\t0.315\n",
      "cm\t[[137  63]\n",
      " [ 74 126]]\n"
     ]
    },
    {
     "data": {
      "application/vnd.jupyter.widget-view+json": {
       "model_id": "d48e791da2d849609b62d93796d4f162",
       "version_major": 2,
       "version_minor": 0
      },
      "text/plain": [
       "HBox(children=(IntProgress(value=0, description='Epoch: 116 ', max=1875, style=ProgressStyle(description_width…"
      ]
     },
     "metadata": {},
     "output_type": "display_data"
    },
    {
     "name": "stdout",
     "output_type": "stream",
     "text": [
      "\n",
      "disc_loss\t0.654829740524292\n",
      "acc\t0.6475\n",
      "gen_loss\t0.8380690217018127\n",
      "fpr\t0.15\n",
      "cm\t[[170  30]\n",
      " [111  89]]\n"
     ]
    },
    {
     "data": {
      "application/vnd.jupyter.widget-view+json": {
       "model_id": "b533ede7732542a49440ab4b9491b447",
       "version_major": 2,
       "version_minor": 0
      },
      "text/plain": [
       "HBox(children=(IntProgress(value=0, description='Epoch: 117 ', max=1875, style=ProgressStyle(description_width…"
      ]
     },
     "metadata": {},
     "output_type": "display_data"
    },
    {
     "name": "stdout",
     "output_type": "stream",
     "text": [
      "\n",
      "disc_loss\t0.6768245100975037\n",
      "acc\t0.605\n",
      "gen_loss\t0.7623193264007568\n",
      "fpr\t0.285\n",
      "cm\t[[143  57]\n",
      " [101  99]]\n"
     ]
    },
    {
     "data": {
      "application/vnd.jupyter.widget-view+json": {
       "model_id": "bf988ad352c3472b86ac6cafb6fdbe3b",
       "version_major": 2,
       "version_minor": 0
      },
      "text/plain": [
       "HBox(children=(IntProgress(value=0, description='Epoch: 118 ', max=1875, style=ProgressStyle(description_width…"
      ]
     },
     "metadata": {},
     "output_type": "display_data"
    },
    {
     "name": "stdout",
     "output_type": "stream",
     "text": [
      "\n",
      "disc_loss\t0.664115309715271\n",
      "acc\t0.5975\n",
      "gen_loss\t0.7198883295059204\n",
      "fpr\t0.46\n",
      "cm\t[[108  92]\n",
      " [ 69 131]]\n"
     ]
    },
    {
     "data": {
      "application/vnd.jupyter.widget-view+json": {
       "model_id": "b1d5ea9b60ed4fcba866d0dd179b3396",
       "version_major": 2,
       "version_minor": 0
      },
      "text/plain": [
       "HBox(children=(IntProgress(value=0, description='Epoch: 119 ', max=1875, style=ProgressStyle(description_width…"
      ]
     },
     "metadata": {},
     "output_type": "display_data"
    },
    {
     "name": "stdout",
     "output_type": "stream",
     "text": [
      "\n",
      "disc_loss\t0.6816065907478333\n",
      "acc\t0.56\n",
      "gen_loss\t0.7663037180900574\n",
      "fpr\t0.35\n",
      "cm\t[[130  70]\n",
      " [106  94]]\n"
     ]
    },
    {
     "data": {
      "application/vnd.jupyter.widget-view+json": {
       "model_id": "e452289da87e45aa8b0ca489a8a38d53",
       "version_major": 2,
       "version_minor": 0
      },
      "text/plain": [
       "HBox(children=(IntProgress(value=0, description='Epoch: 120 ', max=1875, style=ProgressStyle(description_width…"
      ]
     },
     "metadata": {},
     "output_type": "display_data"
    },
    {
     "name": "stdout",
     "output_type": "stream",
     "text": [
      "\n",
      "disc_loss\t0.6874967217445374\n",
      "acc\t0.58\n",
      "gen_loss\t0.7520815134048462\n",
      "fpr\t0.33\n",
      "cm\t[[134  66]\n",
      " [102  98]]\n"
     ]
    },
    {
     "data": {
      "application/vnd.jupyter.widget-view+json": {
       "model_id": "922cf05fef1543c48df59ad81d2ad462",
       "version_major": 2,
       "version_minor": 0
      },
      "text/plain": [
       "HBox(children=(IntProgress(value=0, description='Epoch: 121 ', max=1875, style=ProgressStyle(description_width…"
      ]
     },
     "metadata": {},
     "output_type": "display_data"
    },
    {
     "name": "stdout",
     "output_type": "stream",
     "text": [
      "\n",
      "disc_loss\t0.6914834380149841\n",
      "acc\t0.5775\n",
      "gen_loss\t0.7794189453125\n",
      "fpr\t0.265\n",
      "cm\t[[147  53]\n",
      " [116  84]]\n"
     ]
    },
    {
     "data": {
      "application/vnd.jupyter.widget-view+json": {
       "model_id": "9aeaef5c3f374f8d8bf364fe235d2638",
       "version_major": 2,
       "version_minor": 0
      },
      "text/plain": [
       "HBox(children=(IntProgress(value=0, description='Epoch: 122 ', max=1875, style=ProgressStyle(description_width…"
      ]
     },
     "metadata": {},
     "output_type": "display_data"
    },
    {
     "name": "stdout",
     "output_type": "stream",
     "text": [
      "\n",
      "disc_loss\t0.6912609934806824\n",
      "acc\t0.5525\n",
      "gen_loss\t0.7696694731712341\n",
      "fpr\t0.32\n",
      "cm\t[[136  64]\n",
      " [115  85]]\n"
     ]
    },
    {
     "data": {
      "application/vnd.jupyter.widget-view+json": {
       "model_id": "895163411a8b48e8a5827fce811031be",
       "version_major": 2,
       "version_minor": 0
      },
      "text/plain": [
       "HBox(children=(IntProgress(value=0, description='Epoch: 123 ', max=1875, style=ProgressStyle(description_width…"
      ]
     },
     "metadata": {},
     "output_type": "display_data"
    },
    {
     "name": "stdout",
     "output_type": "stream",
     "text": [
      "\n",
      "disc_loss\t0.6685994863510132\n",
      "acc\t0.5775\n",
      "gen_loss\t0.7408726215362549\n",
      "fpr\t0.38\n",
      "cm\t[[124  76]\n",
      " [ 93 107]]\n"
     ]
    },
    {
     "data": {
      "application/vnd.jupyter.widget-view+json": {
       "model_id": "885c93faff694f7dafd083fc086435d9",
       "version_major": 2,
       "version_minor": 0
      },
      "text/plain": [
       "HBox(children=(IntProgress(value=0, description='Epoch: 124 ', max=1875, style=ProgressStyle(description_width…"
      ]
     },
     "metadata": {},
     "output_type": "display_data"
    },
    {
     "name": "stdout",
     "output_type": "stream",
     "text": [
      "\n",
      "disc_loss\t0.6929896473884583\n",
      "acc\t0.515\n",
      "gen_loss\t0.7206434607505798\n",
      "fpr\t0.495\n",
      "cm\t[[101  99]\n",
      " [ 95 105]]\n"
     ]
    },
    {
     "data": {
      "application/vnd.jupyter.widget-view+json": {
       "model_id": "ae9e733b7f1a44aea608bce75fd72884",
       "version_major": 2,
       "version_minor": 0
      },
      "text/plain": [
       "HBox(children=(IntProgress(value=0, description='Epoch: 125 ', max=1875, style=ProgressStyle(description_width…"
      ]
     },
     "metadata": {},
     "output_type": "display_data"
    },
    {
     "name": "stdout",
     "output_type": "stream",
     "text": [
      "\n",
      "disc_loss\t0.6684781908988953\n",
      "acc\t0.62\n",
      "gen_loss\t0.7478367686271667\n",
      "fpr\t0.315\n",
      "cm\t[[137  63]\n",
      " [ 89 111]]\n"
     ]
    },
    {
     "data": {
      "application/vnd.jupyter.widget-view+json": {
       "model_id": "0dc29c0a8c77443a96b1f09278971f41",
       "version_major": 2,
       "version_minor": 0
      },
      "text/plain": [
       "HBox(children=(IntProgress(value=0, description='Epoch: 126 ', max=1875, style=ProgressStyle(description_width…"
      ]
     },
     "metadata": {},
     "output_type": "display_data"
    },
    {
     "name": "stdout",
     "output_type": "stream",
     "text": [
      "\n",
      "disc_loss\t0.6769692897796631\n",
      "acc\t0.59\n",
      "gen_loss\t0.7670860290527344\n",
      "fpr\t0.31\n",
      "cm\t[[138  62]\n",
      " [102  98]]\n"
     ]
    },
    {
     "data": {
      "application/vnd.jupyter.widget-view+json": {
       "model_id": "740aa87a085a420484e28d28965b30e9",
       "version_major": 2,
       "version_minor": 0
      },
      "text/plain": [
       "HBox(children=(IntProgress(value=0, description='Epoch: 127 ', max=1875, style=ProgressStyle(description_width…"
      ]
     },
     "metadata": {},
     "output_type": "display_data"
    },
    {
     "name": "stdout",
     "output_type": "stream",
     "text": [
      "\n",
      "disc_loss\t0.6822056770324707\n",
      "acc\t0.5725\n",
      "gen_loss\t0.7663488984107971\n",
      "fpr\t0.305\n",
      "cm\t[[139  61]\n",
      " [110  90]]\n"
     ]
    },
    {
     "data": {
      "application/vnd.jupyter.widget-view+json": {
       "model_id": "e004f6c81fed4cfa951c43fa55db4bd4",
       "version_major": 2,
       "version_minor": 0
      },
      "text/plain": [
       "HBox(children=(IntProgress(value=0, description='Epoch: 128 ', max=1875, style=ProgressStyle(description_width…"
      ]
     },
     "metadata": {},
     "output_type": "display_data"
    },
    {
     "name": "stdout",
     "output_type": "stream",
     "text": [
      "\n",
      "disc_loss\t0.6857060194015503\n",
      "acc\t0.565\n",
      "gen_loss\t0.7435176372528076\n",
      "fpr\t0.395\n",
      "cm\t[[121  79]\n",
      " [ 95 105]]\n"
     ]
    },
    {
     "data": {
      "application/vnd.jupyter.widget-view+json": {
       "model_id": "7e5b5b69c2b34f9b85cc350f4e5155cb",
       "version_major": 2,
       "version_minor": 0
      },
      "text/plain": [
       "HBox(children=(IntProgress(value=0, description='Epoch: 129 ', max=1875, style=ProgressStyle(description_width…"
      ]
     },
     "metadata": {},
     "output_type": "display_data"
    },
    {
     "name": "stdout",
     "output_type": "stream",
     "text": [
      "\n",
      "disc_loss\t0.6858097910881042\n",
      "acc\t0.55\n",
      "gen_loss\t0.7710129022598267\n",
      "fpr\t0.335\n",
      "cm\t[[133  67]\n",
      " [113  87]]\n"
     ]
    },
    {
     "data": {
      "application/vnd.jupyter.widget-view+json": {
       "model_id": "c3e5779232e84aa9aaf41be1862f543b",
       "version_major": 2,
       "version_minor": 0
      },
      "text/plain": [
       "HBox(children=(IntProgress(value=0, description='Epoch: 130 ', max=1875, style=ProgressStyle(description_width…"
      ]
     },
     "metadata": {},
     "output_type": "display_data"
    },
    {
     "name": "stdout",
     "output_type": "stream",
     "text": [
      "\n",
      "disc_loss\t0.6597586274147034\n",
      "acc\t0.625\n",
      "gen_loss\t0.7559219598770142\n",
      "fpr\t0.31\n",
      "cm\t[[138  62]\n",
      " [ 88 112]]\n"
     ]
    },
    {
     "data": {
      "application/vnd.jupyter.widget-view+json": {
       "model_id": "93ca39727edc41e2b0c28bd9d7598fef",
       "version_major": 2,
       "version_minor": 0
      },
      "text/plain": [
       "HBox(children=(IntProgress(value=0, description='Epoch: 131 ', max=1875, style=ProgressStyle(description_width…"
      ]
     },
     "metadata": {},
     "output_type": "display_data"
    },
    {
     "name": "stdout",
     "output_type": "stream",
     "text": [
      "\n",
      "disc_loss\t0.6819477677345276\n",
      "acc\t0.5675\n",
      "gen_loss\t0.7477760314941406\n",
      "fpr\t0.365\n",
      "cm\t[[127  73]\n",
      " [100 100]]\n"
     ]
    },
    {
     "data": {
      "application/vnd.jupyter.widget-view+json": {
       "model_id": "855cfd8b54294913b01ba176b49449da",
       "version_major": 2,
       "version_minor": 0
      },
      "text/plain": [
       "HBox(children=(IntProgress(value=0, description='Epoch: 132 ', max=1875, style=ProgressStyle(description_width…"
      ]
     },
     "metadata": {},
     "output_type": "display_data"
    },
    {
     "name": "stdout",
     "output_type": "stream",
     "text": [
      "\n",
      "disc_loss\t0.6758934259414673\n",
      "acc\t0.58\n",
      "gen_loss\t0.7259175777435303\n",
      "fpr\t0.435\n",
      "cm\t[[113  87]\n",
      " [ 81 119]]\n"
     ]
    },
    {
     "data": {
      "application/vnd.jupyter.widget-view+json": {
       "model_id": "bf2119c3b7fd4bea95dc50c7da060265",
       "version_major": 2,
       "version_minor": 0
      },
      "text/plain": [
       "HBox(children=(IntProgress(value=0, description='Epoch: 133 ', max=1875, style=ProgressStyle(description_width…"
      ]
     },
     "metadata": {},
     "output_type": "display_data"
    },
    {
     "name": "stdout",
     "output_type": "stream",
     "text": [
      "\n",
      "disc_loss\t0.6778141856193542\n",
      "acc\t0.5875\n",
      "gen_loss\t0.7866455316543579\n",
      "fpr\t0.22\n",
      "cm\t[[156  44]\n",
      " [121  79]]\n"
     ]
    },
    {
     "data": {
      "application/vnd.jupyter.widget-view+json": {
       "model_id": "e0aa9945bed346bf9ddb5033f4e1a67d",
       "version_major": 2,
       "version_minor": 0
      },
      "text/plain": [
       "HBox(children=(IntProgress(value=0, description='Epoch: 134 ', max=1875, style=ProgressStyle(description_width…"
      ]
     },
     "metadata": {},
     "output_type": "display_data"
    },
    {
     "name": "stdout",
     "output_type": "stream",
     "text": [
      "\n",
      "disc_loss\t0.6899363994598389\n",
      "acc\t0.55\n",
      "gen_loss\t0.7281144857406616\n",
      "fpr\t0.42\n",
      "cm\t[[116  84]\n",
      " [ 96 104]]\n"
     ]
    },
    {
     "data": {
      "application/vnd.jupyter.widget-view+json": {
       "model_id": "df4d148aca0a4669802cb3ac854bdc52",
       "version_major": 2,
       "version_minor": 0
      },
      "text/plain": [
       "HBox(children=(IntProgress(value=0, description='Epoch: 135 ', max=1875, style=ProgressStyle(description_width…"
      ]
     },
     "metadata": {},
     "output_type": "display_data"
    },
    {
     "name": "stdout",
     "output_type": "stream",
     "text": [
      "\n",
      "disc_loss\t0.6888195872306824\n",
      "acc\t0.58\n",
      "gen_loss\t0.794929027557373\n",
      "fpr\t0.2\n",
      "cm\t[[160  40]\n",
      " [128  72]]\n"
     ]
    },
    {
     "data": {
      "application/vnd.jupyter.widget-view+json": {
       "model_id": "382dab9e3ebf40ed90a2b03e7a0e55d4",
       "version_major": 2,
       "version_minor": 0
      },
      "text/plain": [
       "HBox(children=(IntProgress(value=0, description='Epoch: 136 ', max=1875, style=ProgressStyle(description_width…"
      ]
     },
     "metadata": {},
     "output_type": "display_data"
    },
    {
     "name": "stdout",
     "output_type": "stream",
     "text": [
      "\n",
      "disc_loss\t0.681638777256012\n",
      "acc\t0.5575\n",
      "gen_loss\t0.7407689094543457\n",
      "fpr\t0.41\n",
      "cm\t[[118  82]\n",
      " [ 95 105]]\n"
     ]
    },
    {
     "data": {
      "application/vnd.jupyter.widget-view+json": {
       "model_id": "667233871bbd4084a0bb0ae13a2eb7ef",
       "version_major": 2,
       "version_minor": 0
      },
      "text/plain": [
       "HBox(children=(IntProgress(value=0, description='Epoch: 137 ', max=1875, style=ProgressStyle(description_width…"
      ]
     },
     "metadata": {},
     "output_type": "display_data"
    },
    {
     "name": "stdout",
     "output_type": "stream",
     "text": [
      "\n",
      "disc_loss\t0.6837198734283447\n",
      "acc\t0.5475\n",
      "gen_loss\t0.867382287979126\n",
      "fpr\t0.135\n",
      "cm\t[[173  27]\n",
      " [154  46]]\n"
     ]
    },
    {
     "data": {
      "application/vnd.jupyter.widget-view+json": {
       "model_id": "01ce58956fc84f07be49e547a1d63986",
       "version_major": 2,
       "version_minor": 0
      },
      "text/plain": [
       "HBox(children=(IntProgress(value=0, description='Epoch: 138 ', max=1875, style=ProgressStyle(description_width…"
      ]
     },
     "metadata": {},
     "output_type": "display_data"
    },
    {
     "name": "stdout",
     "output_type": "stream",
     "text": [
      "\n",
      "disc_loss\t0.6908760666847229\n",
      "acc\t0.58\n",
      "gen_loss\t0.8374667167663574\n",
      "fpr\t0.13\n",
      "cm\t[[174  26]\n",
      " [142  58]]\n"
     ]
    },
    {
     "data": {
      "application/vnd.jupyter.widget-view+json": {
       "model_id": "10615873486d4156900baf66ee4d7265",
       "version_major": 2,
       "version_minor": 0
      },
      "text/plain": [
       "HBox(children=(IntProgress(value=0, description='Epoch: 139 ', max=1875, style=ProgressStyle(description_width…"
      ]
     },
     "metadata": {},
     "output_type": "display_data"
    },
    {
     "name": "stdout",
     "output_type": "stream",
     "text": [
      "\n",
      "disc_loss\t0.6915785074234009\n",
      "acc\t0.5775\n",
      "gen_loss\t0.7779571413993835\n",
      "fpr\t0.265\n",
      "cm\t[[147  53]\n",
      " [116  84]]\n"
     ]
    },
    {
     "data": {
      "application/vnd.jupyter.widget-view+json": {
       "model_id": "581b2d4c77e843989cf79f4144660417",
       "version_major": 2,
       "version_minor": 0
      },
      "text/plain": [
       "HBox(children=(IntProgress(value=0, description='Epoch: 140 ', max=1875, style=ProgressStyle(description_width…"
      ]
     },
     "metadata": {},
     "output_type": "display_data"
    },
    {
     "name": "stdout",
     "output_type": "stream",
     "text": [
      "\n",
      "disc_loss\t0.6833044290542603\n",
      "acc\t0.5475\n",
      "gen_loss\t0.7641360759735107\n",
      "fpr\t0.365\n",
      "cm\t[[127  73]\n",
      " [108  92]]\n"
     ]
    },
    {
     "data": {
      "application/vnd.jupyter.widget-view+json": {
       "model_id": "c252552868ae46c3afeb4031c7903646",
       "version_major": 2,
       "version_minor": 0
      },
      "text/plain": [
       "HBox(children=(IntProgress(value=0, description='Epoch: 141 ', max=1875, style=ProgressStyle(description_width…"
      ]
     },
     "metadata": {},
     "output_type": "display_data"
    },
    {
     "name": "stdout",
     "output_type": "stream",
     "text": [
      "\n",
      "disc_loss\t0.6665104031562805\n",
      "acc\t0.6025\n",
      "gen_loss\t0.7593533396720886\n",
      "fpr\t0.325\n",
      "cm\t[[135  65]\n",
      " [ 94 106]]\n"
     ]
    },
    {
     "data": {
      "application/vnd.jupyter.widget-view+json": {
       "model_id": "7270822f16384f7aa6c48135b078710b",
       "version_major": 2,
       "version_minor": 0
      },
      "text/plain": [
       "HBox(children=(IntProgress(value=0, description='Epoch: 142 ', max=1875, style=ProgressStyle(description_width…"
      ]
     },
     "metadata": {},
     "output_type": "display_data"
    },
    {
     "name": "stdout",
     "output_type": "stream",
     "text": [
      "\n",
      "disc_loss\t0.6792666912078857\n",
      "acc\t0.5825\n",
      "gen_loss\t0.7527220845222473\n",
      "fpr\t0.33\n",
      "cm\t[[134  66]\n",
      " [101  99]]\n"
     ]
    },
    {
     "data": {
      "application/vnd.jupyter.widget-view+json": {
       "model_id": "7055796b62844904a023e11ebda165f0",
       "version_major": 2,
       "version_minor": 0
      },
      "text/plain": [
       "HBox(children=(IntProgress(value=0, description='Epoch: 143 ', max=1875, style=ProgressStyle(description_width…"
      ]
     },
     "metadata": {},
     "output_type": "display_data"
    },
    {
     "name": "stdout",
     "output_type": "stream",
     "text": [
      "\n",
      "disc_loss\t0.6803455352783203\n",
      "acc\t0.58\n",
      "gen_loss\t0.7887707352638245\n",
      "fpr\t0.22\n",
      "cm\t[[156  44]\n",
      " [124  76]]\n"
     ]
    },
    {
     "data": {
      "application/vnd.jupyter.widget-view+json": {
       "model_id": "971d165597dd4cfbb0dddf5592d9529c",
       "version_major": 2,
       "version_minor": 0
      },
      "text/plain": [
       "HBox(children=(IntProgress(value=0, description='Epoch: 144 ', max=1875, style=ProgressStyle(description_width…"
      ]
     },
     "metadata": {},
     "output_type": "display_data"
    },
    {
     "name": "stdout",
     "output_type": "stream",
     "text": [
      "\n",
      "disc_loss\t0.6934743523597717\n",
      "acc\t0.5375\n",
      "gen_loss\t0.7592588663101196\n",
      "fpr\t0.285\n",
      "cm\t[[143  57]\n",
      " [128  72]]\n"
     ]
    },
    {
     "data": {
      "application/vnd.jupyter.widget-view+json": {
       "model_id": "b155a7b3d53245e69f44e1c904746dd7",
       "version_major": 2,
       "version_minor": 0
      },
      "text/plain": [
       "HBox(children=(IntProgress(value=0, description='Epoch: 145 ', max=1875, style=ProgressStyle(description_width…"
      ]
     },
     "metadata": {},
     "output_type": "display_data"
    },
    {
     "name": "stdout",
     "output_type": "stream",
     "text": [
      "\n",
      "disc_loss\t0.7003966569900513\n",
      "acc\t0.5325\n",
      "gen_loss\t0.7580892443656921\n",
      "fpr\t0.335\n",
      "cm\t[[133  67]\n",
      " [120  80]]\n"
     ]
    },
    {
     "data": {
      "application/vnd.jupyter.widget-view+json": {
       "model_id": "4025c3441abb4b1cb092a9cd2022e475",
       "version_major": 2,
       "version_minor": 0
      },
      "text/plain": [
       "HBox(children=(IntProgress(value=0, description='Epoch: 146 ', max=1875, style=ProgressStyle(description_width…"
      ]
     },
     "metadata": {},
     "output_type": "display_data"
    },
    {
     "name": "stdout",
     "output_type": "stream",
     "text": [
      "\n",
      "disc_loss\t0.7083337306976318\n",
      "acc\t0.5125\n",
      "gen_loss\t0.7728238105773926\n",
      "fpr\t0.265\n",
      "cm\t[[147  53]\n",
      " [142  58]]\n"
     ]
    },
    {
     "data": {
      "application/vnd.jupyter.widget-view+json": {
       "model_id": "7162d1b621f94a5fa7a7264ca5bc63b5",
       "version_major": 2,
       "version_minor": 0
      },
      "text/plain": [
       "HBox(children=(IntProgress(value=0, description='Epoch: 147 ', max=1875, style=ProgressStyle(description_width…"
      ]
     },
     "metadata": {},
     "output_type": "display_data"
    },
    {
     "name": "stdout",
     "output_type": "stream",
     "text": [
      "\n",
      "disc_loss\t0.7059178948402405\n",
      "acc\t0.52\n",
      "gen_loss\t0.7426990270614624\n",
      "fpr\t0.365\n",
      "cm\t[[127  73]\n",
      " [119  81]]\n"
     ]
    },
    {
     "data": {
      "application/vnd.jupyter.widget-view+json": {
       "model_id": "0c5d6ded9cf94277b24020cb58881bbe",
       "version_major": 2,
       "version_minor": 0
      },
      "text/plain": [
       "HBox(children=(IntProgress(value=0, description='Epoch: 148 ', max=1875, style=ProgressStyle(description_width…"
      ]
     },
     "metadata": {},
     "output_type": "display_data"
    },
    {
     "name": "stdout",
     "output_type": "stream",
     "text": [
      "\n",
      "disc_loss\t0.6803762912750244\n",
      "acc\t0.5825\n",
      "gen_loss\t0.7431074380874634\n",
      "fpr\t0.39\n",
      "cm\t[[122  78]\n",
      " [ 89 111]]\n"
     ]
    },
    {
     "data": {
      "application/vnd.jupyter.widget-view+json": {
       "model_id": "01e9d80fa79d4b6f9c81620d502222a2",
       "version_major": 2,
       "version_minor": 0
      },
      "text/plain": [
       "HBox(children=(IntProgress(value=0, description='Epoch: 149 ', max=1875, style=ProgressStyle(description_width…"
      ]
     },
     "metadata": {},
     "output_type": "display_data"
    },
    {
     "name": "stdout",
     "output_type": "stream",
     "text": [
      "\n",
      "disc_loss\t0.6830582618713379\n",
      "acc\t0.5775\n",
      "gen_loss\t0.7285821437835693\n",
      "fpr\t0.345\n",
      "cm\t[[131  69]\n",
      " [100 100]]\n"
     ]
    },
    {
     "data": {
      "application/vnd.jupyter.widget-view+json": {
       "model_id": "4ddf936c51604763bda0d2170372d627",
       "version_major": 2,
       "version_minor": 0
      },
      "text/plain": [
       "HBox(children=(IntProgress(value=0, description='Epoch: 150 ', max=1875, style=ProgressStyle(description_width…"
      ]
     },
     "metadata": {},
     "output_type": "display_data"
    },
    {
     "name": "stdout",
     "output_type": "stream",
     "text": [
      "\n",
      "disc_loss\t0.6845333576202393\n",
      "acc\t0.56\n",
      "gen_loss\t0.806361973285675\n",
      "fpr\t0.25\n",
      "cm\t[[150  50]\n",
      " [126  74]]\n"
     ]
    },
    {
     "data": {
      "application/vnd.jupyter.widget-view+json": {
       "model_id": "b1b01af7cfa14dea931768bb54274d46",
       "version_major": 2,
       "version_minor": 0
      },
      "text/plain": [
       "HBox(children=(IntProgress(value=0, description='Epoch: 151 ', max=1875, style=ProgressStyle(description_width…"
      ]
     },
     "metadata": {},
     "output_type": "display_data"
    },
    {
     "name": "stdout",
     "output_type": "stream",
     "text": [
      "\n",
      "disc_loss\t0.6833487153053284\n",
      "acc\t0.58\n",
      "gen_loss\t0.8577719330787659\n",
      "fpr\t0.12\n",
      "cm\t[[176  24]\n",
      " [144  56]]\n"
     ]
    },
    {
     "data": {
      "application/vnd.jupyter.widget-view+json": {
       "model_id": "7dbac7491ed14ef996330f6e9c39008f",
       "version_major": 2,
       "version_minor": 0
      },
      "text/plain": [
       "HBox(children=(IntProgress(value=0, description='Epoch: 152 ', max=1875, style=ProgressStyle(description_width…"
      ]
     },
     "metadata": {},
     "output_type": "display_data"
    },
    {
     "name": "stdout",
     "output_type": "stream",
     "text": [
      "\n",
      "disc_loss\t0.6803485751152039\n",
      "acc\t0.575\n",
      "gen_loss\t0.8194447159767151\n",
      "fpr\t0.215\n",
      "cm\t[[157  43]\n",
      " [127  73]]\n"
     ]
    },
    {
     "data": {
      "application/vnd.jupyter.widget-view+json": {
       "model_id": "3b998af03381419e81c01a1b94a07bd0",
       "version_major": 2,
       "version_minor": 0
      },
      "text/plain": [
       "HBox(children=(IntProgress(value=0, description='Epoch: 153 ', max=1875, style=ProgressStyle(description_width…"
      ]
     },
     "metadata": {},
     "output_type": "display_data"
    },
    {
     "name": "stdout",
     "output_type": "stream",
     "text": [
      "\n",
      "disc_loss\t0.6805539727210999\n",
      "acc\t0.55\n",
      "gen_loss\t0.7489051818847656\n",
      "fpr\t0.355\n",
      "cm\t[[129  71]\n",
      " [109  91]]\n"
     ]
    },
    {
     "data": {
      "application/vnd.jupyter.widget-view+json": {
       "model_id": "215ee52391cf424081bee0e6a3ab1975",
       "version_major": 2,
       "version_minor": 0
      },
      "text/plain": [
       "HBox(children=(IntProgress(value=0, description='Epoch: 154 ', max=1875, style=ProgressStyle(description_width…"
      ]
     },
     "metadata": {},
     "output_type": "display_data"
    },
    {
     "name": "stdout",
     "output_type": "stream",
     "text": [
      "\n",
      "disc_loss\t0.6790387034416199\n",
      "acc\t0.6075\n",
      "gen_loss\t0.7940084934234619\n",
      "fpr\t0.195\n",
      "cm\t[[161  39]\n",
      " [118  82]]\n"
     ]
    },
    {
     "data": {
      "application/vnd.jupyter.widget-view+json": {
       "model_id": "f34b45f3166840eab49a820cdbcc5f6a",
       "version_major": 2,
       "version_minor": 0
      },
      "text/plain": [
       "HBox(children=(IntProgress(value=0, description='Epoch: 155 ', max=1875, style=ProgressStyle(description_width…"
      ]
     },
     "metadata": {},
     "output_type": "display_data"
    },
    {
     "name": "stdout",
     "output_type": "stream",
     "text": [
      "\n",
      "disc_loss\t0.699861466884613\n",
      "acc\t0.5325\n",
      "gen_loss\t0.7703496813774109\n",
      "fpr\t0.305\n",
      "cm\t[[139  61]\n",
      " [126  74]]\n"
     ]
    },
    {
     "data": {
      "application/vnd.jupyter.widget-view+json": {
       "model_id": "1f06e1849353443085daef6617fef0a1",
       "version_major": 2,
       "version_minor": 0
      },
      "text/plain": [
       "HBox(children=(IntProgress(value=0, description='Epoch: 156 ', max=1875, style=ProgressStyle(description_width…"
      ]
     },
     "metadata": {},
     "output_type": "display_data"
    },
    {
     "name": "stdout",
     "output_type": "stream",
     "text": [
      "\n",
      "disc_loss\t0.6763095855712891\n",
      "acc\t0.5675\n",
      "gen_loss\t0.7815636396408081\n",
      "fpr\t0.3\n",
      "cm\t[[140  60]\n",
      " [113  87]]\n"
     ]
    },
    {
     "data": {
      "application/vnd.jupyter.widget-view+json": {
       "model_id": "27b0078653994019a74b1eb49dc0f2ac",
       "version_major": 2,
       "version_minor": 0
      },
      "text/plain": [
       "HBox(children=(IntProgress(value=0, description='Epoch: 157 ', max=1875, style=ProgressStyle(description_width…"
      ]
     },
     "metadata": {},
     "output_type": "display_data"
    },
    {
     "name": "stdout",
     "output_type": "stream",
     "text": [
      "\n",
      "disc_loss\t0.6776033043861389\n",
      "acc\t0.575\n",
      "gen_loss\t0.8020825386047363\n",
      "fpr\t0.245\n",
      "cm\t[[151  49]\n",
      " [121  79]]\n"
     ]
    },
    {
     "data": {
      "application/vnd.jupyter.widget-view+json": {
       "model_id": "2cd2452c959b4fc1a24dd958ba167ce5",
       "version_major": 2,
       "version_minor": 0
      },
      "text/plain": [
       "HBox(children=(IntProgress(value=0, description='Epoch: 158 ', max=1875, style=ProgressStyle(description_width…"
      ]
     },
     "metadata": {},
     "output_type": "display_data"
    },
    {
     "name": "stdout",
     "output_type": "stream",
     "text": [
      "\n",
      "disc_loss\t0.6817806959152222\n",
      "acc\t0.56\n",
      "gen_loss\t0.752156674861908\n",
      "fpr\t0.325\n",
      "cm\t[[135  65]\n",
      " [111  89]]\n"
     ]
    },
    {
     "data": {
      "application/vnd.jupyter.widget-view+json": {
       "model_id": "0a6f06c0d3e545dabb839742093ca93c",
       "version_major": 2,
       "version_minor": 0
      },
      "text/plain": [
       "HBox(children=(IntProgress(value=0, description='Epoch: 159 ', max=1875, style=ProgressStyle(description_width…"
      ]
     },
     "metadata": {},
     "output_type": "display_data"
    },
    {
     "name": "stdout",
     "output_type": "stream",
     "text": [
      "\n",
      "disc_loss\t0.6846939921379089\n",
      "acc\t0.5575\n",
      "gen_loss\t0.814297616481781\n",
      "fpr\t0.23\n",
      "cm\t[[154  46]\n",
      " [131  69]]\n"
     ]
    },
    {
     "data": {
      "application/vnd.jupyter.widget-view+json": {
       "model_id": "d8377002c5cf4fb4ba541156ee6c62ae",
       "version_major": 2,
       "version_minor": 0
      },
      "text/plain": [
       "HBox(children=(IntProgress(value=0, description='Epoch: 160 ', max=1875, style=ProgressStyle(description_width…"
      ]
     },
     "metadata": {},
     "output_type": "display_data"
    },
    {
     "name": "stdout",
     "output_type": "stream",
     "text": [
      "\n",
      "disc_loss\t0.6813145279884338\n",
      "acc\t0.5575\n",
      "gen_loss\t0.7486038208007812\n",
      "fpr\t0.385\n",
      "cm\t[[123  77]\n",
      " [100 100]]\n"
     ]
    },
    {
     "data": {
      "application/vnd.jupyter.widget-view+json": {
       "model_id": "d9ed5a3ce36948db994d069565964f90",
       "version_major": 2,
       "version_minor": 0
      },
      "text/plain": [
       "HBox(children=(IntProgress(value=0, description='Epoch: 161 ', max=1875, style=ProgressStyle(description_width…"
      ]
     },
     "metadata": {},
     "output_type": "display_data"
    },
    {
     "name": "stdout",
     "output_type": "stream",
     "text": [
      "\n",
      "disc_loss\t0.6892913579940796\n",
      "acc\t0.58\n",
      "gen_loss\t0.7948611974716187\n",
      "fpr\t0.195\n",
      "cm\t[[161  39]\n",
      " [129  71]]\n"
     ]
    },
    {
     "data": {
      "application/vnd.jupyter.widget-view+json": {
       "model_id": "b47db8f3130f4e63a24b38a858b9807c",
       "version_major": 2,
       "version_minor": 0
      },
      "text/plain": [
       "HBox(children=(IntProgress(value=0, description='Epoch: 162 ', max=1875, style=ProgressStyle(description_width…"
      ]
     },
     "metadata": {},
     "output_type": "display_data"
    },
    {
     "name": "stdout",
     "output_type": "stream",
     "text": [
      "\n",
      "disc_loss\t0.6893998980522156\n",
      "acc\t0.55\n",
      "gen_loss\t0.798820972442627\n",
      "fpr\t0.235\n",
      "cm\t[[153  47]\n",
      " [133  67]]\n"
     ]
    },
    {
     "data": {
      "application/vnd.jupyter.widget-view+json": {
       "model_id": "f5f404db3e354ae09910694f7a782026",
       "version_major": 2,
       "version_minor": 0
      },
      "text/plain": [
       "HBox(children=(IntProgress(value=0, description='Epoch: 163 ', max=1875, style=ProgressStyle(description_width…"
      ]
     },
     "metadata": {},
     "output_type": "display_data"
    },
    {
     "name": "stdout",
     "output_type": "stream",
     "text": [
      "\n",
      "disc_loss\t0.6838456988334656\n",
      "acc\t0.5675\n",
      "gen_loss\t0.7686370611190796\n",
      "fpr\t0.29\n",
      "cm\t[[142  58]\n",
      " [115  85]]\n"
     ]
    },
    {
     "data": {
      "application/vnd.jupyter.widget-view+json": {
       "model_id": "1836d3cad6b544e0910e26d5417ab4b8",
       "version_major": 2,
       "version_minor": 0
      },
      "text/plain": [
       "HBox(children=(IntProgress(value=0, description='Epoch: 164 ', max=1875, style=ProgressStyle(description_width…"
      ]
     },
     "metadata": {},
     "output_type": "display_data"
    },
    {
     "name": "stdout",
     "output_type": "stream",
     "text": [
      "\n",
      "disc_loss\t0.6818987131118774\n",
      "acc\t0.575\n",
      "gen_loss\t0.7653962969779968\n",
      "fpr\t0.27\n",
      "cm\t[[146  54]\n",
      " [116  84]]\n"
     ]
    },
    {
     "data": {
      "application/vnd.jupyter.widget-view+json": {
       "model_id": "513760844fc848deb9d80283e9a5590e",
       "version_major": 2,
       "version_minor": 0
      },
      "text/plain": [
       "HBox(children=(IntProgress(value=0, description='Epoch: 165 ', max=1875, style=ProgressStyle(description_width…"
      ]
     },
     "metadata": {},
     "output_type": "display_data"
    },
    {
     "name": "stdout",
     "output_type": "stream",
     "text": [
      "\n",
      "disc_loss\t0.6794013977050781\n",
      "acc\t0.615\n",
      "gen_loss\t0.7626972794532776\n",
      "fpr\t0.26\n",
      "cm\t[[148  52]\n",
      " [102  98]]\n"
     ]
    },
    {
     "data": {
      "application/vnd.jupyter.widget-view+json": {
       "model_id": "fea4f87e0f3b43a997628848dff9668a",
       "version_major": 2,
       "version_minor": 0
      },
      "text/plain": [
       "HBox(children=(IntProgress(value=0, description='Epoch: 166 ', max=1875, style=ProgressStyle(description_width…"
      ]
     },
     "metadata": {},
     "output_type": "display_data"
    },
    {
     "name": "stdout",
     "output_type": "stream",
     "text": [
      "\n",
      "disc_loss\t0.6883062720298767\n",
      "acc\t0.5625\n",
      "gen_loss\t0.8180144429206848\n",
      "fpr\t0.2\n",
      "cm\t[[160  40]\n",
      " [135  65]]\n"
     ]
    },
    {
     "data": {
      "application/vnd.jupyter.widget-view+json": {
       "model_id": "3f37a2118d884e328553605b1d5a4c9f",
       "version_major": 2,
       "version_minor": 0
      },
      "text/plain": [
       "HBox(children=(IntProgress(value=0, description='Epoch: 167 ', max=1875, style=ProgressStyle(description_width…"
      ]
     },
     "metadata": {},
     "output_type": "display_data"
    },
    {
     "name": "stdout",
     "output_type": "stream",
     "text": [
      "\n",
      "disc_loss\t0.6918106079101562\n",
      "acc\t0.5725\n",
      "gen_loss\t0.8465922474861145\n",
      "fpr\t0.13\n",
      "cm\t[[174  26]\n",
      " [145  55]]\n"
     ]
    },
    {
     "data": {
      "application/vnd.jupyter.widget-view+json": {
       "model_id": "29aedf4d4f5b424fa97e22376847e9a7",
       "version_major": 2,
       "version_minor": 0
      },
      "text/plain": [
       "HBox(children=(IntProgress(value=0, description='Epoch: 168 ', max=1875, style=ProgressStyle(description_width…"
      ]
     },
     "metadata": {},
     "output_type": "display_data"
    },
    {
     "name": "stdout",
     "output_type": "stream",
     "text": [
      "\n",
      "disc_loss\t0.6981591582298279\n",
      "acc\t0.515\n",
      "gen_loss\t0.7526885867118835\n",
      "fpr\t0.355\n",
      "cm\t[[129  71]\n",
      " [123  77]]\n"
     ]
    },
    {
     "data": {
      "application/vnd.jupyter.widget-view+json": {
       "model_id": "dcc983dc18904f2d922f74f125d605d4",
       "version_major": 2,
       "version_minor": 0
      },
      "text/plain": [
       "HBox(children=(IntProgress(value=0, description='Epoch: 169 ', max=1875, style=ProgressStyle(description_width…"
      ]
     },
     "metadata": {},
     "output_type": "display_data"
    },
    {
     "name": "stdout",
     "output_type": "stream",
     "text": [
      "\n",
      "disc_loss\t0.6859681606292725\n",
      "acc\t0.5725\n",
      "gen_loss\t0.7689361572265625\n",
      "fpr\t0.285\n",
      "cm\t[[143  57]\n",
      " [114  86]]\n"
     ]
    },
    {
     "data": {
      "application/vnd.jupyter.widget-view+json": {
       "model_id": "74958d111eee48e9b4d0b22c45c1e068",
       "version_major": 2,
       "version_minor": 0
      },
      "text/plain": [
       "HBox(children=(IntProgress(value=0, description='Epoch: 170 ', max=1875, style=ProgressStyle(description_width…"
      ]
     },
     "metadata": {},
     "output_type": "display_data"
    },
    {
     "name": "stdout",
     "output_type": "stream",
     "text": [
      "\n",
      "disc_loss\t0.6626063585281372\n",
      "acc\t0.6275\n",
      "gen_loss\t0.8168939352035522\n",
      "fpr\t0.14\n",
      "cm\t[[172  28]\n",
      " [121  79]]\n"
     ]
    },
    {
     "data": {
      "application/vnd.jupyter.widget-view+json": {
       "model_id": "b472508f2d9d4c329e224299ed0b92bb",
       "version_major": 2,
       "version_minor": 0
      },
      "text/plain": [
       "HBox(children=(IntProgress(value=0, description='Epoch: 171 ', max=1875, style=ProgressStyle(description_width…"
      ]
     },
     "metadata": {},
     "output_type": "display_data"
    },
    {
     "name": "stdout",
     "output_type": "stream",
     "text": [
      "\n",
      "disc_loss\t0.6697031259536743\n",
      "acc\t0.62\n",
      "gen_loss\t0.7871708869934082\n",
      "fpr\t0.175\n",
      "cm\t[[165  35]\n",
      " [117  83]]\n"
     ]
    },
    {
     "data": {
      "application/vnd.jupyter.widget-view+json": {
       "model_id": "a235ab08ed714cc8bfc2eeb04414ee45",
       "version_major": 2,
       "version_minor": 0
      },
      "text/plain": [
       "HBox(children=(IntProgress(value=0, description='Epoch: 172 ', max=1875, style=ProgressStyle(description_width…"
      ]
     },
     "metadata": {},
     "output_type": "display_data"
    },
    {
     "name": "stdout",
     "output_type": "stream",
     "text": [
      "\n",
      "disc_loss\t0.6756319999694824\n",
      "acc\t0.6025\n",
      "gen_loss\t0.7902098894119263\n",
      "fpr\t0.21\n",
      "cm\t[[158  42]\n",
      " [117  83]]\n"
     ]
    },
    {
     "data": {
      "application/vnd.jupyter.widget-view+json": {
       "model_id": "cda8aa351b7d49109ec780cb2b54533d",
       "version_major": 2,
       "version_minor": 0
      },
      "text/plain": [
       "HBox(children=(IntProgress(value=0, description='Epoch: 173 ', max=1875, style=ProgressStyle(description_width…"
      ]
     },
     "metadata": {},
     "output_type": "display_data"
    },
    {
     "name": "stdout",
     "output_type": "stream",
     "text": [
      "\n",
      "disc_loss\t0.6687279343605042\n",
      "acc\t0.605\n",
      "gen_loss\t0.7787473797798157\n",
      "fpr\t0.27\n",
      "cm\t[[146  54]\n",
      " [104  96]]\n"
     ]
    },
    {
     "data": {
      "application/vnd.jupyter.widget-view+json": {
       "model_id": "f196da4a5b254645bb6b9e007592c937",
       "version_major": 2,
       "version_minor": 0
      },
      "text/plain": [
       "HBox(children=(IntProgress(value=0, description='Epoch: 174 ', max=1875, style=ProgressStyle(description_width…"
      ]
     },
     "metadata": {},
     "output_type": "display_data"
    },
    {
     "name": "stdout",
     "output_type": "stream",
     "text": [
      "\n",
      "disc_loss\t0.6889711022377014\n",
      "acc\t0.545\n",
      "gen_loss\t0.7272849082946777\n",
      "fpr\t0.395\n",
      "cm\t[[121  79]\n",
      " [103  97]]\n"
     ]
    },
    {
     "data": {
      "application/vnd.jupyter.widget-view+json": {
       "model_id": "929ff7126bfb459e82a5346774133c8d",
       "version_major": 2,
       "version_minor": 0
      },
      "text/plain": [
       "HBox(children=(IntProgress(value=0, description='Epoch: 175 ', max=1875, style=ProgressStyle(description_width…"
      ]
     },
     "metadata": {},
     "output_type": "display_data"
    },
    {
     "name": "stdout",
     "output_type": "stream",
     "text": [
      "\n",
      "disc_loss\t0.686095118522644\n",
      "acc\t0.5675\n",
      "gen_loss\t0.7347215414047241\n",
      "fpr\t0.33\n",
      "cm\t[[134  66]\n",
      " [107  93]]\n"
     ]
    },
    {
     "data": {
      "application/vnd.jupyter.widget-view+json": {
       "model_id": "07f9e79f8110482fb46f1c99793a8412",
       "version_major": 2,
       "version_minor": 0
      },
      "text/plain": [
       "HBox(children=(IntProgress(value=0, description='Epoch: 176 ', max=1875, style=ProgressStyle(description_width…"
      ]
     },
     "metadata": {},
     "output_type": "display_data"
    },
    {
     "name": "stdout",
     "output_type": "stream",
     "text": [
      "\n",
      "disc_loss\t0.6834219098091125\n",
      "acc\t0.57\n",
      "gen_loss\t0.7372510433197021\n",
      "fpr\t0.37\n",
      "cm\t[[126  74]\n",
      " [ 98 102]]\n"
     ]
    },
    {
     "data": {
      "application/vnd.jupyter.widget-view+json": {
       "model_id": "7e4a22b285ff4924a6b8a769660a20c3",
       "version_major": 2,
       "version_minor": 0
      },
      "text/plain": [
       "HBox(children=(IntProgress(value=0, description='Epoch: 177 ', max=1875, style=ProgressStyle(description_width…"
      ]
     },
     "metadata": {},
     "output_type": "display_data"
    },
    {
     "name": "stdout",
     "output_type": "stream",
     "text": [
      "\n",
      "disc_loss\t0.6844251751899719\n",
      "acc\t0.545\n",
      "gen_loss\t0.7522876262664795\n",
      "fpr\t0.335\n",
      "cm\t[[133  67]\n",
      " [115  85]]\n"
     ]
    },
    {
     "data": {
      "application/vnd.jupyter.widget-view+json": {
       "model_id": "c9f485b8862447128aef346e50789683",
       "version_major": 2,
       "version_minor": 0
      },
      "text/plain": [
       "HBox(children=(IntProgress(value=0, description='Epoch: 178 ', max=1875, style=ProgressStyle(description_width…"
      ]
     },
     "metadata": {},
     "output_type": "display_data"
    },
    {
     "name": "stdout",
     "output_type": "stream",
     "text": [
      "\n",
      "disc_loss\t0.6798471212387085\n",
      "acc\t0.5825\n",
      "gen_loss\t0.7823538184165955\n",
      "fpr\t0.225\n",
      "cm\t[[155  45]\n",
      " [122  78]]\n"
     ]
    },
    {
     "data": {
      "application/vnd.jupyter.widget-view+json": {
       "model_id": "3721a314d9de4032ab74be4272089a43",
       "version_major": 2,
       "version_minor": 0
      },
      "text/plain": [
       "HBox(children=(IntProgress(value=0, description='Epoch: 179 ', max=1875, style=ProgressStyle(description_width…"
      ]
     },
     "metadata": {},
     "output_type": "display_data"
    },
    {
     "name": "stdout",
     "output_type": "stream",
     "text": [
      "\n",
      "disc_loss\t0.6863833665847778\n",
      "acc\t0.57\n",
      "gen_loss\t0.8160884380340576\n",
      "fpr\t0.205\n",
      "cm\t[[159  41]\n",
      " [131  69]]\n"
     ]
    },
    {
     "data": {
      "application/vnd.jupyter.widget-view+json": {
       "model_id": "ef91d58ec71444f58d151f04964c4bd7",
       "version_major": 2,
       "version_minor": 0
      },
      "text/plain": [
       "HBox(children=(IntProgress(value=0, description='Epoch: 180 ', max=1875, style=ProgressStyle(description_width…"
      ]
     },
     "metadata": {},
     "output_type": "display_data"
    },
    {
     "name": "stdout",
     "output_type": "stream",
     "text": [
      "\n",
      "disc_loss\t0.6772856116294861\n",
      "acc\t0.5575\n",
      "gen_loss\t0.8118064999580383\n",
      "fpr\t0.2\n",
      "cm\t[[160  40]\n",
      " [137  63]]\n"
     ]
    },
    {
     "data": {
      "application/vnd.jupyter.widget-view+json": {
       "model_id": "886cc51e0f3a439980deca6e9f4befcc",
       "version_major": 2,
       "version_minor": 0
      },
      "text/plain": [
       "HBox(children=(IntProgress(value=0, description='Epoch: 181 ', max=1875, style=ProgressStyle(description_width…"
      ]
     },
     "metadata": {},
     "output_type": "display_data"
    },
    {
     "name": "stdout",
     "output_type": "stream",
     "text": [
      "\n",
      "disc_loss\t0.6742927432060242\n",
      "acc\t0.565\n",
      "gen_loss\t0.8109486103057861\n",
      "fpr\t0.2\n",
      "cm\t[[160  40]\n",
      " [134  66]]\n"
     ]
    },
    {
     "data": {
      "application/vnd.jupyter.widget-view+json": {
       "model_id": "b294a539cefa4b35825ce2b8f6286ca7",
       "version_major": 2,
       "version_minor": 0
      },
      "text/plain": [
       "HBox(children=(IntProgress(value=0, description='Epoch: 182 ', max=1875, style=ProgressStyle(description_width…"
      ]
     },
     "metadata": {},
     "output_type": "display_data"
    },
    {
     "name": "stdout",
     "output_type": "stream",
     "text": [
      "\n",
      "disc_loss\t0.6675692796707153\n",
      "acc\t0.6075\n",
      "gen_loss\t0.753767728805542\n",
      "fpr\t0.315\n",
      "cm\t[[137  63]\n",
      " [ 94 106]]\n"
     ]
    },
    {
     "data": {
      "application/vnd.jupyter.widget-view+json": {
       "model_id": "56876526bbd94bbf9292b7ab45b55228",
       "version_major": 2,
       "version_minor": 0
      },
      "text/plain": [
       "HBox(children=(IntProgress(value=0, description='Epoch: 183 ', max=1875, style=ProgressStyle(description_width…"
      ]
     },
     "metadata": {},
     "output_type": "display_data"
    },
    {
     "name": "stdout",
     "output_type": "stream",
     "text": [
      "\n",
      "disc_loss\t0.6731323003768921\n",
      "acc\t0.605\n",
      "gen_loss\t0.7757759690284729\n",
      "fpr\t0.265\n",
      "cm\t[[147  53]\n",
      " [105  95]]\n"
     ]
    },
    {
     "data": {
      "application/vnd.jupyter.widget-view+json": {
       "model_id": "04793d08d9324eaa939201fccb3bf514",
       "version_major": 2,
       "version_minor": 0
      },
      "text/plain": [
       "HBox(children=(IntProgress(value=0, description='Epoch: 184 ', max=1875, style=ProgressStyle(description_width…"
      ]
     },
     "metadata": {},
     "output_type": "display_data"
    },
    {
     "name": "stdout",
     "output_type": "stream",
     "text": [
      "\n",
      "disc_loss\t0.6910492777824402\n",
      "acc\t0.52\n",
      "gen_loss\t0.7525885701179504\n",
      "fpr\t0.335\n",
      "cm\t[[133  67]\n",
      " [125  75]]\n"
     ]
    },
    {
     "data": {
      "application/vnd.jupyter.widget-view+json": {
       "model_id": "4a2c0f8d06ee4c93816855d63ce8aaa7",
       "version_major": 2,
       "version_minor": 0
      },
      "text/plain": [
       "HBox(children=(IntProgress(value=0, description='Epoch: 185 ', max=1875, style=ProgressStyle(description_width…"
      ]
     },
     "metadata": {},
     "output_type": "display_data"
    },
    {
     "name": "stdout",
     "output_type": "stream",
     "text": [
      "\n",
      "disc_loss\t0.6805536150932312\n",
      "acc\t0.595\n",
      "gen_loss\t0.7500465512275696\n",
      "fpr\t0.31\n",
      "cm\t[[138  62]\n",
      " [100 100]]\n"
     ]
    },
    {
     "data": {
      "application/vnd.jupyter.widget-view+json": {
       "model_id": "3ba67b8b4f964406871e7415f7724d3c",
       "version_major": 2,
       "version_minor": 0
      },
      "text/plain": [
       "HBox(children=(IntProgress(value=0, description='Epoch: 186 ', max=1875, style=ProgressStyle(description_width…"
      ]
     },
     "metadata": {},
     "output_type": "display_data"
    },
    {
     "name": "stdout",
     "output_type": "stream",
     "text": [
      "\n",
      "disc_loss\t0.6700944304466248\n",
      "acc\t0.5975\n",
      "gen_loss\t0.797566831111908\n",
      "fpr\t0.225\n",
      "cm\t[[155  45]\n",
      " [116  84]]\n"
     ]
    },
    {
     "data": {
      "application/vnd.jupyter.widget-view+json": {
       "model_id": "7cd10109f7fa4d69b87fc20d850d8df6",
       "version_major": 2,
       "version_minor": 0
      },
      "text/plain": [
       "HBox(children=(IntProgress(value=0, description='Epoch: 187 ', max=1875, style=ProgressStyle(description_width…"
      ]
     },
     "metadata": {},
     "output_type": "display_data"
    },
    {
     "name": "stdout",
     "output_type": "stream",
     "text": [
      "\n",
      "disc_loss\t0.6756526231765747\n",
      "acc\t0.5775\n",
      "gen_loss\t0.7683383226394653\n",
      "fpr\t0.305\n",
      "cm\t[[139  61]\n",
      " [108  92]]\n"
     ]
    },
    {
     "data": {
      "application/vnd.jupyter.widget-view+json": {
       "model_id": "d2885d67474c4fa5810a71b4e9569c50",
       "version_major": 2,
       "version_minor": 0
      },
      "text/plain": [
       "HBox(children=(IntProgress(value=0, description='Epoch: 188 ', max=1875, style=ProgressStyle(description_width…"
      ]
     },
     "metadata": {},
     "output_type": "display_data"
    },
    {
     "name": "stdout",
     "output_type": "stream",
     "text": [
      "\n",
      "disc_loss\t0.6747717261314392\n",
      "acc\t0.58\n",
      "gen_loss\t0.7514722347259521\n",
      "fpr\t0.315\n",
      "cm\t[[137  63]\n",
      " [105  95]]\n"
     ]
    },
    {
     "data": {
      "application/vnd.jupyter.widget-view+json": {
       "model_id": "6c996b02d48e46799c2e1bcf48468e79",
       "version_major": 2,
       "version_minor": 0
      },
      "text/plain": [
       "HBox(children=(IntProgress(value=0, description='Epoch: 189 ', max=1875, style=ProgressStyle(description_width…"
      ]
     },
     "metadata": {},
     "output_type": "display_data"
    },
    {
     "name": "stdout",
     "output_type": "stream",
     "text": [
      "\n",
      "disc_loss\t0.6842344403266907\n",
      "acc\t0.575\n",
      "gen_loss\t0.8278390765190125\n",
      "fpr\t0.145\n",
      "cm\t[[171  29]\n",
      " [141  59]]\n"
     ]
    },
    {
     "data": {
      "application/vnd.jupyter.widget-view+json": {
       "model_id": "e9558415d77549bd88dd882f467fe4a4",
       "version_major": 2,
       "version_minor": 0
      },
      "text/plain": [
       "HBox(children=(IntProgress(value=0, description='Epoch: 190 ', max=1875, style=ProgressStyle(description_width…"
      ]
     },
     "metadata": {},
     "output_type": "display_data"
    },
    {
     "name": "stdout",
     "output_type": "stream",
     "text": [
      "\n",
      "disc_loss\t0.66557776927948\n",
      "acc\t0.605\n",
      "gen_loss\t0.8216918110847473\n",
      "fpr\t0.165\n",
      "cm\t[[167  33]\n",
      " [125  75]]\n"
     ]
    },
    {
     "data": {
      "application/vnd.jupyter.widget-view+json": {
       "model_id": "687cf03f9b2d44ef935db2075748f943",
       "version_major": 2,
       "version_minor": 0
      },
      "text/plain": [
       "HBox(children=(IntProgress(value=0, description='Epoch: 191 ', max=1875, style=ProgressStyle(description_width…"
      ]
     },
     "metadata": {},
     "output_type": "display_data"
    },
    {
     "name": "stdout",
     "output_type": "stream",
     "text": [
      "\n",
      "disc_loss\t0.669260561466217\n",
      "acc\t0.585\n",
      "gen_loss\t0.755751371383667\n",
      "fpr\t0.335\n",
      "cm\t[[133  67]\n",
      " [ 99 101]]\n"
     ]
    },
    {
     "data": {
      "application/vnd.jupyter.widget-view+json": {
       "model_id": "f7914f3750d94c61b4f87d4b6ca89d7d",
       "version_major": 2,
       "version_minor": 0
      },
      "text/plain": [
       "HBox(children=(IntProgress(value=0, description='Epoch: 192 ', max=1875, style=ProgressStyle(description_width…"
      ]
     },
     "metadata": {},
     "output_type": "display_data"
    },
    {
     "name": "stdout",
     "output_type": "stream",
     "text": [
      "\n",
      "disc_loss\t0.6734167337417603\n",
      "acc\t0.5825\n",
      "gen_loss\t0.8293409943580627\n",
      "fpr\t0.16\n",
      "cm\t[[168  32]\n",
      " [135  65]]\n"
     ]
    },
    {
     "data": {
      "application/vnd.jupyter.widget-view+json": {
       "model_id": "a88b39be829a483a9a14842279386d09",
       "version_major": 2,
       "version_minor": 0
      },
      "text/plain": [
       "HBox(children=(IntProgress(value=0, description='Epoch: 193 ', max=1875, style=ProgressStyle(description_width…"
      ]
     },
     "metadata": {},
     "output_type": "display_data"
    },
    {
     "name": "stdout",
     "output_type": "stream",
     "text": [
      "\n",
      "disc_loss\t0.6663313508033752\n",
      "acc\t0.6025\n",
      "gen_loss\t0.7991886138916016\n",
      "fpr\t0.22\n",
      "cm\t[[156  44]\n",
      " [115  85]]\n"
     ]
    },
    {
     "data": {
      "application/vnd.jupyter.widget-view+json": {
       "model_id": "daa74daea71e43eabef7ebec0c41f63d",
       "version_major": 2,
       "version_minor": 0
      },
      "text/plain": [
       "HBox(children=(IntProgress(value=0, description='Epoch: 194 ', max=1875, style=ProgressStyle(description_width…"
      ]
     },
     "metadata": {},
     "output_type": "display_data"
    },
    {
     "name": "stdout",
     "output_type": "stream",
     "text": [
      "\n",
      "disc_loss\t0.6786243319511414\n",
      "acc\t0.6125\n",
      "gen_loss\t0.7791431546211243\n",
      "fpr\t0.245\n",
      "cm\t[[151  49]\n",
      " [106  94]]\n"
     ]
    },
    {
     "data": {
      "application/vnd.jupyter.widget-view+json": {
       "model_id": "a7de51598ada4c3a973400c6207ac5a5",
       "version_major": 2,
       "version_minor": 0
      },
      "text/plain": [
       "HBox(children=(IntProgress(value=0, description='Epoch: 195 ', max=1875, style=ProgressStyle(description_width…"
      ]
     },
     "metadata": {},
     "output_type": "display_data"
    },
    {
     "name": "stdout",
     "output_type": "stream",
     "text": [
      "\n",
      "disc_loss\t0.6672005653381348\n",
      "acc\t0.585\n",
      "gen_loss\t0.7557957172393799\n",
      "fpr\t0.335\n",
      "cm\t[[133  67]\n",
      " [ 99 101]]\n"
     ]
    },
    {
     "data": {
      "application/vnd.jupyter.widget-view+json": {
       "model_id": "e5b533b591ab43e1bbe7c7534d873d77",
       "version_major": 2,
       "version_minor": 0
      },
      "text/plain": [
       "HBox(children=(IntProgress(value=0, description='Epoch: 196 ', max=1875, style=ProgressStyle(description_width…"
      ]
     },
     "metadata": {},
     "output_type": "display_data"
    },
    {
     "name": "stdout",
     "output_type": "stream",
     "text": [
      "\n",
      "disc_loss\t0.6778021454811096\n",
      "acc\t0.5725\n",
      "gen_loss\t0.7415645718574524\n",
      "fpr\t0.39\n",
      "cm\t[[122  78]\n",
      " [ 93 107]]\n"
     ]
    },
    {
     "data": {
      "application/vnd.jupyter.widget-view+json": {
       "model_id": "aa4e00b39f5d41acaac972706618f7e7",
       "version_major": 2,
       "version_minor": 0
      },
      "text/plain": [
       "HBox(children=(IntProgress(value=0, description='Epoch: 197 ', max=1875, style=ProgressStyle(description_width…"
      ]
     },
     "metadata": {},
     "output_type": "display_data"
    },
    {
     "name": "stdout",
     "output_type": "stream",
     "text": [
      "\n",
      "disc_loss\t0.6825035214424133\n",
      "acc\t0.575\n",
      "gen_loss\t0.8274242877960205\n",
      "fpr\t0.15\n",
      "cm\t[[170  30]\n",
      " [140  60]]\n"
     ]
    },
    {
     "data": {
      "application/vnd.jupyter.widget-view+json": {
       "model_id": "9b2bb683e51f42fbba71bdaed9cb93c4",
       "version_major": 2,
       "version_minor": 0
      },
      "text/plain": [
       "HBox(children=(IntProgress(value=0, description='Epoch: 198 ', max=1875, style=ProgressStyle(description_width…"
      ]
     },
     "metadata": {},
     "output_type": "display_data"
    },
    {
     "name": "stdout",
     "output_type": "stream",
     "text": [
      "\n",
      "disc_loss\t0.67609041929245\n",
      "acc\t0.5875\n",
      "gen_loss\t0.781687319278717\n",
      "fpr\t0.315\n",
      "cm\t[[137  63]\n",
      " [102  98]]\n"
     ]
    },
    {
     "data": {
      "application/vnd.jupyter.widget-view+json": {
       "model_id": "2df852c0d5e5450da7ee9756fda0c0cf",
       "version_major": 2,
       "version_minor": 0
      },
      "text/plain": [
       "HBox(children=(IntProgress(value=0, description='Epoch: 199 ', max=1875, style=ProgressStyle(description_width…"
      ]
     },
     "metadata": {},
     "output_type": "display_data"
    },
    {
     "name": "stdout",
     "output_type": "stream",
     "text": [
      "\n",
      "disc_loss\t0.6828761100769043\n",
      "acc\t0.5525\n",
      "gen_loss\t0.7566885352134705\n",
      "fpr\t0.35\n",
      "cm\t[[130  70]\n",
      " [109  91]]\n"
     ]
    }
   ],
   "source": [
    "\"\"\" Training loop.\n",
    "\"\"\"\n",
    "\n",
    "for epoch in range(0, PARAMS['epochs']):  \n",
    "    # Batch\n",
    "    with tqdm_notebook(total=n_batches, unit='batch', desc=\"Epoch: {} \".format(epoch)) as pbar:\n",
    "        for n_batch in range(n_batches):\n",
    "            for i in range(PARAMS['disc_gen_ratio']):\n",
    "                # DISCRIMINATOR\n",
    "                _, disc_real_samples, disc_real_labels = x_real_g.__next__()\n",
    "                disc_real_samples = tf.convert_to_tensor(disc_real_samples, dtype=tf.float32)\n",
    "                disc_real_labels = tf.convert_to_tensor(disc_real_labels, dtype=tf.float32)\n",
    "                disc_fake_labels = disc_real_labels  # Why not?\n",
    "                disc_samples = tf.concat([\n",
    "                    disc_real_samples,\n",
    "                    generator(inputs=[   # Fake data\n",
    "                        tf.convert_to_tensor(sample_latent_factors(bs//2), dtype=tf.float32),\n",
    "                        disc_fake_labels,\n",
    "                    ])\n",
    "                ], axis=0)\n",
    "                disc_labels = tf.concat([\n",
    "                    disc_real_labels,\n",
    "                    disc_fake_labels\n",
    "                ], axis=0)\n",
    "                discriminator.trainable=True\n",
    "                disc_b_loss = train_step(\n",
    "                    model=discriminator,\n",
    "                    optimizer=disc_opt,\n",
    "                    fn_loss=fn_loss,\n",
    "                    x_train=[disc_samples, disc_labels],\n",
    "                    y_train=disc_y\n",
    "                )    \n",
    "            # GENERATOR\n",
    "            discriminator.trainable=False\n",
    "            gen_b_loss = train_step(\n",
    "                model=gan,  # Latent params -> Generator -> image -> Discriminator -> Probability\n",
    "                optimizer=gen_opt,\n",
    "                fn_loss=fn_loss,\n",
    "                x_train=[\n",
    "                    tf.convert_to_tensor(sample_latent_factors(bs), dtype=tf.float32),\n",
    "                    tf.convert_to_tensor(ds._preprocess_labels(np.random.randint(0, ds.n_classes, bs)), dtype=tf.float32)\n",
    "                ],\n",
    "                y_train=gen_y\n",
    "            )\n",
    "\n",
    "            #Update progress bar\n",
    "            pbar.set_postfix(disc_loss=disc_b_loss.numpy(), gen_loss=gen_b_loss.numpy())\n",
    "            pbar.update(1)\n",
    "\n",
    "        \n",
    "    # EPOCH METRICS\n",
    "    val_fake_imgs = generator(inputs=[\n",
    "        tf.convert_to_tensor(val_fake_params, dtype=tf.float32),\n",
    "        tf.convert_to_tensor(val_fake_labels, dtype=tf.float32)\n",
    "    ])\n",
    "    val_metrics = evaluate(generator, discriminator, val_real_imgs, val_real_labels, val_fake_imgs, val_fake_labels)\n",
    "    \n",
    "    \n",
    "    for m in ['disc_loss','acc','gen_loss','fpr','cm']:\n",
    "        print(\"{}\\t{}\".format(m, val_metrics[m]))\n",
    "    \n",
    "    with disc_summary_writer.as_default():\n",
    "        tf.summary.scalar('loss', val_metrics[\"disc_loss\"], step=epoch)\n",
    "        tf.summary.scalar('acc', val_metrics[\"acc\"], step=epoch)\n",
    "    with gen_summary_writer.as_default():\n",
    "        tf.summary.scalar('loss', val_metrics[\"gen_loss\"], step=epoch)\n",
    "        tf.summary.scalar('fpr', val_metrics[\"fpr\"], step=epoch)\n",
    "        tf.summary.image(\"Training data\", val_fake_imgs, step=epoch, max_outputs=25)\n",
    "    \n",
    "    if epoch%2 == 0:\n",
    "        plot_generated_images(epoch, val_fake_imgs.numpy()[np.arange(0,200, step=2)], img_out_dir) # Output generated images   "
   ]
  },
  {
   "cell_type": "markdown",
   "metadata": {},
   "source": [
    "## Training metrics"
   ]
  },
  {
   "cell_type": "markdown",
   "metadata": {},
   "source": [
    "### Losses\n",
    "* Orange: discriminator.\n",
    "* Blue: generator\n",
    "![](img/cgan/loss.png)"
   ]
  },
  {
   "cell_type": "markdown",
   "metadata": {},
   "source": [
    "### Discriminator accuracy\n",
    "![](img/cgan/acc.png)"
   ]
  },
  {
   "cell_type": "markdown",
   "metadata": {},
   "source": [
    "### Generator (false positive ratio on the discriminator)\n",
    "\n",
    "![](img/cgan/fpr.png)"
   ]
  },
  {
   "cell_type": "markdown",
   "metadata": {},
   "source": [
    "### Generate a gif with the progression"
   ]
  },
  {
   "cell_type": "code",
   "execution_count": 25,
   "metadata": {},
   "outputs": [],
   "source": [
    "!convert -resize 25% -delay 100 -loop 0 {log_dir}/imgs/*.png img/cgan/evolution.gif"
   ]
  },
  {
   "cell_type": "markdown",
   "metadata": {},
   "source": [
    "![](img/cgan/evolution.gif)"
   ]
  },
  {
   "cell_type": "markdown",
   "metadata": {},
   "source": [
    "## Save the models"
   ]
  },
  {
   "cell_type": "code",
   "execution_count": 39,
   "metadata": {},
   "outputs": [],
   "source": [
    "# Save\n",
    "tf.saved_model.save(generator, log_dir + '/saved_generator')\n",
    "tf.saved_model.save(discriminator, log_dir + '/saved_discriminator')"
   ]
  },
  {
   "cell_type": "markdown",
   "metadata": {},
   "source": [
    "## Load & use the models"
   ]
  },
  {
   "cell_type": "code",
   "execution_count": 12,
   "metadata": {},
   "outputs": [],
   "source": [
    "log_dir = 'log-CGAN/20190701-162650'"
   ]
  },
  {
   "cell_type": "markdown",
   "metadata": {},
   "source": [
    "### Generator"
   ]
  },
  {
   "cell_type": "code",
   "execution_count": 32,
   "metadata": {},
   "outputs": [
    {
     "name": "stdout",
     "output_type": "stream",
     "text": [
      "Model input: \n",
      "\t((), {'gen_IN-LATENT': TensorSpec(shape=(None, 100), dtype=tf.float32, name='gen_IN-LATENT'), 'gen_IN-LABEL': TensorSpec(shape=(None, 10), dtype=tf.float32, name='gen_IN-LABEL')})\n",
      "Model output layer \n",
      "\t{'gen_RESHAPE1': TensorSpec(shape=(None, 32, 32, 1), dtype=tf.float32, name='gen_RESHAPE1')}\n"
     ]
    }
   ],
   "source": [
    "# Load\n",
    "tf_gen = tf.saved_model.load(log_dir + '/saved_generator')\n",
    "\n",
    "# Serving function\n",
    "infer_gen = tf_gen.signatures['serving_default']\n",
    "# Model input\n",
    "print(\"Model input: \\n\\t{}\".format(infer_gen.structured_input_signature))\n",
    "# Model output\n",
    "print(\"Model output layer \\n\\t{}\".format(infer_gen.structured_outputs))\n",
    "\n",
    "# Serving function\n",
    "generate = lambda noise, label: infer_gen(**{\n",
    "    'gen_IN-LATENT': noise,\n",
    "    'gen_IN-LABEL': label\n",
    "})['gen_RESHAPE1']"
   ]
  },
  {
   "cell_type": "markdown",
   "metadata": {},
   "source": [
    "### Discriminator"
   ]
  },
  {
   "cell_type": "code",
   "execution_count": 36,
   "metadata": {},
   "outputs": [
    {
     "name": "stdout",
     "output_type": "stream",
     "text": [
      "Model input: \n",
      "\t((), {'disc_IN-LABEL': TensorSpec(shape=(None, 10), dtype=tf.float32, name='disc_IN-LABEL'), 'disc_IN-IMG': TensorSpec(shape=(None, 32, 32, 1), dtype=tf.float32, name='disc_IN-IMG')})\n",
      "Model output layer \n",
      "\t{'disc_F3': TensorSpec(shape=(None, 1), dtype=tf.float32, name='disc_F3')}\n"
     ]
    }
   ],
   "source": [
    "# Load\n",
    "tf_disc = tf.saved_model.load(log_dir + '/saved_discriminator')\n",
    "\n",
    "# Serving function\n",
    "infer_disc = tf_disc.signatures['serving_default']\n",
    "# Model input\n",
    "print(\"Model input: \\n\\t{}\".format(infer_disc.structured_input_signature))\n",
    "# Model output\n",
    "print(\"Model output layer \\n\\t{}\".format(infer_disc.structured_outputs))\n",
    "\n",
    "# Serving function\n",
    "discriminate = lambda img, label: infer_disc(**{\n",
    "    'disc_IN-IMG': img,\n",
    "    'disc_IN-LABEL': label\n",
    "})['disc_F3']"
   ]
  },
  {
   "cell_type": "markdown",
   "metadata": {},
   "source": [
    "### Generate fake samples"
   ]
  },
  {
   "cell_type": "markdown",
   "metadata": {},
   "source": [
    "Lets generate a sample."
   ]
  },
  {
   "cell_type": "code",
   "execution_count": 84,
   "metadata": {
    "scrolled": true
   },
   "outputs": [
    {
     "name": "stdout",
     "output_type": "stream",
     "text": [
      "Disc prob: 0.400459885597229\n"
     ]
    },
    {
     "data": {
      "text/plain": [
       "<matplotlib.image.AxesImage at 0x7f39d296b160>"
      ]
     },
     "execution_count": 84,
     "metadata": {},
     "output_type": "execute_result"
    },
    {
     "data": {
      "image/png": "[encoded data removed]",
      "text/plain": [
       "<Figure size 432x288 with 1 Axes>"
      ]
     },
     "metadata": {
      "needs_background": "light"
     },
     "output_type": "display_data"
    }
   ],
   "source": [
    "target = 6\n",
    "\n",
    "label = tf.convert_to_tensor(ds._preprocess_labels(np.array([target])), dtype=tf.float32)\n",
    "sample = generate(sample_latent_factors(1), label)[0]\n",
    "print(\"Disc prob: {}\".format(discriminate(tf.reshape(sample, (-1,32,32)), label).numpy()[0][0]))\n",
    "\n",
    "plt.imshow(\n",
    "    sample.numpy().reshape(32,32), \n",
    "    cmap='gray'\n",
    ")"
   ]
  },
  {
   "cell_type": "markdown",
   "metadata": {},
   "source": [
    "Lets generate a matrix of samples:\n",
    "* Columns represent the label. Same column, same label.\n",
    "* Rows represent the same latent factor (random noise). It is possible to see that there are different typographies."
   ]
  },
  {
   "cell_type": "code",
   "execution_count": 146,
   "metadata": {},
   "outputs": [],
   "source": [
    "labels = tf.convert_to_tensor(ds._preprocess_labels(range(ds.n_classes)), dtype=tf.float32)\n",
    "noises = sample_latent_factors(30)\n",
    "\n",
    "fig = plt.figure(figsize=(10,30))\n",
    "axs = fig.subplots(len(noises), len(labels), gridspec_kw = {'wspace':0.1, 'hspace':0.2})\n",
    "\n",
    "for i_label,label in enumerate(range(ds.n_classes)):\n",
    "    for i_noise,noise in enumerate(noises):\n",
    "        ax = axs[i_noise, i_label]\n",
    "        ax.axis('off')\n",
    "        ax.set_aspect('equal')\n",
    "        ax.imshow(\n",
    "            generate(noises[i_noise: i_noise+1], labels[i_label:i_label+1])[0].numpy().reshape(32,32),\n",
    "            interpolation='nearest',\n",
    "            cmap='gray'\n",
    "        )\n",
    "\n",
    "fig.savefig(\"img/cgan/matrix.png\")\n",
    "plt.close(fig)"
   ]
  },
  {
   "cell_type": "markdown",
   "metadata": {},
   "source": [
    "![](img/cgan/matrix.png)"
   ]
  },
  {
   "cell_type": "markdown",
   "metadata": {},
   "source": [
    "## References\n",
    "\n",
    "1. <a name=\"bib-paper-cgans\"></a>[Conditional Generative Adversarial Nets](https://arxiv.org/abs/1411.1784)\n",
    "2. <a name=\"bib-web-cgan_infogan\"></a>[GAN — CGAN & InfoGAN (using labels to improve GAN)](https://medium.com/@jonathan_hui/gan-cgan-infogan-using-labels-to-improve-gan-8ba4de5f9c3d)\n",
    "3. <a name=\"bib-tf-dcan\"></a>[DCGAN in Tensorflow](https://github.com/carpedm20/DCGAN-tensorflow)\n",
    "4. <a name=\"bib-tf-gans\"></a>[Conditional Generative Adversarial Nets in TensorFlow](https://wiseodd.github.io/techblog/2016/12/24/conditional-gan-tensorflow/)"
   ]
  }
 ],
 "metadata": {
  "kernelspec": {
   "display_name": "Python 3",
   "language": "python",
   "name": "python3"
  },
  "language_info": {
   "codemirror_mode": {
    "name": "ipython",
    "version": 3
   },
   "file_extension": ".py",
   "mimetype": "text/x-python",
   "name": "python",
   "nbconvert_exporter": "python",
   "pygments_lexer": "ipython3",
   "version": "3.5.2"
  }
 },
 "nbformat": 4,
 "nbformat_minor": 2
}
