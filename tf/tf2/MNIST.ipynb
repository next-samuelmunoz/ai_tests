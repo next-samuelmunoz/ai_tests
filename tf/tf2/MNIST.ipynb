{
 "cells": [
  {
   "cell_type": "code",
   "execution_count": 1,
   "metadata": {},
   "outputs": [],
   "source": [
    "import datetime\n",
    "\n",
    "import numpy as np\n",
    "from matplotlib import pyplot as plt\n",
    "import seaborn as sns\n",
    "import sklearn.metrics\n",
    "from sklearn.preprocessing import StandardScaler\n",
    "import tensorflow as tf\n",
    "\n",
    "from utils.mnist_dataset import MNIST_Dataset"
   ]
  },
  {
   "cell_type": "code",
   "execution_count": 2,
   "metadata": {},
   "outputs": [],
   "source": [
    "assert(int(tf.__version__[0])==2)  # Use TensorFlow 2\n",
    "sns.set(rc={'figure.figsize':(11.7,8.27)})  # Figure size"
   ]
  },
  {
   "cell_type": "markdown",
   "metadata": {},
   "source": [
    "# A classificator of handwritten digits\n",
    "\n",
    "In this notebook we will train a neural network to classify handwritten digits. The experiment is an excuse to test the new TensorFlow 2.0 <sup>[1](#bib-vid-introducingtf2),[2](bib-web-effectivetf2)</sup>. "
   ]
  },
  {
   "cell_type": "markdown",
   "metadata": {},
   "source": [
    "## Constants"
   ]
  },
  {
   "cell_type": "code",
   "execution_count": 3,
   "metadata": {},
   "outputs": [],
   "source": [
    "LOG_PATH = 'log-MNIST/' + datetime.datetime.now().strftime(\"%Y%m%d-%H%M%S\")  # For tensorboard, etc.\n",
    "\n",
    "DS_PATH = 'data' # Where de MNIST dataset is located\n",
    "\n",
    "# Hyperparams\n",
    "PARAMS = {\n",
    "    'learning_rate': 1e-4,\n",
    "    'epochs': 20,\n",
    "    'batch_size': 128\n",
    "}"
   ]
  },
  {
   "cell_type": "markdown",
   "metadata": {},
   "source": [
    "## Dataset"
   ]
  },
  {
   "cell_type": "markdown",
   "metadata": {},
   "source": [
    "### Download the MNIST dataset\n",
    "Make the following cell of type code and execute it to download the MNIST dataset <sup>[3](#bib-web-mnist)</sup>."
   ]
  },
  {
   "cell_type": "code",
   "execution_count": 4,
   "metadata": {},
   "outputs": [
    {
     "name": "stdout",
     "output_type": "stream",
     "text": [
      "WARNING: directory data/ already exists.\r\n"
     ]
    }
   ],
   "source": [
    "!bash download_mnist.sh {DS_PATH}"
   ]
  },
  {
   "cell_type": "markdown",
   "metadata": {},
   "source": [
    "### Create a tf.data.Dataset abstraction\n",
    "\n",
    "We will take advantage of the `tf.data.Dataset`<sup>[4](#bib-vid-tfdatasets)</sup> abstraction to create the input pipeline. For this problem is an overkill but the example scales."
   ]
  },
  {
   "cell_type": "code",
   "execution_count": 5,
   "metadata": {},
   "outputs": [],
   "source": [
    "class Dataset():\n",
    "    \"\"\"Based on the tf.data\n",
    "    # TODO: replace the StandarScaler for a Tensorflow version. See: tf.nn.moments\n",
    "    \"\"\"\n",
    "    def __init__(self, ds_path):\n",
    "        self.ds = MNIST_Dataset(ds_path)\n",
    "        self.std_scaler = StandardScaler()\n",
    "    \n",
    "    def _preprocess_samples(self, x, train=False):\n",
    "        # From 28x28 pixels to 32x32\n",
    "        x_32 = np.pad(  \n",
    "            x,\n",
    "            pad_width=((0,0),(2,2),(2,2)),\n",
    "            mode='constant',\n",
    "            constant_values=0\n",
    "        )\n",
    "        # The paper states that when standardized the pixels: w=-0.1, b=1.175\n",
    "        if train:\n",
    "            x_std = self.std_scaler.fit_transform(x_32.reshape(-1,1).astype('float')).reshape(*x_32.shape,1) # 1 channel\n",
    "        else:\n",
    "            x_std = self.std_scaler.transform(x_32.reshape(-1,1).astype('float')).reshape(*x_32.shape,1) # 1 channel\n",
    "        return x_std\n",
    "    \n",
    "    def _preprocess_labels(self, y, train=False):\n",
    "        #y_ohe = np.eye(10)[y]  # One Hot Encoding not necesary, use categorical loss\n",
    "        return y\n",
    "    \n",
    "    \n",
    "    def train_val_data(self, batch_size, epochs=1, validation_samples=0):\n",
    "        x,y = self.ds.get_train()\n",
    "        ds_all = tf.data.Dataset.from_tensor_slices((\n",
    "            tf.convert_to_tensor(self._preprocess_samples(x, train=True), dtype=tf.float32),\n",
    "            tf.convert_to_tensor(self._preprocess_labels(y, train=True), dtype=tf.int32)\n",
    "        ))\n",
    "        return (\n",
    "            ds_all.skip(validation_samples).repeat(epochs).shuffle(20000).batch(batch_size),  # Train\n",
    "            ds_all.take(validation_samples).repeat(epochs).batch(batch_size)# Validation\n",
    "        )\n",
    "    \n",
    "    \n",
    "    def test_data_np(self): \n",
    "        x,y = self.ds.get_test()\n",
    "        return (\n",
    "            self._preprocess_samples(x),\n",
    "            self._preprocess_labels(y)\n",
    "        )\n",
    "    \n",
    "    def test_data(self): \n",
    "        x,y = self.ds.get_test()\n",
    "        return tf.data.Dataset.from_tensor_slices((\n",
    "            tf.convert_to_tensor(self._preprocess_samples(x), dtype=tf.float32),\n",
    "            tf.convert_to_tensor(self._preprocess_labels(y), dtype=tf.int32)\n",
    "        )).repeat(1).batch(128)\n",
    "        "
   ]
  },
  {
   "cell_type": "markdown",
   "metadata": {},
   "source": [
    "## Model\n",
    "We will use well-known LeNet-5 <sup>[5](#bib-web-lenet)</sup> model stated in the paper *Gradient-Based Learning Applied to Document Recognition* <sup>[6](#bib-paper-lenet)</sup> (Section 2.B, page 7)."
   ]
  },
  {
   "cell_type": "code",
   "execution_count": 6,
   "metadata": {},
   "outputs": [],
   "source": [
    "def get_Lenet5():\n",
    "    \"\"\"Model.\n",
    "    features: 32x32x1 uint8 image matrix.\n",
    "    return: 10-class logits\n",
    "    \"\"\"\n",
    "    return tf.keras.Sequential(\n",
    "        name='Lenet5',\n",
    "        layers=[\n",
    "            # C1: conv 5x5 k=6 p=valid  s=1x1 -> 28x28x6\n",
    "            tf.keras.layers.Conv2D(\n",
    "                name=\"C1\",\n",
    "                input_shape=(32,32,1),\n",
    "                kernel_size=(5, 5),\n",
    "                strides=(1,1),\n",
    "                filters=6,\n",
    "                padding=\"valid\",\n",
    "                activation=tf.math.tanh\n",
    "            ),\n",
    "            # S2: avg_pool f=2x2 -> 14x14x6\n",
    "            tf.keras.layers.AveragePooling2D(\n",
    "                name=\"S2\",\n",
    "                pool_size=(2, 2),\n",
    "                strides=(2,2),\n",
    "                padding='valid'\n",
    "            ),\n",
    "            # C3: conv 5x5 k=16 p=valid s=1x1 -> 10x10x16\n",
    "            tf.keras.layers.Conv2D(\n",
    "                name=\"C3\",\n",
    "                kernel_size=(5, 5),\n",
    "                strides=(1,1),\n",
    "                filters=16,\n",
    "                padding=\"valid\",\n",
    "                activation=tf.math.tanh\n",
    "            ),\n",
    "            # S4: f=2x2 avg pool -> 5x5x16    \n",
    "            tf.keras.layers.AveragePooling2D(\n",
    "                name=\"S4\",\n",
    "                pool_size=(2, 2),\n",
    "                strides=(2,2),\n",
    "                padding='valid'\n",
    "            ),\n",
    "            # C5: f=5x5 K=120 p=valid -> 1x1x120\n",
    "            tf.keras.layers.Conv2D(\n",
    "                name=\"C5\",\n",
    "                kernel_size=(5, 5),\n",
    "                strides=(1,1),\n",
    "                filters=120,\n",
    "                padding=\"valid\",\n",
    "                activation=tf.math.tanh\n",
    "            ),\n",
    "            # C5F: 1x1x120 -> 120\n",
    "            tf.keras.layers.Flatten(\n",
    "                name=\"C5_Flat\",),\n",
    "            # F6: FC(84)\n",
    "            tf.keras.layers.Dense(\n",
    "                name=\"F6\",\n",
    "                units=84,\n",
    "                activation=tf.math.tanh\n",
    "            ),\n",
    "            # F7: FC(10) logits\n",
    "            # NOTE: this is not a probability distribution! I you want so, use a softmax\n",
    "            tf.keras.layers.Dense(\n",
    "                name=\"F7\",\n",
    "                units=10,\n",
    "                activation=tf.math.tanh\n",
    "            )\n",
    "        ]\n",
    "    )"
   ]
  },
  {
   "cell_type": "code",
   "execution_count": 7,
   "metadata": {},
   "outputs": [
    {
     "name": "stdout",
     "output_type": "stream",
     "text": [
      "Model: \"Lenet5\"\n",
      "_________________________________________________________________\n",
      "Layer (type)                 Output Shape              Param #   \n",
      "=================================================================\n",
      "C1 (Conv2D)                  (None, 28, 28, 6)         156       \n",
      "_________________________________________________________________\n",
      "S2 (AveragePooling2D)        (None, 14, 14, 6)         0         \n",
      "_________________________________________________________________\n",
      "C3 (Conv2D)                  (None, 10, 10, 16)        2416      \n",
      "_________________________________________________________________\n",
      "S4 (AveragePooling2D)        (None, 5, 5, 16)          0         \n",
      "_________________________________________________________________\n",
      "C5 (Conv2D)                  (None, 1, 1, 120)         48120     \n",
      "_________________________________________________________________\n",
      "C5_Flat (Flatten)            (None, 120)               0         \n",
      "_________________________________________________________________\n",
      "F6 (Dense)                   (None, 84)                10164     \n",
      "_________________________________________________________________\n",
      "F7 (Dense)                   (None, 10)                850       \n",
      "=================================================================\n",
      "Total params: 61,706\n",
      "Trainable params: 61,706\n",
      "Non-trainable params: 0\n",
      "_________________________________________________________________\n"
     ]
    }
   ],
   "source": [
    "model = get_Lenet5()\n",
    "model.summary()"
   ]
  },
  {
   "cell_type": "code",
   "execution_count": 8,
   "metadata": {},
   "outputs": [],
   "source": [
    "model.compile(\n",
    "    optimizer=tf.optimizers.Adam(PARAMS['learning_rate']),\n",
    "    loss=tf.losses.SparseCategoricalCrossentropy(from_logits=True),\n",
    "    metrics=[\n",
    "        tf.metrics.SparseCategoricalAccuracy()\n",
    "    ]\n",
    ")"
   ]
  },
  {
   "cell_type": "markdown",
   "metadata": {},
   "source": [
    "### Train"
   ]
  },
  {
   "cell_type": "code",
   "execution_count": 9,
   "metadata": {},
   "outputs": [],
   "source": [
    "ds = Dataset(DS_PATH)\n",
    "\n",
    "ds_train, ds_val = ds.train_val_data(\n",
    "    batch_size=PARAMS['batch_size'],\n",
    "    epochs=1,  #Use Keras implementation\n",
    "    validation_samples=1000\n",
    ")"
   ]
  },
  {
   "cell_type": "code",
   "execution_count": 10,
   "metadata": {},
   "outputs": [],
   "source": [
    "model.compile(\n",
    "    optimizer=tf.optimizers.Adam(PARAMS['learning_rate']),\n",
    "    loss=tf.losses.SparseCategoricalCrossentropy(from_logits=True),\n",
    "    metrics=[\n",
    "        tf.metrics.SparseCategoricalAccuracy()\n",
    "    ]\n",
    ")"
   ]
  },
  {
   "cell_type": "code",
   "execution_count": 11,
   "metadata": {
    "scrolled": true
   },
   "outputs": [
    {
     "name": "stdout",
     "output_type": "stream",
     "text": [
      "Epoch 1/20\n",
      "461/461 [==============================] - 16s 34ms/step - loss: 1.3159 - sparse_categorical_accuracy: 0.8252 - val_loss: 1.0838 - val_sparse_categorical_accuracy: 0.8930\n",
      "Epoch 2/20\n",
      "461/461 [==============================] - 15s 33ms/step - loss: 1.0195 - sparse_categorical_accuracy: 0.9129 - val_loss: 0.9842 - val_sparse_categorical_accuracy: 0.9200\n",
      "Epoch 3/20\n",
      "461/461 [==============================] - 15s 33ms/step - loss: 0.9547 - sparse_categorical_accuracy: 0.9313 - val_loss: 0.9375 - val_sparse_categorical_accuracy: 0.9340\n",
      "Epoch 4/20\n",
      "461/461 [==============================] - 16s 35ms/step - loss: 0.9182 - sparse_categorical_accuracy: 0.9452 - val_loss: 0.9081 - val_sparse_categorical_accuracy: 0.9470\n",
      "Epoch 5/20\n",
      "461/461 [==============================] - 17s 37ms/step - loss: 0.8942 - sparse_categorical_accuracy: 0.9556 - val_loss: 0.8886 - val_sparse_categorical_accuracy: 0.9610\n",
      "Epoch 6/20\n",
      "461/461 [==============================] - 17s 36ms/step - loss: 0.8774 - sparse_categorical_accuracy: 0.9634 - val_loss: 0.8752 - val_sparse_categorical_accuracy: 0.9660\n",
      "Epoch 7/20\n",
      "461/461 [==============================] - 15s 32ms/step - loss: 0.8655 - sparse_categorical_accuracy: 0.9690 - val_loss: 0.8658 - val_sparse_categorical_accuracy: 0.9700\n",
      "Epoch 8/20\n",
      "461/461 [==============================] - 14s 31ms/step - loss: 0.8567 - sparse_categorical_accuracy: 0.9728 - val_loss: 0.8593 - val_sparse_categorical_accuracy: 0.9730\n",
      "Epoch 9/20\n",
      "461/461 [==============================] - 14s 31ms/step - loss: 0.8501 - sparse_categorical_accuracy: 0.9755 - val_loss: 0.8546 - val_sparse_categorical_accuracy: 0.9750\n",
      "Epoch 10/20\n",
      "461/461 [==============================] - 14s 31ms/step - loss: 0.8449 - sparse_categorical_accuracy: 0.9776 - val_loss: 0.8508 - val_sparse_categorical_accuracy: 0.9750\n",
      "Epoch 11/20\n",
      "461/461 [==============================] - 14s 31ms/step - loss: 0.8408 - sparse_categorical_accuracy: 0.9791 - val_loss: 0.8476 - val_sparse_categorical_accuracy: 0.9740\n",
      "Epoch 12/20\n",
      "461/461 [==============================] - 16s 34ms/step - loss: 0.8374 - sparse_categorical_accuracy: 0.9804 - val_loss: 0.8448 - val_sparse_categorical_accuracy: 0.9760\n",
      "Epoch 13/20\n",
      "461/461 [==============================] - 15s 33ms/step - loss: 0.8345 - sparse_categorical_accuracy: 0.9817 - val_loss: 0.8424 - val_sparse_categorical_accuracy: 0.9770\n",
      "Epoch 14/20\n",
      "461/461 [==============================] - 15s 32ms/step - loss: 0.8320 - sparse_categorical_accuracy: 0.9829 - val_loss: 0.8403 - val_sparse_categorical_accuracy: 0.9800\n",
      "Epoch 15/20\n",
      "461/461 [==============================] - 14s 30ms/step - loss: 0.8298 - sparse_categorical_accuracy: 0.9840 - val_loss: 0.8385 - val_sparse_categorical_accuracy: 0.9810\n",
      "Epoch 16/20\n",
      "461/461 [==============================] - 14s 30ms/step - loss: 0.8279 - sparse_categorical_accuracy: 0.9851 - val_loss: 0.8369 - val_sparse_categorical_accuracy: 0.9820\n",
      "Epoch 17/20\n",
      "461/461 [==============================] - 14s 30ms/step - loss: 0.8261 - sparse_categorical_accuracy: 0.9857 - val_loss: 0.8355 - val_sparse_categorical_accuracy: 0.9830\n",
      "Epoch 18/20\n",
      "461/461 [==============================] - 14s 30ms/step - loss: 0.8246 - sparse_categorical_accuracy: 0.9865 - val_loss: 0.8343 - val_sparse_categorical_accuracy: 0.9830\n",
      "Epoch 19/20\n",
      "461/461 [==============================] - 14s 30ms/step - loss: 0.8232 - sparse_categorical_accuracy: 0.9871 - val_loss: 0.8332 - val_sparse_categorical_accuracy: 0.9830\n",
      "Epoch 20/20\n",
      "461/461 [==============================] - 14s 30ms/step - loss: 0.8219 - sparse_categorical_accuracy: 0.9877 - val_loss: 0.8323 - val_sparse_categorical_accuracy: 0.9830\n"
     ]
    },
    {
     "data": {
      "text/plain": [
       "<tensorflow.python.keras.callbacks.History at 0x7f02f75b6400>"
      ]
     },
     "execution_count": 11,
     "metadata": {},
     "output_type": "execute_result"
    }
   ],
   "source": [
    "model.fit(\n",
    "    x=ds_train,\n",
    "    validation_data=ds_val,\n",
    "    callbacks=[\n",
    "        tf.keras.callbacks.TensorBoard(\n",
    "            log_dir= LOG_PATH + '/train',\n",
    "            update_freq=PARAMS['batch_size']*50  # Log every 50 steps\n",
    "        )\n",
    "    ],\n",
    "    epochs=PARAMS['epochs']\n",
    ")"
   ]
  },
  {
   "cell_type": "markdown",
   "metadata": {},
   "source": [
    "### Curves\n",
    "\n",
    "\n",
    "#### Loss function\n",
    "![](img/loss.png)\n",
    "\n",
    "\n",
    "#### Accuracy\n",
    "* Orange: train\n",
    "* Blue: validation\n",
    "![](img/acc.png)"
   ]
  },
  {
   "cell_type": "markdown",
   "metadata": {},
   "source": [
    "### Test"
   ]
  },
  {
   "cell_type": "code",
   "execution_count": 12,
   "metadata": {
    "scrolled": true
   },
   "outputs": [
    {
     "name": "stdout",
     "output_type": "stream",
     "text": [
      "79/79 [==============================] - 1s 14ms/step - loss: 0.8244 - sparse_categorical_accuracy: 0.9858\n"
     ]
    }
   ],
   "source": [
    "result = model.evaluate(\n",
    "    x=ds.test_data()\n",
    ")"
   ]
  },
  {
   "cell_type": "markdown",
   "metadata": {},
   "source": [
    "#### Confusion Matrix"
   ]
  },
  {
   "cell_type": "code",
   "execution_count": 13,
   "metadata": {},
   "outputs": [],
   "source": [
    "def print_metrics(true_labels, predictions):\n",
    "    print(\"Accuracy: {}\".format(\n",
    "        sklearn.metrics.accuracy_score(true_labels,predictions)\n",
    "    ))\n",
    "    sns.heatmap(\n",
    "        sklearn.metrics.confusion_matrix(true_labels,predictions)/len(true_labels),\n",
    "        vmin=0.0,\n",
    "        center=0.5,\n",
    "        vmax=1.0,\n",
    "        annot=True\n",
    "    )\n",
    "    plt.title(\"Confusion matrix (% data)\")\n",
    "    plt.ylabel(\"True label\")\n",
    "    plt.xlabel(\"Predicted label\")\n",
    "    plt.show()"
   ]
  },
  {
   "cell_type": "code",
   "execution_count": 14,
   "metadata": {},
   "outputs": [],
   "source": [
    "x,y = ds.test_data_np()\n",
    "y_pred = np.argmax(model.predict(x), axis=1)"
   ]
  },
  {
   "cell_type": "code",
   "execution_count": 15,
   "metadata": {},
   "outputs": [
    {
     "name": "stdout",
     "output_type": "stream",
     "text": [
      "Accuracy: 0.9858\n"
     ]
    },
    {
     "data": {
      "image/png": "[encoded data removed]",
      "text/plain": [
       "<Figure size 842.4x595.44 with 2 Axes>"
      ]
     },
     "metadata": {},
     "output_type": "display_data"
    }
   ],
   "source": [
    "print_metrics(y, y_pred)"
   ]
  },
  {
   "cell_type": "markdown",
   "metadata": {},
   "source": [
    "### Export the model"
   ]
  },
  {
   "cell_type": "markdown",
   "metadata": {},
   "source": [
    "#### With Keras"
   ]
  },
  {
   "cell_type": "code",
   "execution_count": 16,
   "metadata": {},
   "outputs": [],
   "source": [
    "!mkdir -p {LOG_PATH}/saved_model_K"
   ]
  },
  {
   "cell_type": "code",
   "execution_count": 17,
   "metadata": {
    "scrolled": true
   },
   "outputs": [],
   "source": [
    "# Save\n",
    "with open(LOG_PATH +'/saved_model_K/model.json', 'w+') as fd:\n",
    "    fd.writelines(model.to_json())\n",
    "model.save_weights(LOG_PATH + '/saved_model_K/weights')"
   ]
  },
  {
   "cell_type": "code",
   "execution_count": 18,
   "metadata": {},
   "outputs": [],
   "source": [
    "# Load\n",
    "with open(LOG_PATH + '/saved_model_K/model.json', 'r') as fd:\n",
    "    k_model = tf.keras.models.model_from_json(fd.read())\n",
    "    k_model.load_weights(LOG_PATH + '/saved_model_K/weights')"
   ]
  },
  {
   "cell_type": "markdown",
   "metadata": {},
   "source": [
    "At this point we have a fully functional Keras model. So we can test it."
   ]
  },
  {
   "cell_type": "code",
   "execution_count": 19,
   "metadata": {},
   "outputs": [
    {
     "name": "stdout",
     "output_type": "stream",
     "text": [
      "79/79 [==============================] - 1s 15ms/step - loss: 0.8244 - sparse_categorical_accuracy: 0.9858\n"
     ]
    },
    {
     "data": {
      "text/plain": [
       "[0.8243519392194627, 0.9858]"
      ]
     },
     "execution_count": 19,
     "metadata": {},
     "output_type": "execute_result"
    }
   ],
   "source": [
    "# Eval the model\n",
    "k_model.compile(  # It seems, the model.to_json does not save the optimizer\n",
    "    optimizer=tf.optimizers.Adam(learning_rate=PARAMS['learning_rate']),\n",
    "    loss=tf.losses.SparseCategoricalCrossentropy(from_logits=True),\n",
    "    metrics=[\n",
    "        tf.metrics.SparseCategoricalAccuracy()\n",
    "    ]\n",
    ")\n",
    "k_model.evaluate(x=ds.test_data())"
   ]
  },
  {
   "cell_type": "markdown",
   "metadata": {},
   "source": [
    "#### With `tf.saved_model`"
   ]
  },
  {
   "cell_type": "code",
   "execution_count": 20,
   "metadata": {},
   "outputs": [],
   "source": [
    "# Save\n",
    "tf.saved_model.save(model, LOG_PATH + '/saved_model_TF')"
   ]
  },
  {
   "cell_type": "code",
   "execution_count": 21,
   "metadata": {},
   "outputs": [],
   "source": [
    "# Load\n",
    "tf_model = tf.saved_model.load(LOG_PATH + '/saved_model_TF')"
   ]
  },
  {
   "cell_type": "code",
   "execution_count": 22,
   "metadata": {},
   "outputs": [
    {
     "data": {
      "text/plain": [
       "tensorflow.python.saved_model.load._Loader._recreate_user_object.<locals>._UserObject"
      ]
     },
     "execution_count": 22,
     "metadata": {},
     "output_type": "execute_result"
    }
   ],
   "source": [
    "type(tf_model)"
   ]
  },
  {
   "cell_type": "code",
   "execution_count": 23,
   "metadata": {},
   "outputs": [
    {
     "data": {
      "text/plain": [
       "_SignatureMap({'serving_default': <tensorflow.python.eager.function.ConcreteFunction object at 0x7f02b827ca58>})"
      ]
     },
     "execution_count": 23,
     "metadata": {},
     "output_type": "execute_result"
    }
   ],
   "source": [
    "tf_model.signatures"
   ]
  },
  {
   "cell_type": "code",
   "execution_count": 24,
   "metadata": {},
   "outputs": [
    {
     "data": {
      "text/plain": [
       "((),\n",
       " {'C1_input': TensorSpec(shape=(None, 32, 32, 1), dtype=tf.float32, name='C1_input')})"
      ]
     },
     "execution_count": 24,
     "metadata": {},
     "output_type": "execute_result"
    }
   ],
   "source": [
    "# Model input\n",
    "infer = tf_model.signatures['serving_default']\n",
    "infer.structured_input_signature"
   ]
  },
  {
   "cell_type": "code",
   "execution_count": 25,
   "metadata": {},
   "outputs": [
    {
     "data": {
      "text/plain": [
       "{'F7': TensorSpec(shape=(None, 10), dtype=tf.float32, name='F7')}"
      ]
     },
     "execution_count": 25,
     "metadata": {},
     "output_type": "execute_result"
    }
   ],
   "source": [
    "# Model output\n",
    "infer.structured_outputs"
   ]
  },
  {
   "cell_type": "code",
   "execution_count": 26,
   "metadata": {},
   "outputs": [
    {
     "data": {
      "text/plain": [
       "tensorflow.python.eager.function.ConcreteFunction"
      ]
     },
     "execution_count": 26,
     "metadata": {},
     "output_type": "execute_result"
    }
   ],
   "source": [
    "type(infer)"
   ]
  },
  {
   "cell_type": "code",
   "execution_count": 27,
   "metadata": {},
   "outputs": [],
   "source": [
    "# It is not possible to use tf datasets on eager functions\n",
    "\n",
    "test_x, test_y = ds.test_data_np()"
   ]
  },
  {
   "cell_type": "code",
   "execution_count": 28,
   "metadata": {},
   "outputs": [],
   "source": [
    "test_pred_y = tf.argmax(\n",
    "    infer(tf.convert_to_tensor(test_x, dtype=tf.float32))['F7'],  # Logits from the last layer\n",
    "    axis=1\n",
    ")"
   ]
  },
  {
   "cell_type": "code",
   "execution_count": 29,
   "metadata": {},
   "outputs": [
    {
     "data": {
      "text/plain": [
       "0.9858"
      ]
     },
     "execution_count": 29,
     "metadata": {},
     "output_type": "execute_result"
    }
   ],
   "source": [
    "# Accuracy\n",
    "np.mean(test_pred_y.numpy()==test_y)"
   ]
  },
  {
   "cell_type": "markdown",
   "metadata": {},
   "source": [
    "## Notes\n",
    "\n",
    "Tensorflow 2 is \"Keras first\", this means that Keras is the chosen method to define the model. Good!\n",
    "\n",
    "### Save & load\n",
    "I haven't been successfull with:\n",
    "* `tf.saved_model` module.\n",
    "* `keras.models.load_model` gives an error.\n",
    "```\n",
    "ValueError: Unknown entry in loss dictionary: class_name. Only expected following keys: ['F7']\n",
    "```\n",
    "\n",
    "### Don't subclass tf.keras.Model\n",
    "Just use other approach or you will have a hard time saving your model.\n",
    "```\n",
    "NotImplementedError: The `save` method requires the model to be a Functional model or a Sequential model. It does not work for subclassed models, because such models are defined via the body of a Python method, which isn't safely serializable. Consider using `save_weights`, in order to save the weights of the model\n",
    "```\n",
    "1. Use `tf.keras.Sequential` and an input shape.\n",
    "2. Use estimators.\n",
    "\n",
    "\n",
    "### Keras VS Datasets\n",
    "In `tf.keras.Model.fit` it is possible to specify params that also apperars as methods of `tf.data.Dataset` like:\n",
    "* The number of epochs.\n",
    "* The batch size.\n",
    "\n",
    "With the dataset approach the benefit comes from its abstraction and scalability, but with the Keras approach you gain verbosity and control over the process as well as easyness on the logging on TensorBoard. \n",
    "\n",
    "\n",
    "### Keras VS Estimators\n",
    "Again, 2 different ways of doing the same thing (for this problem). A bit confusing to choose one over other.\n",
    "\n",
    "\n",
    "### Same name, different library path\n",
    "* tf.tanh\n",
    "* tf.math.tanh\n",
    "* tf.nn.tanh\n",
    "* tf.keras.activations.tanh\n",
    "\n",
    "But the real implementation is in ...\n",
    "```python\n",
    "from tensorflow.python import gen_math_ops\n",
    "gen_math_ops.tanh??\n",
    "```"
   ]
  },
  {
   "cell_type": "markdown",
   "metadata": {},
   "source": [
    "## References\n",
    "\n",
    "\n",
    "1. <a name=\"bib-vid-introducingtf2\"></a>[Introducing TensorFlow 2.0 and its high-level APIs (TF Dev Summit '19)](https://www.youtube.com/watch?v=k5c-vg4rjBw)\n",
    "2. <a name=\"bib-web-effectivetf2\"></a>[Effective TensorFlow 2.0](https://www.tensorflow.org/alpha/guide/effective_tf2)\n",
    "3. <a name=\"bib-web-mnist\"></a>[The MNIST database of handwritten digits](http://yann.lecun.com/exdb/mnist/)\n",
    "4. <a name=\"bib-vid-tfdatasets\"></a>[TensorFlow Datasets (TF Dev Summit '19)](https://www.youtube.com/watch?v=-nTe44WT0ZI)\n",
    "5. <a name=\"bib-web-lenet\"></a>[LeNet-5, convolutional neural networks](http://yann.lecun.com/exdb/lenet/)\n",
    "6. <a name=\"bib-paper-lenet\"></a>[Gradient-Based Learning Applied to Document Recognition](http://yann.lecun.com/exdb/publis/pdf/lecun-98.pdf)\n",
    "7. <a name=\"bib-web-tfdoc\"></a>[Tensorflow 2.0 Python API documentation](https://www.tensorflow.org/versions/r2.0/api_docs/python/tf)"
   ]
  },
  {
   "cell_type": "markdown",
   "metadata": {},
   "source": [
    "## Future work\n",
    "1. Replace `sklearn.preprocessing import StandardScaler` for a TF version with [`tf.nn.moments`](https://www.tensorflow.org/api_docs/python/tf/nn/moments).\n",
    "1. Implement the pipeline with an [estimator](https://www.tensorflow.org/api_docs/python/tf/estimator/Estimator)."
   ]
  }
 ],
 "metadata": {
  "kernelspec": {
   "display_name": "Python 3",
   "language": "python",
   "name": "python3"
  },
  "language_info": {
   "codemirror_mode": {
    "name": "ipython",
    "version": 3
   },
   "file_extension": ".py",
   "mimetype": "text/x-python",
   "name": "python",
   "nbconvert_exporter": "python",
   "pygments_lexer": "ipython3",
   "version": "3.5.2"
  }
 },
 "nbformat": 4,
 "nbformat_minor": 2
}
